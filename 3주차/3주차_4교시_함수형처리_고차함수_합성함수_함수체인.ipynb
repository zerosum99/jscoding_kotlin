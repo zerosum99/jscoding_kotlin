{
 "cells": [
  {
   "cell_type": "code",
   "execution_count": null,
   "id": "7e65c9c6",
   "metadata": {},
   "outputs": [],
   "source": []
  },
  {
   "cell_type": "code",
   "execution_count": 1,
   "id": "e708e759",
   "metadata": {},
   "outputs": [
    {
     "data": {
      "text/plain": [
       "1.8.0"
      ]
     },
     "execution_count": 1,
     "metadata": {},
     "output_type": "execute_result"
    }
   ],
   "source": [
    "KotlinVersion.CURRENT             // 코틀린 현재 버전 "
   ]
  },
  {
   "cell_type": "code",
   "execution_count": null,
   "id": "6609bf19",
   "metadata": {},
   "outputs": [],
   "source": []
  },
  {
   "cell_type": "markdown",
   "id": "6f989006",
   "metadata": {},
   "source": [
    "# 4 함수형 프로그래밍 구조 알아보기"
   ]
  },
  {
   "cell_type": "markdown",
   "id": "acb74c83",
   "metadata": {},
   "source": [
    "## 4-1 고차함수"
   ]
  },
  {
   "cell_type": "markdown",
   "id": "304e8511",
   "metadata": {},
   "source": [
    "## 4-1-1 고차함수 처리 알아보기 "
   ]
  },
  {
   "cell_type": "code",
   "execution_count": 2,
   "id": "8beba99f",
   "metadata": {},
   "outputs": [],
   "source": [
    "typealias f = (Int,Int)-> Int                     // 함수 자료형을 타입별칭으로 지정"
   ]
  },
  {
   "cell_type": "code",
   "execution_count": 3,
   "id": "f3efd165",
   "metadata": {},
   "outputs": [
    {
     "name": "stdout",
     "output_type": "stream",
     "text": [
      "10\n"
     ]
    }
   ],
   "source": [
    "fun highfunc(vararg x:Int, op:f) : Int {          // 함수를 매개변수로 받는 고차함수                     \n",
    "    return x.toList().reduce(op)                  // 배열을 리스트로 변환하고 리듀스로 전달된 함수를 실행 \n",
    "}\n",
    "\n",
    "println(highfunc(1,2,3,4,op={x:Int,y:Int->x+y}))  // 합산을 하는 람다표현식 전달 "
   ]
  },
  {
   "cell_type": "code",
   "execution_count": 4,
   "id": "4f42d4c7",
   "metadata": {},
   "outputs": [
    {
     "name": "stdout",
     "output_type": "stream",
     "text": [
      "15\n",
      "30\n"
     ]
    }
   ],
   "source": [
    "fun add(x:Int, y:Int) : Int = x+y\n",
    "println(highfunc(1,2,3,4,5, op=::add))            // 합산을 하는 함수 참조 전달 \n",
    "\n",
    "\n",
    "fun highOrder() : f {                              // 함수를 반환하는 고차 함수 \n",
    "    return {x,y -> x+y}                            // 합산을 하는 람다표현식 반환 \n",
    "}\n",
    "\n",
    "println(highOrder()(10,20))                        // 함수를 실행"
   ]
  },
  {
   "cell_type": "markdown",
   "id": "17796a15",
   "metadata": {},
   "source": [
    "## 4-1-2 고차함수 일반화하기 "
   ]
  },
  {
   "cell_type": "code",
   "execution_count": 5,
   "id": "447e1a32",
   "metadata": {},
   "outputs": [],
   "source": [
    "typealias g = (Int,Int)-> Int                     // 함수 자료형을 타입별칭으로 지정\n",
    "\n",
    "fun agg(nums:IntArray, op: g ): Int {             // 함수를 정의한다. \n",
    "    var result = nums.firstOrNull() ?: 0          // 정수 배열의 합산을 순환문으로 처리한다. \n",
    "    for (i in 1..nums.lastIndex) {\n",
    "        result = op(result,nums[i])               // 실제 처리되는 결과는 전달되는 함수의 기능에 따른다. \n",
    "    }\n",
    "    return result\n",
    "}"
   ]
  },
  {
   "cell_type": "code",
   "execution_count": 6,
   "id": "241a8dc1",
   "metadata": {},
   "outputs": [
    {
     "name": "stdout",
     "output_type": "stream",
     "text": [
      "10\n"
     ]
    }
   ],
   "source": [
    "println(agg(intArrayOf(1,2,3,4), {x,y -> x+y}))   // 람다표현식을 전달받아 배열을 합산한다. "
   ]
  },
  {
   "cell_type": "code",
   "execution_count": 7,
   "id": "b7fdb6ef",
   "metadata": {},
   "outputs": [
    {
     "name": "stdout",
     "output_type": "stream",
     "text": [
      "100\n",
      "40\n"
     ]
    }
   ],
   "source": [
    "fun sum(nums:IntArray) :  Int {                   // 함산 함수를 정의한다. \n",
    "    return agg(nums, {x:Int,y:Int -> x+y})        // 위에 정의된 고차함수를 함수 내부에서 처리한다.\n",
    "}\n",
    "\n",
    "fun max(nums:IntArray) :  Int {                    // 최대값을 찾는 함수를 정의한다\n",
    "    return agg(nums, \n",
    "         {x:Int,y:Int -> if (y > x) y else x })    // 위에서 정의된 고차함수에 최대값을 구한는 람다표현식 전달 \n",
    "}\n",
    "\n",
    "println(sum(intArrayOf(10,20,30,40)))              // 합산 처리\n",
    "println(max(intArrayOf(10,20,30,40)))              // 최대값 처리"
   ]
  },
  {
   "cell_type": "code",
   "execution_count": null,
   "id": "050a059e",
   "metadata": {},
   "outputs": [],
   "source": []
  },
  {
   "cell_type": "markdown",
   "id": "61e291a3",
   "metadata": {},
   "source": [
    "## 4-2 합성함수"
   ]
  },
  {
   "cell_type": "markdown",
   "id": "db023ff7",
   "metadata": {},
   "source": [
    "## 4-2-1 일반 함수를 사용한 합성함수"
   ]
  },
  {
   "cell_type": "code",
   "execution_count": 8,
   "id": "0563563b",
   "metadata": {},
   "outputs": [
    {
     "name": "stdout",
     "output_type": "stream",
     "text": [
      "8\n",
      "8\n",
      "8\n",
      "8\n"
     ]
    }
   ],
   "source": [
    "fun composeF(f: (Int) -> Int, g:(Int) -> Int):         // 동일한 매개변수 갯수를 받는 두 개의 함수를 매개변수로 받는다. \n",
    "                                    (Int) -> Int {     // 반환값은 두 함수를 연결한 하나의 함수 \n",
    "    return { p1: Int -> f(g(p1)) }                     // 두 함수를 하나로 합성한 함수를 반환한다. \n",
    "}\n",
    "                                    \n",
    "val f = {x : Int -> x+2}                               // 첫번째 함수\n",
    "val g = {y : Int -> y+3}                               // 두번째 함수 : 함수 내부에 결합되는 함수\n",
    "val composeFunc = composeF(f, g)                       // 두 개의 함수를 인자로 전달한다.\n",
    "\n",
    "println(f(g(3)))                                       // 두 함수를 결합해서 실행하기 \n",
    "println(composeFunc(3))                                // 합성함수로 반환된 함수 실행하기 \n",
    "\n",
    "\n",
    "fun composeR(g: (Int) -> Int, f: (Int) -> Int):        // 역방향으로 합성함수를 만든다 \n",
    "                                     (Int) -> Int {\n",
    "    return { p1: Int -> g(f(p1)) }                     // 역방향으로 실행된다 \n",
    "}\n",
    "\n",
    "val g1 = {y : Int -> y + 3}                            // 첫반째 함수 정의 \n",
    "val f1 = {x : Int -> x + 2}                            // 두번째 함수 정의\n",
    "val composeFuncR = composeR(g1,f1)\n",
    "\n",
    "println(g1(f1(3)))                                     // 역방향으로 함수를 실행\n",
    "println(composeFuncR(3))                               // 역방향으로 합성된 함수를 실행"
   ]
  },
  {
   "cell_type": "code",
   "execution_count": null,
   "id": "27015301",
   "metadata": {},
   "outputs": [],
   "source": []
  },
  {
   "cell_type": "markdown",
   "id": "16012374",
   "metadata": {},
   "source": [
    "## 4-2-2  확장함수의 합성함수"
   ]
  },
  {
   "cell_type": "code",
   "execution_count": 9,
   "id": "52986112",
   "metadata": {},
   "outputs": [
    {
     "name": "stdout",
     "output_type": "stream",
     "text": [
      "11\n",
      "11\n",
      "true\n",
      "18\n",
      "18\n",
      "true\n"
     ]
    }
   ],
   "source": [
    "typealias F  = (Int) -> Int                        // 별칭으로 타입지정 \n",
    "typealias G  = (Int) -> Int\n",
    "typealias FG = (Int) -> Int\n",
    "typealias GF = (Int) -> Int\n",
    "\n",
    "infix fun F.compose(g: G ) :FG {                   // 첫번째 함수의 확장함수를 지정 \n",
    "    return { p1: Int -> this(g(p1)) }              // 입력받은 함수를 첫번째 함수내수에서 실행한고 \n",
    "}                                                  // 첫번째 함수도 실행 \n",
    "\n",
    "infix fun F.then(g: G): GF {                       // 첫번째 함수의 인자로 다른 함수의 인자로 받음\n",
    "    return { p1: Int -> g(this(p1)) }              // 두번째 함수에 첫번째 함수 실행된 결과를 전달 \n",
    "}\n",
    "\n",
    "val plus2: F  = { it + 2 }                         // 첫번째 함수 정의 \n",
    "val times3: G = { it * 3 }                         // 두번째 함수 정의\n",
    "\n",
    "val plus2times3 = plus2 compose times3             // 인픽스로 지정해서 점연산자 없이 사용 \n",
    "                                                   // 정방향으로 결합 \n",
    "println(plus2times3(3))                                \n",
    "println(plus2(times3(3)))\n",
    "println(plus2times3(3) == 11)\n",
    "\n",
    "val times3plus2 =  plus2 then times3               // 역방향으로 함수 결합\n",
    "println(times3plus2 (4))\n",
    "println(times3(plus2(4)))\n",
    "println(times3plus2(4) == 18)"
   ]
  },
  {
   "cell_type": "code",
   "execution_count": null,
   "id": "59652a1e",
   "metadata": {},
   "outputs": [],
   "source": []
  },
  {
   "cell_type": "code",
   "execution_count": null,
   "id": "b9150c99",
   "metadata": {},
   "outputs": [],
   "source": []
  },
  {
   "cell_type": "markdown",
   "id": "0f73d18b",
   "metadata": {},
   "source": [
    "## 4-3 함수체인"
   ]
  },
  {
   "cell_type": "markdown",
   "id": "4afb1f61",
   "metadata": {},
   "source": [
    "## 4-3-1  함수체인"
   ]
  },
  {
   "cell_type": "code",
   "execution_count": 10,
   "id": "02e098aa",
   "metadata": {},
   "outputs": [
    {
     "name": "stdout",
     "output_type": "stream",
     "text": [
      "300\n",
      "300\n",
      "600\n"
     ]
    }
   ],
   "source": [
    "fun Outer(x:Int) : (Int) -> Int {              // 외부함수를 정의\n",
    "    fun inner1(y:Int) : Int {                  // 내부함수를 정의 \n",
    "        return x+y\n",
    "    }\n",
    "    return ::inner1                            // 내부함수를 반환 \n",
    "}\n",
    "\n",
    "println(Outer(100)(200))                       // 함수를 연속실행 \n",
    "val out = Outer(100)\n",
    "println(out(200))\n",
    "                                              // 람다표현식으로 함수의 내부 계층을 만듬\n",
    "val lambda = { x :Int -> { y:Int -> {z :Int -> x+y+z}} }\n",
    "\n",
    "println(lambda(100)(200)(300))                // 함수를 연속으로 실행 "
   ]
  },
  {
   "cell_type": "code",
   "execution_count": null,
   "id": "02129cb5",
   "metadata": {},
   "outputs": [],
   "source": []
  },
  {
   "cell_type": "markdown",
   "id": "f3537076",
   "metadata": {},
   "source": [
    "## 4-3-2 메서드 체인 "
   ]
  },
  {
   "cell_type": "code",
   "execution_count": 11,
   "id": "df064dd4",
   "metadata": {},
   "outputs": [
    {
     "name": "stdout",
     "output_type": "stream",
     "text": [
      "Car(소유자 = 서정희, 색상= 빨간색)\n",
      "Car(소유자 = 이재헌, 색상= 파란색)\n"
     ]
    }
   ],
   "source": [
    "class Car(var ownerName: String, var color: String) {       // 클래스 정의 \n",
    "    fun changeOwner(newName: String) :Car {                 // 메소드 정의 \n",
    "        this.ownerName = newName\n",
    "        return this                                         // 연속 호출을 위해 객체 반환 \n",
    "    }\n",
    "\n",
    "    fun repaint(newColor: String) :Car {                    // 메소드 정의                   \n",
    "        this.color = newColor\n",
    "        return this                                         // 연속 호출을 위한 객체 반환\n",
    "    }\n",
    "    \n",
    "    fun info() : Unit =                                     // 메소드 정의 \n",
    "          println(\"Car(소유자 = $ownerName, 색상= $color)\")    // 최종 처리 결과 \n",
    "}\n",
    "\n",
    "val c = Car(\"서정희\", \"빨간색\")                                 // 객체 생성 \n",
    "c.info()\n",
    "c.changeOwner(\"이재헌\").repaint(\"파란색\").info()                // 메소드 체인 처리"
   ]
  },
  {
   "cell_type": "markdown",
   "id": "070685ac",
   "metadata": {},
   "source": [
    "## 4-3-3 확장함수를 사용한 체인"
   ]
  },
  {
   "cell_type": "code",
   "execution_count": 12,
   "id": "0a9807b0",
   "metadata": {},
   "outputs": [
    {
     "name": "stdout",
     "output_type": "stream",
     "text": [
      "Car(소유자 = 우미선, 색상= 하얀색)\n",
      "Car(소유자 = 좌미선, 색상= 노란색)\n"
     ]
    }
   ],
   "source": [
    "data class Car1(var ownerName: String, var color: String)       // 데이터클래스 정의 \n",
    "\n",
    "fun Car1.changeOwner(newName: String) :Car1 {                   // 확장함수 정의 \n",
    "        this.ownerName = newName\n",
    "        return this                                             // 리시버 객체 반환\n",
    "}\n",
    "\n",
    "fun Car1.repaint(newColor: String) :Car1 {                      // 확장함수 정의 \n",
    "        this.color = newColor\n",
    "        return this                                             // 리시버 객체 반환\n",
    "}\n",
    "    \n",
    "fun Car1.info() : Unit =                                        // 확장 함수 \n",
    "    println(\"Car(소유자 = $ownerName, 색상= $color)\")              // 메소드 체인 종료 \n",
    "\n",
    "val cc = Car1(\"우미선\", \"하얀색\")                                   // 객체생성\n",
    "cc.info()\n",
    "cc.changeOwner(\"좌미선\").repaint(\"노란색\").info()                   // 메소드 체인 처리"
   ]
  },
  {
   "cell_type": "code",
   "execution_count": null,
   "id": "c5cf6d59",
   "metadata": {},
   "outputs": [],
   "source": []
  }
 ],
 "metadata": {
  "kernelspec": {
   "display_name": "Kotlin",
   "language": "kotlin",
   "name": "kotlin"
  },
  "language_info": {
   "codemirror_mode": "text/x-kotlin",
   "file_extension": ".kt",
   "mimetype": "text/x-kotlin",
   "name": "kotlin",
   "nbconvert_exporter": "",
   "pygments_lexer": "kotlin",
   "version": "1.8.0-dev-3517"
  }
 },
 "nbformat": 4,
 "nbformat_minor": 5
}
