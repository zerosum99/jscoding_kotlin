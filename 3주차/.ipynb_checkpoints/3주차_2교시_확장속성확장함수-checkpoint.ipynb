{
 "cells": [
  {
   "cell_type": "code",
   "execution_count": null,
   "id": "ad8aba59",
   "metadata": {},
   "outputs": [],
   "source": []
  },
  {
   "cell_type": "code",
   "execution_count": 1,
   "id": "42abd5cd",
   "metadata": {},
   "outputs": [
    {
     "data": {
      "text/plain": [
       "1.8.0"
      ]
     },
     "execution_count": 1,
     "metadata": {},
     "output_type": "execute_result"
    }
   ],
   "source": [
    "KotlinVersion.CURRENT             // 코틀린 현재 버전 "
   ]
  },
  {
   "cell_type": "code",
   "execution_count": null,
   "id": "35c3860b",
   "metadata": {},
   "outputs": [],
   "source": []
  },
  {
   "cell_type": "markdown",
   "id": "78d0ab20",
   "metadata": {},
   "source": [
    "# 2. 확장  알아보기"
   ]
  },
  {
   "cell_type": "code",
   "execution_count": null,
   "id": "6b385b6f",
   "metadata": {},
   "outputs": [],
   "source": []
  },
  {
   "cell_type": "markdown",
   "id": "9b79c410",
   "metadata": {},
   "source": [
    "## 2-1 확장 속성"
   ]
  },
  {
   "cell_type": "markdown",
   "id": "a5f07c73",
   "metadata": {},
   "source": [
    "## 2-1-1 속성 알아보기"
   ]
  },
  {
   "cell_type": "code",
   "execution_count": 2,
   "id": "b656feee",
   "metadata": {},
   "outputs": [
    {
     "name": "stdout",
     "output_type": "stream",
     "text": [
      "0\n",
      "100\n"
     ]
    }
   ],
   "source": [
    "val person : Int = 0\n",
    "    get() :Int {           //getter 메소드\n",
    "        return field       //속성의 배킹필드 \n",
    "    }\n",
    "    \n",
    "var man : Int = 0\n",
    "    get() = field          //getter 메소드\n",
    "    set(value) {           //setter 메소드, 매개변수 value\n",
    "        field = value      //속성의 배킹필드에 갱신\n",
    "    }\n",
    "\n",
    "println(person)\n",
    "man = 100\n",
    "println(man)"
   ]
  },
  {
   "cell_type": "markdown",
   "id": "592a57c4",
   "metadata": {},
   "source": [
    "## 2-1-2 확장 속성 알아보기"
   ]
  },
  {
   "cell_type": "code",
   "execution_count": 3,
   "id": "4790ad4f",
   "metadata": {},
   "outputs": [
    {
     "name": "stdout",
     "output_type": "stream",
     "text": [
      "Int\n",
      "String\n",
      "Person\n"
     ]
    }
   ],
   "source": [
    "val Any.classTag: String?\n",
    "    get() = this::class              //클래스 참조\n",
    "            .java.kotlin.simpleName  //클래스 내부의 문자열 이름\n",
    "\n",
    "class Person                         //임의의 클래스 지정 \n",
    "\n",
    "println((100).classTag)\n",
    "println(\"문자열\".classTag)\n",
    "println(Person().classTag)"
   ]
  },
  {
   "cell_type": "markdown",
   "id": "315e0c80",
   "metadata": {},
   "source": [
    "## 2-1-3 사용자 클래스 확장 속성"
   ]
  },
  {
   "cell_type": "code",
   "execution_count": 4,
   "id": "12875c6c",
   "metadata": {},
   "outputs": [
    {
     "name": "stdout",
     "output_type": "stream",
     "text": [
      "화씨온도 : 212.18\n",
      "섭씨온도 : 100.1\n",
      "화씨온도 : 30.2\n",
      "섭씨온도 : -0.9999996\n"
     ]
    }
   ],
   "source": [
    "class Temperature(var 섭씨온도: Float)\n",
    "\n",
    "val a = Temperature(100.1f)\n",
    "\n",
    "var Temperature.화씨온도: Float          //화씨온도 계산속성 추가\n",
    "    get() = (섭씨온도 * 9 / 5) + 32      // 계산산식을 직접 처리\n",
    "    set(value) {                       // 계산된 값을 기존속성에 갱신\n",
    "        섭씨온도 = (value - 32) * 5 / 9\n",
    "    }\n",
    "    \n",
    "println(\"화씨온도 : \" + a.화씨온도)\n",
    "println(\"섭씨온도 : \" + a.섭씨온도)\n",
    "\n",
    "a.화씨온도 = 30.2f\n",
    "println(\"화씨온도 : \" + a.화씨온도)\n",
    "println(\"섭씨온도 : \" + a.섭씨온도)"
   ]
  },
  {
   "cell_type": "markdown",
   "id": "5c274fba",
   "metadata": {},
   "source": [
    "## 2-1-4  object 정의와 동반객체 확장 속성 "
   ]
  },
  {
   "cell_type": "code",
   "execution_count": 5,
   "id": "2934a92e",
   "metadata": {},
   "outputs": [
    {
     "name": "stdout",
     "output_type": "stream",
     "text": [
      "object 확장속성\n",
      "컴패니언 객체 확장속성\n",
      "객체 확장속성\n"
     ]
    }
   ],
   "source": [
    "object A                         // object 속성확장 \n",
    "\n",
    "val A.extVal : String \n",
    "    get() = \"object 확장속성\"       //backing field 없어 초기값설정\n",
    "\n",
    "println(A.extVal)\n",
    "\n",
    "class AA {                       // 클래스                     \n",
    "    companion object {           // 동반객체 \n",
    "    }\n",
    "}\n",
    "\n",
    "val AA.extVal : String            // 객체 속성 추가\n",
    "    get() = \"객체 확장속성\"          //backing field 없어 초기값설정               \n",
    "\n",
    "val AA.Companion.extVal : String  // 컴패니언 객체 속성 추가\n",
    "    get() = \"컴패니언 객체 확장속성\"   //backing field 없어 초기값설정\n",
    "\n",
    "println(AA.extVal)\n",
    "println(AA().extVal)"
   ]
  },
  {
   "cell_type": "code",
   "execution_count": null,
   "id": "3af8e3e4",
   "metadata": {},
   "outputs": [],
   "source": []
  },
  {
   "cell_type": "markdown",
   "id": "2974726a",
   "metadata": {},
   "source": [
    "## 2-2 확장 함수 "
   ]
  },
  {
   "cell_type": "markdown",
   "id": "70285230",
   "metadata": {},
   "source": [
    "## 2-2-1 내장클래스 확장함수 "
   ]
  },
  {
   "cell_type": "code",
   "execution_count": 6,
   "id": "f38e7023",
   "metadata": {},
   "outputs": [
    {
     "name": "stdout",
     "output_type": "stream",
     "text": [
      "(200, 100)\n",
      "(2차, 1차)\n"
     ]
    }
   ],
   "source": [
    "fun Int.swap(other: Int):Pair<Int,Int> {  //Pair클래스는 2개의 원소를 가진 튜플\n",
    "    var (first, second) = other to this   //튜플 구조분해로 변수교환\n",
    "    return first to second                // to 메소드 2개의 원소를 튜플\n",
    "}\n",
    "\n",
    "fun String.swap(other: String):Pair<String,String> {  //Pair클래스는 2개의 원소를 가진 튜플\n",
    "    var (first, second) = other to this              //튜플 구조분해로 변수교환\n",
    "    return first to second                           // to 메소드 2개의 원소를 튜플\n",
    "}\n",
    "\n",
    "\n",
    "println((100).swap(200))       \n",
    "println((\"1차\").swap(\"2차\"))"
   ]
  },
  {
   "cell_type": "code",
   "execution_count": null,
   "id": "f53c47cc",
   "metadata": {},
   "outputs": [],
   "source": []
  },
  {
   "cell_type": "markdown",
   "id": "e65fd0b2",
   "metadata": {},
   "source": [
    "## 2-2-2  널러블 클래스의 확장함수 확인 "
   ]
  },
  {
   "cell_type": "code",
   "execution_count": 7,
   "id": "2377a3aa",
   "metadata": {},
   "outputs": [
    {
     "name": "stdout",
     "output_type": "stream",
     "text": [
      "달문\n",
      "firstName\n",
      "달\n"
     ]
    }
   ],
   "source": [
    "class Person(val firstName : String,    // 2개의 속성 가지는 클래스\n",
    "             val lastName : String)\n",
    "\n",
    "val p = Person(\"달\", \"문\")\n",
    "\n",
    "fun Person.getName() = this.firstName + // 2개의 속성을 조회하는 확장함수\n",
    "                       this.lastName\n",
    "\n",
    "println(p.getName())\n",
    "println(p::firstName.name)              // 속성참조 후 속성명 조회\n",
    "println(p::firstName.get())             // 속성참조 후 속성값 조회"
   ]
  },
  {
   "cell_type": "code",
   "execution_count": 8,
   "id": "f8917094",
   "metadata": {},
   "outputs": [
    {
     "name": "stdout",
     "output_type": "stream",
     "text": [
      "null\n"
     ]
    }
   ],
   "source": [
    "class Person1(val firstName : String,\n",
    "              val lastName : String)\n",
    "\n",
    "fun Person1?.getFullname() : String? {  // 널러블 자료형에 확장하기\n",
    "    if (this == null) { return null }   // 널 체크 처리\n",
    "    else {                              // 널이 아닐 경우만 속성 반환\n",
    "         return this.firstName + \n",
    "                this.lastName\n",
    "    }\n",
    "}\n",
    "\n",
    "var p1 = null                           // 널을 정의\n",
    "println(p1.getFullname())               // 널로 확장함수 호출하면 널로 바환"
   ]
  },
  {
   "cell_type": "markdown",
   "id": "db7bacd2",
   "metadata": {},
   "source": [
    "## 2-2-3 object 정의 및 동반객체 "
   ]
  },
  {
   "cell_type": "code",
   "execution_count": 9,
   "id": "96c3aca4",
   "metadata": {},
   "outputs": [
    {
     "name": "stdout",
     "output_type": "stream",
     "text": [
      "(200, 100)\n"
     ]
    }
   ],
   "source": [
    "object A \n",
    "\n",
    "fun A.swap(one :Int,                     // 두수 교환 확장함수\n",
    "           other:Int) : Pair<Int, Int> { // 반환은 튜플 \n",
    "    val (second, first) = one to other   // 튜플을 만들어서 구조분해\n",
    "    return first to second\n",
    "}\n",
    "\n",
    "println(A.swap(100,200))"
   ]
  },
  {
   "cell_type": "markdown",
   "id": "061731fe",
   "metadata": {},
   "source": [
    "### 동반객체 확장함수 처리"
   ]
  },
  {
   "cell_type": "code",
   "execution_count": 10,
   "id": "9871c47e",
   "metadata": {},
   "outputs": [
    {
     "name": "stdout",
     "output_type": "stream",
     "text": [
      "dahlmoon\n",
      "dollmoon\n"
     ]
    }
   ],
   "source": [
    "class AA private constructor(val name:String){ // 접근불가 생성자 정의\n",
    "    companion object {\n",
    "        fun create(name : String) : AA {       // 컴패니언 객체에서 객체 생성\n",
    "            return AA(name)\n",
    "        }\n",
    "    }\n",
    "}\n",
    "\n",
    "fun AA.Companion.create2(name:String ) : AA { // 객체 생성 확장함수 \n",
    "    return this.create(name)                  // 접근불가 생성자 호출 대신 \n",
    "}                                             // 컴패니언 내의 생성자 메소드 호출 \n",
    "\n",
    "val aa = AA.create(\"dahlmoon\")\n",
    "println(aa.name)\n",
    "\n",
    "val aa2 = AA.create2(\"dollmoon\")\n",
    "println(aa2.name)"
   ]
  },
  {
   "cell_type": "code",
   "execution_count": null,
   "id": "cbe06548",
   "metadata": {},
   "outputs": [],
   "source": []
  },
  {
   "cell_type": "markdown",
   "id": "3e180157",
   "metadata": {},
   "source": [
    "## 2-2-4 익명클래스로 확장함수 정의하기 "
   ]
  },
  {
   "cell_type": "code",
   "execution_count": 11,
   "id": "ca6dc422",
   "metadata": {},
   "outputs": [
    {
     "name": "stdout",
     "output_type": "stream",
     "text": [
      "문자열 \n",
      "문자열 처리\n"
     ]
    }
   ],
   "source": [
    "interface This {                                               // 인터페이스 작성        \n",
    "    val truncated :String                                      // 추상 속성 정의 \n",
    "    fun getStr() : String                                      // 추상메소드 정의\n",
    "}\n",
    "\n",
    "\n",
    "fun String.truncator(max:Int) = object : This {                // 학장함수에 object 표현식 할당 \n",
    "                                                               // 현재 객체는 object 표현식\n",
    "    override val truncated                                     // 추상속성 구현해서 문자열 짜르기 처리\n",
    "        get() = if (length <= max) this@truncator              // 확장함수의 리시버 객체는 this@확장함수명  \n",
    "                  else this@truncator.substring(0,max)\n",
    "        \n",
    "    override fun getStr() = this@truncator                     // 문자열값 보관 \n",
    "}\n",
    "\n",
    "val trunc = \"문자열 처리\".truncator(4)                            // 문자열 확장함수 처리 \n",
    "\n",
    "println(trunc.truncated)                                       // 문자열의 object 표현식의 속성 참조\n",
    "println(trunc.getStr())"
   ]
  },
  {
   "cell_type": "code",
   "execution_count": null,
   "id": "c1040b87",
   "metadata": {},
   "outputs": [],
   "source": []
  },
  {
   "cell_type": "markdown",
   "id": "b86da09b",
   "metadata": {},
   "source": [
    "## 2-2-5  클래스 범위 내의 확장함수 정의하기"
   ]
  },
  {
   "cell_type": "code",
   "execution_count": null,
   "id": "d0abbfec",
   "metadata": {},
   "outputs": [],
   "source": []
  },
  {
   "cell_type": "code",
   "execution_count": 12,
   "id": "c2cbd292",
   "metadata": {},
   "outputs": [
    {
     "name": "stdout",
     "output_type": "stream",
     "text": [
      "HelloHelloHello\n"
     ]
    }
   ],
   "source": [
    "class Extension(var name:String, val n : Int) {          // 클래스 정의 \n",
    "    fun String.product(x:Int) = this.repeat(x)           // 문자열 확장함수  정의\n",
    "    \n",
    "    fun query() = name.product(n)                        // 확장함수를 랩핑한 메소드 정의\n",
    "}\n",
    "\n",
    "val e = Extension(\"Hello\", 3)                            // 객체 생성 \n",
    "\n",
    "println(e.query())                                       // 문자열 반복 처리\n",
    "\n",
    "// println(\"world\".product(3))                           // 클래스 외부에서 확장함수 사용불가"
   ]
  }
 ],
 "metadata": {
  "kernelspec": {
   "display_name": "Kotlin",
   "language": "kotlin",
   "name": "kotlin"
  },
  "language_info": {
   "codemirror_mode": "text/x-kotlin",
   "file_extension": ".kt",
   "mimetype": "text/x-kotlin",
   "name": "kotlin",
   "nbconvert_exporter": "",
   "pygments_lexer": "kotlin",
   "version": "1.8.0-dev-3517"
  }
 },
 "nbformat": 4,
 "nbformat_minor": 5
}
