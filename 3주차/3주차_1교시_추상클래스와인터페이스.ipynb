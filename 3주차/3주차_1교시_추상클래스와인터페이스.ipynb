{
 "cells": [
  {
   "cell_type": "code",
   "execution_count": null,
   "id": "ad8aba59",
   "metadata": {},
   "outputs": [],
   "source": []
  },
  {
   "cell_type": "code",
   "execution_count": 1,
   "id": "42abd5cd",
   "metadata": {},
   "outputs": [
    {
     "data": {
      "text/plain": [
       "1.8.0"
      ]
     },
     "execution_count": 1,
     "metadata": {},
     "output_type": "execute_result"
    }
   ],
   "source": [
    "KotlinVersion.CURRENT             // 코틀린 현재 버전 "
   ]
  },
  {
   "cell_type": "code",
   "execution_count": null,
   "id": "35c3860b",
   "metadata": {},
   "outputs": [],
   "source": []
  },
  {
   "cell_type": "markdown",
   "id": "0e80f8f6",
   "metadata": {},
   "source": [
    "# 1. 추상 클래스와 인터페이스 "
   ]
  },
  {
   "cell_type": "code",
   "execution_count": null,
   "id": "03bfb5ec",
   "metadata": {},
   "outputs": [],
   "source": []
  },
  {
   "cell_type": "markdown",
   "id": "ab5e7614",
   "metadata": {},
   "source": [
    "## 1-1 추상클래스"
   ]
  },
  {
   "cell_type": "markdown",
   "id": "6754d014",
   "metadata": {},
   "source": [
    "## 1-1-1 추상클래스 정의 "
   ]
  },
  {
   "cell_type": "markdown",
   "id": "9867cb92",
   "metadata": {},
   "source": [
    "### 추상클래스는 반드시 abstract를 붙여서 정의\n"
   ]
  },
  {
   "cell_type": "code",
   "execution_count": 2,
   "id": "11933754",
   "metadata": {},
   "outputs": [],
   "source": [
    "abstract class Abstract {                    // 추상클래스 정의          \n",
    "    abstract var age : Int                   // 추상속성 저의\n",
    "    abstract val name : String\n",
    "    \n",
    "    abstract fun display() :Unit             // 추상 메소드 정의 \n",
    "}"
   ]
  },
  {
   "cell_type": "markdown",
   "id": "85027507",
   "metadata": {},
   "source": [
    "### 추상클래스를 상속할 때 추상속성과 메서드를 전부 재정의하지 않으면 컴파일 에러"
   ]
  },
  {
   "cell_type": "code",
   "execution_count": 3,
   "id": "03cde25a",
   "metadata": {},
   "outputs": [
    {
     "name": "stderr",
     "output_type": "stream",
     "text": [
      "Line_2.jupyter-kts (1:1 - 16) Class 'Concrete_' is not abstract and does not implement abstract base class member public abstract fun display(): Unit defined in Line_1.Abstract"
     ]
    }
   ],
   "source": [
    "class Concrete_(name:String, age:Int) :       // 구현 클래스 정의 및 주 생성자 정의\n",
    "                             Abstract() {    // 추상 클래스 상속하고 위임 호출\n",
    "    override var age : Int = age             // 속성 오버라이딩 \n",
    "    override var name : String = name        // 속성 오버라이딩\n",
    "\n",
    "}"
   ]
  },
  {
   "cell_type": "markdown",
   "id": "2166ad9b",
   "metadata": {},
   "source": [
    "### 추상클래스는 반드시 상속해서 처리\n",
    "\n",
    "- 추상클래스도 상속하면 위임호출이 필요하다. \n",
    "- 이런 이유는 상위 클래스부터 객체가 생성되어야 상속받은 구현클래스도 생성자가 호출되어 처리된다.\n"
   ]
  },
  {
   "cell_type": "code",
   "execution_count": 4,
   "id": "3e43295a",
   "metadata": {},
   "outputs": [
    {
     "name": "stdout",
     "output_type": "stream",
     "text": [
      "name= 김영옥  age= 77\n"
     ]
    }
   ],
   "source": [
    "class Concrete(name:String, age:Int) :       // 구현 클래스 정의 및 주 생성자 정의\n",
    "                             Abstract() {    // 추상 클래스 상속하고 위임 호출\n",
    "    override var age : Int = age             // 속성 오버라이딩 \n",
    "    override var name : String = name        // 속성 오버라이딩\n",
    "    \n",
    "    override fun display() : Unit {          // 메소드 오버라이딩 \n",
    "        println(\"name= $name  age= $age\")\n",
    "    }\n",
    "}\n",
    "\n",
    "val con = Concrete(\"김영옥\", 77)               // 객체 생성\n",
    "con.display()    "
   ]
  },
  {
   "cell_type": "code",
   "execution_count": null,
   "id": "38159aab",
   "metadata": {},
   "outputs": [],
   "source": []
  },
  {
   "cell_type": "markdown",
   "id": "483f52d4",
   "metadata": {},
   "source": [
    "## 1-1-2 추상클래스 내의 구현속성과 구현메서드 정의"
   ]
  },
  {
   "cell_type": "markdown",
   "id": "7556dbd6",
   "metadata": {},
   "source": [
    "### 추상클래스 내에 추상과 일반 멤버를 같이 구현"
   ]
  },
  {
   "cell_type": "code",
   "execution_count": 5,
   "id": "6acebd8a",
   "metadata": {},
   "outputs": [],
   "source": [
    "abstract class Person {                              // 추상클래스 정의\n",
    "    \n",
    "    var age: Int = 40                                // 일반속성 정의 \n",
    "    abstract val name : String                       // 추상 속성 정의 \n",
    "\n",
    "    open fun displaySSN(ssn: Int) {                  // 일반메소드 정의 \n",
    "        println(\"주민번호 is $ssn.\")\n",
    "    }\n",
    "    abstract fun displayJob(description: String)     // 추상메소드 정의 \n",
    "}\n"
   ]
  },
  {
   "cell_type": "markdown",
   "id": "9660d3e2",
   "metadata": {},
   "source": [
    "### 추상 클래스를 상속할 때 일반 멤버는 open 변경자를 처리해야 상속이 가능"
   ]
  },
  {
   "cell_type": "code",
   "execution_count": 6,
   "id": "0693025b",
   "metadata": {},
   "outputs": [],
   "source": [
    "class Man(name : String  ) : Person() {               // 구현 클래스 정의\n",
    "    override var name : String = name                // 추상 속성 오버라이딩\n",
    "    override fun displayJob(description : String) {  // 추상 메소드 오버라이딩\n",
    "        println(\"$name 님의 직업은 $description 입니다.\")\n",
    "    }\n",
    "    override fun displaySSN(ssn:Int) {                // 일반 메소드 오버라이딩\n",
    "        super.displaySSN(ssn)                         // 추상클래스의 일반 메소드 호출\n",
    "    }\n",
    "}"
   ]
  },
  {
   "cell_type": "markdown",
   "id": "b3cbfed0",
   "metadata": {},
   "source": [
    "### 객체를 생성해서 속성과 메서드를 처리"
   ]
  },
  {
   "cell_type": "code",
   "execution_count": 7,
   "id": "0021c10c",
   "metadata": {},
   "outputs": [
    {
     "name": "stdout",
     "output_type": "stream",
     "text": [
      "dahl\n",
      "dahl 님의 직업은 소프트웨어 아키텍트 입니다.\n",
      "40\n",
      "주민번호 is 1234.\n"
     ]
    }
   ],
   "source": [
    "val m = Man(\"dahl\")                                   // 객체 생성\n",
    "println(m.name)                                       // 오버라이딩 속성 참조\n",
    "m.displayJob(\"소프트웨어 아키텍트\")                        // 오버라이딩 메소드 참조\n",
    "println(m.age)                                        // 일반 속성 참조\n",
    "m.displaySSN(1234)                                    // 재정의한 일반 메소드 처리 "
   ]
  },
  {
   "cell_type": "markdown",
   "id": "6d37e8b2",
   "metadata": {},
   "source": [
    "## 1-1-3 추상클래스 내의 초기화 블럭 처리"
   ]
  },
  {
   "cell_type": "markdown",
   "id": "a116322d",
   "metadata": {},
   "source": [
    "### 추상 클래스에 init 블럭을 정의"
   ]
  },
  {
   "cell_type": "code",
   "execution_count": 8,
   "id": "2aebfa82",
   "metadata": {},
   "outputs": [],
   "source": [
    "abstract class Person(name: String) {                 // 추상클래스의 주 생성자 정의 \n",
    "    init {                                            // 초기화 블럭 정의\n",
    "        println(\"이름은  $name.\")                       // 주생성자의 매개변수 사용 \n",
    "    }\n",
    "    fun displaySSN(ssn: Int) {                        // 일반메소드 정의 \n",
    "        println(\"주민번호는 $ssn.\")\n",
    "    }\n",
    "    abstract fun displayJob(description: String)      // 추상메소드 정의 \n",
    "}\n"
   ]
  },
  {
   "cell_type": "markdown",
   "id": "e74aa6f7",
   "metadata": {},
   "source": [
    "### 구현 클래스를 재정의한다. "
   ]
  },
  {
   "cell_type": "code",
   "execution_count": 9,
   "id": "94425c4e",
   "metadata": {},
   "outputs": [
    {
     "name": "stdout",
     "output_type": "stream",
     "text": [
      "이름은  이수미.\n",
      "초등학교 선생님\n",
      "주민번호는 23123.\n"
     ]
    }
   ],
   "source": [
    "class Woman(name: String): Person(name) {             // 구현클래스 정의 추상클레스 위임호출 \n",
    "    override fun displayJob(description: String) {    // 추상클래스 오버라이딩 \n",
    "        println(description)\n",
    "    }\n",
    "}\n",
    "\n",
    "val w = Woman(\"이수미\")                                 // 객체 생성\n",
    "w.displayJob(\"초등학교 선생님\")                           // 구현 메소드 호출\n",
    "w.displaySSN(23123)                                   // 추상클래스의 일반 메소드 호출\n"
   ]
  },
  {
   "cell_type": "code",
   "execution_count": null,
   "id": "cf31d73c",
   "metadata": {},
   "outputs": [],
   "source": []
  },
  {
   "cell_type": "code",
   "execution_count": null,
   "id": "b4b31cc0",
   "metadata": {},
   "outputs": [],
   "source": []
  },
  {
   "cell_type": "markdown",
   "id": "4e2dc960",
   "metadata": {},
   "source": [
    "## 1-2 인터페이스 "
   ]
  },
  {
   "cell_type": "markdown",
   "id": "086f17ff",
   "metadata": {},
   "source": [
    "## 1-2-1 인터페이스 정의 "
   ]
  },
  {
   "cell_type": "markdown",
   "id": "5852bcfe",
   "metadata": {},
   "source": [
    "### 인터페이스 정의에는 abstract 예약어를 지정하지 않는다. \n"
   ]
  },
  {
   "cell_type": "code",
   "execution_count": 10,
   "id": "17896897",
   "metadata": {},
   "outputs": [],
   "source": [
    "interface Clickable {                        // 인터페이스 정의 \n",
    "    fun up() :Unit                           // 추상메소드 \n",
    "    fun down() :Unit                         // 추상메소드 \n",
    "}"
   ]
  },
  {
   "cell_type": "markdown",
   "id": "90203073",
   "metadata": {},
   "source": [
    "### 인터페이스를 상속하면 모든 것이 구현"
   ]
  },
  {
   "cell_type": "code",
   "execution_count": 11,
   "id": "9f5d63a3",
   "metadata": {},
   "outputs": [
    {
     "name": "stdout",
     "output_type": "stream",
     "text": [
      "tv 볼륨을 올려요\n",
      "tv 볼륨을 내려요\n"
     ]
    }
   ],
   "source": [
    "class TvVolumn : Clickable {                 // 인터페이스 상속\n",
    "    override fun up() {                      // 추상메소드 구현 \n",
    "        println(\"tv 볼륨을 올려요\")         \n",
    "    }\n",
    " \n",
    "    override fun down() {                    // 추상메소드 구현 \n",
    "        println(\"tv 볼륨을 내려요\")\n",
    "    }\n",
    "}\n",
    "\n",
    "var vol = TvVolumn()                          // 객체 생성\n",
    "vol.up()                                      // 메소드 실행\n",
    "vol.down() "
   ]
  },
  {
   "cell_type": "markdown",
   "id": "2345fa95",
   "metadata": {},
   "source": [
    "## 1-2-2 인터페이스 내의 구현속성과 메서드 정의"
   ]
  },
  {
   "cell_type": "markdown",
   "id": "4222af50",
   "metadata": {},
   "source": [
    "### 추상 멤버와 구현 멤버를 구별은 구현여부로 판다\n",
    "\n",
    "-  구현속성에는 배킹필드가 없어서 게터와 세터를 지정해서 속성을 구현해야 한다."
   ]
  },
  {
   "cell_type": "code",
   "execution_count": 12,
   "id": "34ce4421",
   "metadata": {},
   "outputs": [],
   "source": [
    "interface MyInterface {                     // 인터페이스 정의 \n",
    "    val aprop: Int\n",
    "    val gprop : Int                         // 디폴트 속성예는 get 정의\n",
    "        get() = 300\n",
    "    val sprop : Int                         // 디폴트 속성\n",
    "        get() = 999\n",
    "    fun foo() : String                      // 추상메소드 \n",
    "    fun hello() {                           // 디폴트 메소드는 구현되어있음\n",
    "        println(\"안녕하세요!\")\n",
    "    }\n",
    "}\n"
   ]
  },
  {
   "cell_type": "code",
   "execution_count": 13,
   "id": "eaeeaed9",
   "metadata": {},
   "outputs": [],
   "source": [
    "class InterfaceImp : MyInterface {          // 클래스 구현 \n",
    "    override val aprop : Int = 25           // 추상 속성 구현 \n",
    "    override fun foo() = \"바보처럼\"           // 추상메소드 구현 \n",
    "}\n",
    "                         // 메소드 실행 "
   ]
  },
  {
   "cell_type": "code",
   "execution_count": 14,
   "id": "b1b0cee0",
   "metadata": {},
   "outputs": [
    {
     "name": "stdout",
     "output_type": "stream",
     "text": [
      "디폴트 속성 prot = 300\n",
      "오버라이딩 속성 test = 25\n",
      "디폴트 메소드 hello 호출: 안녕하세요!\n",
      "오버라이딩 메소드 foo 호출: 바보처럼"
     ]
    }
   ],
   "source": [
    "val obj = InterfaceImp()                    // 객체 생성 \n",
    "println(\"디폴트 속성 prot = ${obj.gprop}\")     // 속성 참조    \n",
    "\n",
    "println(\"오버라이딩 속성 test = ${obj.aprop}\")  // 속성 참조\n",
    "print(\"디폴트 메소드 hello 호출: \")\n",
    "obj.hello()                                 // 메소드 실행\n",
    "\n",
    "print(\"오버라이딩 메소드 foo 호출: \")\n",
    "print(obj.foo())  "
   ]
  },
  {
   "cell_type": "markdown",
   "id": "0ea88b10",
   "metadata": {},
   "source": [
    "## 1-2-3 계층구조 만들기\n"
   ]
  },
  {
   "cell_type": "markdown",
   "id": "c494e35f",
   "metadata": {},
   "source": [
    "### 인터페이스와 추상클래스를 같이 상속하는 구현클래스 만들기"
   ]
  },
  {
   "cell_type": "code",
   "execution_count": 15,
   "id": "0f326ac5",
   "metadata": {},
   "outputs": [],
   "source": [
    "interface Clickabel {                                  // 인터페이스 정의 \n",
    "    val prop : String\n",
    "        get() = \"일반속성\"\n",
    "    fun up()  : Unit                                   // 추상메소드\n",
    "    fun down() : Unit\n",
    "}\n",
    "abstract class Tank {                                  // 추상 클래스 정의 \n",
    "    fun move(){                                        // 일반 메소드 \n",
    "        println(\"이동합니다.\")\n",
    "    }\n",
    "    abstract fun attack() : Unit                       // 추상메소드 \n",
    "}"
   ]
  },
  {
   "cell_type": "code",
   "execution_count": 16,
   "id": "c83da219",
   "metadata": {},
   "outputs": [],
   "source": [
    "class MultiClass:Tank(), Clickabel {                   // 추상 클래스와 인터페이스 상속 \n",
    "    override fun attack() = println(\"아무거나 공격해요\")   // 추상 메소드 구현 \n",
    " \n",
    "    override fun up() = println(\"파워를 올려요\")          // 추상메소드 구현 \n",
    "    override fun down()= println(\"파워를 내려요\")         // 추상 메소드 구현  \n",
    "}\n"
   ]
  },
  {
   "cell_type": "code",
   "execution_count": 17,
   "id": "9e43bd42",
   "metadata": {},
   "outputs": [
    {
     "name": "stdout",
     "output_type": "stream",
     "text": [
      "이동합니다.\n",
      "아무거나 공격해요\n",
      "파워를 올려요\n",
      "파워를 내려요\n",
      "일반속성\n",
      "아무거나 공격해요\n",
      "파워를 내려요\n"
     ]
    }
   ],
   "source": [
    "var mm :MultiClass = MultiClass()                      // 자료형을 자기 클래스\n",
    "mm.move()                                              //  모든 정의를 다 사용 가능                       \n",
    "mm.attack()\n",
    "mm.up()\n",
    "mm.down()\n",
    "println(mm.prop)\n",
    " \n",
    "var m2: Tank = MultiClass()                            // 추상 클래스로 자료형 \n",
    "// m2.up()                                             // 참조 불가 \n",
    "// m2.prop                                             // 참조 불가\n",
    "m2.attack()\n",
    "var m3: Clickabel = MultiClass()                       // 인터페이스로 자료형 \n",
    "// m3.move()                                           // 참조 불가 \n",
    "m3.down()"
   ]
  },
  {
   "cell_type": "markdown",
   "id": "c6f4f634",
   "metadata": {},
   "source": [
    "## 1-2-4 계층구조 구성 "
   ]
  },
  {
   "cell_type": "markdown",
   "id": "cb611cf5",
   "metadata": {},
   "source": [
    "### 인터페이스를 상속해서 인터페이스를 만들어서 상속하기"
   ]
  },
  {
   "cell_type": "code",
   "execution_count": 18,
   "id": "291f8c06",
   "metadata": {},
   "outputs": [],
   "source": [
    "interface Aable {                                   // 최상위 인터페이스 정의\n",
    "    fun absMethod() : Unit\n",
    "}\n",
    "\n",
    "interface Bable {                                   // 최상위 인터페이스 정의 \n",
    "    fun bMethod() : Unit\n",
    "}\n",
    "\n",
    "interface Cable : Aable, Bable {                    // 인터페이스 상속\n",
    "    override abstract fun absMethod() : Unit        // 상속한 인터페이스 재정의\n",
    "    fun method() : Unit\n",
    "}\n"
   ]
  },
  {
   "cell_type": "code",
   "execution_count": 19,
   "id": "ee4a5165",
   "metadata": {},
   "outputs": [],
   "source": [
    "class ABablity : Cable {                             // 클래스 구현 \n",
    "    override fun absMethod()  = println(\"야호 !!!\")   // 추상 메소드 구현 \n",
    "    override fun bMethod() = println(\"관악산\")         // 추상 메소드 구현 \n",
    "    override fun method() = println(\"낙성대\")          // 추상 메소드 구현 \n",
    "}"
   ]
  },
  {
   "cell_type": "code",
   "execution_count": 20,
   "id": "6e20337a",
   "metadata": {},
   "outputs": [
    {
     "name": "stdout",
     "output_type": "stream",
     "text": [
      "야호 !!!\n",
      "관악산\n",
      "관악산\n"
     ]
    }
   ],
   "source": [
    "val a : Aable = ABablity()                            // Aable 자료형으로 사용 \n",
    "//a.method()                                          // 제공하지 않는 메소드 호출시 에러 \n",
    "a.absMethod()\n",
    "\n",
    "val b : Bable = ABablity()                            // Bable 자료형사용 \n",
    "b.bMethod()\n",
    "\n",
    "val c : Cable = ABablity()                            // Cable 자료형 사용 \n",
    "c.bMethod()                                           // 인터페이스를 상속해서 모든 메소드를 가지고 있음"
   ]
  },
  {
   "cell_type": "code",
   "execution_count": null,
   "id": "deebe87b",
   "metadata": {},
   "outputs": [],
   "source": []
  },
  {
   "cell_type": "markdown",
   "id": "c0aab4b9",
   "metadata": {},
   "source": [
    "## 1-3 봉인클래스"
   ]
  },
  {
   "cell_type": "markdown",
   "id": "4fb751e0",
   "metadata": {},
   "source": [
    "## 1-3-1 봉인클래스 "
   ]
  },
  {
   "cell_type": "markdown",
   "id": "f3014d6b",
   "metadata": {},
   "source": [
    "### 봉인클래스 정의 \n",
    "\n",
    "- 봉인클래스는 추상클래스이다. \n",
    "- 일반클래스, object 정의, 데이터클래스로 상속을 받아 처리할 수 있다"
   ]
  },
  {
   "cell_type": "code",
   "execution_count": 21,
   "id": "5a0f4bbd",
   "metadata": {},
   "outputs": [],
   "source": [
    "sealed class SealedClass                            // 봉인클래스 정의 \n",
    "class Aclass : SealedClass()                        // 봉인 클래스 상속 \n",
    "class Bclass : SealedClass()                        // 클래스\n",
    "object Cobject : SealedClass()                      // 객체 선언\n",
    "data class Person(val name:String,                  // 데잍터 클래스\n",
    "                  var age :Int) : SealedClass()\n"
   ]
  },
  {
   "cell_type": "markdown",
   "id": "e41df57b",
   "metadata": {},
   "source": [
    "### 봉인클래스 내에 클래스를 정의도 가능하다"
   ]
  },
  {
   "cell_type": "code",
   "execution_count": 22,
   "id": "b689eac6",
   "metadata": {},
   "outputs": [],
   "source": [
    "sealed class SealedClass1 {                          // 봉인클래스 정의 \n",
    "   class Aclass1 : SealedClass()                     // 클래스 내부에 정의 \n",
    "   class Bclass1 : SealedClass()\n",
    "   object Cobject1 : SealedClass()                   // object 선언도 상속 가능 \n",
    "   data class Person1(val name:String,               // 데이터 클래스도 상속 가능\n",
    "                      var age :Int) : SealedClass()\n",
    "   \n",
    "   val p1 = Person1(\"봉인\", 44)\n",
    "}\n",
    "\n",
    "val p = Person(\"실드\", 33)\n",
    "val p1 = SealedClass1.Person1(\"봉인\", 44)             // 봉인 쿨래스 내부 참조"
   ]
  },
  {
   "cell_type": "markdown",
   "id": "92545516",
   "metadata": {},
   "source": [
    "## 1-3-2 봉인클래스  내의 생성자 지정 "
   ]
  },
  {
   "cell_type": "markdown",
   "id": "2c041229",
   "metadata": {},
   "source": [
    "### 봉인클래스 상속한 일반 클래스로 객체를 생성하고 속성확인"
   ]
  },
  {
   "cell_type": "code",
   "execution_count": 23,
   "id": "7232a6fe",
   "metadata": {},
   "outputs": [
    {
     "name": "stdout",
     "output_type": "stream",
     "text": [
      "B 클래스\n"
     ]
    }
   ],
   "source": [
    "sealed class A (var name: String)                           // 봉인 클래스에 생성자 정의 \n",
    "class B : A(\"B 클래스\")                                       // 봉인 클래스 상속한 클래스 정의 \n",
    "class C : A(\"C 클래스\")\n",
    "\n",
    "println(B().name)"
   ]
  },
  {
   "cell_type": "code",
   "execution_count": 24,
   "id": "82217ae3",
   "metadata": {},
   "outputs": [
    {
     "name": "stdout",
     "output_type": "stream",
     "text": [
      "B 클래스\n"
     ]
    }
   ],
   "source": [
    "sealed class AA private constructor(var name: String){      // 봉인 클래스에 비공개 생성자 정의 \n",
    "    class B : AA(\"B 클래스\")                                  // 내부 클래스에서 위임호출 \n",
    "    class C : AA(\"C 클래스\")                                       \n",
    "}\n",
    "println(AA.B().name)\n",
    "                         "
   ]
  },
  {
   "cell_type": "markdown",
   "id": "4168bc02",
   "metadata": {},
   "source": [
    "### 봉인클래스를 상속한 것을 다른 클래스에서 상속이 가능"
   ]
  },
  {
   "cell_type": "code",
   "execution_count": 25,
   "id": "b6f5c014",
   "metadata": {},
   "outputs": [],
   "source": [
    "sealed class Fruit() {\n",
    "    class Apple() : Fruit()\n",
    "    class Orange() : Fruit()\n",
    "    open class UnknownFruit(): Fruit()  {                    // 다른 곳에서 이 클래스를 상속하기 \n",
    "           fun display() = \"상속했습니다.\"\n",
    "    }\n",
    "}\n",
    "    "
   ]
  },
  {
   "cell_type": "code",
   "execution_count": 26,
   "id": "1e4d3dbc",
   "metadata": {},
   "outputs": [
    {
     "name": "stdout",
     "output_type": "stream",
     "text": [
      "상속했습니다.\n"
     ]
    }
   ],
   "source": [
    "                                                             // 다른 파일인 경우에는 봉인클래스를 상속한 경우 \n",
    "class Tomato : Fruit.UnknownFruit()                          // 내부의 클래스를 상속할 수 있다\n",
    "\n",
    "println(Tomato().display())                                  // 상위 클래스의 메소드 호출"
   ]
  },
  {
   "cell_type": "markdown",
   "id": "7a5af6d7",
   "metadata": {},
   "source": [
    "## 1-3-3 봉인클래스를 when 표현"
   ]
  },
  {
   "cell_type": "code",
   "execution_count": 27,
   "id": "ce8cdd42",
   "metadata": {},
   "outputs": [],
   "source": [
    "sealed class SealedClass {                               // 봉인 클래스 정의 \n",
    "    class SubX(val intVal: Int) : SealedClass()          // 내부 클래스 정의 \n",
    "    class SubY(val stringVal : String) : SealedClass()   // 내부 클래스 정의 \n",
    "}"
   ]
  },
  {
   "cell_type": "code",
   "execution_count": 28,
   "id": "47753b80",
   "metadata": {},
   "outputs": [],
   "source": [
    "class SubZ(val longVal: Long) : SealedClass()            // 외부 클래스 정의 \n",
    "\n",
    "fun printType(type : SealedClass) : String =             // 봉인 클래스 내부의 자식클래스 확인함수 \n",
    "    when(type) {                                         // when 표현식 \n",
    "        is SealedClass.SubX -> \"매개변수 타입 : integer\"\n",
    "        is SealedClass.SubY -> \"매개변수 타입 : string\"\n",
    "        is SubZ -> \"매개변수 타입 : long\"                   // 명확하게 서브클래스 확정\n",
    "}                                                        // else가 필요없믐 "
   ]
  },
  {
   "cell_type": "code",
   "execution_count": 29,
   "id": "18d5d2ef",
   "metadata": {},
   "outputs": [
    {
     "name": "stdout",
     "output_type": "stream",
     "text": [
      "매개변수 타입 : long\n",
      "매개변수 타입 : integer\n",
      "매개변수 타입 : string\n"
     ]
    }
   ],
   "source": [
    "println(printType(SubZ(100L)))                           // 객체 전달 후 클래스 여부 확인\n",
    "println(printType(SealedClass.SubX(100)))\n",
    "println(printType(SealedClass.SubY(\"문자열\")))"
   ]
  },
  {
   "cell_type": "code",
   "execution_count": null,
   "id": "dcee2113",
   "metadata": {},
   "outputs": [],
   "source": []
  }
 ],
 "metadata": {
  "kernelspec": {
   "display_name": "Kotlin",
   "language": "kotlin",
   "name": "kotlin"
  },
  "language_info": {
   "codemirror_mode": "text/x-kotlin",
   "file_extension": ".kt",
   "mimetype": "text/x-kotlin",
   "name": "kotlin",
   "nbconvert_exporter": "",
   "pygments_lexer": "kotlin",
   "version": "1.8.0-dev-3517"
  }
 },
 "nbformat": 4,
 "nbformat_minor": 5
}
