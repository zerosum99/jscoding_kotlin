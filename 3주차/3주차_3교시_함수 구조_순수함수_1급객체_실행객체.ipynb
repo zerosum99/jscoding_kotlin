{
 "cells": [
  {
   "cell_type": "code",
   "execution_count": null,
   "id": "7e65c9c6",
   "metadata": {},
   "outputs": [],
   "source": []
  },
  {
   "cell_type": "code",
   "execution_count": 1,
   "id": "e708e759",
   "metadata": {},
   "outputs": [
    {
     "data": {
      "text/plain": [
       "1.8.0"
      ]
     },
     "execution_count": 1,
     "metadata": {},
     "output_type": "execute_result"
    }
   ],
   "source": [
    "KotlinVersion.CURRENT             // 코틀린 현재 버전 "
   ]
  },
  {
   "cell_type": "markdown",
   "id": "f21cb4de",
   "metadata": {},
   "source": [
    "# 3. 함수 구조 알아보기"
   ]
  },
  {
   "cell_type": "markdown",
   "id": "a30e3fdc",
   "metadata": {},
   "source": [
    "## 3-1 순수함수와 비순수함수 "
   ]
  },
  {
   "cell_type": "markdown",
   "id": "8b9aa94a",
   "metadata": {},
   "source": [
    "## 3-1-1 순수함수 "
   ]
  },
  {
   "cell_type": "code",
   "execution_count": 1,
   "id": "7f09772e",
   "metadata": {},
   "outputs": [
    {
     "name": "stdout",
     "output_type": "stream",
     "text": [
      "30\n",
      "30\n"
     ]
    }
   ],
   "source": [
    "fun purefunc(a:Int, b:Int) :Int {      // 함수를 정의\n",
    "    return a + b                       // 입력되는 인자에 의해 결정 \n",
    "}\n",
    "println(purefunc(10,20))               // 함수를 계속 호출해도 결과는 같다 \n",
    "println(purefunc(10,20))"
   ]
  },
  {
   "cell_type": "markdown",
   "id": "c1beeb0f",
   "metadata": {},
   "source": [
    "## 3-1-2  비순수함수 "
   ]
  },
  {
   "cell_type": "code",
   "execution_count": 2,
   "id": "55791a0e",
   "metadata": {},
   "outputs": [
    {
     "name": "stdout",
     "output_type": "stream",
     "text": [
      "비순수함수  외부 출력\n",
      "100\n",
      "208\n",
      "208\n",
      "316\n",
      "316\n"
     ]
    }
   ],
   "source": [
    "fun nonpure1(a: String ) {             // 외부에 출력 \n",
    "    println(\"비순수함수  $a\")\n",
    "}\n",
    "nonpure1(\"외부 출력\")                    // 함수를 호출하면 인자와 상관없이 외부와 연계처리\n",
    "\n",
    "var state = 100\n",
    "fun nonpure2(x : Int) : Int {          // 함수 정의 \n",
    "    state += x                         // 함수 내부에 상태를 갖는다 . 전역 변수 갱신 \n",
    "    return state                       // 전역 변수 값 반환\n",
    "}\n",
    "println(state)   \n",
    "println(nonpure2(108))                 // 함수를 호출할 때마다 결과가 달라진다.\n",
    "println(state)\n",
    "println(nonpure2(108))\n",
    "println(state)"
   ]
  },
  {
   "cell_type": "markdown",
   "id": "2c7a191b",
   "metadata": {},
   "source": [
    "## 3-2 함수는 1급 객체"
   ]
  },
  {
   "cell_type": "markdown",
   "id": "a5c9ada4",
   "metadata": {},
   "source": [
    "## 3-2-1 함수 자료형 확인하기 "
   ]
  },
  {
   "cell_type": "code",
   "execution_count": 4,
   "id": "ec89201d",
   "metadata": {},
   "outputs": [
    {
     "name": "stdout",
     "output_type": "stream",
     "text": [
      "함수 자료형 확인 :(kotlin.Int, kotlin.Int) -> kotlin.Int\n",
      "30\n",
      "함수 자료형 확인 :(kotlin.Int, kotlin.Int) -> kotlin.Int\n",
      "30\n",
      "함수 자료형 확인 :(kotlin.Int, kotlin.Int) -> kotlin.Int\n",
      "30\n"
     ]
    }
   ],
   "source": [
    "val add1 = fun (x:Int, y:Int) : Int = x+y           // 익명함수를 변수에 할당 \n",
    "println(\"함수 자료형 확인 :\" + add1)\n",
    "println(add1(10,20))                                // 변수에 저장된 함수 실행 \n",
    "\n",
    "val add2 = { x:Int , y: Int -> x + y}               // 람다표현식을 변수에 할당\n",
    "println(\"함수 자료형 확인 :\" + add2)\n",
    "println(add2(10,20))\n",
    "\n",
    "val add3 : (Int,Int) -> Int = {x:Int, y:Int -> x+y} // 람다표현식을  변수에 할당 \n",
    "println(\"함수 자료형 확인 :\" + add3)\n",
    "println(add3(10,20))\n"
   ]
  },
  {
   "cell_type": "markdown",
   "id": "0a4e6c95",
   "metadata": {},
   "source": [
    "## 3-2-2 함수를 매개변수에 전달 "
   ]
  },
  {
   "cell_type": "code",
   "execution_count": 5,
   "id": "93168226",
   "metadata": {},
   "outputs": [
    {
     "name": "stdout",
     "output_type": "stream",
     "text": [
      "30\n",
      "함수 자료형 확인 :(kotlin.Int, kotlin.Int) -> kotlin.Int\n",
      "30\n"
     ]
    }
   ],
   "source": [
    "fun highfunc(sum:(Int, Int) -> Int,                 // 매개변수에 함수 자료형 정의 \n",
    "             a:Int, b:Int) : Int = sum(a,b)\n",
    "\n",
    "println(highfunc({x:Int, y:Int -> x+y}, 10,20))     // 람다표현식을 인자로 전달\n",
    "\n",
    "fun returnfunc() : (Int, Int) -> Int {              // 함수 반환자료형의 함수 \n",
    "    return {x:Int, y:Int -> x+y}                    // 람다표현식으로 반환 \n",
    "}\n",
    "val rf = returnfunc()                               // 함수 호출 \n",
    "println(\"함수 자료형 확인 :\" + rf)\n",
    "println(rf(10,20))                                  // 다시 함수 호출"
   ]
  },
  {
   "cell_type": "markdown",
   "id": "ba7fdf46",
   "metadata": {},
   "source": [
    "## 3-2-3  자료형에 함수 저장하기 "
   ]
  },
  {
   "cell_type": "markdown",
   "id": "4472ccee",
   "metadata": {},
   "source": [
    "### 함수 정의 "
   ]
  },
  {
   "cell_type": "code",
   "execution_count": 7,
   "id": "f20dfea6",
   "metadata": {},
   "outputs": [],
   "source": [
    "fun add(x:Int, y:Int) = x+y                      // 함수를 정의한다 \n",
    "fun mul(x:Int, y:Int) = x*y\n",
    "fun div(x:Int, y:Int) = x/y\n",
    "fun sub(x:Int, y:Int) = x-y"
   ]
  },
  {
   "cell_type": "markdown",
   "id": "7c6ddb99",
   "metadata": {},
   "source": [
    "### 맵에 함수 저장 "
   ]
  },
  {
   "cell_type": "code",
   "execution_count": 8,
   "id": "ed3c861d",
   "metadata": {},
   "outputs": [],
   "source": [
    "val map = mutableMapOf<String,(Int,Int)->Int>()  // 맵 객체 만든다 \n",
    "\n",
    "map[\"add\"] = ::add                               // 함수 참조를 통해 맵에 값으로 저장한다 \n",
    "map[\"mul\"] = ::mul\n",
    "map[\"div\"] = ::div\n",
    "map[\"sub\"] = ::sub"
   ]
  },
  {
   "cell_type": "markdown",
   "id": "9f0d6efa",
   "metadata": {},
   "source": [
    "### when 표현식으로 함수 호출 처리 "
   ]
  },
  {
   "cell_type": "code",
   "execution_count": 9,
   "id": "a8b4614f",
   "metadata": {},
   "outputs": [
    {
     "name": "stdout",
     "output_type": "stream",
     "text": [
      "200\n"
     ]
    }
   ],
   "source": [
    "val x = \"*\"                                      // 연산자에 해당하는 문자열로 맵의 함수를 검색한다\n",
    "val result = when(x) {\n",
    "  \"+\" -> map[\"add\"]?.invoke(10,20)               // 해당하는 함수를 호출해서 처리한다. \n",
    "  \"-\" -> map[\"sub\"]?.invoke(10,20)\n",
    "  \"*\" -> map[\"mul\"]?.invoke(10,20)\n",
    "  \"/\" -> map[\"div\"]?.invoke(10,20)\n",
    "  else -> map[\"add\"]?.invoke(10,20)\n",
    "}\n",
    "println(result)"
   ]
  },
  {
   "cell_type": "markdown",
   "id": "e13f18ee",
   "metadata": {},
   "source": [
    "### 내부함수에 맵에 함수를 저장하고 처리 "
   ]
  },
  {
   "cell_type": "code",
   "execution_count": 10,
   "id": "d96cb7ae",
   "metadata": {},
   "outputs": [
    {
     "name": "stdout",
     "output_type": "stream",
     "text": [
      "2000\n"
     ]
    }
   ],
   "source": [
    "val map1 = mutableMapOf<String,()->Int>()        // 맵을 정의한다, \n",
    "fun outer(x:Int, y:Int) {                        // 외부 함수를 정의한다.\n",
    "    fun add() = x+y                              // 내부 함수를 정의한다. \n",
    "    fun mul() = x*y\n",
    "    fun div() = x/y\n",
    "    fun sub() = x-y\n",
    "    map1[\"add\"] = ::add                           // 함수 참조로 함수를 맵에 값으로 저장 \n",
    "    map1[\"mul\"] = ::mul\n",
    "    map1[\"div\"] = ::div\n",
    "    map1[\"sub\"] = ::sub   \n",
    "} \n",
    "\n",
    "outer(100,20)                                     // 함수를 실행하면 내부 함수가 맵에 저장 \n",
    "println(map1[\"mul\"]?.invoke())  "
   ]
  },
  {
   "cell_type": "markdown",
   "id": "4d0adcdf",
   "metadata": {},
   "source": [
    "## 3-3 실행객체와 함수 비교해보기"
   ]
  },
  {
   "cell_type": "markdown",
   "id": "192ad9f2",
   "metadata": {},
   "source": [
    "## 3-3-1 object 정의로 실행객체 만들기"
   ]
  },
  {
   "cell_type": "code",
   "execution_count": 12,
   "id": "ff5bd8fc",
   "metadata": {},
   "outputs": [
    {
     "name": "stdout",
     "output_type": "stream",
     "text": [
      "인자가 없고 출력하는 함수\n",
      "함수 객체가 만들어지고 실행\n",
      "true\n",
      "true\n"
     ]
    }
   ],
   "source": [
    "fun funB() = println(\"인자가 없고 출력하는 함수\")         // 함수정의  \n",
    "\n",
    "object B: ()->Unit {                                // object 표현식 정의 \n",
    "      override operator fun invoke() : Unit {       // 함수 인터페이스의 실행연산자가 없어서 구현 \n",
    "           println(\"함수 객체가 만들어지고 실행\")          // \n",
    "      }\n",
    "}\n",
    "\n",
    "funB()                                              // 함수실행\n",
    "B()                                                 // 오브젝트선언으로 함수 작성 \n",
    "println((::funB) is Function<Unit>)                 // 동일한 함수타입 확인 \n",
    "println(B is Function<Unit>)                        // 동일한 함수타입 확인 "
   ]
  },
  {
   "cell_type": "code",
   "execution_count": null,
   "id": "95ed05c5",
   "metadata": {},
   "outputs": [],
   "source": []
  },
  {
   "cell_type": "markdown",
   "id": "7c511cc3",
   "metadata": {},
   "source": [
    "## 3-3-2 클래스로 실행객체 만들기"
   ]
  },
  {
   "cell_type": "code",
   "execution_count": 13,
   "id": "b71f358b",
   "metadata": {},
   "outputs": [
    {
     "name": "stdout",
     "output_type": "stream",
     "text": [
      "실행연산자 호출 \n",
      "30\n",
      "class Line_838$ADDFunction\n"
     ]
    }
   ],
   "source": [
    "val add :Function2<Int,Int,Int> =                   // 람다표현식으로 함수 정의 \n",
    "                    {x:Int, y:Int -> x+y}\n",
    "\n",
    "class ADDFunction: (Int, Int)->Int {                // 클래스에 함수인터페이스 상속 \n",
    "    override fun invoke(x:Int, y:Int):Int{          // 실행연산자 재정의 \n",
    "        println(\"실행연산자 호출 \")\n",
    "        return x+y\n",
    "    }\n",
    "}\n",
    "\n",
    "val function:Function2<Int,Int,Int> = ADDFunction()  // 객체 생성 \n",
    "println(function(10,20))                             // 실행연산자 호출 \n",
    "println(function.javaClass.kotlin)                   // 객체의 클래스 확인"
   ]
  },
  {
   "cell_type": "code",
   "execution_count": null,
   "id": "09da6616",
   "metadata": {},
   "outputs": [],
   "source": []
  },
  {
   "cell_type": "code",
   "execution_count": null,
   "id": "aaded9ab",
   "metadata": {},
   "outputs": [],
   "source": []
  }
 ],
 "metadata": {
  "kernelspec": {
   "display_name": "Kotlin",
   "language": "kotlin",
   "name": "kotlin"
  },
  "language_info": {
   "codemirror_mode": "text/x-kotlin",
   "file_extension": ".kt",
   "mimetype": "text/x-kotlin",
   "name": "kotlin",
   "nbconvert_exporter": "",
   "pygments_lexer": "kotlin",
   "version": "1.8.0-dev-3517"
  }
 },
 "nbformat": 4,
 "nbformat_minor": 5
}
