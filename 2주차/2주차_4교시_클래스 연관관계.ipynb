{
 "cells": [
  {
   "cell_type": "markdown",
   "id": "da101a4b",
   "metadata": {},
   "source": [
    "# 클래스 확장 기능 알아보기\n",
    "\n",
    "7장, 9장\n",
    "\n",
    "클래스 관계, 메서드 재정의 , 추상 클래스, 인터페이스"
   ]
  },
  {
   "cell_type": "code",
   "execution_count": null,
   "id": "ad8aba59",
   "metadata": {},
   "outputs": [],
   "source": []
  },
  {
   "cell_type": "code",
   "execution_count": 1,
   "id": "42abd5cd",
   "metadata": {},
   "outputs": [
    {
     "data": {
      "text/plain": [
       "1.8.0"
      ]
     },
     "execution_count": 1,
     "metadata": {},
     "output_type": "execute_result"
    }
   ],
   "source": [
    "KotlinVersion.CURRENT             // 코틀린 현재 버전 "
   ]
  },
  {
   "cell_type": "code",
   "execution_count": null,
   "id": "35c3860b",
   "metadata": {},
   "outputs": [],
   "source": []
  },
  {
   "cell_type": "markdown",
   "id": "61d61b14",
   "metadata": {},
   "source": [
    "# 2. 연관관계¶"
   ]
  },
  {
   "cell_type": "code",
   "execution_count": null,
   "id": "1dec4679",
   "metadata": {},
   "outputs": [],
   "source": []
  },
  {
   "cell_type": "markdown",
   "id": "eb7c0003",
   "metadata": {},
   "source": [
    "## 2-1 조합"
   ]
  },
  {
   "cell_type": "code",
   "execution_count": null,
   "id": "1340bc9a",
   "metadata": {},
   "outputs": [],
   "source": []
  },
  {
   "cell_type": "code",
   "execution_count": null,
   "id": "741a7171",
   "metadata": {},
   "outputs": [],
   "source": []
  },
  {
   "cell_type": "markdown",
   "id": "36213dc8",
   "metadata": {},
   "source": [
    "## 2-2 연관 "
   ]
  },
  {
   "cell_type": "code",
   "execution_count": null,
   "id": "af9dacec",
   "metadata": {},
   "outputs": [],
   "source": []
  },
  {
   "cell_type": "code",
   "execution_count": null,
   "id": "fcc59c8d",
   "metadata": {},
   "outputs": [],
   "source": []
  },
  {
   "cell_type": "markdown",
   "id": "ded6a015",
   "metadata": {},
   "source": [
    "## 2-3 의존 "
   ]
  },
  {
   "cell_type": "code",
   "execution_count": null,
   "id": "53475a11",
   "metadata": {},
   "outputs": [],
   "source": []
  }
 ],
 "metadata": {
  "kernelspec": {
   "display_name": "Kotlin",
   "language": "kotlin",
   "name": "kotlin"
  },
  "language_info": {
   "codemirror_mode": "text/x-kotlin",
   "file_extension": ".kt",
   "mimetype": "text/x-kotlin",
   "name": "kotlin",
   "nbconvert_exporter": "",
   "pygments_lexer": "kotlin",
   "version": "1.8.0-dev-3517"
  }
 },
 "nbformat": 4,
 "nbformat_minor": 5
}
