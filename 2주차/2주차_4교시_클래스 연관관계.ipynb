{
 "cells": [
  {
   "cell_type": "code",
   "execution_count": null,
   "id": "ad8aba59",
   "metadata": {},
   "outputs": [],
   "source": []
  },
  {
   "cell_type": "code",
   "execution_count": 1,
   "id": "42abd5cd",
   "metadata": {},
   "outputs": [
    {
     "data": {
      "text/plain": [
       "1.8.0"
      ]
     },
     "execution_count": 1,
     "metadata": {},
     "output_type": "execute_result"
    }
   ],
   "source": [
    "KotlinVersion.CURRENT             // 코틀린 현재 버전 "
   ]
  },
  {
   "cell_type": "code",
   "execution_count": null,
   "id": "35c3860b",
   "metadata": {},
   "outputs": [],
   "source": []
  },
  {
   "cell_type": "markdown",
   "id": "61d61b14",
   "metadata": {},
   "source": [
    "# 4. 연관관계, 기타 클래스 알아보기"
   ]
  },
  {
   "cell_type": "code",
   "execution_count": null,
   "id": "1dec4679",
   "metadata": {},
   "outputs": [],
   "source": []
  },
  {
   "cell_type": "markdown",
   "id": "eb7c0003",
   "metadata": {},
   "source": [
    "## 4-1 연관관계 "
   ]
  },
  {
   "cell_type": "markdown",
   "id": "759c87f0",
   "metadata": {},
   "source": [
    "## 4-1-1 결합관계 "
   ]
  },
  {
   "cell_type": "code",
   "execution_count": null,
   "id": "215fb0b2",
   "metadata": {},
   "outputs": [],
   "source": []
  },
  {
   "cell_type": "code",
   "execution_count": 2,
   "id": "1340bc9a",
   "metadata": {},
   "outputs": [],
   "source": [
    "class Address(val streetNum : Int ,          //주소 클래스를 만든다. \n",
    "              val city : String, \n",
    "              val state : String,\n",
    "              val country : String) {\n",
    "    fun printAddr() {\n",
    "        println(\" 주소 =  $streetNum  $city $state Scountry \")\n",
    "    }\n",
    "}\n"
   ]
  },
  {
   "cell_type": "code",
   "execution_count": 3,
   "id": "741a7171",
   "metadata": {},
   "outputs": [],
   "source": [
    "class Student(val rollNum : Int,             //학생클래스를 만든다. \n",
    "              val studentName : String, \n",
    "              val studentAddr : Address)     //다른 클래스를  속성에 할당 \n",
    "\n",
    "class College(val collegeName : String,      //대학클래스를 만든다 \n",
    "              val collegeAddr : Address )    //다른 클래스를  속성에 할당 \n",
    "\n",
    "class Staff(val employeeName : String,       //교직원클래스를 만든다 \n",
    "            val employeeAddr : Address)      //다른 클래스를  속성에 할당 "
   ]
  },
  {
   "cell_type": "code",
   "execution_count": 4,
   "id": "07baa3e1",
   "metadata": {},
   "outputs": [],
   "source": [
    "val ad1 = Address(55, \"관악구\", \"서울시\", \"대한민국\")  // 주소 3개 생성 \n",
    "val ad2 = Address(55, \"금천구\", \"서울시\", \"대한민국\")\n",
    "val ad3 = Address(55, \"동작구\", \"서울시\", \"대한민국\")\n",
    "\n",
    "val obj1 = College(\"서울대\", ad1)                  // 주소 배정 \n",
    "val obj2 = Student(123, \"문찬주\", ad3)\n",
    "val obj3 = Staff(\"문경욱\", ad2)"
   ]
  },
  {
   "cell_type": "code",
   "execution_count": 5,
   "id": "86326846",
   "metadata": {},
   "outputs": [
    {
     "name": "stdout",
     "output_type": "stream",
     "text": [
      "서울대\n",
      " 주소 =  55  관악구 서울시 Scountry \n",
      "123\n",
      "문찬주\n",
      " 주소 =  55  동작구 서울시 Scountry \n",
      "문경욱\n",
      " 주소 =  55  금천구 서울시 Scountry \n"
     ]
    }
   ],
   "source": [
    "\n",
    "println(obj1.collegeName)                        // 대학 상태 출력\n",
    "obj1.collegeAddr.printAddr()\n",
    "\n",
    "println(obj2.rollNum)                            // 학생 상태 출력 \n",
    "println(obj2.studentName)\n",
    "obj2.studentAddr.printAddr()\n",
    "\n",
    "println(obj3.employeeName)                       //교직원 상태 출력 \n",
    "obj3.employeeAddr.printAddr()"
   ]
  },
  {
   "cell_type": "code",
   "execution_count": null,
   "id": "953e5925",
   "metadata": {},
   "outputs": [],
   "source": []
  },
  {
   "cell_type": "markdown",
   "id": "36213dc8",
   "metadata": {},
   "source": [
    "## 4-1-2 조합"
   ]
  },
  {
   "cell_type": "code",
   "execution_count": 6,
   "id": "af9dacec",
   "metadata": {},
   "outputs": [],
   "source": [
    "class CarEngine {                                               //조합대상 클래스 \n",
    "    fun startEngine(){\n",
    "        println(\"엔진 가동.\")\n",
    "    }\n",
    "\n",
    "    fun stopEngine(){\n",
    "        println(\"엔진 중단 .\")\n",
    "    }\n",
    "} "
   ]
  },
  {
   "cell_type": "code",
   "execution_count": 7,
   "id": "fcc59c8d",
   "metadata": {},
   "outputs": [],
   "source": [
    "open class Car(var colour: String,                              //베이스 클래스 \n",
    "               var maxi_Speed : Int) {\n",
    "    fun carDetails(){\n",
    "          println(\"차 색상= \"+colour + \"; 최고속도= \" + maxi_Speed);\n",
    "    }\n",
    "} "
   ]
  },
  {
   "cell_type": "code",
   "execution_count": 8,
   "id": "293a7e0d",
   "metadata": {},
   "outputs": [],
   "source": [
    "class CarProduct(color : String,                                // 조합을 구성하는 클래스\n",
    "                 max_speed : Int) : \n",
    "                            Car(color, max_speed){\n",
    "    lateinit var carEngine : CarEngine \n",
    "\n",
    "    fun startCarProduct(){\n",
    "        carEngine = CarEngine()                                 // 다른 클래스로 조합 구성   \n",
    "        carEngine.startEngine() \n",
    "\n",
    "    }\n",
    "} \n"
   ]
  },
  {
   "cell_type": "code",
   "execution_count": 9,
   "id": "4d428133",
   "metadata": {},
   "outputs": [
    {
     "name": "stdout",
     "output_type": "stream",
     "text": [
      "차 색상= Red; 최고속도= 240\n",
      "엔진 가동.\n"
     ]
    }
   ],
   "source": [
    "val carJazz = CarProduct(\"Red\", 240)\n",
    "\n",
    "carJazz.carDetails()\n",
    "carJazz.startCarProduct()"
   ]
  },
  {
   "cell_type": "markdown",
   "id": "ded6a015",
   "metadata": {},
   "source": [
    "## 4-1-3 의존 "
   ]
  },
  {
   "cell_type": "code",
   "execution_count": 10,
   "id": "53475a11",
   "metadata": {},
   "outputs": [],
   "source": [
    "class Account(val accountNo : Int,               //의존 처리 클래스 \n",
    "              var balance:Int=0) {\n",
    "    fun deposit(amount : Int){\n",
    "        println(\"입금\")\n",
    "        balance += amount\n",
    "        \n",
    "    }\n",
    "} "
   ]
  },
  {
   "cell_type": "code",
   "execution_count": 11,
   "id": "f28f40a7",
   "metadata": {},
   "outputs": [],
   "source": [
    "class Customer(var balance : Int) {\n",
    "    fun makeDeposit(acc : Account){              //메소드의 매개변수로 의존 클래스 전달\n",
    "        acc.deposit(balance);                    //내부에서 의존 클래스의 메소드 실행 \n",
    "    }\n",
    "}\n"
   ]
  },
  {
   "cell_type": "code",
   "execution_count": 12,
   "id": "f6e90adf",
   "metadata": {},
   "outputs": [
    {
     "name": "stdout",
     "output_type": "stream",
     "text": [
      "입금\n",
      "123\n",
      "3000\n"
     ]
    }
   ],
   "source": [
    "val acc = Account(123)\n",
    "val cus = Customer(3000)\n",
    "\n",
    "cus.makeDeposit(acc)\n",
    "println(acc.accountNo)\n",
    "println(acc.balance)"
   ]
  },
  {
   "cell_type": "code",
   "execution_count": null,
   "id": "8d93a69c",
   "metadata": {},
   "outputs": [],
   "source": []
  },
  {
   "cell_type": "markdown",
   "id": "dcb7da01",
   "metadata": {},
   "source": [
    "# 4.2  데이터클래스"
   ]
  },
  {
   "cell_type": "markdown",
   "id": "dc6d250e",
   "metadata": {},
   "source": [
    "## 4-2-1 데이터 클래스 정의  "
   ]
  },
  {
   "cell_type": "code",
   "execution_count": 13,
   "id": "d080fff5",
   "metadata": {},
   "outputs": [],
   "source": [
    "fun Any.dir() : Set<String> {              // 내부 멤버 알라보기 \n",
    "    val a = this.javaClass.kotlin          // 클래스 참조 가져오기 \n",
    "    println(a.simpleName)                  // 클래스 내부의 이름 \n",
    "    var ll = mutableListOf<String>()       // 멤버를 저장할 리스트 객체 만들기 \n",
    "    for (i in a.members) {                 // 클래스 내부의 멤버를 관리하는 속성\n",
    "        ll.add(i.name)                     // 멤저 이름을 저장하기 \n",
    "    }\n",
    "    return ll.toSet()                      // 세트객체로 변환하기\n",
    "}"
   ]
  },
  {
   "cell_type": "code",
   "execution_count": 14,
   "id": "5bdb339d",
   "metadata": {},
   "outputs": [
    {
     "name": "stdout",
     "output_type": "stream",
     "text": [
      "Person\n",
      "[name, component1, copy, equals, hashCode, toString]\n",
      "true\n"
     ]
    }
   ],
   "source": [
    "data class Person(val name: String)        // 데이터 클래스 정의 \n",
    "\n",
    "val person1 = Person(\"John\")               // 데이터 클래스로 객체 만들기 \n",
    "println(person1.dir())                     // 데이터 클래스 내부 멤버확인하기 \n",
    "\n",
    "val person2 = Person(\"John\")\n",
    "println(person1 == person2)           "
   ]
  },
  {
   "cell_type": "markdown",
   "id": "ccb95467",
   "metadata": {},
   "source": [
    "## 4-2-2 데이터 클래스  비교하기"
   ]
  },
  {
   "cell_type": "code",
   "execution_count": 15,
   "id": "4614db26",
   "metadata": {},
   "outputs": [
    {
     "name": "stdout",
     "output_type": "stream",
     "text": [
      "true\n",
      "false\n",
      "false\n",
      "false\n"
     ]
    }
   ],
   "source": [
    "data class User(val name: String,          //모든 속성을 주생성자에 정의 \n",
    "                var age: Int)\n",
    "\n",
    "val u1 = User(\"John\",33)                   //동일한 이름일 경우 \n",
    "val u2 = User(\"John\",33)\n",
    "\n",
    "println(u1 == u2)                          //값으로 비교하면 동일 \n",
    "println(u1 === u2)                         //레퍼런스로 비교하면 다름 \n",
    "\n",
    "val u3 = User(name = \"Jack\", age = 1)    \n",
    "val u4 = u3.copy(age = 2)                  //복사하면 다른 객체 \n",
    "\n",
    "println(u3 == u4)                          //값과 레퍼런스 다 다름 \n",
    "println(u3 === u4)"
   ]
  },
  {
   "cell_type": "markdown",
   "id": "684d1b56",
   "metadata": {},
   "source": [
    "## 4-2-3 상속하면 슈퍼클래스의 속성을 처리하지 못함 "
   ]
  },
  {
   "cell_type": "code",
   "execution_count": 16,
   "id": "1114e4ca",
   "metadata": {},
   "outputs": [
    {
     "name": "stdout",
     "output_type": "stream",
     "text": [
      "tom 20 0\n",
      "tom 20 1\n",
      "a == b: true}\n",
      "a.hashCode(): 115646\n",
      "b.hashCode(): 115646\n",
      "tom 20 0\n",
      "tom 20 1\n",
      "d == e: false\n"
     ]
    }
   ],
   "source": [
    "open class Person(var gender: Int = 0) \n",
    "data class Student(val age: Int, val name: String) : Person(0) \n",
    "\n",
    "val a = Student(20, \"tom\") \n",
    "val b = Student(20, \"tom\")\n",
    "b.gender = 1\n",
    "\n",
    "println(\"${a.name} ${a.age} ${a.gender}\")\n",
    "println(\"${b.name} ${b.age} ${b.gender}\")\n",
    "\n",
    "println(\"a == b: ${a == b}}\")\n",
    "println(\"a.hashCode(): ${a.hashCode()}\")\n",
    "println(\"b.hashCode(): ${b.hashCode()}\") \n",
    "\n",
    "\n",
    "// val c = Student(20,\"tom\").copy(gender=1)  // 복사할 때 상속한 속성을 인식하지 못함\n",
    "\n",
    "\n",
    "data class Student1(val age: Int, val name: String, var gender:Int=0)\n",
    "\n",
    "val d = Student1(20, \"tom\",0) \n",
    "val e = Student1(20, \"tom\", 0).copy(gender=1)\n",
    "\n",
    "println(\"${d.name} ${d.age} ${d.gender}\")\n",
    "println(\"${e.name} ${e.age} ${e.gender}\")\n",
    "println(\"d == e: ${d == e}\")"
   ]
  },
  {
   "cell_type": "code",
   "execution_count": null,
   "id": "f90b4daf",
   "metadata": {},
   "outputs": [],
   "source": []
  },
  {
   "cell_type": "markdown",
   "id": "2d45e51b",
   "metadata": {},
   "source": [
    "## 4-3 이넘클래스"
   ]
  },
  {
   "cell_type": "markdown",
   "id": "9f76d181",
   "metadata": {},
   "source": [
    "## 4-3-1 이넘클래스 정의 "
   ]
  },
  {
   "cell_type": "code",
   "execution_count": 17,
   "id": "0a5f77d7",
   "metadata": {},
   "outputs": [
    {
     "name": "stdout",
     "output_type": "stream",
     "text": [
      "0\n",
      "SILVER\n",
      "true\n"
     ]
    }
   ],
   "source": [
    "enum class CardType {\n",
    "    SILVER, GOLD, PLATINUM\n",
    "}\n",
    "\n",
    "\n",
    "println(CardType.SILVER.ordinal)            // 객체의 순서\n",
    "println(CardType.SILVER.name)               // 객체의 이름\n",
    "println(CardType.SILVER < CardType.GOLD)    // 객체간의 비교"
   ]
  },
  {
   "cell_type": "markdown",
   "id": "1c5a1b8e",
   "metadata": {},
   "source": [
    "## 4-3-2 이넘클래스 속성 추가"
   ]
  },
  {
   "cell_type": "code",
   "execution_count": 18,
   "id": "8c10dc56",
   "metadata": {},
   "outputs": [
    {
     "name": "stdout",
     "output_type": "stream",
     "text": [
      "gray\n",
      "true\n",
      "SILVER\n",
      "gray\n",
      "yellow\n",
      "black\n"
     ]
    }
   ],
   "source": [
    "enum class CardType(val color: String) {        // 클래스에 속성 추가  \n",
    "    SILVER(\"gray\"),                             // 객체마다 속성값 추가\n",
    "    GOLD(\"yellow\"),\n",
    "    PLATINUM(\"black\")\n",
    "}\n",
    "\n",
    "println(CardType.SILVER.color)                  // 이넘객체 내부에 속성 조회 \n",
    "println(CardType.SILVER < CardType.GOLD)\n",
    "\n",
    "println(CardType.valueOf(\"SILVER\"))             // 클래스의 메소드로 이넘 값 조회\n",
    "\n",
    "for (cardType in CardType.values()) {           // 이넘 클래스 내부의 객체값 출력\n",
    "    println(cardType.color)\n",
    "}"
   ]
  },
  {
   "cell_type": "markdown",
   "id": "2e90db1d",
   "metadata": {},
   "source": [
    "## 4-3-3 이넘클래스와 when 표현식 처리"
   ]
  },
  {
   "cell_type": "code",
   "execution_count": 19,
   "id": "1cc057c2",
   "metadata": {},
   "outputs": [
    {
     "name": "stdout",
     "output_type": "stream",
     "text": [
      "class Line_18$PaymentStatus\n",
      "PAID\n"
     ]
    }
   ],
   "source": [
    "enum class PaymentStatus(val value: Int) {            // 속성과 동반 객체를 가지는 이넘 클래스 정의\n",
    "    PAID(1),\n",
    "    UNPAID(2);\n",
    "\n",
    "    companion object {                                // 동반객체 작성 \n",
    "        fun create(x: Int): PaymentStatus {           // 동반객체 반환\n",
    "            return when (x) {\n",
    "                1 -> PAID\n",
    "                2 -> UNPAID\n",
    "                else -> throw IllegalStateException()\n",
    "            }\n",
    "        }\n",
    "    }\n",
    "}\n",
    "\n",
    "fun f(x: Int): String {                                // 함수 내에 when 표현식에 이넘처리\n",
    "    val foo = when (PaymentStatus.create(x)) {\n",
    "        PaymentStatus.PAID -> \"PAID\"\n",
    "        PaymentStatus.UNPAID -> \"UNPAID\"               // 이넘 객체가 명확히 2개만 있어서 else 불필요\n",
    "    }\n",
    "    return foo\n",
    "}\n",
    "\n",
    "println(PaymentStatus.create(2).javaClass.kotlin)      // 이넘 객체 생성 처리\n",
    "val ps = f(1)                                          // 이넘 객체의 값을 문자열로 반환\n",
    "println(ps)"
   ]
  },
  {
   "cell_type": "code",
   "execution_count": null,
   "id": "fcb5abd3",
   "metadata": {},
   "outputs": [],
   "source": []
  }
 ],
 "metadata": {
  "kernelspec": {
   "display_name": "Kotlin",
   "language": "kotlin",
   "name": "kotlin"
  },
  "language_info": {
   "codemirror_mode": "text/x-kotlin",
   "file_extension": ".kt",
   "mimetype": "text/x-kotlin",
   "name": "kotlin",
   "nbconvert_exporter": "",
   "pygments_lexer": "kotlin",
   "version": "1.8.0-dev-3517"
  }
 },
 "nbformat": 4,
 "nbformat_minor": 5
}
