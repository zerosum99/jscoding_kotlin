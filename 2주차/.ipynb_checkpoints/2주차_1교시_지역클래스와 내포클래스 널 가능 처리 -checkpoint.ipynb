{
 "cells": [
  {
   "cell_type": "code",
   "execution_count": 1,
   "id": "00688751",
   "metadata": {},
   "outputs": [
    {
     "data": {
      "text/plain": [
       "1.8.0"
      ]
     },
     "execution_count": 1,
     "metadata": {},
     "output_type": "execute_result"
    }
   ],
   "source": [
    "KotlinVersion.CURRENT             // 코틀린 현재 버전 "
   ]
  },
  {
   "cell_type": "code",
   "execution_count": null,
   "id": "8413e102",
   "metadata": {},
   "outputs": [],
   "source": []
  },
  {
   "cell_type": "markdown",
   "id": "f71db496",
   "metadata": {},
   "source": [
    "# 1. 내포 클래스와 지역 클래스 "
   ]
  },
  {
   "cell_type": "markdown",
   "id": "ca75fdbb",
   "metadata": {},
   "source": [
    "## 1-1  지역 클래스\n",
    "\n",
    "- 함수 내부에 정의하는 클래스 \n",
    "- 함수 내의 클래스에는 특별한 가시성을 작성하지 않는다.\n",
    "- 지역영역이라서 실제 함수가 종료되면 지역클래스도 처리가 종료되도록 처리한다\n"
   ]
  },
  {
   "cell_type": "markdown",
   "id": "6fad6fa3",
   "metadata": {},
   "source": [
    "## 1-1-1  지역클래스 정의 "
   ]
  },
  {
   "cell_type": "code",
   "execution_count": 2,
   "id": "136e4f4c",
   "metadata": {},
   "outputs": [],
   "source": [
    "fun localClass(x : Int, y : Int)  {\n",
    "    class Operator(val x : Int, val y:Int) {\n",
    "        fun add() = this.x + this.y\n",
    "        fun mul() = this.x * this.y\n",
    "        fun div() = x/y\n",
    "        fun sub() = x -y\n",
    "        \n",
    "    }\n",
    "    \n",
    "    val op = Operator(x,y) \n",
    "    println(\" add \" + op.add())\n",
    "    println(\" mul \" + op.mul())\n",
    "    println(\" div \" + op.div())\n",
    "    println(\" sub \" + op.sub())\n",
    "    \n",
    "}"
   ]
  },
  {
   "cell_type": "code",
   "execution_count": 3,
   "id": "11e17a8b",
   "metadata": {},
   "outputs": [
    {
     "name": "stdout",
     "output_type": "stream",
     "text": [
      " add 180\n",
      " mul 8000\n",
      " div 1\n",
      " sub 20\n"
     ]
    }
   ],
   "source": [
    "localClass(100,80)"
   ]
  },
  {
   "cell_type": "code",
   "execution_count": null,
   "id": "7fe35d87",
   "metadata": {},
   "outputs": [],
   "source": []
  },
  {
   "cell_type": "markdown",
   "id": "be52b31d",
   "metadata": {},
   "source": [
    "## 1-1-2 지역클래스의 상속 처리 "
   ]
  },
  {
   "cell_type": "code",
   "execution_count": null,
   "id": "1d8e9862",
   "metadata": {},
   "outputs": [],
   "source": []
  },
  {
   "cell_type": "code",
   "execution_count": null,
   "id": "f5c0ee72",
   "metadata": {},
   "outputs": [],
   "source": []
  },
  {
   "cell_type": "code",
   "execution_count": null,
   "id": "deb146e2",
   "metadata": {},
   "outputs": [],
   "source": []
  },
  {
   "cell_type": "code",
   "execution_count": null,
   "id": "48ebf1c5",
   "metadata": {},
   "outputs": [],
   "source": []
  },
  {
   "cell_type": "markdown",
   "id": "5309bb6d",
   "metadata": {},
   "source": [
    "## 1-2 내포 클래스"
   ]
  },
  {
   "cell_type": "markdown",
   "id": "ced577e1",
   "metadata": {},
   "source": [
    "## 1-2-1 내포클래스 정의 "
   ]
  },
  {
   "cell_type": "code",
   "execution_count": 6,
   "id": "2ed07347",
   "metadata": {},
   "outputs": [],
   "source": [
    "class OuterKlass(val name : String) {\n",
    "    fun show() = name\n",
    "    class NestedKlass(val name : String) {\n",
    "         fun show() = name   \n",
    "    }\n",
    "}"
   ]
  },
  {
   "cell_type": "code",
   "execution_count": 8,
   "id": "83516c7e",
   "metadata": {},
   "outputs": [
    {
     "name": "stdout",
     "output_type": "stream",
     "text": [
      "아우터\n"
     ]
    }
   ],
   "source": [
    "val ok = OuterKlass(\"아우터\")\n",
    "\n",
    "println(ok.show())"
   ]
  },
  {
   "cell_type": "code",
   "execution_count": 10,
   "id": "9b708deb",
   "metadata": {},
   "outputs": [
    {
     "name": "stdout",
     "output_type": "stream",
     "text": [
      "내포클래스\n"
     ]
    }
   ],
   "source": [
    "val nk = OuterKlass.NestedKlass(\"내포클래스\")\n",
    "\n",
    "println(nk.show())"
   ]
  },
  {
   "cell_type": "code",
   "execution_count": null,
   "id": "99fcfd3f",
   "metadata": {},
   "outputs": [],
   "source": []
  },
  {
   "cell_type": "code",
   "execution_count": null,
   "id": "423c25af",
   "metadata": {},
   "outputs": [],
   "source": []
  },
  {
   "cell_type": "markdown",
   "id": "67e93fbe",
   "metadata": {},
   "source": [
    "## 2-3 이너 클래스 "
   ]
  },
  {
   "cell_type": "markdown",
   "id": "eaaf8e74",
   "metadata": {},
   "source": [
    "## 2-3-1 이너 클래스 정의 "
   ]
  },
  {
   "cell_type": "code",
   "execution_count": 21,
   "id": "8f2a35e8",
   "metadata": {},
   "outputs": [],
   "source": [
    "class OuterKlass1(private val name : String, private var age : Int) {\n",
    "    \n",
    "    fun show() = name\n",
    "    inner class InnerKlass() {\n",
    "         fun show() = this@OuterKlass1.name + \" ${this@OuterKlass1.age}\"   \n",
    "    }\n",
    "}"
   ]
  },
  {
   "cell_type": "code",
   "execution_count": 24,
   "id": "4109ea40",
   "metadata": {},
   "outputs": [
    {
     "name": "stdout",
     "output_type": "stream",
     "text": [
      "아웃터 클래스 33\n"
     ]
    }
   ],
   "source": [
    "val ok1 = OuterKlass1(\"아웃터 클래스\", 33)\n",
    "val ink = ok1.InnerKlass()\n",
    "println(ink.show())"
   ]
  },
  {
   "cell_type": "code",
   "execution_count": null,
   "id": "20ec3454",
   "metadata": {},
   "outputs": [],
   "source": []
  },
  {
   "cell_type": "code",
   "execution_count": null,
   "id": "8f266d2f",
   "metadata": {},
   "outputs": [],
   "source": []
  },
  {
   "cell_type": "code",
   "execution_count": null,
   "id": "15624c4d",
   "metadata": {},
   "outputs": [],
   "source": []
  },
  {
   "cell_type": "code",
   "execution_count": null,
   "id": "26b68a4b",
   "metadata": {},
   "outputs": [],
   "source": []
  },
  {
   "cell_type": "code",
   "execution_count": null,
   "id": "e0572356",
   "metadata": {},
   "outputs": [],
   "source": []
  },
  {
   "cell_type": "code",
   "execution_count": null,
   "id": "5de368a2",
   "metadata": {},
   "outputs": [],
   "source": []
  },
  {
   "cell_type": "code",
   "execution_count": null,
   "id": "4df13526",
   "metadata": {},
   "outputs": [],
   "source": []
  },
  {
   "cell_type": "code",
   "execution_count": null,
   "id": "f47d4959",
   "metadata": {},
   "outputs": [],
   "source": []
  },
  {
   "cell_type": "code",
   "execution_count": null,
   "id": "81c1396e",
   "metadata": {},
   "outputs": [],
   "source": []
  },
  {
   "cell_type": "code",
   "execution_count": null,
   "id": "74af6275",
   "metadata": {},
   "outputs": [],
   "source": []
  },
  {
   "cell_type": "code",
   "execution_count": null,
   "id": "2c6d6810",
   "metadata": {},
   "outputs": [],
   "source": []
  },
  {
   "cell_type": "code",
   "execution_count": null,
   "id": "70418fd1",
   "metadata": {},
   "outputs": [],
   "source": []
  }
 ],
 "metadata": {
  "kernelspec": {
   "display_name": "Kotlin",
   "language": "kotlin",
   "name": "kotlin"
  },
  "language_info": {
   "codemirror_mode": "text/x-kotlin",
   "file_extension": ".kt",
   "mimetype": "text/x-kotlin",
   "name": "kotlin",
   "nbconvert_exporter": "",
   "pygments_lexer": "kotlin",
   "version": "1.8.0-dev-3517"
  }
 },
 "nbformat": 4,
 "nbformat_minor": 5
}
