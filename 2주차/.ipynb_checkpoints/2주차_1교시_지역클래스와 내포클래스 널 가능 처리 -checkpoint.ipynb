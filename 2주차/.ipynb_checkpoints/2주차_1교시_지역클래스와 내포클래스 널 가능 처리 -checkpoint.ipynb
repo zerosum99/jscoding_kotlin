{
 "cells": [
  {
   "cell_type": "code",
   "execution_count": null,
   "id": "8413e102",
   "metadata": {},
   "outputs": [],
   "source": []
  },
  {
   "cell_type": "code",
   "execution_count": 1,
   "id": "00688751",
   "metadata": {},
   "outputs": [
    {
     "data": {
      "text/plain": [
       "1.8.0"
      ]
     },
     "execution_count": 1,
     "metadata": {},
     "output_type": "execute_result"
    }
   ],
   "source": [
    "KotlinVersion.CURRENT             // 코틀린 현재 버전 "
   ]
  },
  {
   "cell_type": "code",
   "execution_count": null,
   "id": "85137d09",
   "metadata": {},
   "outputs": [],
   "source": []
  },
  {
   "cell_type": "markdown",
   "id": "f71db496",
   "metadata": {},
   "source": [
    "# 1. 내포 클래스와 지역 클래스 \n",
    "\n",
    "- 패키지 단위의 클래스 외에 클래스와 함수 내에도 클래스를 지정할 수 있다.\n"
   ]
  },
  {
   "cell_type": "markdown",
   "id": "ca75fdbb",
   "metadata": {},
   "source": [
    "## 1-1  지역 클래스\n",
    "\n",
    "- 함수 내부에 정의하는 클래스 \n",
    "- 함수 내의 클래스에는 특별한 가시성을 작성하지 않는다.\n",
    "- 지역영역이라서 실제 함수가 종료되면 지역클래스도 처리가 종료되도록 처리한다\n"
   ]
  },
  {
   "cell_type": "markdown",
   "id": "6fad6fa3",
   "metadata": {},
   "source": [
    "## 1-1-1  지역클래스 정의 \n",
    "\n",
    "- 함수 내부에 정의한 클래스는 공개하지 않는다."
   ]
  },
  {
   "cell_type": "code",
   "execution_count": 2,
   "id": "136e4f4c",
   "metadata": {},
   "outputs": [],
   "source": [
    "fun localClass(x : Int, y : Int)  {\n",
    "    class Operator(val x : Int, val y:Int) {   // 함수내부에 클래스 정의하기\n",
    "        fun add() = this.x + this.y\n",
    "        fun mul() = this.x * this.y\n",
    "        fun div() = x/y\n",
    "        fun sub() = x -y\n",
    "        \n",
    "    }\n",
    "    \n",
    "    val op = Operator(x,y) \n",
    "    println(\" add \" + op.add())\n",
    "    println(\" mul \" + op.mul())\n",
    "    println(\" div \" + op.div())\n",
    "    println(\" sub \" + op.sub())\n",
    "    \n",
    "}"
   ]
  },
  {
   "cell_type": "code",
   "execution_count": 3,
   "id": "11e17a8b",
   "metadata": {},
   "outputs": [
    {
     "name": "stdout",
     "output_type": "stream",
     "text": [
      " add 180\n",
      " mul 8000\n",
      " div 1\n",
      " sub 20\n"
     ]
    }
   ],
   "source": [
    "localClass(100,80)"
   ]
  },
  {
   "cell_type": "code",
   "execution_count": null,
   "id": "7fe35d87",
   "metadata": {},
   "outputs": [],
   "source": []
  },
  {
   "cell_type": "markdown",
   "id": "be52b31d",
   "metadata": {},
   "source": [
    "## 1-1-2 지역클래스의 상속 처리 \n",
    "\n",
    "- 지역 클래스도 상속관계를 작성해서 처리할 수 있다."
   ]
  },
  {
   "cell_type": "code",
   "execution_count": 4,
   "id": "1d8e9862",
   "metadata": {},
   "outputs": [],
   "source": [
    "fun localKlass () {\n",
    "    open class Super(val name : String)\n",
    "    class Sub(name:String) : Super(name)\n",
    "    \n",
    "    val ss = Sub(\"지역클래스\")\n",
    "    \n",
    "    println(ss.name)\n",
    "    \n",
    "}"
   ]
  },
  {
   "cell_type": "code",
   "execution_count": 5,
   "id": "f5c0ee72",
   "metadata": {},
   "outputs": [
    {
     "name": "stdout",
     "output_type": "stream",
     "text": [
      "지역클래스\n"
     ]
    }
   ],
   "source": [
    "localKlass()"
   ]
  },
  {
   "cell_type": "markdown",
   "id": "9874c1f7",
   "metadata": {},
   "source": [
    "### 함수 내에 object 정의는 사용하지 않는다."
   ]
  },
  {
   "cell_type": "code",
   "execution_count": 6,
   "id": "48ebf1c5",
   "metadata": {},
   "outputs": [
    {
     "name": "stderr",
     "output_type": "stream",
     "text": [
      "Line_5.jupyter-kts (2:5 - 13) Named object 'A' is a singleton and cannot be local. Try to use anonymous object instead"
     ]
    }
   ],
   "source": [
    "fun objfunc() {\n",
    "    object A\n",
    "    \n",
    "}"
   ]
  },
  {
   "cell_type": "code",
   "execution_count": null,
   "id": "2483d26d",
   "metadata": {},
   "outputs": [],
   "source": []
  },
  {
   "cell_type": "markdown",
   "id": "5309bb6d",
   "metadata": {},
   "source": [
    "## 1-2 내포 클래스\n",
    "\n",
    "- 클래스 내부에도 클래스를 정의해서 사용할 수 있다. "
   ]
  },
  {
   "cell_type": "markdown",
   "id": "ced577e1",
   "metadata": {},
   "source": [
    "## 1-2-1 내포클래스 정의 \n",
    "\n",
    "- 클래스 내부에 별도의 지정자 없이 지정된 클래스\n",
    "- 실제 클래스 내부에 클래스가 정의되었지만 실제 외부에 정의된 클래스와 관련없다."
   ]
  },
  {
   "cell_type": "code",
   "execution_count": 7,
   "id": "2ed07347",
   "metadata": {},
   "outputs": [],
   "source": [
    "class OuterKlass(val name : String) {\n",
    "    fun show() = name\n",
    "    class NestedKlass(val name : String) {\n",
    "         fun show() = name   \n",
    "    }\n",
    "}"
   ]
  },
  {
   "cell_type": "code",
   "execution_count": 8,
   "id": "83516c7e",
   "metadata": {},
   "outputs": [
    {
     "name": "stdout",
     "output_type": "stream",
     "text": [
      "아우터\n"
     ]
    }
   ],
   "source": [
    "val ok = OuterKlass(\"아우터\")\n",
    "\n",
    "println(ok.show())"
   ]
  },
  {
   "cell_type": "code",
   "execution_count": 9,
   "id": "9b708deb",
   "metadata": {},
   "outputs": [
    {
     "name": "stdout",
     "output_type": "stream",
     "text": [
      "내포클래스\n"
     ]
    }
   ],
   "source": [
    "val nk = OuterKlass.NestedKlass(\"내포클래스\")\n",
    "\n",
    "println(nk.show())"
   ]
  },
  {
   "cell_type": "code",
   "execution_count": null,
   "id": "99fcfd3f",
   "metadata": {},
   "outputs": [],
   "source": []
  },
  {
   "cell_type": "code",
   "execution_count": null,
   "id": "423c25af",
   "metadata": {},
   "outputs": [],
   "source": []
  },
  {
   "cell_type": "markdown",
   "id": "67e93fbe",
   "metadata": {},
   "source": [
    "## 1-3 이너 클래스 \n",
    "\n",
    "- 클래스 내부에 이너 클래스 정의\n",
    "- 이 클래스는 항상 객체로 접근해서 클래스의 객체를 만들어서 사용한다.\n",
    "- 이너 클래스의 객체에서 외부 클래스의 비공개 속성을 this 디스패치로 접근이 가능하다.\n",
    "     -> this@외부클래스이름\n"
   ]
  },
  {
   "cell_type": "markdown",
   "id": "eaaf8e74",
   "metadata": {},
   "source": [
    "## 1-3-1 이너 클래스 정의 "
   ]
  },
  {
   "cell_type": "code",
   "execution_count": 10,
   "id": "8f2a35e8",
   "metadata": {},
   "outputs": [],
   "source": [
    "class OuterKlass1(private val name : String, private var age : Int) {\n",
    "    \n",
    "    fun show() = name\n",
    "    inner class InnerKlass() {\n",
    "         fun show() = this@OuterKlass1.name + \" ${this@OuterKlass1.age}\"   \n",
    "    }\n",
    "}"
   ]
  },
  {
   "cell_type": "code",
   "execution_count": 11,
   "id": "4109ea40",
   "metadata": {},
   "outputs": [
    {
     "name": "stdout",
     "output_type": "stream",
     "text": [
      "아웃터 클래스 33\n"
     ]
    }
   ],
   "source": [
    "val ok1 = OuterKlass1(\"아웃터 클래스\", 33)\n",
    "val ink = ok1.InnerKlass()\n",
    "println(ink.show())"
   ]
  },
  {
   "cell_type": "code",
   "execution_count": null,
   "id": "20ec3454",
   "metadata": {},
   "outputs": [],
   "source": []
  },
  {
   "cell_type": "code",
   "execution_count": null,
   "id": "8f266d2f",
   "metadata": {},
   "outputs": [],
   "source": []
  },
  {
   "cell_type": "code",
   "execution_count": null,
   "id": "15624c4d",
   "metadata": {},
   "outputs": [],
   "source": []
  },
  {
   "cell_type": "markdown",
   "id": "e708a478",
   "metadata": {},
   "source": [
    "## 1-4. 널러블 클래스 처리\n",
    "\n",
    "- 모든 클래스는 널이 가능한 클래스로 변환 가능\n",
    "- 클래스 이름 다음에 물음표를 붙여서 처리 "
   ]
  },
  {
   "cell_type": "markdown",
   "id": "491685a2",
   "metadata": {},
   "source": [
    "## 1-4-1 널러블 자료형 처리 "
   ]
  },
  {
   "cell_type": "markdown",
   "id": "31fd5517",
   "metadata": {},
   "source": [
    "### 문자열을 널이 가능한 자료형으로 변환 "
   ]
  },
  {
   "cell_type": "code",
   "execution_count": 12,
   "id": "e0572356",
   "metadata": {},
   "outputs": [
    {
     "name": "stdout",
     "output_type": "stream",
     "text": [
      " 널러블 자료형 \n"
     ]
    }
   ],
   "source": [
    "var nullable: String? = null\n",
    "if (nullable == null) {\n",
    "    println(\" 널러블 자료형 \")\n",
    "}"
   ]
  },
  {
   "cell_type": "markdown",
   "id": "67255f53",
   "metadata": {},
   "source": [
    "### 스마트 타입 캐스팅 처리하기"
   ]
  },
  {
   "cell_type": "code",
   "execution_count": 13,
   "id": "f47d4959",
   "metadata": {},
   "outputs": [
    {
     "name": "stdout",
     "output_type": "stream",
     "text": [
      "문자열\n"
     ]
    }
   ],
   "source": [
    "var nullable1 : String? = \"문자열\"\n",
    "if (nullable1 is String) {         // 타입을 is 로 처리하면 그 다음 내부 로직에 타입 변환없이 처리\n",
    "    println(nullable1)              // 타입 변환없이 처리\n",
    "}"
   ]
  },
  {
   "cell_type": "code",
   "execution_count": null,
   "id": "81c1396e",
   "metadata": {},
   "outputs": [],
   "source": []
  },
  {
   "cell_type": "markdown",
   "id": "1a07ae34",
   "metadata": {},
   "source": [
    "## 1-4-2 함수 자료형에 널러블 처리 하기 \n",
    "\n",
    "- 함수 자료형에 널러블 표시는 전체를 괄호로 묶고 그 다음에 물음표 표시"
   ]
  },
  {
   "cell_type": "code",
   "execution_count": 14,
   "id": "70418fd1",
   "metadata": {},
   "outputs": [
    {
     "name": "stdout",
     "output_type": "stream",
     "text": [
      " 함수 자료형을 널러블로 처리 \n"
     ]
    }
   ],
   "source": [
    "val add : ((Int,Int)-> Int)? = null \n",
    "\n",
    "if (add == null) {\n",
    "    println(\" 함수 자료형을 널러블로 처리 \")\n",
    "}"
   ]
  },
  {
   "cell_type": "code",
   "execution_count": null,
   "id": "b53d3768",
   "metadata": {},
   "outputs": [],
   "source": []
  }
 ],
 "metadata": {
  "kernelspec": {
   "display_name": "Kotlin",
   "language": "kotlin",
   "name": "kotlin"
  },
  "language_info": {
   "codemirror_mode": "text/x-kotlin",
   "file_extension": ".kt",
   "mimetype": "text/x-kotlin",
   "name": "kotlin",
   "nbconvert_exporter": "",
   "pygments_lexer": "kotlin",
   "version": "1.8.0-dev-3517"
  }
 },
 "nbformat": 4,
 "nbformat_minor": 5
}
