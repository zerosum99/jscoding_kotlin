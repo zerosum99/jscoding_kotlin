{
 "cells": [
  {
   "cell_type": "markdown",
   "id": "da101a4b",
   "metadata": {},
   "source": [
    "# 클래스 확장 기능 알아보기\n",
    "\n",
    "7장, 9장\n",
    "\n",
    "클래스 관계, 메서드 재정의 , 추상 클래스, 인터페이스"
   ]
  },
  {
   "cell_type": "code",
   "execution_count": null,
   "id": "ad8aba59",
   "metadata": {},
   "outputs": [],
   "source": []
  },
  {
   "cell_type": "code",
   "execution_count": 1,
   "id": "42abd5cd",
   "metadata": {},
   "outputs": [
    {
     "data": {
      "text/plain": [
       "1.8.0"
      ]
     },
     "execution_count": 1,
     "metadata": {},
     "output_type": "execute_result"
    }
   ],
   "source": [
    "KotlinVersion.CURRENT             // 코틀린 현재 버전 "
   ]
  },
  {
   "cell_type": "markdown",
   "id": "7da7dea5",
   "metadata": {},
   "source": [
    "# 1. 상속관계"
   ]
  },
  {
   "cell_type": "markdown",
   "id": "8ee9c38f",
   "metadata": {},
   "source": [
    "## 1-1  클래스 상속 "
   ]
  },
  {
   "cell_type": "markdown",
   "id": "167bb327",
   "metadata": {},
   "source": [
    "## 1-1-1  상속 기본 알아보기"
   ]
  },
  {
   "cell_type": "code",
   "execution_count": 4,
   "id": "4bc559b5",
   "metadata": {},
   "outputs": [],
   "source": [
    "open class People(val name:String, var age : Int) {\n",
    "    override fun toString(): String = \" ${name} $age\"\n",
    "}"
   ]
  },
  {
   "cell_type": "code",
   "execution_count": null,
   "id": "0b0e34e4",
   "metadata": {},
   "outputs": [],
   "source": []
  },
  {
   "cell_type": "code",
   "execution_count": 5,
   "id": "6e0e0f04",
   "metadata": {},
   "outputs": [],
   "source": [
    "class Student(name:String, age: Int) : People(name,age)"
   ]
  },
  {
   "cell_type": "code",
   "execution_count": null,
   "id": "46e997c7",
   "metadata": {},
   "outputs": [],
   "source": []
  },
  {
   "cell_type": "code",
   "execution_count": 6,
   "id": "7824320f",
   "metadata": {},
   "outputs": [],
   "source": [
    "val s = Student(\"상속관계\", 22)"
   ]
  },
  {
   "cell_type": "code",
   "execution_count": 7,
   "id": "5d4cb7d1",
   "metadata": {},
   "outputs": [
    {
     "data": {
      "text/plain": [
       " 상속관계 22"
      ]
     },
     "execution_count": 7,
     "metadata": {},
     "output_type": "execute_result"
    }
   ],
   "source": [
    "s.toString()"
   ]
  },
  {
   "cell_type": "code",
   "execution_count": null,
   "id": "0bd3d36a",
   "metadata": {},
   "outputs": [],
   "source": []
  },
  {
   "cell_type": "markdown",
   "id": "ab9886dd",
   "metadata": {},
   "source": [
    "## 1-2 슈퍼클래스 위임호출 처리 "
   ]
  },
  {
   "cell_type": "code",
   "execution_count": null,
   "id": "ec3c2b36",
   "metadata": {},
   "outputs": [],
   "source": []
  },
  {
   "cell_type": "code",
   "execution_count": null,
   "id": "ce3c9a84",
   "metadata": {},
   "outputs": [],
   "source": []
  },
  {
   "cell_type": "code",
   "execution_count": null,
   "id": "4cfb7814",
   "metadata": {},
   "outputs": [],
   "source": []
  },
  {
   "cell_type": "code",
   "execution_count": null,
   "id": "5a9ce699",
   "metadata": {},
   "outputs": [],
   "source": []
  },
  {
   "cell_type": "code",
   "execution_count": null,
   "id": "09d7371b",
   "metadata": {},
   "outputs": [],
   "source": []
  },
  {
   "cell_type": "code",
   "execution_count": null,
   "id": "cad42b10",
   "metadata": {},
   "outputs": [],
   "source": []
  }
 ],
 "metadata": {
  "kernelspec": {
   "display_name": "Kotlin",
   "language": "kotlin",
   "name": "kotlin"
  },
  "language_info": {
   "codemirror_mode": "text/x-kotlin",
   "file_extension": ".kt",
   "mimetype": "text/x-kotlin",
   "name": "kotlin",
   "nbconvert_exporter": "",
   "pygments_lexer": "kotlin",
   "version": "1.8.0-dev-3517"
  }
 },
 "nbformat": 4,
 "nbformat_minor": 5
}
