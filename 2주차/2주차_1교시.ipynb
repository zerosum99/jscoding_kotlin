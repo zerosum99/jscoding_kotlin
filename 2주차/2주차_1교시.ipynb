{
 "cells": [
  {
   "cell_type": "markdown",
   "id": "da101a4b",
   "metadata": {},
   "source": [
    "# 클래스 확장 기능 알아보기\n",
    "\n",
    "7장, 9장\n",
    "\n",
    "클래스 관계, 메서드 재정의 , 추상 클래스, 인터페이스"
   ]
  },
  {
   "cell_type": "code",
   "execution_count": null,
   "id": "ad8aba59",
   "metadata": {},
   "outputs": [],
   "source": []
  },
  {
   "cell_type": "code",
   "execution_count": 1,
   "id": "42abd5cd",
   "metadata": {},
   "outputs": [
    {
     "data": {
      "text/plain": [
       "1.8.0"
      ]
     },
     "execution_count": 1,
     "metadata": {},
     "output_type": "execute_result"
    }
   ],
   "source": [
    "KotlinVersion.CURRENT             // 코틀린 현재 버전 "
   ]
  },
  {
   "cell_type": "code",
   "execution_count": null,
   "id": "35c3860b",
   "metadata": {},
   "outputs": [],
   "source": []
  }
 ],
 "metadata": {
  "kernelspec": {
   "display_name": "Kotlin",
   "language": "kotlin",
   "name": "kotlin"
  },
  "language_info": {
   "codemirror_mode": "text/x-kotlin",
   "file_extension": ".kt",
   "mimetype": "text/x-kotlin",
   "name": "kotlin",
   "nbconvert_exporter": "",
   "pygments_lexer": "kotlin",
   "version": "1.8.0-dev-3517"
  }
 },
 "nbformat": 4,
 "nbformat_minor": 5
}
