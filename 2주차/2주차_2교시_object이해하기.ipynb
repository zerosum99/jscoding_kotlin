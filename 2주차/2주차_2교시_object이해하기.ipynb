{
 "cells": [
  {
   "cell_type": "code",
   "execution_count": 1,
   "id": "00688751",
   "metadata": {},
   "outputs": [
    {
     "data": {
      "text/plain": [
       "1.8.0"
      ]
     },
     "execution_count": 1,
     "metadata": {},
     "output_type": "execute_result"
    }
   ],
   "source": [
    "KotlinVersion.CURRENT             // 코틀린 현재 버전 "
   ]
  },
  {
   "cell_type": "code",
   "execution_count": null,
   "id": "8413e102",
   "metadata": {},
   "outputs": [],
   "source": []
  },
  {
   "cell_type": "code",
   "execution_count": null,
   "id": "26b68a4b",
   "metadata": {},
   "outputs": [],
   "source": []
  },
  {
   "cell_type": "markdown",
   "id": "b1c95963",
   "metadata": {},
   "source": [
    "# 2.  object\n",
    "\n",
    "- 하나의 객체를 만들어서 사용하는 방식\n",
    "- object 표현식은 익명클래스 즉 하나의 객체를 만듬\n",
    "- object 정의는 클래스 정의와 하나의 객체 생성을 같이 하는 패턴 : 싱글턴 패턴 \n",
    "- 동반객체는 클래스의 정적 영역을 처리할 목적으로 만든 객체"
   ]
  },
  {
   "cell_type": "markdown",
   "id": "57ebda3b",
   "metadata": {},
   "source": [
    "## 2.1  object 표현식 : 익명클래스\n",
    "\n",
    "- 익명클래스 처리\n",
    "- 하나의 객체를 생성하는 방식 "
   ]
  },
  {
   "cell_type": "markdown",
   "id": "9ea8dcd1",
   "metadata": {},
   "source": [
    "## 2-1-1 익명 클래스로 객체를 생성하기 "
   ]
  },
  {
   "cell_type": "markdown",
   "id": "2b7872a8",
   "metadata": {},
   "source": [
    "### 객체를 생성해서 변수에 정의하기"
   ]
  },
  {
   "cell_type": "code",
   "execution_count": 1,
   "id": "bc8325c0",
   "metadata": {},
   "outputs": [],
   "source": [
    "val a = object :Any() { \n",
    "    val hello = \"Hello\"    // 속성으로 참조 불가 \n",
    "    val world = \"World\"\n",
    "    // 문자열 출력\n",
    "    override fun toString() = \"$hello $world\"   //  속성을 참조해서 바로 처리\n",
    "}"
   ]
  },
  {
   "cell_type": "code",
   "execution_count": 2,
   "id": "c17c7dd6",
   "metadata": {},
   "outputs": [
    {
     "data": {
      "text/plain": [
       "Hello World"
      ]
     },
     "execution_count": 2,
     "metadata": {},
     "output_type": "execute_result"
    }
   ],
   "source": [
    "a.javaClass\n",
    "a.toString()"
   ]
  },
  {
   "cell_type": "code",
   "execution_count": 3,
   "id": "3beb8e06",
   "metadata": {},
   "outputs": [
    {
     "name": "stderr",
     "output_type": "stream",
     "text": [
      "Line_132.jupyter-kts (1:3 - 8) Unresolved reference: hello"
     ]
    }
   ],
   "source": [
    "a.hello"
   ]
  },
  {
   "cell_type": "markdown",
   "id": "ea08fce7",
   "metadata": {},
   "source": [
    "###  세부 속성을 사용하려면  속성을 가진 다른 클래스를 상속해서 처리가 필요"
   ]
  },
  {
   "cell_type": "code",
   "execution_count": 4,
   "id": "b6b79b5a",
   "metadata": {},
   "outputs": [
    {
     "name": "stdout",
     "output_type": "stream",
     "text": [
      "100 200\n",
      "속성값 참조 : 100, 200\n"
     ]
    }
   ],
   "source": [
    "open class Point(val x : Int, val y : Int)\n",
    "\n",
    "val b = object :Point(100,200) {\n",
    "    // 문자열 출력\n",
    "    override fun toString() = \"$x $y\"   \n",
    "}\n",
    "\n",
    "println(b.toString())\n",
    "println(\"속성값 참조 : \" + b.x + \", \" + b.y)"
   ]
  },
  {
   "cell_type": "code",
   "execution_count": null,
   "id": "42aa2ee2",
   "metadata": {},
   "outputs": [],
   "source": []
  },
  {
   "cell_type": "markdown",
   "id": "1a3e67f8",
   "metadata": {},
   "source": [
    "## 2-1-2 익명객체로 매개변수와 반환값처리하기\n",
    "\n",
    "- object 표현식은 함수의 매개변수 전달 등을 위해 사용 \n",
    "- 함수가 반환값을 사용하려면 object 표현식에 타입을 지정해야 하므로 interface를 구현처리 "
   ]
  },
  {
   "cell_type": "markdown",
   "id": "aa2e0ed6",
   "metadata": {},
   "source": [
    "### 매개변수의 인자로 전달 "
   ]
  },
  {
   "cell_type": "code",
   "execution_count": 5,
   "id": "8205825d",
   "metadata": {},
   "outputs": [
    {
     "name": "stdout",
     "output_type": "stream",
     "text": [
      "객체 반환 이름= 달문 나이 =55\n"
     ]
    }
   ],
   "source": [
    "interface Personnel {                           // 자료형으로 사용할 인터페이스 정의 \n",
    "    val name : String\n",
    "    val age  : Int\n",
    "}\n",
    "\n",
    "fun getObject(p:Personnel) : Personnel {         // 함수 매개변수와 반환값을 인터페이스로 자료형 지정\n",
    "    return p\n",
    "}\n",
    "\n",
    "val p = getObject(object : Personnel {           // 인자로 object 표현식으로 생성된 객체 전달\n",
    "     override val name = \"달문\"                   // 인터페이스내의 추상속성을 구현\n",
    "     override val age =55 \n",
    "    }\n",
    ")\n",
    "\n",
    "println(\"객체 반환 이름= ${p.name} 나이 =${p.age}\" )  // 전달 받은 객체의 속성을 출력"
   ]
  },
  {
   "cell_type": "markdown",
   "id": "ed92fa5a",
   "metadata": {},
   "source": [
    "### 함수의 반환값 처리 \n",
    "\n",
    "- 함수 단일표현식으로 사용해서 object 표현식을 정의할 때도 자료형을 명확히 지정해야 한다."
   ]
  },
  {
   "cell_type": "code",
   "execution_count": 6,
   "id": "d7acec60",
   "metadata": {},
   "outputs": [
    {
     "name": "stdout",
     "output_type": "stream",
     "text": [
      "내부 속성의 값\n"
     ]
    }
   ],
   "source": [
    "interface StrType                                   // 자료형으로 사용할 인터페이스 정의 \n",
    "\n",
    "class C {\n",
    "          \n",
    "    private fun getObject() = object : StrType {    // 객체 표현식으로 반환값\n",
    "        val x: String = \"내부 속성의 값\"\n",
    "    }\n",
    "\n",
    "    fun printX() {\n",
    "        println(getObject().x)                      // 객체표현식 내의 속성 값 출력\n",
    "    }\n",
    "}\n",
    "\n",
    "val cc = C()                                       // 객체를 만들어서 출력하면 익명객체의 속성을 출력\n",
    "cc.printX()\n"
   ]
  },
  {
   "cell_type": "markdown",
   "id": "5f94e429",
   "metadata": {},
   "source": [
    "## 2.2  object 정의 : 싱글턴 객체 생성하기 \n",
    "\n",
    "- 클래스와 하나의 객체를 만듬\n",
    "- "
   ]
  },
  {
   "cell_type": "markdown",
   "id": "5a181d09",
   "metadata": {},
   "source": [
    "## 2-2-1 객체 정의 \n",
    "\n",
    "- 클래스를 정의하고 하나의 객체만 만드는 싱글턴 패턴에 사용 "
   ]
  },
  {
   "cell_type": "code",
   "execution_count": 7,
   "id": "65995d70",
   "metadata": {},
   "outputs": [
    {
     "name": "stdout",
     "output_type": "stream",
     "text": [
      "1\n"
     ]
    }
   ],
   "source": [
    "object Counter {\n",
    "    private var count: Int = 0    // 비공개 속성 정의\n",
    "\n",
    "    fun currentCount() = count    // 비공개 속성 조회\n",
    "\n",
    "    fun increment() = ++count     // 비공개 속성 갱신\n",
    "}\n",
    "Counter.increment()\n",
    "println(Counter.currentCount())"
   ]
  },
  {
   "cell_type": "code",
   "execution_count": null,
   "id": "efebfb02",
   "metadata": {},
   "outputs": [],
   "source": []
  },
  {
   "cell_type": "markdown",
   "id": "a02ffad2",
   "metadata": {},
   "source": [
    "## 2-2-2  객체정의에서 클래스 상속\n",
    "\n",
    "- object정의도 클래스 정의와 object 정의가 하나여서 상속 등을 처리할 수 있다."
   ]
  },
  {
   "cell_type": "code",
   "execution_count": 8,
   "id": "a73a138f",
   "metadata": {},
   "outputs": [
    {
     "name": "stdout",
     "output_type": "stream",
     "text": [
      "300\n",
      "-100\n",
      "20000\n",
      "0\n"
     ]
    }
   ],
   "source": [
    "open class Value(open val x:Int, open val y:Int)  // 베이스 클래스 정의 open\n",
    "\n",
    "object Operation : Value(100,200) {               // 객체에서 베이스 클래스 상속\n",
    "    override val x = super.x                      // 속성을 오버라이딩 처리\n",
    "    override val y = super.y\n",
    "    \n",
    "    fun add() = x + y                             // 사칙연산 메소드 처리\n",
    "    fun sub() = x - y\n",
    "    fun mul() = x * y\n",
    "    fun div() = x / y\n",
    "}\n",
    "\n",
    "println(Operation.add())\n",
    "println(Operation.sub())\n",
    "println(Operation.mul())\n",
    "println(Operation.div())"
   ]
  },
  {
   "cell_type": "code",
   "execution_count": null,
   "id": "03ad642c",
   "metadata": {},
   "outputs": [],
   "source": []
  },
  {
   "cell_type": "markdown",
   "id": "37bcc989",
   "metadata": {},
   "source": [
    "## 2.3  동반 객체 처리 \n",
    "\n",
    "- 클래스 내부에서 클래스 이름과 동일하게 정의해서 사용\n",
    "- 동반객체는 클래스의 보호속성을 접근할 수 있다. "
   ]
  },
  {
   "cell_type": "markdown",
   "id": "8751a50a",
   "metadata": {},
   "source": [
    "## 2-3-1 동반객체 정의 \n",
    "\n",
    "- 클래스 내부에 object 정의 구현 -> 별개의 내포된 object 정의  \n",
    "- 클래스 내부에 동반객체 구현 -> 외부 클래스와 연동하는 정적영역으로 사용 "
   ]
  },
  {
   "cell_type": "markdown",
   "id": "2112709a",
   "metadata": {},
   "source": [
    "### 클래스 내부에 object 정의 "
   ]
  },
  {
   "cell_type": "code",
   "execution_count": 4,
   "id": "13e718d0",
   "metadata": {},
   "outputs": [],
   "source": [
    "class ObjectClass {\n",
    "    object ObjectTest {                       //싱글턴 객체 생성\n",
    "        const val CONST_STRING = \"1\"          // 상수 정의\n",
    "        fun test() { println(\" object 선언 : $CONST_STRING\")}\n",
    "    }\n",
    "}"
   ]
  },
  {
   "cell_type": "markdown",
   "id": "c10c33c0",
   "metadata": {},
   "source": [
    "### 클래스 내부에 동반객체 정의 "
   ]
  },
  {
   "cell_type": "code",
   "execution_count": 5,
   "id": "e0572356",
   "metadata": {},
   "outputs": [
    {
     "name": "stdout",
     "output_type": "stream",
     "text": [
      " 동반 객체 선언: 2 \n",
      " object 선언 : 1\n"
     ]
    }
   ],
   "source": [
    "class CompanionClass {\n",
    "    companion object {                       // 동반객체 정의 \n",
    "        const val CONST_TEST = 2             // 상수정의\n",
    "        fun test() { println(\" 동반 객체 선언: $CONST_TEST \") }\n",
    "    }\n",
    "}\n",
    "\n",
    "CompanionClass.test()\n",
    "ObjectClass.ObjectTest.test()"
   ]
  },
  {
   "cell_type": "code",
   "execution_count": null,
   "id": "3884ecb4",
   "metadata": {},
   "outputs": [],
   "source": []
  },
  {
   "cell_type": "markdown",
   "id": "4eaafee7",
   "metadata": {},
   "source": [
    "## 2-3-2 동반객체로 팩토리 메소드 처리하기"
   ]
  },
  {
   "cell_type": "markdown",
   "id": "a3106ef3",
   "metadata": {},
   "source": [
    "### 클래스의 주생성자를 비공개로 처리할 때는 동반객체를 사용해서 팩토리 메서드 처리"
   ]
  },
  {
   "cell_type": "code",
   "execution_count": 10,
   "id": "4df13526",
   "metadata": {},
   "outputs": [
    {
     "name": "stdout",
     "output_type": "stream",
     "text": [
      "이름= 황후순 나이= 44 \n"
     ]
    }
   ],
   "source": [
    "class Person private constructor(val name : String) {  // 클래스의 생성자 보호\n",
    "    var age :Int = 0                                   // private로 지정하면 접근 금지\n",
    "    companion object {\n",
    "        fun create( name:String, age : Int) : Person { // 팩토리 함수 작성 \n",
    "            val result = Person(name)\n",
    "            result.age = age\n",
    "            return result                               // 클래스로 객체 생성\n",
    "        }\n",
    "    } \n",
    "}\n",
    "\n",
    "val p = Person.create(\"황후순\", 44)\n",
    "println(\"이름= ${p.name} 나이= ${p.age} \")"
   ]
  },
  {
   "cell_type": "markdown",
   "id": "559b46b0",
   "metadata": {},
   "source": [
    "## 2-3-3  동반객체와 아웃클래스간의 참조 확인 "
   ]
  },
  {
   "cell_type": "markdown",
   "id": "f01e2a76",
   "metadata": {},
   "source": [
    "### 외부 클래스의 속성을 직접 접근할 수 없다."
   ]
  },
  {
   "cell_type": "code",
   "execution_count": 11,
   "id": "3fc210b8",
   "metadata": {},
   "outputs": [
    {
     "name": "stdout",
     "output_type": "stream",
     "text": [
      "동반객체의 공개속성\n",
      "동반객체의 비공개속성 , 동반객체의 공개속성\n",
      "속성참조\n"
     ]
    }
   ],
   "source": [
    "class OuterClass(val pr: String) {\n",
    "    companion object {\n",
    "        private val private_str = \"동반객체의 비공개속성\"    // 동반객체 보호속성 정의\n",
    "        val public_str = \"동반객체의 공개속성\"\n",
    "        \n",
    "        fun query() = OuterClass(\"속성참조\").pr          // 외부 클래스의 속성을 참조할 수 없음 그래서 객체 생성한 후에 속성 참조\n",
    "    }\n",
    "\n",
    "    fun getSecretValue() = private_str +               // 클래스의 메소드에서 \n",
    "                           \" , \" + public_str           // 동반객체 속성 접근\n",
    "}\n",
    "\n",
    "println(OuterClass.public_str)\n",
    "val out1 = OuterClass(\"새로운 객체 생성\")\n",
    "println(out1.getSecretValue())\n",
    "println(OuterClass.query())"
   ]
  },
  {
   "cell_type": "code",
   "execution_count": null,
   "id": "41acf6b4",
   "metadata": {},
   "outputs": [],
   "source": []
  },
  {
   "cell_type": "markdown",
   "id": "9f9b0f75",
   "metadata": {},
   "source": [
    "## 2-3-4 내포 클래스  연계 처리 "
   ]
  },
  {
   "cell_type": "markdown",
   "id": "6407902f",
   "metadata": {},
   "source": [
    "### 내포 클래스에서도 동반객체의 속성을 접근할 수 있다"
   ]
  },
  {
   "cell_type": "code",
   "execution_count": 12,
   "id": "81c1396e",
   "metadata": {},
   "outputs": [
    {
     "name": "stdout",
     "output_type": "stream",
     "text": [
      "내포클래스의 객체 - 동반객체멤버 : 동반객체 상수 동반객체 속성 - 2022-04-10\n",
      "내포클래스의 객체 - 외부객체멤버 : 황후순 \n"
     ]
    }
   ],
   "source": [
    "class OuterClass(val name: String) {\n",
    "    class NestedClass(val man: String) {           // 내포된 클래스\n",
    "        fun getCompInfo()  = \n",
    "    \"$man - 동반객체멤버 : $con $attr - ${getDate()}\"\n",
    "        \n",
    "         fun getOutInst() : String { \n",
    "             val out = OuterClass(\"황후순\")          // 외부 클래스의 객체생성\n",
    "             return \"$man - 외부객체멤버 : ${out.name} \"\n",
    "         }\n",
    "    }\n",
    "    \n",
    "    companion object {                              //동반객체 정의               \n",
    "        const val con = \"동반객체 상수\"\n",
    "        val attr = \"동반객체 속성\"\n",
    "        fun getDate(): String {\n",
    "            return \"2022-04-10\"\n",
    "        }\n",
    "    }\n",
    "}\n",
    "\n",
    "println(OuterClass.NestedClass(\"내포클래스의 객체\").getCompInfo())\n",
    "println(OuterClass.NestedClass(\"내포클래스의 객체\").getOutInst())"
   ]
  },
  {
   "cell_type": "code",
   "execution_count": null,
   "id": "74af6275",
   "metadata": {},
   "outputs": [],
   "source": []
  },
  {
   "cell_type": "markdown",
   "id": "326fbdb9",
   "metadata": {},
   "source": [
    "## 2-3-5 이너 클래스  연계 처리 "
   ]
  },
  {
   "cell_type": "markdown",
   "id": "57e2126e",
   "metadata": {},
   "source": [
    "### 동반객체의 속성 등을 이너 클래스에서 참조가 가능하다. "
   ]
  },
  {
   "cell_type": "code",
   "execution_count": 13,
   "id": "70418fd1",
   "metadata": {},
   "outputs": [
    {
     "name": "stdout",
     "output_type": "stream",
     "text": [
      "이너클래스의 객체 - 동반객체멤버 : 동반객체 상수 동반객체 속성 - 2022-04-10\n",
      "이너클래스의 객체 - 외부객체멤버 : 손영연 33 \n"
     ]
    }
   ],
   "source": [
    "class OuterClass(val name: String, val age :Int) {\n",
    "    inner class InnerClass(val man: String) {           // 이너클래스\n",
    "        fun getCompInfo()  = \n",
    "                    \"$man - 동반객체멤버 : $con $attr - ${getDate()}\"\n",
    "        \n",
    "        fun getOutInst() = \n",
    "                    \"$man - 외부객체멤버 : $name $age \"\n",
    "    }\n",
    "    \n",
    "    companion object {                                  //동반객체 정의               \n",
    "        const val con = \"동반객체 상수\"\n",
    "        val attr = \"동반객체 속성\"\n",
    "        fun getDate(): String {\n",
    "            return \"2022-04-10\"\n",
    "        }\n",
    "    }\n",
    "}\n",
    "\n",
    "println(OuterClass(\"손영연\",33).InnerClass(\"이너클래스의 객체\").getCompInfo())\n",
    "println(OuterClass(\"손영연\",33).InnerClass(\"이너클래스의 객체\").getOutInst())"
   ]
  },
  {
   "cell_type": "code",
   "execution_count": null,
   "id": "dcbbbb6e",
   "metadata": {},
   "outputs": [],
   "source": []
  }
 ],
 "metadata": {
  "kernelspec": {
   "display_name": "Kotlin",
   "language": "kotlin",
   "name": "kotlin"
  },
  "language_info": {
   "codemirror_mode": "text/x-kotlin",
   "file_extension": ".kt",
   "mimetype": "text/x-kotlin",
   "name": "kotlin",
   "nbconvert_exporter": "",
   "pygments_lexer": "kotlin",
   "version": "1.8.0-dev-3517"
  }
 },
 "nbformat": 4,
 "nbformat_minor": 5
}
