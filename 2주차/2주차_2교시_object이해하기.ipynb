{
 "cells": [
  {
   "cell_type": "code",
   "execution_count": 1,
   "id": "00688751",
   "metadata": {},
   "outputs": [
    {
     "data": {
      "text/plain": [
       "1.8.0"
      ]
     },
     "execution_count": 1,
     "metadata": {},
     "output_type": "execute_result"
    }
   ],
   "source": [
    "KotlinVersion.CURRENT             // 코틀린 현재 버전 "
   ]
  },
  {
   "cell_type": "code",
   "execution_count": null,
   "id": "8413e102",
   "metadata": {},
   "outputs": [],
   "source": []
  },
  {
   "cell_type": "code",
   "execution_count": null,
   "id": "26b68a4b",
   "metadata": {},
   "outputs": [],
   "source": []
  },
  {
   "cell_type": "markdown",
   "id": "b1c95963",
   "metadata": {},
   "source": [
    "# 2.  object\n",
    "\n",
    "- 클래스 정의와 하나의 객체 생성을 같이 하는 패턴 : 싱글턴 패턴 "
   ]
  },
  {
   "cell_type": "markdown",
   "id": "57ebda3b",
   "metadata": {},
   "source": [
    "## 2.1  object 표현식 \n",
    "\n",
    "- 익명클래스 처리\n",
    "- 하나의 객체를 생성하는 방식 "
   ]
  },
  {
   "cell_type": "markdown",
   "id": "9ea8dcd1",
   "metadata": {},
   "source": [
    "## 2-1-1 익명 클래스로 객체를 생성하기 "
   ]
  },
  {
   "cell_type": "code",
   "execution_count": null,
   "id": "29fb7331",
   "metadata": {},
   "outputs": [],
   "source": [
    "val a = object :Any() { \n",
    "    val hello = \"Hello\"    // 속성으로 참조 불가 \n",
    "    val world = \"World\"\n",
    "    // 문자열 출력\n",
    "    override fun toString() = \"$hello $world\"\n",
    "}"
   ]
  },
  {
   "cell_type": "code",
   "execution_count": 14,
   "id": "c17c7dd6",
   "metadata": {},
   "outputs": [
    {
     "data": {
      "text/plain": [
       "Hello World"
      ]
     },
     "execution_count": 14,
     "metadata": {},
     "output_type": "execute_result"
    }
   ],
   "source": [
    "a.javaClass\n",
    "a.toString()"
   ]
  },
  {
   "cell_type": "markdown",
   "id": "ea08fce7",
   "metadata": {},
   "source": [
    "###  세부 속성을 사용하려면 다른 클래스를 상속해서 처리가 필요"
   ]
  },
  {
   "cell_type": "code",
   "execution_count": 24,
   "id": "b6b79b5a",
   "metadata": {},
   "outputs": [
    {
     "name": "stdout",
     "output_type": "stream",
     "text": [
      "100 200\n",
      "속성값 참조 : 100, 200\n"
     ]
    }
   ],
   "source": [
    "open class Point(val x : Int, val y : Int)\n",
    "\n",
    "val b = object :Point(100,200) {\n",
    "    // 문자열 출력\n",
    "    override fun toString() = \"$x $y\"   \n",
    "}\n",
    "\n",
    "println(b.toString())\n",
    "println(\"속성값 참조 : \" + b.x + \", \" + b.y)"
   ]
  },
  {
   "cell_type": "code",
   "execution_count": null,
   "id": "42aa2ee2",
   "metadata": {},
   "outputs": [],
   "source": []
  },
  {
   "cell_type": "markdown",
   "id": "1a3e67f8",
   "metadata": {},
   "source": [
    "## 2-1-2 익명객체로 매개변수와 반환값처리하기"
   ]
  },
  {
   "cell_type": "code",
   "execution_count": null,
   "id": "8205825d",
   "metadata": {},
   "outputs": [],
   "source": []
  },
  {
   "cell_type": "code",
   "execution_count": null,
   "id": "37d1a955",
   "metadata": {},
   "outputs": [],
   "source": []
  },
  {
   "cell_type": "code",
   "execution_count": null,
   "id": "d7acec60",
   "metadata": {},
   "outputs": [],
   "source": []
  },
  {
   "cell_type": "markdown",
   "id": "5f94e429",
   "metadata": {},
   "source": [
    "## 2.2  object 정의 : 싱글턴 객체 생성하기 \n",
    "\n",
    "- 클래스와 하나의 객체를 만듬\n",
    "- "
   ]
  },
  {
   "cell_type": "markdown",
   "id": "5a181d09",
   "metadata": {},
   "source": [
    "## 2-2-1"
   ]
  },
  {
   "cell_type": "code",
   "execution_count": null,
   "id": "65995d70",
   "metadata": {},
   "outputs": [],
   "source": []
  },
  {
   "cell_type": "code",
   "execution_count": null,
   "id": "efebfb02",
   "metadata": {},
   "outputs": [],
   "source": []
  },
  {
   "cell_type": "markdown",
   "id": "a02ffad2",
   "metadata": {},
   "source": [
    "## 2-2-2"
   ]
  },
  {
   "cell_type": "code",
   "execution_count": null,
   "id": "a73a138f",
   "metadata": {},
   "outputs": [],
   "source": []
  },
  {
   "cell_type": "code",
   "execution_count": null,
   "id": "03ad642c",
   "metadata": {},
   "outputs": [],
   "source": []
  },
  {
   "cell_type": "markdown",
   "id": "37bcc989",
   "metadata": {},
   "source": [
    "## 2.3  동반 객체 처리 \n",
    "\n",
    "- 클래스 내부에서 클래스 이름과 동일하게 정의해서 사용\n",
    "- 동반객체는 클래스의 보호속성을 접근할 수 있다. "
   ]
  },
  {
   "cell_type": "code",
   "execution_count": null,
   "id": "4b5e9dc8",
   "metadata": {},
   "outputs": [],
   "source": []
  },
  {
   "cell_type": "markdown",
   "id": "8751a50a",
   "metadata": {},
   "source": [
    "## 2-3-1 동반객체로 팩토리 처리"
   ]
  },
  {
   "cell_type": "code",
   "execution_count": null,
   "id": "e0572356",
   "metadata": {},
   "outputs": [],
   "source": []
  },
  {
   "cell_type": "code",
   "execution_count": null,
   "id": "5de368a2",
   "metadata": {},
   "outputs": [],
   "source": []
  },
  {
   "cell_type": "code",
   "execution_count": null,
   "id": "4df13526",
   "metadata": {},
   "outputs": [],
   "source": []
  },
  {
   "cell_type": "markdown",
   "id": "9f9b0f75",
   "metadata": {},
   "source": [
    "## 2-3-2 내포 클래스와 이너클래스 연계 처리 "
   ]
  },
  {
   "cell_type": "code",
   "execution_count": null,
   "id": "81c1396e",
   "metadata": {},
   "outputs": [],
   "source": []
  },
  {
   "cell_type": "code",
   "execution_count": null,
   "id": "74af6275",
   "metadata": {},
   "outputs": [],
   "source": []
  },
  {
   "cell_type": "code",
   "execution_count": null,
   "id": "2c6d6810",
   "metadata": {},
   "outputs": [],
   "source": []
  },
  {
   "cell_type": "code",
   "execution_count": null,
   "id": "70418fd1",
   "metadata": {},
   "outputs": [],
   "source": []
  }
 ],
 "metadata": {
  "kernelspec": {
   "display_name": "Kotlin",
   "language": "kotlin",
   "name": "kotlin"
  },
  "language_info": {
   "codemirror_mode": "text/x-kotlin",
   "file_extension": ".kt",
   "mimetype": "text/x-kotlin",
   "name": "kotlin",
   "nbconvert_exporter": "",
   "pygments_lexer": "kotlin",
   "version": "1.8.0-dev-3517"
  }
 },
 "nbformat": 4,
 "nbformat_minor": 5
}
