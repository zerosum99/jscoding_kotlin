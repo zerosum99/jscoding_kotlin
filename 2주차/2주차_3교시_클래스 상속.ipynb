{
 "cells": [
  {
   "cell_type": "code",
   "execution_count": null,
   "id": "ad8aba59",
   "metadata": {},
   "outputs": [],
   "source": []
  },
  {
   "cell_type": "code",
   "execution_count": 1,
   "id": "42abd5cd",
   "metadata": {},
   "outputs": [
    {
     "data": {
      "text/plain": [
       "1.8.0"
      ]
     },
     "execution_count": 1,
     "metadata": {},
     "output_type": "execute_result"
    }
   ],
   "source": [
    "KotlinVersion.CURRENT             // 코틀린 현재 버전 "
   ]
  },
  {
   "cell_type": "markdown",
   "id": "7da7dea5",
   "metadata": {},
   "source": [
    "# 3. 클래스 상속관계\n",
    "\n",
    "- 상속은 기반(base) 클래스(super 클래스)를 파생(derived) 클래스(sub class)가 상속 즉 해당 클래스를 자기의 것으로 사용\n",
    "- 상속 관계는 is a  즉 하위 클래스가 상위 클래스를 상속해서 같이 사용하는 관계\n"
   ]
  },
  {
   "cell_type": "markdown",
   "id": "8ee9c38f",
   "metadata": {},
   "source": [
    "## 3-1  클래스 상속 \n",
    "\n",
    "- 코틀린은 클래스는 기본으로 상속이 불가한 final 변경자가 기본이다.\n",
    "- 상속을 하려면 클래스의 변경자를 open으로 바꿔야 한다.\n"
   ]
  },
  {
   "cell_type": "markdown",
   "id": "167bb327",
   "metadata": {},
   "source": [
    "## 3-1-1  상속 기본 알아보기\n",
    "\n",
    "- 예약어 class 앞에 open 변경자를 지정한다.\n",
    "- 내부의 메서드도 open 해주거나 상위 클래스의 메서드를 override 변경자를 붙여야 한다.\n",
    "- 혹시 하위 클래스에서 상속을 못하게 하려면 override 앞에 final을 지정한다.\n"
   ]
  },
  {
   "cell_type": "code",
   "execution_count": 2,
   "id": "4bc559b5",
   "metadata": {},
   "outputs": [],
   "source": [
    "open class People(val name:String, var age : Int) {\n",
    "    override fun toString(): String = \" ${name} $age\"\n",
    "}\n",
    "\n",
    "class Student(name:String, age: Int) : People(name,age) {\n",
    "    override fun toString() : String = \" 학생 \" + super.toString()\n",
    "}"
   ]
  },
  {
   "cell_type": "code",
   "execution_count": null,
   "id": "0b0e34e4",
   "metadata": {},
   "outputs": [],
   "source": []
  },
  {
   "cell_type": "code",
   "execution_count": 3,
   "id": "7824320f",
   "metadata": {},
   "outputs": [
    {
     "name": "stdout",
     "output_type": "stream",
     "text": [
      " 학생  상속관계 22\n"
     ]
    }
   ],
   "source": [
    "val s = Student(\"상속관계\", 22)\n",
    "println(s.toString())"
   ]
  },
  {
   "cell_type": "code",
   "execution_count": null,
   "id": "0bd3d36a",
   "metadata": {},
   "outputs": [],
   "source": []
  },
  {
   "cell_type": "markdown",
   "id": "a15425db",
   "metadata": {},
   "source": [
    "### 변수에 할당할 경우 "
   ]
  },
  {
   "cell_type": "code",
   "execution_count": 4,
   "id": "4401c2ee",
   "metadata": {},
   "outputs": [
    {
     "name": "stdout",
     "output_type": "stream",
     "text": [
      " 학생  학생1 22\n",
      " 사람 33\n"
     ]
    }
   ],
   "source": [
    "val s : People = Student(\"학생1\",22) \n",
    "println(s.toString())\n",
    "\n",
    "val p: People = People(\"사람\",33) \n",
    "println(p.toString())"
   ]
  },
  {
   "cell_type": "code",
   "execution_count": null,
   "id": "7364e85b",
   "metadata": {},
   "outputs": [],
   "source": []
  },
  {
   "cell_type": "markdown",
   "id": "05b8cf72",
   "metadata": {},
   "source": [
    "## 3-2-2 더 이상 상속을 중단할 경우 \n",
    "\n",
    "- 상속을 불가할 경우는 클래스는 open 변경자를 생략한다.\n",
    "- 메서드 등에도 open 변경자를 생략한다. override 된 경우는 앞에 final를 붙인다."
   ]
  },
  {
   "cell_type": "code",
   "execution_count": 5,
   "id": "1cf88010",
   "metadata": {},
   "outputs": [],
   "source": [
    "open class Person(val name:String, var age : Int) {\n",
    "    final override fun toString(): String = \" ${name} $age\"   // 상속을 금지\n",
    "}\n",
    "\n",
    "class Professor(name:String, age: Int) : Person(name,age) {\n",
    "    fun query() : String = \" 교수 \" + super.toString()\n",
    "}"
   ]
  },
  {
   "cell_type": "code",
   "execution_count": 6,
   "id": "a7793833",
   "metadata": {},
   "outputs": [
    {
     "name": "stdout",
     "output_type": "stream",
     "text": [
      " 교수1 22\n",
      " 교수  교수2 22\n",
      " 교수2 22\n"
     ]
    }
   ],
   "source": [
    "val p1 : Person = Professor(\"교수1\",22) \n",
    "// println(p1.query())    실제 사용을 할 수 없다. \n",
    "println(p1.toString())\n",
    "val p2 : Professor = Professor(\"교수2\",22) \n",
    "println(p2.query())\n",
    "val p3 : Person = Person(\"사람\",33) \n",
    "println(p2.toString())"
   ]
  },
  {
   "cell_type": "code",
   "execution_count": null,
   "id": "97f4176d",
   "metadata": {},
   "outputs": [],
   "source": []
  },
  {
   "cell_type": "markdown",
   "id": "ab9886dd",
   "metadata": {},
   "source": [
    "## 3-2 슈퍼클래스 위임호출 처리 "
   ]
  },
  {
   "cell_type": "markdown",
   "id": "ca73aff1",
   "metadata": {},
   "source": [
    "## 3-2-1  상속 관계의 생성자 호출 순서\n",
    "\n",
    "- 수퍼클래스의 생성자는 서브 클래스 정의할 때 주 생성자가 위임호출을 한다. "
   ]
  },
  {
   "cell_type": "code",
   "execution_count": 7,
   "id": "ce3c9a84",
   "metadata": {},
   "outputs": [],
   "source": [
    "open class Animal(val species : String)                     // 수퍼클래스 주생성자\n",
    "\n",
    "class Pet(species: String,                                  // 서브클래스 주생성자\n",
    "          val subSpecies: String) : Animal(species) {       // 수퍼클래스 위임호출\n",
    "    \n",
    "    constructor (species: String,                           // 서브클래스 부생성자\n",
    "                 subSpecies : String, \n",
    "                 age:Int) : this(species,subSpecies)        // 서브클래스 주생성자\n",
    "}\n"
   ]
  },
  {
   "cell_type": "code",
   "execution_count": 8,
   "id": "4cfb7814",
   "metadata": {},
   "outputs": [
    {
     "name": "stdout",
     "output_type": "stream",
     "text": [
      " 종 : 개 세부종 : 푸들\n"
     ]
    }
   ],
   "source": [
    "val pet = Pet(\"개\",\"푸들\",4)                                  // 객체 생성\n",
    "\n",
    "println(\" 종 : ${pet.species} 세부종 : ${pet.subSpecies}\" )   //  속성 출력"
   ]
  },
  {
   "cell_type": "code",
   "execution_count": null,
   "id": "5a9ce699",
   "metadata": {},
   "outputs": [],
   "source": []
  },
  {
   "cell_type": "markdown",
   "id": "5ed6d725",
   "metadata": {},
   "source": [
    "## 3-2-2  보조생성자만 있는 경우 \n",
    "\n",
    "- 기반과 파생 클래스가 전부 보조생성자만 있을 경우는 보조생성자에서 위임호출을 실행"
   ]
  },
  {
   "cell_type": "code",
   "execution_count": 9,
   "id": "571872f3",
   "metadata": {},
   "outputs": [],
   "source": [
    "open class Animal1 { \n",
    "    val species : String\n",
    "    constructor(species : String) {                         // 수퍼클래스 부생성자\n",
    "         this.species = species\n",
    "    }\n",
    "}\n",
    "class Pet1 : Animal1 {                                      // 수퍼클래스 상속\n",
    "    val subSpecies : String\n",
    "    val age : Int \n",
    "    constructor (species: String,                           // 서브클래스 부생성자\n",
    "                 subSpecies : String, \n",
    "                 age:Int) : super(species) {                // 수퍼클래스 부생성자\n",
    "           this.subSpecies = subSpecies\n",
    "           this.age = age \n",
    "    }\n",
    "    \n",
    "}"
   ]
  },
  {
   "cell_type": "code",
   "execution_count": 10,
   "id": "c53ab1cd",
   "metadata": {},
   "outputs": [
    {
     "name": "stdout",
     "output_type": "stream",
     "text": [
      " 종 : 고양이 세부종 : 사양\n"
     ]
    }
   ],
   "source": [
    "val pet1 = Pet1(\"고양이\",\"사양\",4)                                  // 객체 생성\n",
    "\n",
    "println(\" 종 : ${pet1.species} 세부종 : ${pet1.subSpecies}\" )      //  속성 출력"
   ]
  },
  {
   "cell_type": "code",
   "execution_count": null,
   "id": "5ec50f07",
   "metadata": {},
   "outputs": [],
   "source": []
  },
  {
   "cell_type": "markdown",
   "id": "28aee529",
   "metadata": {},
   "source": [
    "## 3-3. 수퍼와 디스처리\n",
    "\n",
    "- this : 클래스로 생성한 객체를 의미한다.\n",
    "- super : 부모 클래스의 객체를 의미한다."
   ]
  },
  {
   "cell_type": "markdown",
   "id": "cb90cf2a",
   "metadata": {},
   "source": [
    "## 3-3-1 상속 클래스 간의 super 처리 "
   ]
  },
  {
   "cell_type": "code",
   "execution_count": 11,
   "id": "51c502a6",
   "metadata": {},
   "outputs": [],
   "source": [
    "open class Base {\n",
    "    open val attr : Int = 1\n",
    "    open fun method() = \n",
    "             println ( \" 베이스 클래스 f()\" )\n",
    "}"
   ]
  },
  {
   "cell_type": "code",
   "execution_count": 12,
   "id": "3b4a3553",
   "metadata": {},
   "outputs": [],
   "source": [
    "class Concrete : Base() {\n",
    "    override val attr : Int = super.attr + 1        //상속에 따른 재정의 : 베이스 속성을 super로 접근\n",
    "    override fun method() =                        //상속에 따른 재정의 \n",
    "             println ( \" 파생 클래스 f()\" )\n",
    "}"
   ]
  },
  {
   "cell_type": "code",
   "execution_count": 13,
   "id": "614bdf46",
   "metadata": {},
   "outputs": [
    {
     "name": "stdout",
     "output_type": "stream",
     "text": [
      "2\n",
      " 파생 클래스 f()\n"
     ]
    }
   ],
   "source": [
    "val c1 = Concrete()\n",
    "println(c1.attr)            //  파생  클래스의 속성을 참조\n",
    "c1.method()"
   ]
  },
  {
   "cell_type": "code",
   "execution_count": null,
   "id": "1bfab589",
   "metadata": {},
   "outputs": [],
   "source": []
  },
  {
   "cell_type": "markdown",
   "id": "0c106ee5",
   "metadata": {},
   "source": [
    "## 3-3-2  이너클래스에서 this와 super 사용 \n",
    "\n",
    "- 이너 클래스의 객체는 this이고  외부 클래스의 객체는 this@ 외부 클래스\n",
    "- 그래서 외부 클래스의 super 도 super@ 외부클래스"
   ]
  },
  {
   "cell_type": "markdown",
   "id": "970c3a6d",
   "metadata": {},
   "source": [
    "### 이너클래스의 슈퍼클래스"
   ]
  },
  {
   "cell_type": "code",
   "execution_count": 14,
   "id": "b05afb6e",
   "metadata": {},
   "outputs": [],
   "source": [
    "open class InndrBase {\n",
    "    open val baseattr : Int = 1\n",
    "}"
   ]
  },
  {
   "cell_type": "markdown",
   "id": "8d71cb1e",
   "metadata": {},
   "source": [
    "### 외부 클래스와 이너클래스를 지정"
   ]
  },
  {
   "cell_type": "code",
   "execution_count": 15,
   "id": "cad42b10",
   "metadata": {},
   "outputs": [],
   "source": [
    "class Derived : Base() {\n",
    "    override val attr : Int = super.attr + 1        //상속에 따른 재정의 : 베이스 속성을 super로 접근\n",
    "    override fun method() =                        //상속에 따른 재정의 \n",
    "             println ( \" 파생 클래스 f()\" )\n",
    "\n",
    "    inner class Inner : InndrBase() {\n",
    "         val attr = 999\n",
    "         fun method() = \n",
    "             println ( \" 이너클래스 f()\" )\n",
    "         fun test() {\n",
    "             this.method()                                                //이너클래스의 메소드 참조 \n",
    "             Derived().method()                                           //외부클래스의 메소드 참조\n",
    "             super@Derived.method()                                       //수퍼클래스의 메소드 참조 \n",
    "             println(\" 이너 클래스 this.attr : ${this.attr}\")                //이너클래스 속성참조\n",
    "             println(\" 외부 클래스 this@Derived.x : ${this@Derived.attr}\")   //외부클래스의 속성참조\n",
    "             println(\" 베이스클래스 super@Derived.x :${super@Derived.attr}\")  //수퍼클래스 속성참조\n",
    "         }\n",
    "         fun getSuper() = println(\"수퍼속성 참조 ;\" + super.baseattr)\n",
    "     }\n",
    "}"
   ]
  },
  {
   "cell_type": "code",
   "execution_count": 16,
   "id": "fa06e4ab",
   "metadata": {},
   "outputs": [
    {
     "name": "stdout",
     "output_type": "stream",
     "text": [
      " 이너클래스 f()\n",
      " 파생 클래스 f()\n",
      " 베이스 클래스 f()\n",
      " 이너 클래스 this.attr : 999\n",
      " 외부 클래스 this@Derived.x : 2\n",
      " 베이스클래스 super@Derived.x :1\n"
     ]
    }
   ],
   "source": [
    "val d1 = Derived()\n",
    "d1.Inner().test()    // 이너 클래스 Inside의 메서드 test() 실행"
   ]
  },
  {
   "cell_type": "code",
   "execution_count": 17,
   "id": "93f04e3b",
   "metadata": {},
   "outputs": [
    {
     "name": "stdout",
     "output_type": "stream",
     "text": [
      "수퍼속성 참조 ;1\n"
     ]
    }
   ],
   "source": [
    "d1.Inner().getSuper()"
   ]
  },
  {
   "cell_type": "code",
   "execution_count": null,
   "id": "11ef51ee",
   "metadata": {},
   "outputs": [],
   "source": []
  },
  {
   "cell_type": "markdown",
   "id": "ea0574ad",
   "metadata": {},
   "source": [
    "## 3-4 생성자에서 슈퍼 사용하기"
   ]
  },
  {
   "cell_type": "markdown",
   "id": "f5529662",
   "metadata": {},
   "source": [
    "## 3-4-1  보조생성자에서 super 사용하기 "
   ]
  },
  {
   "cell_type": "code",
   "execution_count": 18,
   "id": "758a2465",
   "metadata": {},
   "outputs": [],
   "source": [
    "open class Person {\n",
    "    val name : String\n",
    "    var gender : String = \"여성\" \n",
    "    constructor(name: String) {                           // 첫번째 보조생성자\n",
    "        this.name = name\n",
    "        println(\"수퍼클래스 보조생성자 1 실행 \")  \n",
    "    }\n",
    "    constructor(name: String, gender : String) : \n",
    "                                    this(name) {          // 기존 보조생성자를 위임호출\n",
    "        this.gender = gender\n",
    "        println(\"수퍼클래스 보조생성자 2 실행 \")  \n",
    "    }\n",
    "}\n"
   ]
  },
  {
   "cell_type": "code",
   "execution_count": 19,
   "id": "2af84ba2",
   "metadata": {},
   "outputs": [],
   "source": [
    "class Student: Person {\n",
    "    var age : Int = 0 \n",
    "    constructor(name: String, age :Int): \n",
    "                                   super(name) {          // 수퍼클래스 생성자를 위임호출\n",
    "        this.age = age\n",
    "        println(\"서브클래스 보조생성자 1 실행 \")                                    \n",
    "    }\n",
    "    constructor(name: String, gender: String , age:Int): \n",
    "                                   super(name, gender) {  // 수퍼클래스의 생성자를 위임호출\n",
    "        this.age = age\n",
    "        println(\"서브클래스 보조생성자 2 실행 \")\n",
    "    }\n",
    "}"
   ]
  },
  {
   "cell_type": "code",
   "execution_count": 20,
   "id": "438a68e9",
   "metadata": {},
   "outputs": [
    {
     "name": "stdout",
     "output_type": "stream",
     "text": [
      " 생성자 호출 순서 1 : \n",
      "수퍼클래스 보조생성자 1 실행 \n",
      "서브클래스 보조생성자 1 실행 \n",
      " 생성자 호출 순서 2 : \n",
      "수퍼클래스 보조생성자 1 실행 \n",
      "수퍼클래스 보조생성자 2 실행 \n",
      "서브클래스 보조생성자 2 실행 \n"
     ]
    }
   ],
   "source": [
    "println(\" 생성자 호출 순서 1 : \")\n",
    "val s1 = Student(\"최혜원\", 45)\n",
    "println(\" 생성자 호출 순서 2 : \")\n",
    "val s2 = Student(\"황후순\",\"남성\",45 )"
   ]
  },
  {
   "cell_type": "code",
   "execution_count": null,
   "id": "9e707986",
   "metadata": {},
   "outputs": [],
   "source": []
  },
  {
   "cell_type": "markdown",
   "id": "c0cae708",
   "metadata": {},
   "source": [
    "## 3-5 타입 체크/캐스팅"
   ]
  },
  {
   "cell_type": "markdown",
   "id": "57408846",
   "metadata": {},
   "source": [
    "## 3-5-1 타입체크/캐스팅\n",
    "\n",
    "- 타입체크와 타입 캐스팅은 is !is 연산자로 체크해서 true 이면 그 영역에서 처리할 때는 별도의 타입 캐스팅이 필요하디 않다."
   ]
  },
  {
   "cell_type": "code",
   "execution_count": 21,
   "id": "d45b829e",
   "metadata": {},
   "outputs": [
    {
     "name": "stdout",
     "output_type": "stream",
     "text": [
      " 정수 \n"
     ]
    }
   ],
   "source": [
    "var a : Any = 100\n",
    "when(a) {\n",
    "    is Int -> println(\" 정수 \")\n",
    "    is String -> println(\" 문자열 \")\n",
    "    else -> println(\" 기타 \")\n",
    "}"
   ]
  },
  {
   "cell_type": "markdown",
   "id": "95b49bcf",
   "metadata": {},
   "source": [
    "### 타입 체크시 주의 사항"
   ]
  },
  {
   "cell_type": "code",
   "execution_count": 37,
   "id": "e8d6e663",
   "metadata": {},
   "outputs": [
    {
     "name": "stdout",
     "output_type": "stream",
     "text": [
      " 타입 확인 \n",
      "7\n"
     ]
    }
   ],
   "source": [
    "open class K1 {\n",
    "    open val po : Any = \"2주차_2교시_object이해하기.ipynb\"\n",
    "}\n",
    "\n",
    "val k1 = K1()\n",
    "if (k1.po is String) {\n",
    "    // println( k1.po.length)  Smart cast to 'String' is impossible, \n",
    "    // because 'k1.po' is a property that has open or custom getter\n",
    "}\n",
    "\n",
    "open class S1 : K1() {\n",
    "    override val po = \"서브 클래스 \"\n",
    "}\n",
    "\n",
    "val s1 = S1()\n",
    "if (s1.po is String) {\n",
    "    println(\" 타입 확인 \")\n",
    "    println(s1.po.length)\n",
    "}"
   ]
  },
  {
   "cell_type": "code",
   "execution_count": null,
   "id": "a86dc258",
   "metadata": {},
   "outputs": [],
   "source": []
  },
  {
   "cell_type": "code",
   "execution_count": null,
   "id": "8b68efa8",
   "metadata": {},
   "outputs": [],
   "source": []
  }
 ],
 "metadata": {
  "kernelspec": {
   "display_name": "Kotlin",
   "language": "kotlin",
   "name": "kotlin"
  },
  "language_info": {
   "codemirror_mode": "text/x-kotlin",
   "file_extension": ".kt",
   "mimetype": "text/x-kotlin",
   "name": "kotlin",
   "nbconvert_exporter": "",
   "pygments_lexer": "kotlin",
   "version": "1.8.0-dev-3517"
  }
 },
 "nbformat": 4,
 "nbformat_minor": 5
}
