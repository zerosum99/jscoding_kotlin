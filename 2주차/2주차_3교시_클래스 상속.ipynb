{
 "cells": [
  {
   "cell_type": "markdown",
   "id": "da101a4b",
   "metadata": {},
   "source": [
    "# 클래스 확장 기능 알아보기\n",
    "\n",
    "7장, 9장\n",
    "\n",
    "클래스 관계, 메서드 재정의 , 추상 클래스, 인터페이스"
   ]
  },
  {
   "cell_type": "code",
   "execution_count": null,
   "id": "ad8aba59",
   "metadata": {},
   "outputs": [],
   "source": []
  },
  {
   "cell_type": "code",
   "execution_count": 1,
   "id": "42abd5cd",
   "metadata": {},
   "outputs": [
    {
     "data": {
      "text/plain": [
       "1.8.0"
      ]
     },
     "execution_count": 1,
     "metadata": {},
     "output_type": "execute_result"
    }
   ],
   "source": [
    "KotlinVersion.CURRENT             // 코틀린 현재 버전 "
   ]
  },
  {
   "cell_type": "markdown",
   "id": "7da7dea5",
   "metadata": {},
   "source": [
    "# 1. 상속관계"
   ]
  },
  {
   "cell_type": "markdown",
   "id": "8ee9c38f",
   "metadata": {},
   "source": [
    "## 1-1  클래스 상속 "
   ]
  },
  {
   "cell_type": "markdown",
   "id": "167bb327",
   "metadata": {},
   "source": [
    "## 1-1-1  상속 기본 알아보기"
   ]
  },
  {
   "cell_type": "code",
   "execution_count": 2,
   "id": "4bc559b5",
   "metadata": {},
   "outputs": [],
   "source": [
    "open class People(val name:String, var age : Int) {\n",
    "    override fun toString(): String = \" ${name} $age\"\n",
    "}"
   ]
  },
  {
   "cell_type": "code",
   "execution_count": null,
   "id": "0b0e34e4",
   "metadata": {},
   "outputs": [],
   "source": []
  },
  {
   "cell_type": "code",
   "execution_count": 3,
   "id": "6e0e0f04",
   "metadata": {},
   "outputs": [],
   "source": [
    "class Student(name:String, age: Int) : People(name,age)"
   ]
  },
  {
   "cell_type": "code",
   "execution_count": null,
   "id": "46e997c7",
   "metadata": {},
   "outputs": [],
   "source": []
  },
  {
   "cell_type": "code",
   "execution_count": 4,
   "id": "7824320f",
   "metadata": {},
   "outputs": [],
   "source": [
    "val s = Student(\"상속관계\", 22)"
   ]
  },
  {
   "cell_type": "code",
   "execution_count": 5,
   "id": "5d4cb7d1",
   "metadata": {},
   "outputs": [
    {
     "data": {
      "text/plain": [
       " 상속관계 22"
      ]
     },
     "execution_count": 5,
     "metadata": {},
     "output_type": "execute_result"
    }
   ],
   "source": [
    "s.toString()"
   ]
  },
  {
   "cell_type": "code",
   "execution_count": null,
   "id": "0bd3d36a",
   "metadata": {},
   "outputs": [],
   "source": []
  },
  {
   "cell_type": "markdown",
   "id": "05b8cf72",
   "metadata": {},
   "source": [
    "## 1-2-2 더 이상 상속을 중단할 경우 "
   ]
  },
  {
   "cell_type": "code",
   "execution_count": null,
   "id": "6a9eb06e",
   "metadata": {},
   "outputs": [],
   "source": []
  },
  {
   "cell_type": "code",
   "execution_count": null,
   "id": "15718bbb",
   "metadata": {},
   "outputs": [],
   "source": []
  },
  {
   "cell_type": "code",
   "execution_count": null,
   "id": "a7793833",
   "metadata": {},
   "outputs": [],
   "source": []
  },
  {
   "cell_type": "code",
   "execution_count": null,
   "id": "97f4176d",
   "metadata": {},
   "outputs": [],
   "source": []
  },
  {
   "cell_type": "markdown",
   "id": "ab9886dd",
   "metadata": {},
   "source": [
    "## 1-2 슈퍼클래스 위임호출 처리 "
   ]
  },
  {
   "cell_type": "markdown",
   "id": "ca73aff1",
   "metadata": {},
   "source": [
    "## 1-2-1  상속관계 클래스 정의 "
   ]
  },
  {
   "cell_type": "code",
   "execution_count": 13,
   "id": "ce3c9a84",
   "metadata": {},
   "outputs": [
    {
     "name": "stdout",
     "output_type": "stream",
     "text": [
      " 종 : 개 세부종 : 푸들\n"
     ]
    }
   ],
   "source": [
    "open class Animal(val species : String)                     // 수퍼클래스 주생성자\n",
    "\n",
    "class Pet(species: String,                                  // 서브클래스 주생성자\n",
    "          val subSpecies: String) : Animal(species) {       // 수퍼클래스 위임호출\n",
    "    \n",
    "    constructor (species: String,                           // 서브클래스 부생성자\n",
    "                 subSpecies : String, \n",
    "                 age:Int) : this(species,subSpecies)        // 서브클래스 주생성자\n",
    "}\n",
    "\n",
    "\n",
    "val pet = Pet(\"개\",\"푸들\",4)                                  // 객체 생성\n",
    "\n",
    "println(\" 종 : ${pet.species} 세부종 : ${pet.subSpecies}\" )   //  속성 출력"
   ]
  },
  {
   "cell_type": "code",
   "execution_count": null,
   "id": "4cfb7814",
   "metadata": {},
   "outputs": [],
   "source": []
  },
  {
   "cell_type": "code",
   "execution_count": null,
   "id": "5a9ce699",
   "metadata": {},
   "outputs": [],
   "source": []
  },
  {
   "cell_type": "code",
   "execution_count": null,
   "id": "09d7371b",
   "metadata": {},
   "outputs": [],
   "source": []
  },
  {
   "cell_type": "code",
   "execution_count": null,
   "id": "571872f3",
   "metadata": {},
   "outputs": [],
   "source": []
  },
  {
   "cell_type": "code",
   "execution_count": null,
   "id": "c53ab1cd",
   "metadata": {},
   "outputs": [],
   "source": []
  },
  {
   "cell_type": "markdown",
   "id": "28aee529",
   "metadata": {},
   "source": [
    "# 2. 수퍼와 디스처리\n",
    "\n",
    "- this : 클래스로 생성한 객체를 의미한다.\n",
    "- super : 부모 클래스의 객체를 의미한다."
   ]
  },
  {
   "cell_type": "markdown",
   "id": "cb90cf2a",
   "metadata": {},
   "source": [
    "## 2-1 상속 클래스 간의 super 처리 "
   ]
  },
  {
   "cell_type": "code",
   "execution_count": 6,
   "id": "51c502a6",
   "metadata": {},
   "outputs": [],
   "source": [
    "open class Base {\n",
    "    open val attr : Int = 1\n",
    "    open fun method() = \n",
    "             println ( \" 베이스 클래스 f()\" )\n",
    "}"
   ]
  },
  {
   "cell_type": "code",
   "execution_count": 7,
   "id": "3b4a3553",
   "metadata": {},
   "outputs": [],
   "source": [
    "class Concrete : Base() {\n",
    "    override val attr : Int = super.attr + 1        //상속에 따른 재정의 : 베이스 속성을 super로 접근\n",
    "    override fun method() =                        //상속에 따른 재정의 \n",
    "             println ( \" 파생 클래스 f()\" )\n",
    "}"
   ]
  },
  {
   "cell_type": "code",
   "execution_count": 8,
   "id": "614bdf46",
   "metadata": {},
   "outputs": [
    {
     "name": "stdout",
     "output_type": "stream",
     "text": [
      "2\n",
      " 파생 클래스 f()\n"
     ]
    }
   ],
   "source": [
    "val c1 = Concrete()\n",
    "println(c1.attr)            //  파생  클래스의 속성을 참조\n",
    "c1.method()"
   ]
  },
  {
   "cell_type": "code",
   "execution_count": null,
   "id": "1bfab589",
   "metadata": {},
   "outputs": [],
   "source": []
  },
  {
   "cell_type": "markdown",
   "id": "0c106ee5",
   "metadata": {},
   "source": [
    "## 2-1-2  이너클래스에서 this와 super 사용 \n",
    "\n",
    "- 이너 클래스의 객체는 this이고  외부 클래스의 객체는 this@ 외부 클래스\n",
    "- 그래서 외부 클래스의 super 도 super@ 외부클래스"
   ]
  },
  {
   "cell_type": "markdown",
   "id": "970c3a6d",
   "metadata": {},
   "source": [
    "### 이너클래스의 슈퍼클래스"
   ]
  },
  {
   "cell_type": "code",
   "execution_count": 9,
   "id": "b05afb6e",
   "metadata": {},
   "outputs": [],
   "source": [
    "open class InndrBase {\n",
    "    open val baseattr : Int = 1\n",
    "}"
   ]
  },
  {
   "cell_type": "markdown",
   "id": "8d71cb1e",
   "metadata": {},
   "source": [
    "### 외부 클래스와 이너클래스를 지정"
   ]
  },
  {
   "cell_type": "code",
   "execution_count": 10,
   "id": "cad42b10",
   "metadata": {},
   "outputs": [],
   "source": [
    "class Derived : Base() {\n",
    "    override val attr : Int = super.attr + 1        //상속에 따른 재정의 : 베이스 속성을 super로 접근\n",
    "    override fun method() =                        //상속에 따른 재정의 \n",
    "             println ( \" 파생 클래스 f()\" )\n",
    "\n",
    "    inner class Inner : InndrBase() {\n",
    "         val attr = 999\n",
    "         fun method() = \n",
    "             println ( \" 이너클래스 f()\" )\n",
    "         fun test() {\n",
    "             this.method()                                                //이너클래스의 메소드 참조 \n",
    "             Derived().method()                                           //외부클래스의 메소드 참조\n",
    "             super@Derived.method()                                       //수퍼클래스의 메소드 참조 \n",
    "             println(\" 이너 클래스 this.attr : ${this.attr}\")                //이너클래스 속성참조\n",
    "             println(\" 외부 클래스 this@Derived.x : ${this@Derived.attr}\")   //외부클래스의 속성참조\n",
    "             println(\" 베이스클래스 super@Derived.x :${super@Derived.attr}\")  //수퍼클래스 속성참조\n",
    "         }\n",
    "         fun getSuper() = println(\"수퍼속성 참조 ;\" + super.baseattr)\n",
    "     }\n",
    "}"
   ]
  },
  {
   "cell_type": "code",
   "execution_count": 11,
   "id": "fa06e4ab",
   "metadata": {},
   "outputs": [
    {
     "name": "stdout",
     "output_type": "stream",
     "text": [
      " 이너클래스 f()\n",
      " 파생 클래스 f()\n",
      " 베이스 클래스 f()\n",
      " 이너 클래스 this.attr : 999\n",
      " 외부 클래스 this@Derived.x : 2\n",
      " 베이스클래스 super@Derived.x :1\n"
     ]
    }
   ],
   "source": [
    "val d1 = Derived()\n",
    "d1.Inner().test()    // 이너 클래스 Inside의 메서드 test() 실행"
   ]
  },
  {
   "cell_type": "code",
   "execution_count": 12,
   "id": "93f04e3b",
   "metadata": {},
   "outputs": [
    {
     "name": "stdout",
     "output_type": "stream",
     "text": [
      "수퍼속성 참조 ;1\n"
     ]
    }
   ],
   "source": [
    "d1.Inner().getSuper()"
   ]
  },
  {
   "cell_type": "code",
   "execution_count": null,
   "id": "11ef51ee",
   "metadata": {},
   "outputs": [],
   "source": []
  },
  {
   "cell_type": "markdown",
   "id": "ea0574ad",
   "metadata": {},
   "source": [
    "## 2-2 생성자에서 슈퍼 사용하기"
   ]
  },
  {
   "cell_type": "markdown",
   "id": "f5529662",
   "metadata": {},
   "source": [
    "## 2-2-1  보조생성자에서 super 사용하기 "
   ]
  },
  {
   "cell_type": "code",
   "execution_count": 15,
   "id": "758a2465",
   "metadata": {},
   "outputs": [],
   "source": [
    "open class Person {\n",
    "    val name : String\n",
    "    var gender : String = \"여성\" \n",
    "    constructor(name: String) {                           // 첫번째 보조생성자\n",
    "        this.name = name\n",
    "        println(\"수퍼클래스 보조생성자 1 실행 \")  \n",
    "    }\n",
    "    constructor(name: String, gender : String) : \n",
    "                                    this(name) {          // 기존 보조생성자를 위임호출\n",
    "        this.gender = gender\n",
    "        println(\"수퍼클래스 보조생성자 2 실행 \")  \n",
    "    }\n",
    "}\n"
   ]
  },
  {
   "cell_type": "code",
   "execution_count": 18,
   "id": "2af84ba2",
   "metadata": {},
   "outputs": [],
   "source": [
    "class Student: Person {\n",
    "    var age : Int = 0 \n",
    "    constructor(name: String, age :Int): \n",
    "                                   super(name) {          // 수퍼클래스 생성자를 위임호출\n",
    "        this.age = age\n",
    "        println(\"서브클래스 보조생성자 1 실행 \")                                    \n",
    "    }\n",
    "    constructor(name: String, gender: String , age:Int): \n",
    "                                   super(name, gender) {  // 수퍼클래스의 생성자를 위임호출\n",
    "        this.age = age\n",
    "        println(\"서브클래스 보조생성자 2 실행 \")\n",
    "    }\n",
    "}"
   ]
  },
  {
   "cell_type": "code",
   "execution_count": 19,
   "id": "438a68e9",
   "metadata": {},
   "outputs": [
    {
     "name": "stdout",
     "output_type": "stream",
     "text": [
      " 생성자 호출 순서 1 : \n",
      "수퍼클래스 보조생성자 1 실행 \n",
      "서브클래스 보조생성자 1 실행 \n",
      " 생성자 호출 순서 2 : \n",
      "수퍼클래스 보조생성자 1 실행 \n",
      "수퍼클래스 보조생성자 2 실행 \n",
      "서브클래스 보조생성자 2 실행 \n"
     ]
    }
   ],
   "source": [
    "println(\" 생성자 호출 순서 1 : \")\n",
    "val s1 = Student(\"최혜원\", 45)\n",
    "println(\" 생성자 호출 순서 2 : \")\n",
    "val s2 = Student(\"황후순\",\"남성\",45 )"
   ]
  },
  {
   "cell_type": "code",
   "execution_count": null,
   "id": "9e707986",
   "metadata": {},
   "outputs": [],
   "source": []
  }
 ],
 "metadata": {
  "kernelspec": {
   "display_name": "Kotlin",
   "language": "kotlin",
   "name": "kotlin"
  },
  "language_info": {
   "codemirror_mode": "text/x-kotlin",
   "file_extension": ".kt",
   "mimetype": "text/x-kotlin",
   "name": "kotlin",
   "nbconvert_exporter": "",
   "pygments_lexer": "kotlin",
   "version": "1.8.0-dev-3517"
  }
 },
 "nbformat": 4,
 "nbformat_minor": 5
}
