{
 "cells": [
  {
   "cell_type": "code",
   "execution_count": null,
   "id": "f93b5432",
   "metadata": {},
   "outputs": [],
   "source": []
  },
  {
   "cell_type": "code",
   "execution_count": 1,
   "id": "17b31b6c",
   "metadata": {},
   "outputs": [
    {
     "data": {
      "text/plain": [
       "1.8.0"
      ]
     },
     "execution_count": 1,
     "metadata": {},
     "output_type": "execute_result"
    }
   ],
   "source": [
    "KotlinVersion.CURRENT             // 코틀린 현재 버전 "
   ]
  },
  {
   "cell_type": "code",
   "execution_count": null,
   "id": "0d29d135",
   "metadata": {},
   "outputs": [],
   "source": []
  },
  {
   "cell_type": "markdown",
   "id": "fd0894ce",
   "metadata": {},
   "source": [
    "# 1. 컬렉션 \n",
    "\n",
    "- 코틀린 언어는 컬렉션에 가변과 불변의 두가지 자료구조를 가진다.\n",
    "- 가변은 항상 내부 원소를 추가, 삭제, 변경 등이 자유롭다.\n",
    "- 불변은 처음 만들어지면 내부를 변경할 수 없다. "
   ]
  },
  {
   "cell_type": "markdown",
   "id": "402878de",
   "metadata": {},
   "source": [
    "## 1-1 리스트 \n",
    "\n",
    "- 자바의 리스트를 기반으로 코틀린 리스트를 만듬 "
   ]
  },
  {
   "cell_type": "code",
   "execution_count": 2,
   "id": "24124f15",
   "metadata": {},
   "outputs": [],
   "source": [
    "import java.util.ArrayList                               // 코틀린 기본 리스트 클래스\n",
    "import java.util.LinkedList                              // 링크드 리스트 클래스 \n",
    "import java.util.AbstractSequentialList "
   ]
  },
  {
   "cell_type": "markdown",
   "id": "de85d2c1",
   "metadata": {},
   "source": [
    "### 리스트 내부 멤버 확인하기 \n",
    "\n",
    "- 확장함수를 사용해서 리스트 내의 멤버를 확인할 수 있음 "
   ]
  },
  {
   "cell_type": "markdown",
   "id": "1799eaf3",
   "metadata": {},
   "source": [
    "### 자바의 AbstractSequentialList  등을 직접 사용해서 확장함수를 만들 수 있다.\n",
    "\n",
    "- 확장함수는 메소드 처럼 리시버 객체 즉 해당 객체를 this로 사용할 수 있다.\n",
    "- 클래스 내부에 작성한 메서드가 아니라서 비공개 속성을 사용할 수 없다. "
   ]
  },
  {
   "cell_type": "code",
   "execution_count": 3,
   "id": "6ca6d9e1",
   "metadata": {},
   "outputs": [],
   "source": [
    "fun AbstractSequentialList<String>.dir() : Set<String> { // 링크드 리스트의 멤버를 조회하는 확장함수\n",
    "    val a = this.javaClass.kotlin                        // 클래스 출력 \n",
    "    println(a.simpleName)\n",
    "    val ll = a.members.map { it.name}                    // 멤버의 이름을 맵으로 처리하기 \n",
    "    return ll.toSet() \n",
    "}"
   ]
  },
  {
   "cell_type": "markdown",
   "id": "dcc5754f",
   "metadata": {},
   "source": [
    "### 코틀린의 List 클래스를 사용해서 확장함수를 만들 수 있다."
   ]
  },
  {
   "cell_type": "code",
   "execution_count": 4,
   "id": "b213fea3",
   "metadata": {},
   "outputs": [],
   "source": [
    "fun List<String>.dir() : Set<String> {                      // 리스트의 멤버를 조회하는 확장함수\n",
    "    val a = this.javaClass.kotlin                        // 클래스 출력 \n",
    "    println(a.simpleName)\n",
    "    val ll = a.members.map { it.name}                    // 멤버의 이름을 맵으로 처리하기 \n",
    "    return ll.toSet() \n",
    "}"
   ]
  },
  {
   "cell_type": "markdown",
   "id": "c1cc3f5b",
   "metadata": {},
   "source": [
    "## 1-1-1 빈리스트 만들기\n",
    "\n",
    "- 리스트 중에 아무것도 없는 리스트를 emptyList 함수로 만들 수 있다. "
   ]
  },
  {
   "cell_type": "code",
   "execution_count": 5,
   "id": "94de1e4f",
   "metadata": {},
   "outputs": [
    {
     "name": "stdout",
     "output_type": "stream",
     "text": [
      "class kotlin.collections.EmptyList\n",
      "kotlin.collections.List<kotlin.Nothing>\n"
     ]
    }
   ],
   "source": [
    "var emptyList: List<String> = emptyList<String>()          // 아무것도 없는 리스트 생성\n",
    "println(emptyList.javaClass.kotlin)\n",
    "println(emptyList.javaClass.kotlin.supertypes[0])          // 빈 리스트의 상속관계 확인 "
   ]
  },
  {
   "cell_type": "code",
   "execution_count": 6,
   "id": "99377241",
   "metadata": {},
   "outputs": [
    {
     "name": "stdout",
     "output_type": "stream",
     "text": [
      "class kotlin.collections.EmptyList\n"
     ]
    }
   ],
   "source": [
    "fun <T> emList() : List<T> {               // List로 반환값을 처리\n",
    "    return emptyList<T>()                  // emptyList는 internal 지시자로 지정되어 동일한 모듈외에서는 사용 금지\n",
    "}\n",
    "val a = emList<String>()\n",
    "\n",
    "println(a.javaClass.kotlin)                // 반환값의 자료형 확인 "
   ]
  },
  {
   "cell_type": "code",
   "execution_count": null,
   "id": "0f0c1039",
   "metadata": {},
   "outputs": [],
   "source": []
  },
  {
   "cell_type": "markdown",
   "id": "81a4e811",
   "metadata": {},
   "source": [
    "### 리스트 내부에 갱신할 수 있는 메서드가 없다."
   ]
  },
  {
   "cell_type": "code",
   "execution_count": 7,
   "id": "be16067e",
   "metadata": {},
   "outputs": [
    {
     "name": "stdout",
     "output_type": "stream",
     "text": [
      "EmptyList\n"
     ]
    },
    {
     "data": {
      "text/plain": [
       "[serialVersionUID, size, contains, containsAll, equals, get, hashCode, indexOf, isEmpty, iterator, lastIndexOf, listIterator, readResolve, subList, toString, forEach, parallelStream, spliterator, stream, toArray]"
      ]
     },
     "execution_count": 7,
     "metadata": {},
     "output_type": "execute_result"
    }
   ],
   "source": [
    "emptyList.dir()"
   ]
  },
  {
   "cell_type": "code",
   "execution_count": 8,
   "id": "e43e4bcb",
   "metadata": {},
   "outputs": [
    {
     "name": "stdout",
     "output_type": "stream",
     "text": [
      "EmptyList\n"
     ]
    },
    {
     "data": {
      "text/plain": [
       "[serialVersionUID, size, contains, containsAll, equals, get, hashCode, indexOf, isEmpty, iterator, lastIndexOf, listIterator, readResolve, subList, toString, forEach, parallelStream, spliterator, stream, toArray]"
      ]
     },
     "execution_count": 8,
     "metadata": {},
     "output_type": "execute_result"
    }
   ],
   "source": [
    "listOf<String>().dir()"
   ]
  },
  {
   "cell_type": "markdown",
   "id": "aae4f777",
   "metadata": {},
   "source": [
    "### 갱신할 수 없음 "
   ]
  },
  {
   "cell_type": "code",
   "execution_count": 9,
   "id": "e202e3ea",
   "metadata": {},
   "outputs": [],
   "source": [
    "// emptyList[0] = \"첫번째\"       변경불가능한 리스트 "
   ]
  },
  {
   "cell_type": "markdown",
   "id": "848465ad",
   "metadata": {},
   "source": [
    "### 빈 리스트의 원소를 추가할 때는 가변리스트로 빈리스트를 만들고 메서드로 추가"
   ]
  },
  {
   "cell_type": "code",
   "execution_count": 10,
   "id": "4a2c6975",
   "metadata": {},
   "outputs": [
    {
     "name": "stdout",
     "output_type": "stream",
     "text": [
      "class java.util.ArrayList\n",
      "[100]\n"
     ]
    }
   ],
   "source": [
    "val b = mutableListOf<String>()\n",
    "\n",
    "println(b.javaClass.kotlin)\n",
    "// b[0] = \"100\"           빈 배열에는 인덱스로 원소를 추가할 수 없음 \n",
    "b.add(\"100\")           // add 메서드로 원소를 추가할 수 있음\n",
    "println(b)"
   ]
  },
  {
   "cell_type": "code",
   "execution_count": null,
   "id": "6d0eaf5d",
   "metadata": {},
   "outputs": [],
   "source": []
  },
  {
   "cell_type": "code",
   "execution_count": null,
   "id": "bb23e842",
   "metadata": {},
   "outputs": [],
   "source": []
  },
  {
   "cell_type": "markdown",
   "id": "653f7982",
   "metadata": {},
   "source": [
    "## 1-1-2 널이 없는 리스트 만들기\n",
    "\n",
    "- 널이 없는 원소만 리스트로 변환할 때 listOfNotNull 함수로 리스트를 만듬 "
   ]
  },
  {
   "cell_type": "code",
   "execution_count": 11,
   "id": "cf818a59",
   "metadata": {},
   "outputs": [
    {
     "name": "stdout",
     "output_type": "stream",
     "text": [
      "class java.util.ArrayList\n",
      "[2, 45, 2, 5]\n",
      "java.util.AbstractList<E!>\n"
     ]
    }
   ],
   "source": [
    "val nonNullsList = listOfNotNull(\"2\", \"45\", \"2\", null, \"5\", null)  // 널제거 리스트 생성 \n",
    "println(nonNullsList.javaClass.kotlin)\n",
    "println(nonNullsList)\n",
    "println(nonNullsList.javaClass.kotlin.supertypes[0])       // 빈 리스트의 상속관계 확인 \n"
   ]
  },
  {
   "cell_type": "markdown",
   "id": "24a12087",
   "metadata": {},
   "source": [
    "### 내부 갱신의 가능한 리스트 확인 "
   ]
  },
  {
   "cell_type": "code",
   "execution_count": 12,
   "id": "5ce0b9de",
   "metadata": {},
   "outputs": [
    {
     "name": "stdout",
     "output_type": "stream",
     "text": [
      "ArrayList\n"
     ]
    },
    {
     "data": {
      "text/plain": [
       "[add, addAll, clear, iterator, remove, removeAll, retainAll, contains, isEmpty, equals, hashCode, spliterator, forEach, toArray, removeIf, listIterator, removeAt, set, subList, get, indexOf, lastIndexOf, replaceAll, sort, removeRange, rangeCheckForAdd, outOfBoundsMsg, clone, elementData, grow, indexOfRange, lastIndexOfRange, equalsRange, equalsArrayList, checkForComodification, hashCodeRange, fastRemove, shiftTailOverGap, batchRemove, replaceAllRange, checkInvariants, readObject, writeObject, newCapacity, ensureCapacity, trimToSize, size, containsAll, toString, stream, parallelStream, modCount, elementAt, nBits, setBit, isClear, hugeCapacity, serialVersionUID, DEFAULT_CAPACITY, EMPTY_ELEMENTDATA, DEFAULTCAPACITY_EMPTY_ELEMENTDATA, MAX_ARRAY_SIZE, subListRangeCheck]"
      ]
     },
     "execution_count": 12,
     "metadata": {},
     "output_type": "execute_result"
    }
   ],
   "source": [
    "nonNullsList.dir()"
   ]
  },
  {
   "cell_type": "code",
   "execution_count": 13,
   "id": "0a715cfa",
   "metadata": {},
   "outputs": [],
   "source": [
    "// nonNullsList.add(\"가을\")  갱신할 수 없는 리스트를 만들어서 참조할 수 없음 "
   ]
  },
  {
   "cell_type": "markdown",
   "id": "312eb9a3",
   "metadata": {},
   "source": [
    "### 가변리스트는 널을 생성하고 널값을 제거할 수 있음 "
   ]
  },
  {
   "cell_type": "code",
   "execution_count": 14,
   "id": "ed7d555f",
   "metadata": {},
   "outputs": [
    {
     "name": "stdout",
     "output_type": "stream",
     "text": [
      "[2, 45, 2, 5]\n"
     ]
    }
   ],
   "source": [
    "val mutNonNullsList = mutableListOf(\"2\", \"45\", \"2\", null, \"5\", null)  // 널제거 리스트 생성 \n",
    "mutNonNullsList.removeAll(listOf(null))        // 컬렉션 타입이므로 리스트를 만들어서 삭제해야 함 \n",
    "// mutNonNullsList.remove(null);mutNonNullsList.remove(null) 두번 제거할 수도 있음 \n",
    "println(mutNonNullsList)"
   ]
  },
  {
   "cell_type": "code",
   "execution_count": null,
   "id": "2a28e47a",
   "metadata": {},
   "outputs": [],
   "source": []
  },
  {
   "cell_type": "markdown",
   "id": "dc077c91",
   "metadata": {},
   "source": [
    "## 1-1-3 갱신가능한 리스트를 만들기\n",
    "\n",
    "- 불변과 가변을 제공\n",
    "- 실제 런타임에는 동일한 리스트이지만 컴파일할 때 불변과 가변을 체크 \n",
    "- 동일한 리스트의 결과라도 실제  불변일때는 메서드 사용하면 컴파일에서 에러 처리함 "
   ]
  },
  {
   "cell_type": "code",
   "execution_count": 15,
   "id": "5c241e35",
   "metadata": {},
   "outputs": [
    {
     "name": "stdout",
     "output_type": "stream",
     "text": [
      "class java.util.ArrayList\n"
     ]
    }
   ],
   "source": [
    "val mutlist = mutableListOf(\"봄\",\"여름\",\"가을\",\"겨울\")\n",
    "\n",
    "println(mutlist.javaClass)"
   ]
  },
  {
   "cell_type": "code",
   "execution_count": 16,
   "id": "915d61eb",
   "metadata": {},
   "outputs": [
    {
     "name": "stdout",
     "output_type": "stream",
     "text": [
      "ArrayList\n"
     ]
    },
    {
     "data": {
      "text/plain": [
       "[add, addAll, clear, iterator, remove, removeAll, retainAll, contains, isEmpty, equals, hashCode, spliterator, forEach, toArray, removeIf, listIterator, removeAt, set, subList, get, indexOf, lastIndexOf, replaceAll, sort, removeRange, rangeCheckForAdd, outOfBoundsMsg, clone, elementData, grow, indexOfRange, lastIndexOfRange, equalsRange, equalsArrayList, checkForComodification, hashCodeRange, fastRemove, shiftTailOverGap, batchRemove, replaceAllRange, checkInvariants, readObject, writeObject, newCapacity, ensureCapacity, trimToSize, size, containsAll, toString, stream, parallelStream, modCount, elementAt, nBits, setBit, isClear, hugeCapacity, serialVersionUID, DEFAULT_CAPACITY, EMPTY_ELEMENTDATA, DEFAULTCAPACITY_EMPTY_ELEMENTDATA, MAX_ARRAY_SIZE, subListRangeCheck]"
      ]
     },
     "execution_count": 16,
     "metadata": {},
     "output_type": "execute_result"
    }
   ],
   "source": [
    "mutlist.dir()"
   ]
  },
  {
   "cell_type": "code",
   "execution_count": 17,
   "id": "5143cafb",
   "metadata": {},
   "outputs": [
    {
     "name": "stdout",
     "output_type": "stream",
     "text": [
      "[봄, 여름, 가을, 겨울, 환절기]\n"
     ]
    }
   ],
   "source": [
    "mutlist.add(\"환절기\")\n",
    "println(mutlist)"
   ]
  },
  {
   "cell_type": "markdown",
   "id": "e79fac81",
   "metadata": {},
   "source": [
    "### 가변리스트 일때도 연산자로 리스트 원소를 추가\n",
    "\n",
    "- 이때는 새로운 리스트를 만들어서 반환한다."
   ]
  },
  {
   "cell_type": "code",
   "execution_count": 18,
   "id": "163e7444",
   "metadata": {},
   "outputs": [
    {
     "name": "stdout",
     "output_type": "stream",
     "text": [
      "false\n",
      "[1, 2, 3, 4]\n",
      "[1, 2, 3, 4, 1]\n"
     ]
    }
   ],
   "source": [
    "val l1 = listOf(1,2,3,4)\n",
    "\n",
    "val l2 = l1 + 1\n",
    "\n",
    "println(l1 === l2)              // 별도의 객체를 만든다. \n",
    "println(l1)\n",
    "println(l2)"
   ]
  },
  {
   "cell_type": "code",
   "execution_count": null,
   "id": "c955cb4f",
   "metadata": {},
   "outputs": [],
   "source": []
  },
  {
   "cell_type": "markdown",
   "id": "b21e0378",
   "metadata": {},
   "source": [
    "## 1-1-4 여러 리스트를 만들기"
   ]
  },
  {
   "cell_type": "markdown",
   "id": "a8f5b623",
   "metadata": {},
   "source": [
    "### 불변 기본 리스트는 실제 배열 내의 배열 리스트로 생성 "
   ]
  },
  {
   "cell_type": "code",
   "execution_count": 19,
   "id": "4e9410c5",
   "metadata": {},
   "outputs": [
    {
     "name": "stdout",
     "output_type": "stream",
     "text": [
      "class java.util.Arrays$ArrayList\n"
     ]
    }
   ],
   "source": [
    "val listof = listOf(1,2,3,4)\n",
    "\n",
    "println(listof.javaClass)              // 기본 불변리스트는 배열 내의 배열리스트 자료형으로 처리 "
   ]
  },
  {
   "cell_type": "markdown",
   "id": "00f0544c",
   "metadata": {},
   "source": [
    "### arrayListOf()는 변경가능한 리스트를 만듬\n",
    "\n",
    "- mutableOf로 리스트를 만든 경우와 동일함 "
   ]
  },
  {
   "cell_type": "code",
   "execution_count": 20,
   "id": "3056007c",
   "metadata": {},
   "outputs": [
    {
     "name": "stdout",
     "output_type": "stream",
     "text": [
      "class java.util.ArrayList\n",
      "[코틀린, 입문을, 축하합니다.]\n",
      "[코틀린, 입문을, 축하합니다., 갱신합니다.]\n"
     ]
    }
   ],
   "source": [
    "val stringList: ArrayList<String> = \n",
    "              arrayListOf(\"코틀린\", \"입문을\", \"축하합니다.\")     // arraylist로 리스트 생성 \n",
    "println(stringList.javaClass.kotlin)\n",
    "println(stringList)                                        // 리스트 확인 \n",
    "\n",
    "stringList.add(\"갱신합니다.\")\n",
    "println(stringList)"
   ]
  },
  {
   "cell_type": "markdown",
   "id": "5ef9eb2c",
   "metadata": {},
   "source": [
    "### 변경불가능한 리스트는 실제 값을 갱신할 수 없음"
   ]
  },
  {
   "cell_type": "code",
   "execution_count": 21,
   "id": "551f5ce0",
   "metadata": {},
   "outputs": [
    {
     "name": "stdout",
     "output_type": "stream",
     "text": [
      "class java.util.Arrays$ArrayList\n",
      "[꿈은, 이루어진다.]\n"
     ]
    }
   ],
   "source": [
    "val stringList1: List<String> = \n",
    "                 listOf(\"꿈은\", \"이루어진다.\")                 // list로 리스트 생성 \n",
    "println(stringList1.javaClass.kotlin)\n",
    "println(stringList1)  \n",
    "\n",
    "// stringList1.add(\"갱신합니다.\")   "
   ]
  },
  {
   "cell_type": "markdown",
   "id": "096fc520",
   "metadata": {},
   "source": [
    "## 1-1-5 링크드 리스트 만들기\n",
    "\n",
    "- 일반 리스트와 차이점은 리스트의 요소들을 포인터로 연결된 리스트를 가짐 \n",
    "- 검색할 때 일반 배열보다 빠름 "
   ]
  },
  {
   "cell_type": "code",
   "execution_count": 22,
   "id": "584d214a",
   "metadata": {},
   "outputs": [
    {
     "name": "stdout",
     "output_type": "stream",
     "text": [
      "java.util.AbstractSequentialList<E!>\n",
      "Planets = [지구, 금성, 화성 ]\n",
      "First planet = 지구\n",
      "Last planet = 화성 \n"
     ]
    }
   ],
   "source": [
    "var planets =  LinkedList<String>()                      // 링크드 리스트 생성 \n",
    "println(planets.javaClass.kotlin.supertypes[0])\n",
    "\n",
    "planets.addAll(listOf(\"지구\", \"금성\", \"화성 \"))             // 링크드 리스트에 원소 추가 \n",
    "println(\"Planets = \" + planets)\n",
    "\n",
    "println(\"First planet = \" + planets.first)               // 첫번째 값 확인 \n",
    "println(\"Last planet = \" + planets.last)                 // 마지막 값 확인 \n"
   ]
  },
  {
   "cell_type": "markdown",
   "id": "0bf5fa4d",
   "metadata": {},
   "source": [
    "### 리스트에 덧셈연산을 처리하기\n",
    "\n",
    "- 리스트들간의 연결을 할 때 연산자도 사용가능 "
   ]
  },
  {
   "cell_type": "code",
   "execution_count": 23,
   "id": "3da166d3",
   "metadata": {},
   "outputs": [
    {
     "name": "stdout",
     "output_type": "stream",
     "text": [
      "joinedplanets : [지구, 금성, 화성 , 지구, 금성, 화성 ]\n",
      "joinedplanets2 :  [지구, 금성, 화성 , 지구, 금성, 화성 ]\n",
      "Planets = [지구, 금성, 화성 ]\n"
     ]
    }
   ],
   "source": [
    "val joinedplanets = planets + planets                    // 두 링크드 리스트를 더하면 \n",
    "println(\"joinedplanets : $joinedplanets\")                // 새로운 링크드 리스트를 생성 \n",
    "\n",
    "val joinedplanets2 = planets.plus(planets)               // 메서드로 처리도 가능 \n",
    "println(\"joinedplanets2 :  $joinedplanets2\")\n",
    "\n",
    "println(\"Planets = \" + planets)"
   ]
  },
  {
   "cell_type": "code",
   "execution_count": 24,
   "id": "188733fe",
   "metadata": {},
   "outputs": [
    {
     "name": "stdout",
     "output_type": "stream",
     "text": [
      "[1, 2, 3, 4, 5]\n",
      "[1, 2, 3, 4]\n"
     ]
    }
   ],
   "source": [
    "val ml = mutableListOf(1,2,3,4)                          // 원소를 하나씩 추가 삭제도 연산자로 가능\n",
    "\n",
    "ml += 5\n",
    "println(ml)\n",
    "ml -= 5\n",
    "println(ml)"
   ]
  },
  {
   "cell_type": "code",
   "execution_count": null,
   "id": "ae7181af",
   "metadata": {},
   "outputs": [],
   "source": []
  },
  {
   "cell_type": "markdown",
   "id": "31380845",
   "metadata": {},
   "source": [
    "## 1-2 집합 \n",
    "\n",
    "- 유일한 원소를 가지는 컬렉션의 자료구조이다. \n",
    "- 유일한 원소만 가져야 하므로 hash 자료구조로 집합을 만듬 "
   ]
  },
  {
   "cell_type": "code",
   "execution_count": 25,
   "id": "662b33c6",
   "metadata": {},
   "outputs": [],
   "source": [
    "import java.util.LinkedHashSet                    // 자바에서 지원하는 집합 자료구조 \n",
    "import java.util.HashSet\n",
    "import java.util.TreeSet"
   ]
  },
  {
   "cell_type": "markdown",
   "id": "c6882c0e",
   "metadata": {},
   "source": [
    "## 1-2-1 변경불가능한 집합\n",
    "\n",
    "- 한번 생성하면 원소를 추가 삭제 할 수 없다. "
   ]
  },
  {
   "cell_type": "code",
   "execution_count": 26,
   "id": "c4f0653c",
   "metadata": {},
   "outputs": [
    {
     "name": "stdout",
     "output_type": "stream",
     "text": [
      "class java.util.LinkedHashSet\n"
     ]
    }
   ],
   "source": [
    "val mixedTypesSet = setOf(2, 4.454, \"how\", \"far\", 'c')      // 혼합 자료형 집합 생성 가능 \n",
    "var intSet: Set<Int> = setOf(1, 3, 4)                       // 단일 자료형 집합 생성 \n",
    "println(intSet.javaClass)\n"
   ]
  },
  {
   "cell_type": "markdown",
   "id": "38c478cd",
   "metadata": {},
   "source": [
    "## 1-2-2 변경가능한 집합 \n",
    "\n",
    "- 변경가능한 집합은 원소를 추가 삭제할 수 있다. "
   ]
  },
  {
   "cell_type": "code",
   "execution_count": 27,
   "id": "80cbc8e3",
   "metadata": {},
   "outputs": [
    {
     "name": "stdout",
     "output_type": "stream",
     "text": [
      "class java.util.LinkedHashSet\n",
      "class java.util.LinkedHashSet\n",
      "[42, 43]\n",
      "[43]\n"
     ]
    }
   ],
   "source": [
    "val mixedMSet: Set<Any> = \n",
    "                mutableSetOf(2, 4.454, \"how\", \"far\", 'c')   // 혼합 자료형 집합\n",
    "var intmSet: Set<Int> = \n",
    "                mutableSetOf(1, 3, 4)                       // 단일 자료형 집합\n",
    "println(intmSet.javaClass)\n",
    "\n",
    "val mutableSet = mutableSetOf<Int> ()                       // 가변집합을 연산자로 원소 추가 삭제\n",
    "println(mutableSet.javaClass)\n",
    "mutableSet += 42                                            // 덧셈과 뺄셈으로 원소를 추가 삭제 할 수 있다. \n",
    "mutableSet += 43\n",
    "println(mutableSet)\n",
    "mutableSet -= 42\n",
    "println(mutableSet)"
   ]
  },
  {
   "cell_type": "code",
   "execution_count": null,
   "id": "22acee78",
   "metadata": {},
   "outputs": [],
   "source": []
  },
  {
   "cell_type": "markdown",
   "id": "a15f79ed",
   "metadata": {},
   "source": [
    "## 1-3 맵"
   ]
  },
  {
   "cell_type": "markdown",
   "id": "dcd2fa23",
   "metadata": {},
   "source": [
    "## 1-3-1 맵 정의 알아보기"
   ]
  },
  {
   "cell_type": "markdown",
   "id": "c0ccd7e6",
   "metadata": {},
   "source": [
    "### 코틀린과 자바의 맵을 지원 "
   ]
  },
  {
   "cell_type": "code",
   "execution_count": 28,
   "id": "d5255763",
   "metadata": {},
   "outputs": [],
   "source": [
    "import kotlin.collections.HashMap\n",
    "import kotlin.collections.LinkedHashMap\n",
    "import java.util.TreeMap\n",
    "import java.util.SortedMap"
   ]
  },
  {
   "cell_type": "markdown",
   "id": "ec3e758c",
   "metadata": {},
   "source": [
    "### 맵 내부의 멤버를 확인하는 확장함수 알아보기"
   ]
  },
  {
   "cell_type": "code",
   "execution_count": 29,
   "id": "96869562",
   "metadata": {},
   "outputs": [],
   "source": [
    "fun <T1,T2> Map<T1,T2>.dir() : Set<String> {\n",
    "    val a = this.javaClass.kotlin\n",
    "    println(a.simpleName)\n",
    "    val ll = a.members.map { it.name}              // 멤버의 이름을 맵으로 처리하기 \n",
    "    return ll.toSet()\n",
    "}"
   ]
  },
  {
   "cell_type": "code",
   "execution_count": null,
   "id": "ef0079a9",
   "metadata": {},
   "outputs": [],
   "source": []
  },
  {
   "cell_type": "markdown",
   "id": "a94a6c52",
   "metadata": {},
   "source": [
    "### 변경불가능한 맵을 만들고 확인하기"
   ]
  },
  {
   "cell_type": "code",
   "execution_count": 30,
   "id": "68a79e40",
   "metadata": {},
   "outputs": [
    {
     "name": "stdout",
     "output_type": "stream",
     "text": [
      "82 코드는 어느나라 한국\n",
      "1 코드는 어느나라 USA\n",
      "233 코드는 어느나라 가나\n",
      "맵의 개수=3\n",
      "가나\n"
     ]
    }
   ],
   "source": [
    "val callingMap: Map<Int, String> =                               // 맵 생성 \n",
    "          mapOf(82 to \"한국\", 1 to \"USA\", 233 to \"가나\")\n",
    "for ((key, value) in callingMap) {                               // 순환문 처리 \n",
    "    println(\"$key 코드는 어느나라 $value\")\n",
    "}\n",
    "println(\"맵의 개수=\" + callingMap.size) \n",
    "println(callingMap[233])                                          // 원소선택 "
   ]
  },
  {
   "cell_type": "markdown",
   "id": "88039230",
   "metadata": {},
   "source": [
    "### 실제 맵의 멤버를 확인하기"
   ]
  },
  {
   "cell_type": "code",
   "execution_count": 31,
   "id": "c93523a6",
   "metadata": {},
   "outputs": [
    {
     "name": "stdout",
     "output_type": "stream",
     "text": [
      "LinkedHashMap\n"
     ]
    },
    {
     "data": {
      "text/plain": [
       "[clear, containsValue, get, getOrDefault, replaceAll, forEach, newNode, replacementNode, newTreeNode, replacementTreeNode, reinitialize, afterNodeAccess, afterNodeInsertion, afterNodeRemoval, internalWriteEntries, removeEldestEntry, linkNodeLast, transferLinks, head, tail, accessOrder, values, entries, keys, put, putAll, remove, containsKey, isEmpty, equals, hashCode, toString, replace, merge, putIfAbsent, compute, computeIfAbsent, computeIfPresent, clone, loadFactor, capacity, resize, putMapEntries, getNode, putVal, treeifyBin, removeNode, table, entrySet, size, modCount, threshold, keySet, serialVersionUID, hash, tableSizeFor, comparableClassFor, compareComparables, DEFAULT_INITIAL_CAPACITY, MAXIMUM_CAPACITY, DEFAULT_LOAD_FACTOR, TREEIFY_THRESHOLD, UNTREEIFY_THRESHOLD, MIN_TREEIFY_CAPACITY]"
      ]
     },
     "execution_count": 31,
     "metadata": {},
     "output_type": "execute_result"
    }
   ],
   "source": [
    "callingMap.dir()"
   ]
  },
  {
   "cell_type": "code",
   "execution_count": null,
   "id": "5dab6df9",
   "metadata": {},
   "outputs": [],
   "source": []
  },
  {
   "cell_type": "markdown",
   "id": "28d44917",
   "metadata": {},
   "source": [
    "## 1-3-2 갱신가능한 맵 처리 "
   ]
  },
  {
   "cell_type": "markdown",
   "id": "0471d644",
   "metadata": {},
   "source": [
    "### 2 개의 원서를 쌍으로 가지는 튜플"
   ]
  },
  {
   "cell_type": "code",
   "execution_count": 32,
   "id": "a4a16989",
   "metadata": {},
   "outputs": [
    {
     "name": "stdout",
     "output_type": "stream",
     "text": [
      "class kotlin.Pair\n"
     ]
    }
   ],
   "source": [
    "val tu = \"원\" to \"한국\"\n",
    "println(tu.javaClass.kotlin)"
   ]
  },
  {
   "cell_type": "markdown",
   "id": "59266eb4",
   "metadata": {},
   "source": [
    "### 변경가능한 맵을 튜플로 만들기 "
   ]
  },
  {
   "cell_type": "code",
   "execution_count": 33,
   "id": "f0a69d27",
   "metadata": {},
   "outputs": [
    {
     "name": "stdout",
     "output_type": "stream",
     "text": [
      "국가 = [한국, 미국, 영국]\n",
      "통화 = [원, 달러, 파운드]\n"
     ]
    }
   ],
   "source": [
    "val currencyMap: MutableMap<String, String> = \n",
    "    mutableMapOf(\"원\" to \"한국\", \"달러\" to \"미국\", \"파운드\" to \"영국\")   // 변경가능한 맵생성\n",
    "println(\"국가 = ${currencyMap.values}\")                             // 값 출력 \n",
    "println(\"통화 = ${currencyMap.keys}\")                               // 키 출력"
   ]
  },
  {
   "cell_type": "code",
   "execution_count": 34,
   "id": "c4e634da",
   "metadata": {},
   "outputs": [
    {
     "data": {
      "text/plain": [
       "{원=한국, 달러=미국, 파운드=영국}"
      ]
     },
     "execution_count": 34,
     "metadata": {},
     "output_type": "execute_result"
    }
   ],
   "source": [
    "currencyMap"
   ]
  },
  {
   "cell_type": "markdown",
   "id": "ee0e98d3",
   "metadata": {},
   "source": [
    "### 내부 원소 추가 및 삭제"
   ]
  },
  {
   "cell_type": "code",
   "execution_count": 35,
   "id": "b1139483",
   "metadata": {},
   "outputs": [
    {
     "name": "stdout",
     "output_type": "stream",
     "text": [
      "미국\n"
     ]
    }
   ],
   "source": [
    "currencyMap.put(\"엔\", \"일본\")                // 맵에 키와 값 입력\n",
    "println(currencyMap.remove(\"달러\"))         //  키로 삭제 \n",
    " "
   ]
  },
  {
   "cell_type": "markdown",
   "id": "aed4cbcc",
   "metadata": {},
   "source": [
    "### 맵 조회하기"
   ]
  },
  {
   "cell_type": "code",
   "execution_count": 36,
   "id": "36bf8f6f",
   "metadata": {},
   "outputs": [
    {
     "name": "stdout",
     "output_type": "stream",
     "text": [
      "일본\n",
      "한국\n",
      "null\n",
      "해당값없음\n"
     ]
    }
   ],
   "source": [
    "println(currencyMap.get(\"엔\"))\n",
    "println(currencyMap[\"원\"])\n",
    "println(currencyMap.get(\"위완\"))                      // 없는 키 조회  널로 반환\n",
    "println(currencyMap.getOrDefault(\"위완\",\"해당값없음\"))   // 없는 키를 조회할 때 사용 "
   ]
  },
  {
   "cell_type": "markdown",
   "id": "367ba3cd",
   "metadata": {},
   "source": [
    "### 트리 맵 처리 "
   ]
  },
  {
   "cell_type": "code",
   "execution_count": 37,
   "id": "b9ba0622",
   "metadata": {},
   "outputs": [
    {
     "name": "stdout",
     "output_type": "stream",
     "text": [
      "{A=1000001, B=1000010, C=1000011}\n"
     ]
    }
   ],
   "source": [
    "val binaryReps = TreeMap<Char, String>()                           // 트리맵 생성 \n",
    "for (c in 'A'..'C') {                                              // 바이너리 값 처리\n",
    "    val binary = c.toInt().toString(2)                             // \n",
    "    binaryReps[c] = binary                                         // 맵에 원소 추가         \n",
    "}\n",
    "println(binaryReps)"
   ]
  },
  {
   "cell_type": "code",
   "execution_count": null,
   "id": "df1fdb71",
   "metadata": {},
   "outputs": [],
   "source": []
  },
  {
   "cell_type": "markdown",
   "id": "b6b86c51",
   "metadata": {},
   "source": [
    "## 1-4 컬렉션 조작하기"
   ]
  },
  {
   "cell_type": "markdown",
   "id": "88aa9ca4",
   "metadata": {},
   "source": [
    "## 1-4-1  컬렉션 정보 확인하기 "
   ]
  },
  {
   "cell_type": "code",
   "execution_count": 38,
   "id": "6af8b6f5",
   "metadata": {},
   "outputs": [
    {
     "name": "stdout",
     "output_type": "stream",
     "text": [
      "3\n",
      "false\n",
      "true\n",
      "true\n",
      "3\n",
      "false\n",
      "true\n",
      "true\n",
      "2\n",
      "false\n",
      "true\n",
      "true\n",
      "true\n"
     ]
    }
   ],
   "source": [
    "val list1 = listOf(\"a\",\"b\",\"c\")             // 리스트 객체 생성\n",
    "println(list1.size)                         // 원소 개수  \n",
    "println(list1.isEmpty())                    // 원소가 없는지 확인\n",
    "println(list1.contains(\"b\"))                // 포함여부 \n",
    "println(list1.containsAll(list1))           // 전체가 다 포함되었는지\n",
    "\n",
    "val set1 = setOf(1,2,3)                     // 집합 객체 생성\n",
    "println(set1.size)             \n",
    "println(set1.isEmpty())                     // 원소가 없는지 확인\n",
    "println(set1.contains(3))                   // 포함여부 \n",
    "println(set1.containsAll(set1))             // 전체가 다 포함되었는지 \n",
    "\n",
    "val map1 = mapOf(\"a\" to 100, \"b\" to 300)    // 맵 객체 생성\n",
    "println(map1.size)                          // 원소 개수     \n",
    "println(map1.isEmpty())                     // 원소가 없는지 확인 \n",
    "println(map1.contains(\"b\"))                 // 포함여부 \n",
    "println(map1.containsKey(\"b\"))              // 키 포함여부\n",
    "println(map1.containsValue(300))            // 값 포함여부"
   ]
  },
  {
   "cell_type": "markdown",
   "id": "9319bd64",
   "metadata": {},
   "source": [
    "### 컬렉션 내부 순환"
   ]
  },
  {
   "cell_type": "code",
   "execution_count": 39,
   "id": "02e88845",
   "metadata": {},
   "outputs": [
    {
     "name": "stdout",
     "output_type": "stream",
     "text": [
      "a, b, c, \n",
      "0 = a, 1 = b, 2 = c, \n",
      "1, 2, 3, \n",
      "a = 100\n",
      "b = 300\n"
     ]
    }
   ],
   "source": [
    "list1.forEach {print(it + \", \")}                       // 순환처리\n",
    "println()                                              // 인덱스 값과 값이 순환하기\n",
    "list1.forEachIndexed {index,value -> print(\"$index = $value, \")}\n",
    "println()\n",
    "set1.forEach {print(it.toString() + \", \")}             // 순환처리\n",
    "println()                                              // 키와 밸류에 대한 순환처리\n",
    "map1.forEach {(key,value) -> println(\"$key = $value\")}"
   ]
  },
  {
   "cell_type": "code",
   "execution_count": null,
   "id": "7a77ebd4",
   "metadata": {},
   "outputs": [],
   "source": []
  },
  {
   "cell_type": "markdown",
   "id": "b0619b0c",
   "metadata": {},
   "source": [
    "## 1-4-2 컬렉션 원소 접근 "
   ]
  },
  {
   "cell_type": "markdown",
   "id": "93d7a659",
   "metadata": {},
   "source": [
    "### 리스트 "
   ]
  },
  {
   "cell_type": "code",
   "execution_count": 40,
   "id": "0cc21080",
   "metadata": {},
   "outputs": [
    {
     "name": "stdout",
     "output_type": "stream",
     "text": [
      "첫번째  : 당지\n",
      "마지막  : 당당\n",
      "두번째 인덱스 원소 확인 : 당장\n",
      "값으로 인덱스 확인 : 4\n",
      "값으로 마지막 인덱스 확인: 2 당지\n",
      "범위 밖 처리인덱스 범위 밖\n",
      "찾기 :당소\n",
      "최소값 : 당당 최대값 : 당지 \n"
     ]
    }
   ],
   "source": [
    "val llist = listOf(\"당지\",\"당소\",\"당장\",\"당주\",\"당상\",\"당당\")                // 리스트 생성\n",
    "\n",
    "println(\"첫번째  : \" + llist.first())                                   // 첫번째 원소 확인\n",
    "println(\"마지막  : \" + llist.last())                                    // 마지막 원소 확인 \n",
    "println(\"두번째 인덱스 원소 확인 : \"+ llist.elementAt(2))                   // 인덱스로 값 조회\n",
    "println(\"값으로 인덱스 확인 : \"+ llist.indexOf(\"당상\"))                     // 값이 없으면 -1\n",
    "println(\"값으로 마지막 인덱스 확인: \"+ llist.lastIndexOf(\"당장\")              // 마지막 인덱스 확인 \n",
    "                        + \" \" + llist.elementAt(0))\n",
    "println(\"범위 밖 처리\" + llist.elementAtOrElse(8) {\"인덱스 범위 밖\"})        //인덱스에 없는 경우 초기값처리\n",
    "\n",
    "println(\"찾기 :\" + llist.find({it ==\"당소\"}))                            // 특정 값을 검색\n",
    "println(\"최소값 : ${llist.minOf {it} } 최대값 : ${llist.maxOf { it }} \")  // 최대값 최소값 조회"
   ]
  },
  {
   "cell_type": "markdown",
   "id": "b20ec5e4",
   "metadata": {},
   "source": [
    "### 집합 "
   ]
  },
  {
   "cell_type": "code",
   "execution_count": 41,
   "id": "c66774ad",
   "metadata": {},
   "outputs": [
    {
     "name": "stdout",
     "output_type": "stream",
     "text": [
      "첫번째  : 당지\n",
      "마지막  : 당당\n",
      "두번째 인덱스 원소 확인 : 당장\n",
      "값으로 인덱스 확인 : 4\n",
      "값으로 마지막 인덱스 확인: 2 당지\n",
      "범위 밖 처리인덱스 범위 밖\n",
      "찾기 :당당\n",
      "최소값 : 당당 최대값 : 당지 \n"
     ]
    }
   ],
   "source": [
    "val hset = setOf(\"당지\",\"당소\",\"당장\",\"당주\",\"당상\",\"당당\")                   // 집합 생성\n",
    "println(\"첫번째  : \" + hset.first())\n",
    "println(\"마지막  : \" + hset.last())\n",
    "println(\"두번째 인덱스 원소 확인 : \"+ hset.elementAt(2))                     // 인덱스로 값 조회\n",
    "println(\"값으로 인덱스 확인 : \"+ hset.indexOf(\"당상\"))                       // 값이 없으면 -1\n",
    "println(\"값으로 마지막 인덱스 확인: \"+ hset.lastIndexOf(\"당장\")                // 마지막 인덱스 조회\n",
    "                               + \" \" + hset.elementAt(0))               // 특정인덱스로 값 조회 \n",
    "println(\"범위 밖 처리\" + hset.elementAtOrElse(8) {\"인덱스 범위 밖\"})          // 인덱스에 없으면 초기값 처리 \n",
    "println(\"찾기 :\" + hset.findLast {it ==\"당당\"})                           // 특정 값을 검색\n",
    "println(\"최소값 : ${hset.minOf {it} } 최대값 : ${hset.maxOf { it }} \")     // 최대값 최소값 조회"
   ]
  },
  {
   "cell_type": "markdown",
   "id": "f3e8d396",
   "metadata": {},
   "source": [
    "### 맵 "
   ]
  },
  {
   "cell_type": "code",
   "execution_count": 42,
   "id": "733ed511",
   "metadata": {},
   "outputs": [
    {
     "name": "stdout",
     "output_type": "stream",
     "text": [
      "getorElse  : 33\n",
      "33\n",
      "33\n",
      "getorDefault  : 16\n",
      "16\n",
      "최소값 : 당당 최대값 : 당지 \n",
      "최소값 : 12 최대값 : 45 \n"
     ]
    }
   ],
   "source": [
    "val name = listOf(\"당지\",\"당소\",\"당장\",\"당주\",\"당상\",\"당당\")       // 리스트 생성\n",
    "val age  = listOf(33,23,45,12,32,16)\n",
    "\n",
    "val nameage = name.zip(age).toTypedArray()                   // 두 리스트를 튜플로 만듬\n",
    "val mmap = mapOf(*nameage)                                   // 배열은 스프레이드로 내부 튜플을 제공해서\n",
    "                                                             // 맵생성\n",
    "println(\"getorElse  : \" + mmap.getOrElse (\"당지\") { 0 })      // 특정값 조회 없으면 초기값 처리\n",
    "println(mmap.get(\"당지\"))                                     // 조회함수 사용\n",
    "println(mmap[\"당지\"])                                         // 조호 연산자 사용 \n",
    "println(\"getorDefault  : \" +mmap.getOrDefault(\"당당\", 10))    // 없으면 초기값 처리\n",
    "println(mmap[\"당당\"])  \n",
    "                                                             // 키에 대한 최소값 최대값 조회\n",
    "println(\"최소값 : ${mmap.minOf { it.key } } 최대값 : ${mmap.maxOf { it.key }} \")\n",
    "                                                             // 값에 대한 최소값 최대갑 조회\n",
    "println(\"최소값 : ${mmap.minOf { it.value } } 최대값 : ${mmap.maxOf { it.value}} \")"
   ]
  },
  {
   "cell_type": "markdown",
   "id": "96cf0211",
   "metadata": {},
   "source": [
    "### 컬렉션 상태 조사"
   ]
  },
  {
   "cell_type": "code",
   "execution_count": 43,
   "id": "5d2386f9",
   "metadata": {},
   "outputs": [
    {
     "name": "stdout",
     "output_type": "stream",
     "text": [
      "list any : false\n",
      "list all : true\n",
      "list none : false\n",
      "map any : false\n",
      "map any : true\n",
      "map a11 : true\n",
      "map a11 : false\n",
      "map none : false\n"
     ]
    }
   ],
   "source": [
    "println(\"list any : \" + llist.any { it.length > 3})        // 리스트 any\n",
    "println(\"list all : \" + llist.all { it > \"강지\"})           // 리스트 all\n",
    "println(\"list none : \"+ llist.none { it > \"강지\"})          // 리스트 non \n",
    "println(\"map any : \" +  mmap.any() { it.key.length > 3})   // 맵 any는 키와 밸류로 처리\n",
    "println(\"map any : \" +  mmap.any() { it.value > 30 })\n",
    "println(\"map a11 : \" +  mmap.all { it.key > \"강지\"})        // 맵 all은 키와 밸류로 처리\n",
    "println(\"map a11 : \" +  mmap.all { it.value > 20 })\n",
    "println(\"map none : \" + mmap.none { it.key > \"강지\"})"
   ]
  },
  {
   "cell_type": "code",
   "execution_count": null,
   "id": "05b9b0f3",
   "metadata": {},
   "outputs": [],
   "source": []
  }
 ],
 "metadata": {
  "kernelspec": {
   "display_name": "Kotlin",
   "language": "kotlin",
   "name": "kotlin"
  },
  "language_info": {
   "codemirror_mode": "text/x-kotlin",
   "file_extension": ".kt",
   "mimetype": "text/x-kotlin",
   "name": "kotlin",
   "nbconvert_exporter": "",
   "pygments_lexer": "kotlin",
   "version": "1.8.0-dev-3517"
  }
 },
 "nbformat": 4,
 "nbformat_minor": 5
}
