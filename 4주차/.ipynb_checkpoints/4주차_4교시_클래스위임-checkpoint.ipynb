{
 "cells": [
  {
   "cell_type": "code",
   "execution_count": null,
   "id": "f93b5432",
   "metadata": {},
   "outputs": [],
   "source": []
  },
  {
   "cell_type": "code",
   "execution_count": 1,
   "id": "17b31b6c",
   "metadata": {},
   "outputs": [
    {
     "data": {
      "text/plain": [
       "1.8.0"
      ]
     },
     "execution_count": 1,
     "metadata": {},
     "output_type": "execute_result"
    }
   ],
   "source": [
    "KotlinVersion.CURRENT             // 코틀린 현재 버전 "
   ]
  },
  {
   "cell_type": "code",
   "execution_count": null,
   "id": "0d29d135",
   "metadata": {},
   "outputs": [],
   "source": []
  },
  {
   "cell_type": "markdown",
   "id": "884fa656",
   "metadata": {},
   "source": [
    "# 4. 클래스 위임 처리 알아보기"
   ]
  },
  {
   "cell_type": "markdown",
   "id": "64c5400f",
   "metadata": {},
   "source": [
    "## 4-1 클래스 위임 이해하기 "
   ]
  },
  {
   "cell_type": "markdown",
   "id": "4a65bea4",
   "metadata": {},
   "source": [
    "## 4-1-1 "
   ]
  },
  {
   "cell_type": "code",
   "execution_count": 2,
   "id": "827c9053",
   "metadata": {},
   "outputs": [
    {
     "name": "stdout",
     "output_type": "stream",
     "text": [
      "베이스 클래스 구현 : 10\n",
      "베이스 클래스 구현 : 10\n"
     ]
    }
   ],
   "source": [
    "interface Base {                             // 인터페이스를 정의                  \n",
    "    fun say() \n",
    "} \n",
    "\n",
    "class BaseImpl(val x: Int) : Base {          // 인터페이스를 구현한 위임 클래스 정의  \n",
    "    override fun say() {                     // 메소드 구현 \n",
    "        println(\"베이스 클래스 구현 : \" + x) \n",
    "    } \n",
    "} \n",
    "\n",
    "class Derived(b : BaseImpl) : Base  {        // 인터페이스를 구현하고 위임처리할 객체를 인자로 받음\n",
    "    override fun say() {                     // 위임처리할 메소드 구현 \n",
    "        b.say()                              // 실제 처리할 메소드를 호출 \n",
    "    }\n",
    "}\n",
    "\n",
    "val b = BaseImpl(10)                         // 위임 객체를 만든다\n",
    "Derived(b).say()                             // 실제 사용할 객체를 만들고 메소드를 호출\n",
    "\n",
    "class Derived_() : Base by BaseImpl(10)      // 클래스의 객체를 생성해서 by 로 위임 처리\n",
    "                                             // 인터페이스는 상속했기에 클래스 내부에서 메소드 사용가능\n",
    "Derived_().say()                             // 인터페이스의 메소드 실행 "
   ]
  },
  {
   "cell_type": "markdown",
   "id": "ad715a76",
   "metadata": {},
   "source": [
    "## 4-1-2 "
   ]
  },
  {
   "cell_type": "code",
   "execution_count": 3,
   "id": "25953be8",
   "metadata": {},
   "outputs": [
    {
     "name": "stdout",
     "output_type": "stream",
     "text": [
      "안녕하세요  : 사람\n",
      "멍멍멍 : 개\n"
     ]
    }
   ],
   "source": [
    "interface Sayable {                              // 인터페이스를 정의                  \n",
    "    fun say() \n",
    "} \n",
    "\n",
    "class Person(val x: String) : Sayable {          // 인터페이스를 구현한 위임 클래스 정의  \n",
    "    override fun say() { \n",
    "        println(\"안녕하세요  : \" + x) \n",
    "    } \n",
    "} \n",
    "\n",
    "class Pet(val x: String) : Sayable {             // 인터페이스를 구현한 위임 클래스 정의  \n",
    "    override fun say() { \n",
    "        println(\"멍멍멍 : \" + x) \n",
    "    } \n",
    "} \n",
    "\n",
    "val ps = Person(\"사람\")                            // 객체 생성\n",
    "val pt = Pet(\"개\")                                // 객체 생성 \n",
    "\n",
    "class Saying(val say : Sayable) : Sayable by say // 매개변수로 전달한 객체로 위임처리\n",
    "                                                 // 인터페이스를 가지고 위임 처리\n",
    "Saying(ps).say()                                 // 여러 클래스에 대한 위임 처리가 가능\n",
    "Saying(pt).say()"
   ]
  },
  {
   "cell_type": "markdown",
   "id": "60caec12",
   "metadata": {},
   "source": [
    "## 4-2 위임을 적용해보기"
   ]
  },
  {
   "cell_type": "markdown",
   "id": "87f77cb8",
   "metadata": {},
   "source": [
    "## 4-2-1 한개 위임 적용 "
   ]
  },
  {
   "cell_type": "code",
   "execution_count": 4,
   "id": "3f7dd4ac",
   "metadata": {},
   "outputs": [
    {
     "name": "stdout",
     "output_type": "stream",
     "text": [
      "View 클래스의 show()\n",
      "CustomView 클래스의 show()\n"
     ]
    }
   ],
   "source": [
    "interface Showable {                           // 인터페스 정의 \n",
    "    fun show()\n",
    "}\n",
    "\n",
    "open class View : Showable {                   // 상속가능한 구현 클래스 정의 \n",
    "    override fun show() {                      // 메소드 구현 \n",
    "        println(\"View 클래스의 show()\")\n",
    "    }\n",
    "}\n",
    "\n",
    "class CustomView : View() {                    // 클래스를 상속해서 구현 클래스 정의\n",
    "    override fun show() {                      // 메소드 재정의 \n",
    "        println(\"CustomView 클래스의 show()\")\n",
    "    }\n",
    "}\n",
    "                                                // 인터페이스만 위임처리 가능 \n",
    "class Screen(val showable: Showable):  Showable by showable  \n",
    "\n",
    "val view = View()                               // 베이스 클래스 객체 생성 \n",
    "val customView = CustomView()                   // 구현 클래스 객체 생성 \n",
    "\n",
    "Screen(view).show()                             //View.show()\n",
    "Screen(customView).show()                       //CustomView.show()"
   ]
  },
  {
   "cell_type": "markdown",
   "id": "c85a1f7a",
   "metadata": {},
   "source": [
    "## 4-2-2 여러 개 위임 "
   ]
  },
  {
   "cell_type": "code",
   "execution_count": 5,
   "id": "0fcf47cc",
   "metadata": {},
   "outputs": [
    {
     "name": "stdout",
     "output_type": "stream",
     "text": [
      "Show 클래스의 show()\n",
      "View 클래스의 view()\n"
     ]
    }
   ],
   "source": [
    "interface Showable {                           // 인터페스 정의 \n",
    "    fun show()\n",
    "}\n",
    "\n",
    "interface Viewable {                           // 인터페스 정의 \n",
    "    fun view()\n",
    "}\n",
    "\n",
    "class Show : Showable {                        // 상속가능한 구현 클래스 정의 \n",
    "    override fun show() {                      // 메소드 구현 \n",
    "        println(\"Show 클래스의 show()\")\n",
    "    }\n",
    "}\n",
    "\n",
    "class View : Viewable {                        // 클래스를 상속해서 구현 클래스 정의\n",
    "    override fun view() {                      // 메소드 재정의 \n",
    "        println(\"View 클래스의 view()\")\n",
    "    }\n",
    "}\n",
    "                                                // 인터페이스만 위임처리 가능 \n",
    "class Screen(val showable: Showable, \n",
    "             val viewable : Viewable):          // 매개변수로 전달된 인터페이스 모두 위임처리 \n",
    "                   Showable by showable , Viewable by viewable \n",
    "\n",
    "val show = Show()                               // 객체 생성 \n",
    "val view = View()                               // 객체 생성 \n",
    "\n",
    "Screen(show, view).show()                       //View.show()\n",
    "Screen(show, view).view()                       //CustomView.show()"
   ]
  },
  {
   "cell_type": "markdown",
   "id": "2c90ab02",
   "metadata": {},
   "source": [
    "## 4-3 클래스 위임 활용 "
   ]
  },
  {
   "cell_type": "markdown",
   "id": "1cc6d390",
   "metadata": {},
   "source": [
    "## 4-3-1  기본 활용 "
   ]
  },
  {
   "cell_type": "code",
   "execution_count": 6,
   "id": "a5671d62",
   "metadata": {},
   "outputs": [
    {
     "name": "stdout",
     "output_type": "stream",
     "text": [
      "포르쉐 330 차로 어디까지 : Seoul\n",
      "자동차 클래스\n",
      "보잉  787 비행기로 어디까지 Seoul\n",
      "비행기 클래스\n"
     ]
    }
   ],
   "source": [
    "interface Vehicle {                                  // 인터페이스를 정의한다\n",
    "    fun go(): String                                 // 추상 메소드 정의 \n",
    "    fun display() = \"움직이는 물건 인터페이스\"             // 일반 메소드 정의 \n",
    "}\n",
    "\n",
    "class CarImpl(val where: String): Vehicle {          // 인터페이스 구현 클래스 \n",
    "    override fun go() = \"차로 어디까지 : $where\"\n",
    "    override fun display() = \"자동차 클래스\"\n",
    "}\n",
    "\n",
    "class AirplaneImpl(val where: String): Vehicle {     // 인터페이스 구현 클래스 \n",
    "    override fun go() = \"비행기로 어디까지 $where\"\n",
    "    override fun display() = \"비행기 클래스\"\n",
    "}\n",
    "\n",
    "class CarOrAirplane(val model: String,               // 위임을 작성한 클래스 \n",
    "                    val impl: Vehicle): \n",
    "                               Vehicle by impl {     // 최상의 인터페이스에 위임처리\n",
    "    fun tellTrip() {                                 // 위임을 호출할 메소드 작성\n",
    "        println(\"$model ${this.go()}\")   \n",
    "    }\n",
    "}\n",
    "\n",
    "val m330 = CarOrAirplane(\"포르쉐 330\",                 // 자동차  객체 생성 \n",
    "                         CarImpl(\"Seoul\"))\n",
    "val m787 = CarOrAirplane(\"보잉  787\",                  // 비행기 객체 생성 \n",
    "                         AirplaneImpl(\"Seoul\"))\n",
    "    \n",
    "m330.tellTrip()                                       // 객체의 메소드를 호출해서 위임 메소드 처리\n",
    "println(m330.display())                               // 일반메소드 호출 \n",
    "m787.tellTrip()             \n",
    "println(m787.display())"
   ]
  },
  {
   "cell_type": "code",
   "execution_count": null,
   "id": "3bd4b852",
   "metadata": {},
   "outputs": [],
   "source": []
  },
  {
   "cell_type": "markdown",
   "id": "0d52f4a5",
   "metadata": {},
   "source": [
    "## 4-3-2  믹스인처럼 구현해보기"
   ]
  },
  {
   "cell_type": "code",
   "execution_count": 7,
   "id": "2674abd3",
   "metadata": {},
   "outputs": [],
   "source": [
    "class Balance (val accno: Int, var balande : Int) {        // 잔액을 관리하는 클래스\n",
    "    override fun toString() =                              // 잔액을 출력 \n",
    "             \"Balance(accno=$accno, balance=$balande )\"\n",
    "}\n",
    "\n",
    "interface Deposiable {                                     // 입금처리 인터페이스\n",
    "    fun deposite(balance : Balance, \n",
    "                 amount : Int)\n",
    "}\n",
    "\n",
    "class Deposite  : Deposiable {                             // 입금 인터페이스를 구현한 클래스\n",
    "    override fun deposite(balance : Balance, \n",
    "                          amount : Int) {\n",
    "        balance.balande += amount\n",
    "    }\n",
    "}\n",
    "\n",
    "interface Withdrawable {                                   // 출금처리 인터페이스  \n",
    "    fun withdraw(balance : Balance, \n",
    "                amount : Int)\n",
    "}\n",
    "\n",
    "class Withdraw  : Withdrawable {                           // 출금 인터페이스를 구현한 클래스 \n",
    "    override fun withdraw(balance : Balance, \n",
    "                          amount : Int) {\n",
    "        balance.balande -= amount\n",
    "    }\n",
    "}"
   ]
  },
  {
   "cell_type": "code",
   "execution_count": 8,
   "id": "f8b3c5a5",
   "metadata": {},
   "outputs": [
    {
     "name": "stdout",
     "output_type": "stream",
     "text": [
      "Balance(accno=1, balance=10000 )\n",
      "Balance(accno=1, balance=1000 )\n"
     ]
    }
   ],
   "source": [
    "class Agreements(val accno : Int,                          // 위임처리 클래스 정의 \n",
    "                 val with : Withdrawable,                  // 출금처리\n",
    "                 val depo : Deposiable) :                  // 입금처리\n",
    "                      Withdrawable by with,                // 출금입금 위임처리\n",
    "                      Deposiable  by depo {\n",
    "    \n",
    "}\n",
    "\n",
    "val ag = Agreements(1,Withdraw(), Deposite())              // 계약관리 객체 생성\n",
    "val bal = Balance(1,0)                                     // 잔액관리 객체 생성 \n",
    "\n",
    "ag.deposite(bal,10000)                                     // 입금처리\n",
    "println(bal)\n",
    "ag.withdraw(bal,9000)                                      // 출금처리\n",
    "println(bal)"
   ]
  },
  {
   "cell_type": "code",
   "execution_count": null,
   "id": "cc461c15",
   "metadata": {},
   "outputs": [],
   "source": []
  }
 ],
 "metadata": {
  "kernelspec": {
   "display_name": "Kotlin",
   "language": "kotlin",
   "name": "kotlin"
  },
  "language_info": {
   "codemirror_mode": "text/x-kotlin",
   "file_extension": ".kt",
   "mimetype": "text/x-kotlin",
   "name": "kotlin",
   "nbconvert_exporter": "",
   "pygments_lexer": "kotlin",
   "version": "1.8.0-dev-3517"
  }
 },
 "nbformat": 4,
 "nbformat_minor": 5
}
