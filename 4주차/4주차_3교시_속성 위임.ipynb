{
 "cells": [
  {
   "cell_type": "code",
   "execution_count": null,
   "id": "f93b5432",
   "metadata": {},
   "outputs": [],
   "source": []
  },
  {
   "cell_type": "code",
   "execution_count": 1,
   "id": "17b31b6c",
   "metadata": {},
   "outputs": [
    {
     "data": {
      "text/plain": [
       "1.8.0"
      ]
     },
     "execution_count": 1,
     "metadata": {},
     "output_type": "execute_result"
    }
   ],
   "source": [
    "KotlinVersion.CURRENT             // 코틀린 현재 버전 "
   ]
  },
  {
   "cell_type": "code",
   "execution_count": null,
   "id": "0d29d135",
   "metadata": {},
   "outputs": [],
   "source": []
  },
  {
   "cell_type": "markdown",
   "id": "84bb33a1",
   "metadata": {},
   "source": [
    "# 3. 속성 위임 알아보기"
   ]
  },
  {
   "cell_type": "markdown",
   "id": "59554e8f",
   "metadata": {},
   "source": [
    "## 3-1 속성 위임 : notNull  처리"
   ]
  },
  {
   "cell_type": "markdown",
   "id": "2beda707",
   "metadata": {},
   "source": [
    "## 3-1-1 최상위 속성 "
   ]
  },
  {
   "cell_type": "code",
   "execution_count": 2,
   "id": "79fe4868",
   "metadata": {},
   "outputs": [
    {
     "name": "stdout",
     "output_type": "stream",
     "text": [
      " lateinit 처리 =  초기화 처리  \n",
      " notNull String  처리 = 초기화 처리  \n",
      " notNull Int.    처리 = 100 \n"
     ]
    }
   ],
   "source": [
    "import kotlin.properties.Delegates                 // 코틀린 속성 지연처리 object \n",
    "\n",
    "lateinit var str : String                          // 최상위 속성 지연 초기화는 참조 객체만 가능 \n",
    "// lateinit var int : Int                          // 최상위 속성 지연초기화할 때는 기본 자료형은 불가\n",
    "                             \n",
    "var str1 : String by Delegates.notNull<String>()   // 지연초기화를 문자열을 위임으로 처리하기 \n",
    "var int1 : Int    by Delegates.notNull<Int>()      // 기본 자료형 지연초기화는 속성위임으로 처리 가능\n",
    "\n",
    "//val str2 : String by Delegates.notNull<String>() // val은 재할당 금지라서 지연초기화 사용 못함 \n",
    "//val int2 : Int    by Delegates.notNull<Int>()    // val은 재할당 금지라서 지연초기화 사용 못함 \n",
    "\n",
    "str =\" 초기화 처리 \"                                  // 초기화 처리\n",
    "str1 = \"초기화 처리 \"\n",
    "int1 = 100\n",
    "\n",
    "println(\" lateinit 처리 = $str \")                    // 결과를 출력\n",
    "println(\" notNull String  처리 = $str1 \")\n",
    "println(\" notNull Int.    처리 = $int1 \")"
   ]
  },
  {
   "cell_type": "code",
   "execution_count": null,
   "id": "d73a53f2",
   "metadata": {},
   "outputs": [],
   "source": []
  },
  {
   "cell_type": "markdown",
   "id": "698e97e0",
   "metadata": {},
   "source": [
    "## 3-1-2 클래스 속성 "
   ]
  },
  {
   "cell_type": "code",
   "execution_count": 3,
   "id": "7d1cd45c",
   "metadata": {},
   "outputs": [
    {
     "name": "stdout",
     "output_type": "stream",
     "text": [
      "100\n"
     ]
    }
   ],
   "source": [
    "import kotlin.properties.Delegates                  // 코틀린 속성 지연처리 object \n",
    "\n",
    "class Rectangle {                                   // 클래스 작성 \n",
    "    lateinit var area: Area                         // 속성 지연 초기화 \n",
    "    fun initArea(param: Area): Unit {               // 메소드를 작성해서 속성 초기화 \n",
    "        this.area = param                           // 속성 초기화 처리\n",
    "    }\n",
    "}\n",
    "\n",
    "class Area { \n",
    "    var value: Int by Delegates.notNull<Int>()      // 속성 위임으로 지연 초기화 \n",
    "    constructor(value :Int) {                       // 부생성자를 사용해서 속성 초기화 \n",
    "        this.value = value * value\n",
    "    }\n",
    "}\n",
    "\n",
    "val rectangle = Rectangle()                          // 객체 생성 \n",
    "rectangle.initArea(Area(10))                         // 초기화 처리 \n",
    "println(rectangle.area.value)                        // 초기화 결과 확인 "
   ]
  },
  {
   "cell_type": "markdown",
   "id": "71341efe",
   "metadata": {},
   "source": [
    "## 3-2"
   ]
  },
  {
   "cell_type": "markdown",
   "id": "a4beb845",
   "metadata": {},
   "source": [
    "## 3-2-1  가변 프로퍼티 위임 : 프로퍼티 값 관찰"
   ]
  },
  {
   "cell_type": "code",
   "execution_count": 4,
   "id": "6bcaa404",
   "metadata": {},
   "outputs": [
    {
     "name": "stdout",
     "output_type": "stream",
     "text": [
      "0\n",
      "관찰상태 = false\n",
      "변경전 : 0 변경후 : 10\n",
      "10\n",
      "관찰상태 = true\n"
     ]
    }
   ],
   "source": [
    "var observed = false                                  \n",
    "var max: Int by Delegates.observable(0) {             // 속성 변경 사항 관찰 :초기값처리 \n",
    "    _ , oldValue, newValue ->                         // 속성, 변경전, 변경후  3개 매개변수 \n",
    "    println(\"변경전 : $oldValue 변경후 : $newValue\")     // 변경값 출력\n",
    "    observed = true                                   // 변경상태 변경 \n",
    "}\n",
    "\n",
    "println(max)                                          // 조회 \n",
    "println(\"관찰상태 = ${observed}\")                       //  현재 상태\n",
    "max = 10                                              // 변경 \n",
    "println(max)                                          \n",
    "println(\"관찰상태 = ${observed}\") "
   ]
  },
  {
   "cell_type": "markdown",
   "id": "df0531c3",
   "metadata": {},
   "source": [
    "## 3-2-2 프로퍼티 위임 투표결정"
   ]
  },
  {
   "cell_type": "code",
   "execution_count": 5,
   "id": "4df1563c",
   "metadata": {},
   "outputs": [
    {
     "name": "stdout",
     "output_type": "stream",
     "text": [
      "0\n",
      " 변경전 : 0, 변경후 : 1\n",
      "0\n",
      " 변경전 : 0, 변경후 : 2\n",
      "2\n"
     ]
    }
   ],
   "source": [
    "import kotlin.properties.Delegates                  // 코틀린 속성 지연처리 object \n",
    "\n",
    "var vetoableField: Int by Delegates.vetoable(0) {   // 변경거부 여부 \n",
    "    _, old, new ->                                  // 속성, 변경전, 변경후  3개 매개변수 \n",
    "    println(\" 변경전 : $old, 변경후 : $new\")           // 변경상태 확인 \n",
    "    new % 2 == 0                                    // 조건이 참인 경우 :짝수 값일 경우만 갱신               \n",
    "} \n",
    "\n",
    "println(vetoableField) \n",
    "vetoableField = 1                                   // 홀수일때는 변경되지 않음\n",
    "println(vetoableField) \n",
    "vetoableField = 2                                   // 짝수일때만 값이 변경됨\n",
    "println(vetoableField) "
   ]
  },
  {
   "cell_type": "markdown",
   "id": "f2189cb3",
   "metadata": {},
   "source": [
    "## 3-3  속성 지연처리 "
   ]
  },
  {
   "cell_type": "markdown",
   "id": "8820ec64",
   "metadata": {},
   "source": [
    "## 3-3-1 lateinit 과 lazy "
   ]
  },
  {
   "cell_type": "code",
   "execution_count": 6,
   "id": "5804935f",
   "metadata": {},
   "outputs": [
    {
     "name": "stdout",
     "output_type": "stream",
     "text": [
      "0\n",
      "초기값\n",
      "지연 초기화\n",
      "값 갱신 \n",
      "초기값\n",
      "지연 초기화\n"
     ]
    }
   ],
   "source": [
    "val a :Int by lazy { 0 }                    // 최상위 속성 val 지연 처리  \n",
    "\n",
    "class LazyVar {\n",
    "    val lazya : String by lazy {\"초기값\"}     // 클래스 내의 속성 val 지연 처리\n",
    "    lateinit var lateb : String             // 클래스 내의 속성 \n",
    "}\n",
    "\n",
    "println(a)\n",
    "val lz = LazyVar()                           // 객체 생성 \n",
    "    \n",
    "println(lz.lazya)                            // val 지연은 처음 조회할 때 초기값 처리 \n",
    "lz.lateb = \"지연 초기화\"                        //  var 지연처리 초기화 \n",
    "println(lz.lateb)                            //  갱신 값 확인\n",
    "lz.lateb = \"값 갱신 \"                          //  var 값 갱신 \n",
    "println(lz.lateb)                            //  갱신 값 확인\n",
    "\n",
    "fun func () {\n",
    "    val lazya : String by lazy {\"초기값\"}      // 지역변수 val 지연 \n",
    "    println(lz.lazya)                        // 접근시 초기화\n",
    "    \n",
    "    lateinit var lateb : String              // 지역변수 var 지연          \n",
    "    lz.lateb = \"지연 초기화\"                    // var 초기화 \n",
    "    println(lz.lateb)\n",
    "}\n",
    "\n",
    "func()"
   ]
  },
  {
   "cell_type": "markdown",
   "id": "3ec05507",
   "metadata": {},
   "source": [
    "## 3-3-2 맵 이용"
   ]
  },
  {
   "cell_type": "code",
   "execution_count": 7,
   "id": "e539b4da",
   "metadata": {},
   "outputs": [
    {
     "name": "stdout",
     "output_type": "stream",
     "text": [
      "문경욱\n",
      "25\n"
     ]
    }
   ],
   "source": [
    "class Person(val map: Map<String, Any?>) {     // 클래스 정의 : 하나의 맵을 속성 정의 \n",
    "    val name: String by map                    // 맵으로 위임처리 \n",
    "    val age: Int by map }                      // 맵으로 위임처리 \n",
    "\n",
    "\n",
    "val user = Person(mapOf(\"name\" to \"문경욱\",      // 맵의 키를 클래스 속성명과 동일하게 처리\n",
    "                        \"age\" to 25 ))         // 맵의 키를 클래스 속성명과 동일하게 처리\n",
    "println(user.name)                              // 객체 이름 확인  \n",
    "println(user.age)    "
   ]
  },
  {
   "cell_type": "code",
   "execution_count": null,
   "id": "fc5de12d",
   "metadata": {},
   "outputs": [],
   "source": []
  },
  {
   "cell_type": "markdown",
   "id": "95d54b44",
   "metadata": {},
   "source": [
    "## 3-4  연산자를 사용한 속성 위임 "
   ]
  },
  {
   "cell_type": "markdown",
   "id": "15522b39",
   "metadata": {},
   "source": [
    "## 3-4-1 사용자 클래스를 사용한 속성 위임"
   ]
  },
  {
   "cell_type": "code",
   "execution_count": 12,
   "id": "b4e59fb8",
   "metadata": {},
   "outputs": [],
   "source": [
    "class Delegate {                              // 위임속성처리\n",
    "    private var value: String? = null         // 속성값 저장용      \n",
    "\n",
    "    fun getValue_(): String {                 // 조회 \n",
    "        return value ?: \"초기값\"                // 널이면 초기값 전달 \n",
    "    }\n",
    "\n",
    "    fun setValue_(value: String) {            // 갱신\n",
    "        this.value = value                    // 위임 속성 객신 \n",
    "        println(\"속성 위임 갱신 \")\n",
    "    }\n",
    "}"
   ]
  },
  {
   "cell_type": "code",
   "execution_count": 13,
   "id": "92fa128a",
   "metadata": {},
   "outputs": [
    {
     "name": "stdout",
     "output_type": "stream",
     "text": [
      "초기값\n",
      "속성 위임 갱신 \n",
      "변경\n"
     ]
    }
   ],
   "source": [
    "class Bar {                                    // 위임관리 클래스 정의 \n",
    "    val del = Delegate()                       // 위임 객체 임시 저장             \n",
    "    var p : String                             // 위임 속성 처리 \n",
    "        get() = del.getValue_()                // 위임 속성 조회 \n",
    "        set(value:String) = \n",
    "                    del.setValue_(value)       // 위임 속성 갱신 \n",
    "}\n",
    "\n",
    "val b = Bar()                                  // 객체 생성                                      \n",
    "\n",
    "println(b.p)                                   // 속성 조회 \n",
    "b.p = \"변경\"                                    // 위임속성 갱신\n",
    "println(b.p) "
   ]
  },
  {
   "cell_type": "markdown",
   "id": "89842f12",
   "metadata": {},
   "source": [
    "## 3-4-2 연산자를 사용한 위임처리 "
   ]
  },
  {
   "cell_type": "code",
   "execution_count": 10,
   "id": "56116f5f",
   "metadata": {},
   "outputs": [],
   "source": [
    "import kotlin.reflect.KProperty                               // 속성 클래스 \n",
    "\n",
    "class DelegateStr {                                           // 문자열 관리 속성 위임 \n",
    "    private var value: String? = null        \n",
    "    operator fun getValue(thisRef: Any?, \n",
    "                property: KProperty<*>): String {\n",
    "        return value ?: \"\"  }\n",
    "    operator fun setValue(thisRef: Any?, \n",
    "                property: KProperty<*>, value: String) {\n",
    "        this.value = value  }\n",
    "}\n",
    "class DelegateInt {                                           // 정수 관리 속성 위임 \n",
    "    private var value: Int? = null        \n",
    "    operator fun getValue(thisRef: Any?, \n",
    "                property: KProperty<*>): Int {\n",
    "        return value ?: 0  }\n",
    "    operator fun setValue(thisRef: Any?, \n",
    "                property: KProperty<*>, value: Int) {\n",
    "        this.value = value  }\n",
    "}\n",
    "\n"
   ]
  },
  {
   "cell_type": "code",
   "execution_count": 11,
   "id": "9eeeaaf3",
   "metadata": {},
   "outputs": [
    {
     "name": "stdout",
     "output_type": "stream",
     "text": [
      "\n",
      "재할당\n",
      "0\n",
      "100\n",
      "0\n",
      "444\n"
     ]
    }
   ],
   "source": [
    "class Foo_ {                                                   // 클래스 정의 \n",
    "    var p : String by DelegateStr()                            // 문자열 속성 위임\n",
    "    var i : Int by DelegateInt()                               // 정수 속성 위임\n",
    "    var x : Int by DelegateInt()\n",
    "}\n",
    "\n",
    "val ff = Foo_()                                                // 객체 생성 \n",
    "\n",
    "println(ff.p );ff.p = \"재할당\";println(ff.p );                   //  문자열 변경 \n",
    "println(ff.i);ff.i = 100;println(ff.i)                         // 정수 변경 \n",
    "println(ff.x);ff.x = 444; println(ff.x);                       // 정수 변경 "
   ]
  },
  {
   "cell_type": "code",
   "execution_count": null,
   "id": "61d3e306",
   "metadata": {},
   "outputs": [],
   "source": []
  }
 ],
 "metadata": {
  "kernelspec": {
   "display_name": "Kotlin",
   "language": "kotlin",
   "name": "kotlin"
  },
  "language_info": {
   "codemirror_mode": "text/x-kotlin",
   "file_extension": ".kt",
   "mimetype": "text/x-kotlin",
   "name": "kotlin",
   "nbconvert_exporter": "",
   "pygments_lexer": "kotlin",
   "version": "1.8.0-dev-3517"
  }
 },
 "nbformat": 4,
 "nbformat_minor": 5
}
