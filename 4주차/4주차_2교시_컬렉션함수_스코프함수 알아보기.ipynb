{
 "cells": [
  {
   "cell_type": "code",
   "execution_count": null,
   "id": "f93b5432",
   "metadata": {},
   "outputs": [],
   "source": []
  },
  {
   "cell_type": "code",
   "execution_count": 1,
   "id": "17b31b6c",
   "metadata": {},
   "outputs": [
    {
     "data": {
      "text/plain": [
       "1.8.0"
      ]
     },
     "execution_count": 1,
     "metadata": {},
     "output_type": "execute_result"
    }
   ],
   "source": [
    "KotlinVersion.CURRENT             // 코틀린 현재 버전 "
   ]
  },
  {
   "cell_type": "code",
   "execution_count": null,
   "id": "0d29d135",
   "metadata": {},
   "outputs": [],
   "source": []
  },
  {
   "cell_type": "markdown",
   "id": "1c1c2e27",
   "metadata": {},
   "source": [
    "## 2 . 컬렉션 다양한 기능 스코프 함수"
   ]
  },
  {
   "cell_type": "markdown",
   "id": "81bd0d88",
   "metadata": {},
   "source": [
    "## 2-1  맵 리듀스 필터"
   ]
  },
  {
   "cell_type": "markdown",
   "id": "0603ec07",
   "metadata": {},
   "source": [
    "## 2-1-1 맵 \n",
    "\n",
    "- 맵이란 컬렉션 내의 원소를 변형하는 함수 \n",
    "- 맵의 기반 함수이고 실제 연산하는 함수를 받아서 내부에서 실행시켜 준다. \n"
   ]
  },
  {
   "cell_type": "markdown",
   "id": "98d7ef3a",
   "metadata": {},
   "source": [
    "###  맵 메서드의 구조 \n",
    "\n",
    "- 인라인 확장함수로 호출하는 곳의 내부에 함수 코드를 삽입한다. \n",
    "- Iterable 의 상위 클래스의 확장함수로 작성되었다.\n",
    "- 인자로 하나의 함수를 받는다. 보통 람다표현식으로 전달한다. \n",
    "- 반환값은 람다함수의 반환값을 가지는 List이 하위 타입이다. \n",
    "- 제공하는 함수의 인자로 요소를 하나 넘기므로 it을 사용해서 처리가 가능하다. \n",
    "- 보통 모든 요소를 순환해서 변형하는 함수이다. "
   ]
  },
  {
   "cell_type": "code",
   "execution_count": 21,
   "id": "00089ef8",
   "metadata": {},
   "outputs": [],
   "source": [
    "//inline fun <T, R> Iterable<T>.map(\n",
    "//    transform: (T) -> R\n",
    "//): List<R>"
   ]
  },
  {
   "cell_type": "markdown",
   "id": "d6e2a0e0",
   "metadata": {},
   "source": [
    "### 불변 리스트를 만든다."
   ]
  },
  {
   "cell_type": "code",
   "execution_count": 14,
   "id": "41585a59",
   "metadata": {},
   "outputs": [],
   "source": [
    "val cities = listOf(\"Seoul\",\"Tokyo\",\"Sanghai\",\"Jeju\")"
   ]
  },
  {
   "cell_type": "code",
   "execution_count": 16,
   "id": "922a218f",
   "metadata": {},
   "outputs": [
    {
     "name": "stdout",
     "output_type": "stream",
     "text": [
      "SEOUL\n",
      "TOKYO\n",
      "SANGHAI\n",
      "JEJU\n"
     ]
    }
   ],
   "source": [
    "cities.map({ str:String -> str.uppercase() })           // 맵은 변환하기 위해 람다표현식을 받는다 \n",
    "      .forEach { print(it + \"\\n\") }"
   ]
  },
  {
   "cell_type": "markdown",
   "id": "7a707ded",
   "metadata": {},
   "source": [
    "### 인자가 하나이므로 전달되는 함수를 외부에 작성이 가능하다.\n",
    "\n",
    "- 실행연산자를 사용해서 람다표현식을 전달할 수 있다.\n",
    "- 실행연산자 없이도 람다표현식을 전달할 수 있다."
   ]
  },
  {
   "cell_type": "code",
   "execution_count": 23,
   "id": "d3928133",
   "metadata": {},
   "outputs": [
    {
     "name": "stdout",
     "output_type": "stream",
     "text": [
      "SEOUL TOKYO SANGHAI JEJU \n",
      "SEOUL TOKYO SANGHAI JEJU "
     ]
    }
   ],
   "source": [
    "\n",
    "                                                         // 람다표현식을 실행연산자와 분리 \n",
    "cities.map() { str:String -> str.uppercase() }\n",
    "      .forEach { print(it + \" \") }\n",
    "println()\n",
    "\n",
    "cities.map { str:String -> str.uppercase() }             // 람다표현식만 인자로 받아서 실행연산 제거\n",
    "      .forEach { print(it+ \" \") }\n"
   ]
  },
  {
   "cell_type": "markdown",
   "id": "fbe85a8c",
   "metadata": {},
   "source": [
    "### 하나의 원소를 처리하므로 it을 사용 "
   ]
  },
  {
   "cell_type": "code",
   "execution_count": 24,
   "id": "95eeee26",
   "metadata": {},
   "outputs": [
    {
     "name": "stdout",
     "output_type": "stream",
     "text": [
      "SEOUL TOKYO SANGHAI JEJU "
     ]
    }
   ],
   "source": [
    "cities.map { it.uppercase() }                            // 인자가 하나여서 it 사용 \n",
    "      .forEach { print(it+ \" \") }"
   ]
  },
  {
   "cell_type": "markdown",
   "id": "605414c8",
   "metadata": {},
   "source": [
    "### 메소드 참조를 통해서 처리가 가능하다"
   ]
  },
  {
   "cell_type": "code",
   "execution_count": 25,
   "id": "9db320ca",
   "metadata": {},
   "outputs": [
    {
     "name": "stdout",
     "output_type": "stream",
     "text": [
      "SEOUL TOKYO SANGHAI JEJU "
     ]
    }
   ],
   "source": [
    "cities.map(String::uppercase)                            // 클래스의 메소드를 직접 참조해서 처리가능\n",
    "      .forEach { print(it+ \" \") }"
   ]
  },
  {
   "cell_type": "markdown",
   "id": "08273780",
   "metadata": {},
   "source": [
    "## 2-1-1 필터\n",
    "\n",
    "- map 메서드 처럼 컬렉션의 원소를 점검해서 true 인 값일 때만 추추해서 처리한다.\n",
    "- 인라인 함수이므로 실제 호출한 영역에 코드가 삽입된다."
   ]
  },
  {
   "cell_type": "markdown",
   "id": "2ae68816",
   "metadata": {},
   "source": [
    "### 필터 메서드의 구조"
   ]
  },
  {
   "cell_type": "code",
   "execution_count": 26,
   "id": "a26f557f",
   "metadata": {},
   "outputs": [],
   "source": [
    "//inline fun <T> Iterable<T>.filter(\n",
    "//    predicate: (T) -> Boolean\n",
    "//): List<T>"
   ]
  },
  {
   "cell_type": "markdown",
   "id": "63a8a9cd",
   "metadata": {},
   "source": [
    "### 데이터 클래스를 만들고 리스트의 원소로 구성한다."
   ]
  },
  {
   "cell_type": "code",
   "execution_count": null,
   "id": "a6752a1f",
   "metadata": {},
   "outputs": [],
   "source": [
    "data class Animals(var name: String,                   // 데이터 클래스 정의 \n",
    "                   var species: String, \n",
    "                   var age: Int )\n",
    "\n",
    "var animals = listOf(                                  //  데이터 클래스를 원소로한 리스트 생성 \n",
    "        Animals(\"포피\", \"토끼\", 4),\n",
    "        Animals(\"멍이\", \"개\", 8),\n",
    "        Animals(\"몽이\", \"개\", 12),\n",
    "        Animals(\"몰리\", \"돼지\", 3),\n",
    "        Animals(\"지미미\", \"고양이\", 10),\n",
    "        Animals(\"하미\", \"원숭이\", 2)\n",
    ")"
   ]
  },
  {
   "cell_type": "markdown",
   "id": "e7120c25",
   "metadata": {},
   "source": [
    "### 맵을 통해서 원소를 변형한다."
   ]
  },
  {
   "cell_type": "code",
   "execution_count": 27,
   "id": "8db2323b",
   "metadata": {},
   "outputs": [
    {
     "name": "stdout",
     "output_type": "stream",
     "text": [
      "[포피, 멍이, 몽이, 몰리, 지미미, 하미]\n",
      "포피 is a 토끼\n"
     ]
    }
   ],
   "source": [
    "var names = animals.map {it.name }                     // 데이터 클래스 내의 이름만 변환\n",
    "println(names)\n",
    "\n",
    "var names1 = animals.map {it.name +\n",
    "                          \" is a \" + it.species}       // 데이터 클래스의 이름과 종을 문자열로  변환\n",
    "                                        \n",
    "println(names1[0])"
   ]
  },
  {
   "cell_type": "markdown",
   "id": "093184fa",
   "metadata": {},
   "source": [
    "### 필터로 특정 조건에 해당하는 것을 추출한다. "
   ]
  },
  {
   "cell_type": "code",
   "execution_count": 29,
   "id": "748d595d",
   "metadata": {},
   "outputs": [
    {
     "name": "stdout",
     "output_type": "stream",
     "text": [
      "[지미미]\n"
     ]
    }
   ],
   "source": [
    "var nameF = animals.filter {it.name.length == 3 }      // 이름이 길이가 5인 경우만 추출하고 이름도 추출\n",
    "            .map {it.name } \n",
    "println(nameF)\n"
   ]
  },
  {
   "cell_type": "markdown",
   "id": "c7364dc2",
   "metadata": {},
   "source": [
    "### 맵자료형일 때는 특정 키와 값을 전달해서 특정 조건을 작성해서 처리가 가능하다"
   ]
  },
  {
   "cell_type": "code",
   "execution_count": 31,
   "id": "73eabc24",
   "metadata": {},
   "outputs": [],
   "source": [
    "//inline fun <K, V> Map<out K, V>.filter(\n",
    "//    predicate: (Entry<K, V>) -> Boolean\n",
    "//): Map<K, V>"
   ]
  },
  {
   "cell_type": "code",
   "execution_count": 32,
   "id": "612bdbed",
   "metadata": {},
   "outputs": [
    {
     "name": "stdout",
     "output_type": "stream",
     "text": [
      "{key11=11}\n"
     ]
    }
   ],
   "source": [
    "val numbersMap = mapOf(\"key1\" to 1, \"key2\" to 2,        // 맵을 만든다 \n",
    "                       \"key3\" to 3, \"key11\" to 11)\n",
    "val filteredMap = numbersMap.filter {(key, value)       // 맵은 키와 값으로 들어옴\n",
    "                    -> key.endsWith(\"1\") && value > 10} // 키의 조건과 값의 조건을 조건식으로 묶어서 처리\n",
    "println(filteredMap)"
   ]
  },
  {
   "cell_type": "code",
   "execution_count": null,
   "id": "9155d702",
   "metadata": {},
   "outputs": [],
   "source": []
  },
  {
   "cell_type": "markdown",
   "id": "69238a4a",
   "metadata": {},
   "source": [
    "## 2-1-3 리듀스"
   ]
  },
  {
   "cell_type": "code",
   "execution_count": 4,
   "id": "818cf655",
   "metadata": {},
   "outputs": [
    {
     "name": "stdout",
     "output_type": "stream",
     "text": [
      "1591\n",
      "1591\n",
      "1591\n",
      "1591\n"
     ]
    }
   ],
   "source": [
    "var amounts = listOf(256,45,344,775,121,50)          // 리스트 생성 \n",
    "    \n",
    "var totalAmount = 0\n",
    "for (index in amounts.indices) {                     // 순환문으로 내부 원소 계산 \n",
    "    totalAmount += amounts[index]\n",
    "}\n",
    "println(totalAmount)\n",
    "\n",
    "totalAmount = amounts.reduce {total,x -> total + x}  // 람다표현식으로 합산 \n",
    "println(totalAmount)\n",
    "\n",
    "totalAmount = amounts.fold(0) {total,x -> total + x} // 초기값을 인자로 받고 람다표현식으로 합산\n",
    "println(totalAmount)\n",
    "\n",
    "totalAmount = amounts.sum()                          // 함산 메소드 실행\n",
    "println(totalAmount)"
   ]
  },
  {
   "cell_type": "code",
   "execution_count": null,
   "id": "8ae232fd",
   "metadata": {},
   "outputs": [],
   "source": []
  },
  {
   "cell_type": "markdown",
   "id": "68dfeaa6",
   "metadata": {},
   "source": [
    "## 2-1-4 플랫"
   ]
  },
  {
   "cell_type": "code",
   "execution_count": 5,
   "id": "f07f16df",
   "metadata": {},
   "outputs": [
    {
     "name": "stdout",
     "output_type": "stream",
     "text": [
      "12\n",
      "이름변형 :[포피씨, 씨피포, 멍이씨, 씨이멍]\n",
      "이름변형 2:[포피씨, 피포, 멍이씨, 이멍]\n",
      "나이로 정렬 :[멍이, 지미미, 몽이]\n"
     ]
    }
   ],
   "source": [
    "val flat = animals.map {a -> a.name}                   // 이름만 가진 리스트로 ㅊㅊㄹ  \n",
    "    .map {name -> name +\"씨\"}                           // 이름에 특정 문자열 붙이기\n",
    "    .map {name -> listOf(name, name.reversed())}       // 이름과 역이름 두개의 리스트의 리스트\n",
    "    .flatten()                                         // 하나의 리스트로 변환\n",
    "    \n",
    "println(flat.size)\n",
    "println(\"이름변형 :\" + flat.subList(0,4))                // 일부 리스트만 추출\n",
    "\n",
    "val flat1 = animals.flatMap {it ->                     // 단순하게 flatMap 메소드로 처리 \n",
    "          listOf(it.name +\"씨\", it.name.reversed())}    \n",
    "\n",
    "println(\"이름변형 2:\" + flat1.subList(0,4))\n",
    "\n",
    "val sortby = animals.filter { ani -> ani.age > 4}      // 나이로 필터링\n",
    "                    .sortedBy { ani -> ani.age }       // 나이 순으로 정렬 \n",
    "                    .map {ani -> ani.name}             // 이름을 추출 \n",
    "                    \n",
    "println(\"나이로 정렬 :\" + sortby)     "
   ]
  },
  {
   "cell_type": "code",
   "execution_count": null,
   "id": "e970e0af",
   "metadata": {},
   "outputs": [],
   "source": []
  },
  {
   "cell_type": "markdown",
   "id": "58b93db7",
   "metadata": {},
   "source": [
    "## 2-2 정렬 "
   ]
  },
  {
   "cell_type": "markdown",
   "id": "f4dcd6b8",
   "metadata": {},
   "source": [
    "## 2-2-1 정렬 "
   ]
  },
  {
   "cell_type": "code",
   "execution_count": 6,
   "id": "0181cfdb",
   "metadata": {},
   "outputs": [
    {
     "name": "stdout",
     "output_type": "stream",
     "text": [
      "정렬해서 새객체 : [정씨, 정이, 정종, 정주]\n",
      "반대로 처리 새객체 : [정이, 정주, 정종, 정씨]\n",
      "복사          : [정씨, 정종, 정주, 정이]\n",
      "정렬 후 내부 변경 : [정씨, 정이, 정종, 정주]\n",
      "반대로 처리 내부 변경 : [정주, 정종, 정이, 정씨]\n",
      "집합 정렬 후 객체 : class java.util.Arrays$ArrayList\n",
      "정렬해서 새객체  : [정씨, 정이, 정종, 정주]\n",
      "반대로 처리 새객체  : [정이, 정주, 정종, 정씨]\n",
      "맵의 키 정렬  : [당당, 당상, 당소, 당장, 당주, 당지]\n",
      "class java.util.LinkedHashMap$LinkedKeySet\n",
      "맵의 값 정렬  : [12, 16, 23, 32, 33, 45]\n",
      "class java.util.LinkedHashMap$LinkedValues\n"
     ]
    }
   ],
   "source": [
    "val mlist = mutableListOf(\"정씨\",\"정종\",\"정주\",\"정이\")            // 리스트 \n",
    "\n",
    "println(\"정렬해서 새객체 : \" + mlist.sorted())                   // 정렬\n",
    "println(\"반대로 처리 새객체 : \" +mlist.reversed())               //  반대로 처리\n",
    "\n",
    "val mclist = mlist.toMutableList()                           // 객체를 다시 처리하면 복사 \n",
    "\n",
    "println(\"복사          : \" +mclist)\n",
    "mclist.sort()                                                // 내부 원소 정렬한 후 변경\n",
    "println(\"정렬 후 내부 변경 : \" + mclist)\n",
    "mclist.reverse()                                             // 내부 원소 정렬한 후 변경 \n",
    "println(\"반대로 처리 내부 변경 : \" + mclist)\n",
    "\n",
    "val mset = mutableSetOf(\"정씨\",\"정종\",\"정주\",\"정이\")              // 집합\n",
    "\n",
    "println(\"집합 정렬 후 객체 : \" + mset.sorted()::class)            // 정렬은 배열로 처리 \n",
    "println(\"정렬해서 새객체  : \" +mset.sorted().toMutableSet())      // 정렬 후에 원 객체로 변환\n",
    "println(\"반대로 처리 새객체  : \" +mset.reversed().toMutableSet())\n",
    "\n",
    "\n",
    "val mmap = mapOf(\"당지\" to 33, \"당소\" to 23, \"당장\" to 45,        // 맵\n",
    "                 \"당주\" to 12, \"당상\" to 32, \"당당\" to 16)\n",
    "\n",
    "println(\"맵의 키 정렬  : \" + mmap.keys.sorted())                  // 키 정렬\n",
    "println(mmap.keys::class)\n",
    "println(\"맵의 값 정렬  : \" + mmap.values.sorted())                // 값 정렬\n",
    "println(mmap.values::class)"
   ]
  },
  {
   "cell_type": "markdown",
   "id": "cb28ff38",
   "metadata": {},
   "source": [
    "## 2-2-2 조인 "
   ]
  },
  {
   "cell_type": "code",
   "execution_count": 7,
   "id": "8e1fa809",
   "metadata": {},
   "outputs": [
    {
     "name": "stdout",
     "output_type": "stream",
     "text": [
      "일반 출력 : [봄, 여름, 가을, 겨울]\n",
      "포맷 출력 : {봄,여름,가을,겨울}\n",
      "일반 출력 : [봄, 여름, 가을, 겨울]\n",
      "포맷 출력 : {봄,여름,가을,겨울}\n",
      "[1, 2, 3]\n",
      "[1, 2, 3]\n"
     ]
    }
   ],
   "source": [
    "var data = listOf(\"봄\", \"여름\", \"가을\",\"겨울\")         // 리스트 생성 \n",
    "println(\"일반 출력 : \"+data)\n",
    "println(\"포맷 출력 : \"+data.joinToString(\",\",        // 문자열로 변환\n",
    "                        prefix=\"{\", postfix=\"}\"))\n",
    "\n",
    "val data1 = setOf(\"봄\", \"여름\", \"가을\",\"겨울\")         // 집합 생성\n",
    "println(\"일반 출력 : \"+data1)\n",
    "println(\"포맷 출력 : \"+data1.joinToString(\",\",       // 문자열로 변환\n",
    "                        prefix=\"{\", postfix=\"}\"))\n",
    "\n",
    "val sb = StringBuilder()                           // 문자열빌드 생성\n",
    "val numbers = listOf(1, 2, 3)                      // 리스트 생성 \n",
    "numbers.joinTo(sb, prefix = \"[\", postfix = \"]\")    // 문자열빌더에 문자열 변환  \n",
    "println(sb)\n",
    "\n",
    "val sb1 = StringBuilder()                          // 문자열빌드 생성 \n",
    "val numbers1 = setOf(1, 2, 3)                      // 집합 생성 \n",
    "numbers1.joinTo(sb1, prefix = \"[\", postfix = \"]\")  // 문자열 결합\n",
    "println(sb1)"
   ]
  },
  {
   "cell_type": "markdown",
   "id": "62b74132",
   "metadata": {},
   "source": [
    "## 2-2-3 take"
   ]
  },
  {
   "cell_type": "code",
   "execution_count": 8,
   "id": "650daefb",
   "metadata": {},
   "outputs": [
    {
     "name": "stdout",
     "output_type": "stream",
     "text": [
      "[1, 2, 3]\n",
      "[1, 2, 3, 4, 5, 6, 7, 8, 9, 10]\n",
      "[1, 2, 3, 4, 5]\n",
      "[8, 9, 10]\n",
      "[10]\n",
      "수신객체 체크[1, 2, 3, 4, 5, 6, 7, 8, 9, 10]\n",
      "[1, 2, 3]\n"
     ]
    }
   ],
   "source": [
    "val list1 = listOf(1,2,3,4,5,6,7,8,9,10)                // 리스트 \n",
    "var n = 3\n",
    "var result = list1.take(n)                              // 정수 개수만큼 삭제\n",
    "println(result)\n",
    "println(list1)                                          // 리스트는 변경이 없다 \n",
    "\n",
    "result = list1.takeWhile { it < 6 }                     // 조건이 false가 되면 앞에 제거\n",
    "println(result)\n",
    "result = list1.takeLast(3)                              // 뒤에서 정수까지 삭제\n",
    "println(result)\n",
    "result = list1.takeLastWhile { it % 5 < 4 }             // 조건의 false가 되면 앞에 제거\n",
    "println(result)\n",
    "\n",
    "println(\"수신객체 체크\" + list1.takeIf { it.size < 11 } )   // 조건의 false가 되면 앞에 제거\n",
    "\n",
    "val set1 = setOf(1,2,3,4,5,6,7,8,9,10)                  // 집합\n",
    "n = 3\n",
    "var result1 = set1.take(n)                              // 정수 개수만큼 삭제\n",
    "println(result1)"
   ]
  },
  {
   "cell_type": "code",
   "execution_count": null,
   "id": "8d52c6b3",
   "metadata": {},
   "outputs": [],
   "source": []
  },
  {
   "cell_type": "markdown",
   "id": "425bf9d9",
   "metadata": {},
   "source": [
    "## 2-3 스코프 함수"
   ]
  },
  {
   "cell_type": "markdown",
   "id": "5eb09a33",
   "metadata": {},
   "source": [
    "## 2-3-1 let"
   ]
  },
  {
   "cell_type": "code",
   "execution_count": 9,
   "id": "434811db",
   "metadata": {},
   "outputs": [
    {
     "name": "stdout",
     "output_type": "stream",
     "text": [
      "Student\n",
      "dahl\n",
      "처리결과 : moon 22\n",
      "Student\n",
      "null\n",
      "null\n"
     ]
    }
   ],
   "source": [
    "// fun <T, R> T.let(block : (T) -> R) : R  {      // 확장함수로 구성되었고 람다표현식에 인자로 현재 객체를 전달\n",
    "//       return block(this)                       // 람다표현식에 리시버 객체를 전달하고 실행\n",
    "//}\n",
    "\n",
    "class Student(val id : Int, var name : String,    // 클래스를 정의\n",
    "              var age : Int )\n",
    " \n",
    "val s =  Student(1, \"dahl\", 22)                   //객체를 생성한다 \n",
    "println(s.javaClass.kotlin.simpleName)\n",
    "println(s.name)\n",
    "\n",
    "val ss = s.let {it.name = \"moon\"                  // 내부 갱신\n",
    "                it                                // 객체 전달\n",
    "                }             \n",
    "println(\"처리결과 : ${ss.name} ${ss.age}\")          // 처리결과 출력 \n",
    "println(ss.javaClass.simpleName)\n",
    "\n",
    "val s1 : Student? = null                           // 널러블 처리도 가능\n",
    "if (s1 == null) s1 \n",
    "else s1.let {it.name = \"nullname\"}                 // 널이 아니면 실행 \n",
    "\n",
    "println(s1?.javaClass?.simpleName)                 // 널러블 처리를 휘해 안전호출 처리\n",
    "println(s1?.let {it.name = \"dahlmoon\"})            // 널이 아니면 함수 실행"
   ]
  },
  {
   "cell_type": "markdown",
   "id": "b0cb932b",
   "metadata": {},
   "source": [
    "## 2-3-2 with"
   ]
  },
  {
   "cell_type": "code",
   "execution_count": 10,
   "id": "106510e7",
   "metadata": {},
   "outputs": [
    {
     "name": "stdout",
     "output_type": "stream",
     "text": [
      "300\n",
      "300\n",
      "300\n"
     ]
    }
   ],
   "source": [
    "// fun <T, R> with(reciever : T,               // 일반함수이고 리시버를 인자로 받음 \n",
    "//                 block : T.() -> R) : R  {   // 람다표현식의 자료형은 수신객체 람다표현식 사용 매개변수는 없음\n",
    "//     return block()                          // 반환값은 람담표현식 결과\n",
    "//} \n",
    "\n",
    "val lr : Int.(Int) -> Int = {x -> this + x }   // 수신객체 람다표현식 자료형에 람다함수를 정의 \n",
    "                                               // 수신객체 람다표현식은 this를 람다표현식 내부에서 사용가능 \n",
    "                                               \n",
    "println(lr(100,200))                           // 내부적으로 두 개의 인자로 처리\n",
    "println((100).lr(200))                         // 수신객체를 정의하고 람다표현식을 처리\n",
    "\n",
    "\n",
    "println(with(100) {this + 200})                // 수신객체를 인자로 전달하고 this로 람다표현식 내부에서 처리"
   ]
  },
  {
   "cell_type": "markdown",
   "id": "60d077be",
   "metadata": {},
   "source": [
    "## 2-3-3 run"
   ]
  },
  {
   "cell_type": "code",
   "execution_count": 11,
   "id": "0eb1c0bf",
   "metadata": {},
   "outputs": [
    {
     "name": "stdout",
     "output_type": "stream",
     "text": [
      "반환은 수신객체로 처리 = 57\n",
      "일반 함수로 처리 = James\n"
     ]
    }
   ],
   "source": [
    "// fun <T, R> T.run(block: T.() -> R): R  {    // 확장함수로 run \n",
    "//     return block()                          // 람다표현식이 수신객체 람다표현식으로 정의하고 매개변수는 없다.\n",
    "//}                                            // 반환값은 람다 결과 \n",
    "\n",
    "class Person(var name:String, var age:Int)     // 클래스를 정의한다.\n",
    "\n",
    "val person = Person(\"James\", 56)               // 객체를 생성\n",
    "val ageNextYear = person.run {                 // 객체fh run 함수 사용 람다표현식은 이 객체 내부의 속성 갱신 \n",
    "    ++age                                      // 객체의 속성 갱신하고 반환하므로 \n",
    "    this\n",
    "}\n",
    "\n",
    "println(\"반환은 수신객체로 처리 = ${ageNextYear.age}\")\n",
    "\n",
    "// fun <R> run(block: () -> R): R   {          // 일반 함수로 정의된 run\n",
    "//.        return block()                      // 함수의 결과를 반환\n",
    "//}  \n",
    "\n",
    "val person1 = run {                            // 람다표현식에서 객체를하고 반환\n",
    "    val name = \"James\"\n",
    "    val age = 56\n",
    "    Person(name, age)\n",
    "}\n",
    "\n",
    "println(\"일반 함수로 처리 = \" +person1.name)       // 반환된 결과를 확인   "
   ]
  },
  {
   "cell_type": "markdown",
   "id": "0c26e1e8",
   "metadata": {},
   "source": [
    "## 2-3-4  also"
   ]
  },
  {
   "cell_type": "code",
   "execution_count": 12,
   "id": "82d6a0d2",
   "metadata": {},
   "outputs": [
    {
     "name": "stdout",
     "output_type": "stream",
     "text": [
      "이름은 코틀린\n",
      "also1 Person\n",
      "이름은  코틀린 also\n",
      "also2 Person\n"
     ]
    }
   ],
   "source": [
    "/* public inline fun <T> T.also(block: (T) -> Unit): T {      // 확장함수 alseo \n",
    "    block(this)                                               // 람다표현식에 인자로 수신객체를 전달\n",
    "    return this                                               // 반환값은 자기자신\n",
    "} */\n",
    "\n",
    "class Person { var name = \"코틀린\";private val id = \"9999\";var age = 0}\n",
    "\n",
    "val  person = Person()                                         // 객체생성 \n",
    "\n",
    "val also1 = person.also { println(\"이름은 ${it.name}\") }         // also 외부 반환없는 함수 반환\n",
    "println(\"also1 ${also1::class.simpleName}\")\n",
    "\n",
    "val also2 = person.also {\n",
    "               it.name = \"코틀린 also\"                         // 내부 속성 변경 \n",
    "               it.age = 33                                   // 내부 속성 변경 \n",
    "               println(\"이름은  ${it.name}\")                   // 내부 속성 변경 출력 \n",
    "            }\n",
    "println(\"also2 ${also2::class.simpleName}\")"
   ]
  },
  {
   "cell_type": "markdown",
   "id": "8f91cf43",
   "metadata": {},
   "source": [
    "## 2-3-5 apply"
   ]
  },
  {
   "cell_type": "code",
   "execution_count": 13,
   "id": "a0e1a5ce",
   "metadata": {},
   "outputs": [
    {
     "name": "stdout",
     "output_type": "stream",
     "text": [
      "이름은 코틀린\n",
      "apply1 Person\n",
      "이름은 어플라이\n",
      "apply2 Person\n"
     ]
    }
   ],
   "source": [
    "/* public inline fun <T> T.apply(block: T.() -> Unit): T {    // 확장함수 applu\n",
    "    block()                                                   // 수신객체 람다표현식\n",
    "    return this                                               // 자기 자신을 리턴 \n",
    "} */\n",
    "\n",
    "class Person { var name = \"코틀린\";private val id = \"9999\";var age = 0}\n",
    "\n",
    "val  person = Person()                                         // 객체생성 \n",
    "\n",
    "val apply1 = person.apply { println(\"이름은 $name\")}            // 출력만하는 람다표현식 전달 \n",
    "println(\"apply1 ${apply1::class.simpleName}\")\n",
    "\n",
    "val apply2= person.apply {\n",
    "                 name = \"어플라이\"                               // 내부 속성 변경 \n",
    "                 age = 21\n",
    "                 println(\"이름은 $name\")\n",
    "             }\n",
    "println(\"apply2 ${apply2::class.simpleName}\")"
   ]
  },
  {
   "cell_type": "code",
   "execution_count": null,
   "id": "a024d455",
   "metadata": {},
   "outputs": [],
   "source": []
  }
 ],
 "metadata": {
  "kernelspec": {
   "display_name": "Kotlin",
   "language": "kotlin",
   "name": "kotlin"
  },
  "language_info": {
   "codemirror_mode": "text/x-kotlin",
   "file_extension": ".kt",
   "mimetype": "text/x-kotlin",
   "name": "kotlin",
   "nbconvert_exporter": "",
   "pygments_lexer": "kotlin",
   "version": "1.8.0-dev-3517"
  }
 },
 "nbformat": 4,
 "nbformat_minor": 5
}
