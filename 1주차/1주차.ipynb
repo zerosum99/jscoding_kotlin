{
 "cells": [
  {
   "cell_type": "markdown",
   "id": "60f5bfbd",
   "metadata": {},
   "source": [
    "# 주요 내용\n",
    "\n",
    "\n",
    "2장 3장 ,4장, 5장 \n",
    "\n",
    "변수, 상수, 연산자 , 제어 및 순환문, 함수 정의, 매개변수 처리, 클래스, 생성자, 메서드  기본 알아보기 "
   ]
  },
  {
   "cell_type": "markdown",
   "id": "118973fc",
   "metadata": {},
   "source": [
    "# 1. 코틀린 문법을 스크립터로 배우는 이유\n",
    "\n",
    "- 첫째, 항상 컴파일러보다 버전이 빠르다.\n",
    "- 둘째, 코틀린 플레이그라운드보다 참고 자료 등을 잘 작성할 수 있다.\n",
    "- 세째, 굳이 메인함수를 작성하지 않아도 실행가능하다\n"
   ]
  },
  {
   "cell_type": "markdown",
   "id": "ffc4b14f",
   "metadata": {},
   "source": [
    "## 컴파일러 버전보다 항상 최신 버전 적용 "
   ]
  },
  {
   "cell_type": "code",
   "execution_count": 1,
   "id": "3bd9cbe5",
   "metadata": {},
   "outputs": [
    {
     "data": {
      "text/plain": [
       "1.8.0"
      ]
     },
     "execution_count": 1,
     "metadata": {},
     "output_type": "execute_result"
    }
   ],
   "source": [
    "KotlinVersion.CURRENT             // 코틀린 현재 버전 "
   ]
  },
  {
   "cell_type": "code",
   "execution_count": null,
   "id": "885435f1",
   "metadata": {},
   "outputs": [],
   "source": []
  },
  {
   "cell_type": "markdown",
   "id": "c8660339",
   "metadata": {},
   "source": [
    "## 플레이그라운드에서는 주석만 가능하지만 주피터노트북은 마크타운으로 정보를 남길 수 있다."
   ]
  },
  {
   "cell_type": "markdown",
   "id": "30b70556",
   "metadata": {},
   "source": [
    "#  문서 작성 \n",
    "##   문서작성 \n",
    "\n",
    "- 리스트 작성 1\n",
    "- 리스트 작성 2"
   ]
  },
  {
   "cell_type": "markdown",
   "id": "8346a88d",
   "metadata": {},
   "source": [
    "## 깃허브 정보 공유할 때 바로 작성된 문서를 볼 수 있다. "
   ]
  },
  {
   "cell_type": "code",
   "execution_count": null,
   "id": "51ae3e47",
   "metadata": {},
   "outputs": [],
   "source": []
  },
  {
   "cell_type": "markdown",
   "id": "53b92497",
   "metadata": {},
   "source": [
    "## 메인 함수 없어도 출력결과를 확인"
   ]
  },
  {
   "cell_type": "code",
   "execution_count": 2,
   "id": "7d791bbe",
   "metadata": {},
   "outputs": [
    {
     "name": "stdout",
     "output_type": "stream",
     "text": [
      "Hello Kotlin !!!1\n"
     ]
    }
   ],
   "source": [
    "println(\"Hello Kotlin !!!1\")"
   ]
  },
  {
   "cell_type": "code",
   "execution_count": 3,
   "id": "c830100d",
   "metadata": {},
   "outputs": [],
   "source": [
    "fun main() {\n",
    "    println(\" 1주차  main 함수 호출 \")\n",
    "}"
   ]
  },
  {
   "cell_type": "code",
   "execution_count": 4,
   "id": "24c207ae",
   "metadata": {},
   "outputs": [
    {
     "name": "stdout",
     "output_type": "stream",
     "text": [
      " 1주차  main 함수 호출 \n"
     ]
    }
   ],
   "source": [
    "main()"
   ]
  },
  {
   "cell_type": "code",
   "execution_count": null,
   "id": "3f34c950",
   "metadata": {},
   "outputs": [],
   "source": [
    "val x "
   ]
  }
 ],
 "metadata": {
  "kernelspec": {
   "display_name": "Kotlin",
   "language": "kotlin",
   "name": "kotlin"
  },
  "language_info": {
   "codemirror_mode": "text/x-kotlin",
   "file_extension": ".kt",
   "mimetype": "text/x-kotlin",
   "name": "kotlin",
   "nbconvert_exporter": "",
   "pygments_lexer": "kotlin",
   "version": "1.8.0-dev-3517"
  }
 },
 "nbformat": 4,
 "nbformat_minor": 5
}
