{
 "cells": [
  {
   "cell_type": "markdown",
   "id": "75cb962d",
   "metadata": {},
   "source": [
    "# 주요 내용\n",
    "\n",
    "\n",
    "2장 3장 ,4장, 5장 \n",
    "\n",
    "변수, 상수, 연산자 , 제어 및 순환문, 함수 정의, 매개변수 처리, 클래스, 생성자, 메서드  기본 알아보기 "
   ]
  },
  {
   "cell_type": "markdown",
   "id": "f8b43879",
   "metadata": {},
   "source": [
    "# 1. 코틀린 문법을 스크립터로 배우는 이유\n",
    "\n",
    "- 첫째, 항상 컴파일러보다 버전이 빠르다.\n",
    "- 둘째, 코틀린 플레이그라운드보다 참고 자료 등을 잘 작성할 수 있다.\n",
    "- 세째, 굳이 메인함수를 작성하지 않아도 실행가능하다\n"
   ]
  },
  {
   "cell_type": "markdown",
   "id": "912c8da0",
   "metadata": {},
   "source": [
    "## 컴파일러 버전보다 항상 최신 버전 적용 "
   ]
  },
  {
   "cell_type": "code",
   "execution_count": 1,
   "id": "00688751",
   "metadata": {},
   "outputs": [
    {
     "data": {
      "text/plain": [
       "1.8.0"
      ]
     },
     "execution_count": 1,
     "metadata": {},
     "output_type": "execute_result"
    }
   ],
   "source": [
    "KotlinVersion.CURRENT             // 코틀린 현재 버전 "
   ]
  },
  {
   "cell_type": "code",
   "execution_count": null,
   "id": "8413e102",
   "metadata": {},
   "outputs": [],
   "source": []
  },
  {
   "cell_type": "markdown",
   "id": "37d0533d",
   "metadata": {},
   "source": [
    "## 플레이그라운드에서는 주석만 가능하지만 주피터노트북은 마크타운으로 정보를 남길 수 있다."
   ]
  },
  {
   "cell_type": "markdown",
   "id": "7bdf35dc",
   "metadata": {},
   "source": [
    "#  문서 작성 \n",
    "##   문서작성 \n",
    "\n",
    "- 리스트 작성 1\n",
    "- 리스트 작성 2"
   ]
  },
  {
   "cell_type": "markdown",
   "id": "08f61756",
   "metadata": {},
   "source": [
    "## 깃허브 정보 공유할 때 바로 작성된 문서를 볼 수 있다. "
   ]
  },
  {
   "cell_type": "code",
   "execution_count": null,
   "id": "ded74cc4",
   "metadata": {},
   "outputs": [],
   "source": []
  },
  {
   "cell_type": "markdown",
   "id": "19ad58ad",
   "metadata": {},
   "source": [
    "## 메인 함수 없어도 출력결과를 확인"
   ]
  },
  {
   "cell_type": "code",
   "execution_count": 2,
   "id": "236df397",
   "metadata": {},
   "outputs": [
    {
     "name": "stdout",
     "output_type": "stream",
     "text": [
      "Hello Kotlin !!!1\n"
     ]
    }
   ],
   "source": [
    "println(\"Hello Kotlin !!!1\")"
   ]
  },
  {
   "cell_type": "code",
   "execution_count": 3,
   "id": "f2738b65",
   "metadata": {},
   "outputs": [],
   "source": [
    "fun main() {\n",
    "    println(\" 1주차  main 함수 호출 \")\n",
    "}"
   ]
  },
  {
   "cell_type": "code",
   "execution_count": 4,
   "id": "283ef861",
   "metadata": {},
   "outputs": [
    {
     "name": "stdout",
     "output_type": "stream",
     "text": [
      " 1주차  main 함수 호출 \n"
     ]
    }
   ],
   "source": [
    "main()"
   ]
  },
  {
   "cell_type": "code",
   "execution_count": null,
   "id": "52d2ac58",
   "metadata": {},
   "outputs": [],
   "source": []
  },
  {
   "cell_type": "code",
   "execution_count": null,
   "id": "db644e1a",
   "metadata": {},
   "outputs": [],
   "source": []
  },
  {
   "cell_type": "markdown",
   "id": "b49bbe4e",
   "metadata": {},
   "source": [
    "# 2. 변수 상수 식별자 "
   ]
  },
  {
   "cell_type": "code",
   "execution_count": 9,
   "id": "3111f7c2",
   "metadata": {},
   "outputs": [],
   "source": [
    "val x = 100\n",
    "var y = 200"
   ]
  },
  {
   "cell_type": "markdown",
   "id": "a1337c0b",
   "metadata": {},
   "source": [
    "## 한번만 할당하는 변수 정의 : val \n",
    "\n",
    "- 반드시 정의할 때 값을 할당\n",
    "- 타입추론이 가능해서 실제 자료형을 지정하지 않아도 됨 "
   ]
  },
  {
   "cell_type": "code",
   "execution_count": 11,
   "id": "eeafad4d",
   "metadata": {},
   "outputs": [
    {
     "name": "stderr",
     "output_type": "stream",
     "text": [
      "Line_1347.jupyter-kts (1:1 - 2) Val cannot be reassigned"
     ]
    }
   ],
   "source": [
    "x = 300"
   ]
  },
  {
   "cell_type": "markdown",
   "id": "f5513227",
   "metadata": {},
   "source": [
    "## 자료형 확인하기"
   ]
  },
  {
   "cell_type": "code",
   "execution_count": 16,
   "id": "32e39390",
   "metadata": {},
   "outputs": [
    {
     "name": "stdout",
     "output_type": "stream",
     "text": [
      "type 확인 class kotlin.Int\n",
      " 참조로 확인 int\n"
     ]
    }
   ],
   "source": [
    "println(\" type 확인 \"+ x.javaClass.kotlin)\n",
    "println(\" 참조로 확인 \" + x::class.java.typeName)"
   ]
  },
  {
   "cell_type": "markdown",
   "id": "b3a75f58",
   "metadata": {},
   "source": [
    "### 자바일 경우의 자료형"
   ]
  },
  {
   "cell_type": "code",
   "execution_count": 22,
   "id": "475400b7",
   "metadata": {},
   "outputs": [
    {
     "name": "stdout",
     "output_type": "stream",
     "text": [
      " type 확인 int\n",
      " 참조로 확인 int\n"
     ]
    }
   ],
   "source": [
    "println(\" type 확인 \"+ x.javaClass)\n",
    "println(\" 참조로 확인 \" + x::class.java.typeName)"
   ]
  },
  {
   "cell_type": "markdown",
   "id": "ce6124d0",
   "metadata": {},
   "source": [
    "## 여러번 할당하는 변수 정의 : var \n",
    "\n",
    "- 저장하는 값을 계속 처리할 수 있음 \n"
   ]
  },
  {
   "cell_type": "code",
   "execution_count": 12,
   "id": "68cbd6cf",
   "metadata": {},
   "outputs": [],
   "source": [
    "y = 9999"
   ]
  },
  {
   "cell_type": "code",
   "execution_count": null,
   "id": "a0ab4718",
   "metadata": {},
   "outputs": [],
   "source": []
  },
  {
   "cell_type": "code",
   "execution_count": null,
   "id": "e82ac4b8",
   "metadata": {},
   "outputs": [],
   "source": []
  },
  {
   "cell_type": "markdown",
   "id": "3d23dfe3",
   "metadata": {},
   "source": [
    "# 3. 함수 "
   ]
  },
  {
   "cell_type": "markdown",
   "id": "06fb0cee",
   "metadata": {},
   "source": [
    "## 3.1 함수정의"
   ]
  },
  {
   "cell_type": "code",
   "execution_count": 21,
   "id": "78d87816",
   "metadata": {},
   "outputs": [],
   "source": [
    "fun add(x:Int, y:Int): Int {\n",
    "    return x+y\n",
    "}"
   ]
  },
  {
   "cell_type": "code",
   "execution_count": null,
   "id": "bd08b1ad",
   "metadata": {},
   "outputs": [],
   "source": []
  },
  {
   "cell_type": "code",
   "execution_count": null,
   "id": "5bf0ee78",
   "metadata": {},
   "outputs": [],
   "source": []
  },
  {
   "cell_type": "markdown",
   "id": "30f288e3",
   "metadata": {},
   "source": [
    "## 3.2 익명함수, 람다함수 정의"
   ]
  },
  {
   "cell_type": "code",
   "execution_count": null,
   "id": "95f389d2",
   "metadata": {},
   "outputs": [],
   "source": []
  },
  {
   "cell_type": "code",
   "execution_count": null,
   "id": "5449f195",
   "metadata": {},
   "outputs": [],
   "source": []
  },
  {
   "cell_type": "markdown",
   "id": "67d14723",
   "metadata": {},
   "source": [
    "## 3.3 클로저, 내부함수 처리"
   ]
  },
  {
   "cell_type": "code",
   "execution_count": null,
   "id": "c0b05742",
   "metadata": {},
   "outputs": [],
   "source": []
  },
  {
   "cell_type": "code",
   "execution_count": null,
   "id": "8e88d755",
   "metadata": {},
   "outputs": [],
   "source": []
  },
  {
   "cell_type": "code",
   "execution_count": null,
   "id": "6f2bb864",
   "metadata": {},
   "outputs": [],
   "source": []
  },
  {
   "cell_type": "code",
   "execution_count": null,
   "id": "26b68a4b",
   "metadata": {},
   "outputs": [],
   "source": []
  },
  {
   "cell_type": "markdown",
   "id": "b1c95963",
   "metadata": {},
   "source": [
    "# 4. 클래스"
   ]
  },
  {
   "cell_type": "markdown",
   "id": "57ebda3b",
   "metadata": {},
   "source": [
    "## 4.1 클래스 정의"
   ]
  },
  {
   "cell_type": "code",
   "execution_count": null,
   "id": "55f2c143",
   "metadata": {},
   "outputs": [],
   "source": []
  },
  {
   "cell_type": "code",
   "execution_count": null,
   "id": "c17c7dd6",
   "metadata": {},
   "outputs": [],
   "source": []
  },
  {
   "cell_type": "markdown",
   "id": "5f94e429",
   "metadata": {},
   "source": [
    "## 4.2 생성자 정의"
   ]
  },
  {
   "cell_type": "code",
   "execution_count": null,
   "id": "75fa40ab",
   "metadata": {},
   "outputs": [],
   "source": []
  },
  {
   "cell_type": "code",
   "execution_count": null,
   "id": "65995d70",
   "metadata": {},
   "outputs": [],
   "source": []
  },
  {
   "cell_type": "code",
   "execution_count": null,
   "id": "03ad642c",
   "metadata": {},
   "outputs": [],
   "source": []
  },
  {
   "cell_type": "markdown",
   "id": "37bcc989",
   "metadata": {},
   "source": [
    "## 4.3 메서드 정의"
   ]
  },
  {
   "cell_type": "code",
   "execution_count": null,
   "id": "4b5e9dc8",
   "metadata": {},
   "outputs": [],
   "source": []
  },
  {
   "cell_type": "code",
   "execution_count": null,
   "id": "58c53d1c",
   "metadata": {},
   "outputs": [],
   "source": []
  },
  {
   "cell_type": "code",
   "execution_count": null,
   "id": "e0572356",
   "metadata": {},
   "outputs": [],
   "source": []
  },
  {
   "cell_type": "markdown",
   "id": "c97d7812",
   "metadata": {},
   "source": [
    "## 4.4 연산자 재정의, 메서드 재정의 "
   ]
  },
  {
   "cell_type": "code",
   "execution_count": null,
   "id": "5de368a2",
   "metadata": {},
   "outputs": [],
   "source": []
  },
  {
   "cell_type": "code",
   "execution_count": null,
   "id": "4df13526",
   "metadata": {},
   "outputs": [],
   "source": []
  },
  {
   "cell_type": "code",
   "execution_count": null,
   "id": "f47d4959",
   "metadata": {},
   "outputs": [],
   "source": []
  },
  {
   "cell_type": "markdown",
   "id": "3cf209d5",
   "metadata": {},
   "source": [
    "# 5 object 정의 "
   ]
  },
  {
   "cell_type": "code",
   "execution_count": null,
   "id": "93b5a6ff",
   "metadata": {},
   "outputs": [],
   "source": [
    "## 5-1"
   ]
  },
  {
   "cell_type": "code",
   "execution_count": null,
   "id": "03dd783c",
   "metadata": {},
   "outputs": [],
   "source": []
  },
  {
   "cell_type": "code",
   "execution_count": null,
   "id": "7013f779",
   "metadata": {},
   "outputs": [],
   "source": []
  },
  {
   "cell_type": "code",
   "execution_count": null,
   "id": "81c1396e",
   "metadata": {},
   "outputs": [],
   "source": []
  }
 ],
 "metadata": {
  "kernelspec": {
   "display_name": "Kotlin",
   "language": "kotlin",
   "name": "kotlin"
  },
  "language_info": {
   "codemirror_mode": "text/x-kotlin",
   "file_extension": ".kt",
   "mimetype": "text/x-kotlin",
   "name": "kotlin",
   "nbconvert_exporter": "",
   "pygments_lexer": "kotlin",
   "version": "1.8.0-dev-3517"
  }
 },
 "nbformat": 4,
 "nbformat_minor": 5
}
