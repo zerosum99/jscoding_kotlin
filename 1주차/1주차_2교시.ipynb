{
 "cells": [
  {
   "cell_type": "markdown",
   "id": "75cb962d",
   "metadata": {},
   "source": [
    "# 주요 내용\n",
    "\n",
    "\n",
    "2장 3장 ,4장, 5장 \n",
    "\n",
    "변수, 상수, 연산자 , 제어 및 순환문, 함수 정의, 매개변수 처리, 클래스, 생성자, 메서드  기본 알아보기 "
   ]
  },
  {
   "cell_type": "code",
   "execution_count": 1,
   "id": "00688751",
   "metadata": {},
   "outputs": [
    {
     "data": {
      "text/plain": [
       "1.8.0"
      ]
     },
     "execution_count": 1,
     "metadata": {},
     "output_type": "execute_result"
    }
   ],
   "source": [
    "KotlinVersion.CURRENT             // 코틀린 현재 버전 "
   ]
  },
  {
   "cell_type": "code",
   "execution_count": null,
   "id": "8413e102",
   "metadata": {},
   "outputs": [],
   "source": []
  },
  {
   "cell_type": "markdown",
   "id": "3d23dfe3",
   "metadata": {},
   "source": [
    "# 3. 함수 \n",
    "\n",
    "- 일반함수, 익명함수, 람다표현식 등 3가지 종류의 함수를 정의할 수 있다.\n",
    "- 함수를 정의해서 속한 영역에 따라 최상위 함수, 지역함수, 메서드 등으로 작성할 수 있다.\n",
    "- 최상위 함수는 전역영역에 정의된 함수\n",
    "- 지역함수는 지역변수처럼 함수 내부에 정의된 함수 \n",
    "- 메서드는 클래스 내부에 정의된 함수 "
   ]
  },
  {
   "cell_type": "markdown",
   "id": "06fb0cee",
   "metadata": {},
   "source": [
    "## 3.1 함수정의\n",
    "\n",
    "- 함수는 fun 예약어 + 함수명 + 매개변수목록 + 반환 + 본문\n"
   ]
  },
  {
   "cell_type": "markdown",
   "id": "053247e9",
   "metadata": {},
   "source": [
    "### 함수 정의 "
   ]
  },
  {
   "cell_type": "code",
   "execution_count": 2,
   "id": "78d87816",
   "metadata": {},
   "outputs": [],
   "source": [
    "fun add(x:Int, y:Int): Int {\n",
    "    return x+y\n",
    "}"
   ]
  },
  {
   "cell_type": "code",
   "execution_count": null,
   "id": "bd08b1ad",
   "metadata": {},
   "outputs": [],
   "source": []
  },
  {
   "cell_type": "markdown",
   "id": "f748791d",
   "metadata": {},
   "source": [
    "## 함수 오버로딩 처리 "
   ]
  },
  {
   "cell_type": "code",
   "execution_count": 3,
   "id": "7d429930",
   "metadata": {},
   "outputs": [],
   "source": [
    "fun add(x:Float, y:Float) : Float {\n",
    "    return x + y\n",
    "}"
   ]
  },
  {
   "cell_type": "code",
   "execution_count": null,
   "id": "52775148",
   "metadata": {},
   "outputs": [],
   "source": []
  },
  {
   "cell_type": "code",
   "execution_count": null,
   "id": "d1c77eff",
   "metadata": {},
   "outputs": [],
   "source": []
  },
  {
   "cell_type": "markdown",
   "id": "9d160459",
   "metadata": {},
   "source": [
    "## 3.2 매개변수와 인자 처리 "
   ]
  },
  {
   "cell_type": "code",
   "execution_count": null,
   "id": "5bf0ee78",
   "metadata": {},
   "outputs": [],
   "source": []
  },
  {
   "cell_type": "markdown",
   "id": "6cd1e4af",
   "metadata": {},
   "source": [
    "### 3-2-1 매개변수의 디폴트 값 지정"
   ]
  },
  {
   "cell_type": "code",
   "execution_count": 5,
   "id": "a077140b",
   "metadata": {},
   "outputs": [],
   "source": [
    "fun sum(x:Int = 200,y:Int =100) : Int {\n",
    "    return x + y\n",
    "}"
   ]
  },
  {
   "cell_type": "code",
   "execution_count": 6,
   "id": "d148e8cf",
   "metadata": {},
   "outputs": [
    {
     "data": {
      "text/plain": [
       "300"
      ]
     },
     "execution_count": 6,
     "metadata": {},
     "output_type": "execute_result"
    }
   ],
   "source": [
    "sum()"
   ]
  },
  {
   "cell_type": "code",
   "execution_count": null,
   "id": "8e5bdeb1",
   "metadata": {},
   "outputs": [],
   "source": []
  },
  {
   "cell_type": "markdown",
   "id": "99219bff",
   "metadata": {},
   "source": [
    "## 3-2-2 인자"
   ]
  },
  {
   "cell_type": "code",
   "execution_count": 7,
   "id": "660b4d2b",
   "metadata": {},
   "outputs": [],
   "source": [
    "fun sum(x:Double, y: Double) : Double {\n",
    "    return x + y\n",
    "}"
   ]
  },
  {
   "cell_type": "markdown",
   "id": "23932253",
   "metadata": {},
   "source": [
    "### 위치인자\n",
    "-  매개변수의 순서에 따라 값을 지정 "
   ]
  },
  {
   "cell_type": "code",
   "execution_count": 8,
   "id": "97439744",
   "metadata": {},
   "outputs": [
    {
     "data": {
      "text/plain": [
       "300"
      ]
     },
     "execution_count": 8,
     "metadata": {},
     "output_type": "execute_result"
    }
   ],
   "source": [
    "sum(100,200)"
   ]
  },
  {
   "cell_type": "markdown",
   "id": "b173a986",
   "metadata": {},
   "source": [
    "## 이름인자\n",
    "- 매개변수 이름과 값을 쌍으로 처리 "
   ]
  },
  {
   "cell_type": "code",
   "execution_count": 9,
   "id": "dc1ead01",
   "metadata": {},
   "outputs": [
    {
     "data": {
      "text/plain": [
       "300"
      ]
     },
     "execution_count": 9,
     "metadata": {},
     "output_type": "execute_result"
    }
   ],
   "source": [
    "sum(y=100,x=200)"
   ]
  },
  {
   "cell_type": "code",
   "execution_count": null,
   "id": "1bd2c439",
   "metadata": {},
   "outputs": [],
   "source": []
  },
  {
   "cell_type": "markdown",
   "id": "0679b468",
   "metadata": {},
   "source": [
    "## 3-2-3 가변인자"
   ]
  },
  {
   "cell_type": "markdown",
   "id": "620e3d14",
   "metadata": {},
   "source": [
    "## 함수에 가변인자를 정의하기\n",
    "\n",
    "- 가변인자는 매개변수 앞에 vararg를 붙여서 처리"
   ]
  },
  {
   "cell_type": "code",
   "execution_count": 16,
   "id": "e29c63c4",
   "metadata": {},
   "outputs": [],
   "source": [
    "fun sum(vararg x : Int) : Int {\n",
    "    var result = 0\n",
    "    for (i :Int in x ) {\n",
    "        result += i\n",
    "    }\n",
    "    return result\n",
    "}"
   ]
  },
  {
   "cell_type": "code",
   "execution_count": 17,
   "id": "7451f3ec",
   "metadata": {},
   "outputs": [
    {
     "data": {
      "text/plain": [
       "15"
      ]
     },
     "execution_count": 17,
     "metadata": {},
     "output_type": "execute_result"
    }
   ],
   "source": [
    "sum(1,2,3,4,5)"
   ]
  },
  {
   "cell_type": "markdown",
   "id": "d75c91af",
   "metadata": {},
   "source": [
    "## 스프레이드 연산\n",
    "\n",
    "- 배열로 정한 변수 앞에 별표를 붙이면 실제 값만 함수의 인자로 전달 "
   ]
  },
  {
   "cell_type": "code",
   "execution_count": 18,
   "id": "f2376a2e",
   "metadata": {},
   "outputs": [],
   "source": [
    "val x = intArrayOf(1,2,3,4,5)"
   ]
  },
  {
   "cell_type": "code",
   "execution_count": 19,
   "id": "506e35f0",
   "metadata": {},
   "outputs": [
    {
     "data": {
      "text/plain": [
       "15"
      ]
     },
     "execution_count": 19,
     "metadata": {},
     "output_type": "execute_result"
    }
   ],
   "source": [
    "sum(*x)"
   ]
  },
  {
   "cell_type": "markdown",
   "id": "30f288e3",
   "metadata": {},
   "source": [
    "## 3.4 익명함수, 람다함수 정의"
   ]
  },
  {
   "cell_type": "code",
   "execution_count": null,
   "id": "95f389d2",
   "metadata": {},
   "outputs": [],
   "source": []
  },
  {
   "cell_type": "markdown",
   "id": "9f735493",
   "metadata": {},
   "source": [
    "## 3-4-1  익명함수"
   ]
  },
  {
   "cell_type": "code",
   "execution_count": null,
   "id": "4b4ab749",
   "metadata": {},
   "outputs": [],
   "source": []
  },
  {
   "cell_type": "code",
   "execution_count": null,
   "id": "c465e2b0",
   "metadata": {},
   "outputs": [],
   "source": []
  },
  {
   "cell_type": "code",
   "execution_count": null,
   "id": "9f242b43",
   "metadata": {},
   "outputs": [],
   "source": []
  },
  {
   "cell_type": "markdown",
   "id": "5cc15bdb",
   "metadata": {},
   "source": [
    "## 3-4-2 람다함수"
   ]
  },
  {
   "cell_type": "code",
   "execution_count": null,
   "id": "71428d35",
   "metadata": {},
   "outputs": [],
   "source": []
  },
  {
   "cell_type": "code",
   "execution_count": null,
   "id": "5449f195",
   "metadata": {},
   "outputs": [],
   "source": []
  },
  {
   "cell_type": "markdown",
   "id": "67d14723",
   "metadata": {},
   "source": [
    "## 3.5 클로저, 내부함수 처리"
   ]
  },
  {
   "cell_type": "code",
   "execution_count": null,
   "id": "c0b05742",
   "metadata": {},
   "outputs": [],
   "source": []
  },
  {
   "cell_type": "markdown",
   "id": "f5bbea55",
   "metadata": {},
   "source": [
    "## 3-5-1 클로저"
   ]
  },
  {
   "cell_type": "code",
   "execution_count": null,
   "id": "6f2bb864",
   "metadata": {},
   "outputs": [],
   "source": []
  },
  {
   "cell_type": "code",
   "execution_count": null,
   "id": "26b68a4b",
   "metadata": {},
   "outputs": [],
   "source": []
  },
  {
   "cell_type": "code",
   "execution_count": null,
   "id": "e6c2ffaa",
   "metadata": {},
   "outputs": [],
   "source": []
  },
  {
   "cell_type": "markdown",
   "id": "dba93c15",
   "metadata": {},
   "source": [
    "## 3-5-2 내부 함수 처리"
   ]
  },
  {
   "cell_type": "code",
   "execution_count": null,
   "id": "70418fd1",
   "metadata": {},
   "outputs": [],
   "source": []
  },
  {
   "cell_type": "code",
   "execution_count": null,
   "id": "c94c1773",
   "metadata": {},
   "outputs": [],
   "source": []
  },
  {
   "cell_type": "code",
   "execution_count": null,
   "id": "07444ba1",
   "metadata": {},
   "outputs": [],
   "source": []
  },
  {
   "cell_type": "code",
   "execution_count": null,
   "id": "19422fae",
   "metadata": {},
   "outputs": [],
   "source": []
  }
 ],
 "metadata": {
  "kernelspec": {
   "display_name": "Kotlin",
   "language": "kotlin",
   "name": "kotlin"
  },
  "language_info": {
   "codemirror_mode": "text/x-kotlin",
   "file_extension": ".kt",
   "mimetype": "text/x-kotlin",
   "name": "kotlin",
   "nbconvert_exporter": "",
   "pygments_lexer": "kotlin",
   "version": "1.8.0-dev-3517"
  }
 },
 "nbformat": 4,
 "nbformat_minor": 5
}
