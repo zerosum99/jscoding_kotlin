{
 "cells": [
  {
   "cell_type": "markdown",
   "id": "75cb962d",
   "metadata": {},
   "source": [
    "# 주요 내용\n",
    "\n",
    "\n",
    "2장 3장 ,4장, 5장 \n",
    "\n",
    "변수, 상수, 연산자 , 제어 및 순환문, 함수 정의, 매개변수 처리, 클래스, 생성자, 메서드  기본 알아보기 "
   ]
  },
  {
   "cell_type": "code",
   "execution_count": 1,
   "id": "00688751",
   "metadata": {},
   "outputs": [
    {
     "data": {
      "text/plain": [
       "1.8.0"
      ]
     },
     "execution_count": 1,
     "metadata": {},
     "output_type": "execute_result"
    }
   ],
   "source": [
    "KotlinVersion.CURRENT             // 코틀린 현재 버전 "
   ]
  },
  {
   "cell_type": "code",
   "execution_count": null,
   "id": "8413e102",
   "metadata": {},
   "outputs": [],
   "source": []
  },
  {
   "cell_type": "markdown",
   "id": "3d23dfe3",
   "metadata": {},
   "source": [
    "# 3. 함수 \n",
    "\n",
    "- 일반함수, 익명함수, 람다표현식 등 3가지 종류의 함수를 정의할 수 있다.\n",
    "- 함수를 정의해서 속한 영역에 따라 최상위 함수, 지역함수, 메서드 등으로 작성할 수 있다.\n",
    "- 최상위 함수는 전역영역에 정의된 함수\n",
    "- 지역함수는 지역변수처럼 함수 내부에 정의된 함수 \n",
    "- 메서드는 클래스 내부에 정의된 함수 "
   ]
  },
  {
   "cell_type": "markdown",
   "id": "06fb0cee",
   "metadata": {},
   "source": [
    "## 3.1 함수정의\n",
    "\n",
    "- 함수는 fun 예약어 + 함수명 + 매개변수목록 + 반환 + 본문\n"
   ]
  },
  {
   "cell_type": "markdown",
   "id": "1d7a9c11",
   "metadata": {},
   "source": [
    "## 3-1-1  함수 정의 "
   ]
  },
  {
   "cell_type": "code",
   "execution_count": 2,
   "id": "78d87816",
   "metadata": {},
   "outputs": [],
   "source": [
    "fun add(x:Int, y:Int): Int {\n",
    "    return x+y\n",
    "}"
   ]
  },
  {
   "cell_type": "code",
   "execution_count": null,
   "id": "bd08b1ad",
   "metadata": {},
   "outputs": [],
   "source": []
  },
  {
   "cell_type": "markdown",
   "id": "0cf0cb53",
   "metadata": {},
   "source": [
    "## 3-1-2 단일 표현식 함수 정의 "
   ]
  },
  {
   "cell_type": "code",
   "execution_count": 3,
   "id": "62863327",
   "metadata": {},
   "outputs": [
    {
     "name": "stdout",
     "output_type": "stream",
     "text": [
      "30\n"
     ]
    }
   ],
   "source": [
    "fun singleAdd(x:Int, y:Int) : Int = x+y\n",
    "\n",
    "println(singleAdd(10,20))"
   ]
  },
  {
   "cell_type": "markdown",
   "id": "1aa2893c",
   "metadata": {},
   "source": [
    "### 단일 표현식 작성시 반환값 추론이 가능하면 반환자료형 생략 "
   ]
  },
  {
   "cell_type": "code",
   "execution_count": 4,
   "id": "e1792171",
   "metadata": {},
   "outputs": [
    {
     "name": "stdout",
     "output_type": "stream",
     "text": [
      "30\n"
     ]
    }
   ],
   "source": [
    "fun singleAdd1(x:Int, y:Int) = x+y\n",
    "\n",
    "println(singleAdd1(10,20))"
   ]
  },
  {
   "cell_type": "code",
   "execution_count": null,
   "id": "f776f1b4",
   "metadata": {},
   "outputs": [],
   "source": []
  },
  {
   "cell_type": "markdown",
   "id": "4f2c7766",
   "metadata": {},
   "source": [
    "## 3-3-3 함수 오버로딩 처리 \n",
    "\n",
    "- 함수의 이름은 동일\n",
    "- 하지만 함수의 매개변수 개수가 다른 경우\n",
    "- 매개변수의 개수가 동일할 때는 자료형이 다른 경우\n"
   ]
  },
  {
   "cell_type": "code",
   "execution_count": 5,
   "id": "158d1f24",
   "metadata": {},
   "outputs": [],
   "source": [
    "fun add(x:Int, y:Int): Int {\n",
    "    println(\"정수 덧셈\")\n",
    "    return x+y\n",
    "}\n",
    "\n",
    "fun add(x:Float, y:Float) : Float {\n",
    "    println(\"F 실수 덧셈\")\n",
    "    return x + y\n",
    "}\n",
    "fun add(x:Double, y:Double) : Double {\n",
    "    println(\"D 실수 덧셈\")\n",
    "    return x + y\n",
    "}"
   ]
  },
  {
   "cell_type": "code",
   "execution_count": 6,
   "id": "2159d8f1",
   "metadata": {},
   "outputs": [
    {
     "name": "stdout",
     "output_type": "stream",
     "text": [
      "F 실수 덧셈\n"
     ]
    },
    {
     "data": {
      "text/plain": [
       "300.2"
      ]
     },
     "execution_count": 6,
     "metadata": {},
     "output_type": "execute_result"
    }
   ],
   "source": [
    "add(100.1f,200.1f)"
   ]
  },
  {
   "cell_type": "code",
   "execution_count": 7,
   "id": "d1c77eff",
   "metadata": {},
   "outputs": [
    {
     "name": "stdout",
     "output_type": "stream",
     "text": [
      "정수 덧셈\n"
     ]
    },
    {
     "data": {
      "text/plain": [
       "500"
      ]
     },
     "execution_count": 7,
     "metadata": {},
     "output_type": "execute_result"
    }
   ],
   "source": [
    "add(200,300)"
   ]
  },
  {
   "cell_type": "markdown",
   "id": "9d160459",
   "metadata": {},
   "source": [
    "## 3.2 다양한 매개변수와 인자 처리 \n",
    "\n",
    "- 함수를 정의할 때 작성하는 변수를 매개변수\n",
    "- 함수 호출할 때 전달하는 값을 인자 "
   ]
  },
  {
   "cell_type": "markdown",
   "id": "3ea10ac7",
   "metadata": {},
   "source": [
    "### 3-2-1 매개변수의 디폴트 값 지정"
   ]
  },
  {
   "cell_type": "code",
   "execution_count": 8,
   "id": "a077140b",
   "metadata": {},
   "outputs": [],
   "source": [
    "fun sum(x:Int = 200,y:Int =100) : Int {\n",
    "    return x + y\n",
    "}"
   ]
  },
  {
   "cell_type": "code",
   "execution_count": 9,
   "id": "5546de0f",
   "metadata": {},
   "outputs": [
    {
     "data": {
      "text/plain": [
       "300"
      ]
     },
     "execution_count": 9,
     "metadata": {},
     "output_type": "execute_result"
    }
   ],
   "source": [
    "sum()"
   ]
  },
  {
   "cell_type": "code",
   "execution_count": null,
   "id": "ed4ec758",
   "metadata": {},
   "outputs": [],
   "source": []
  },
  {
   "cell_type": "markdown",
   "id": "415a355c",
   "metadata": {},
   "source": [
    "## 3-2-2 인자"
   ]
  },
  {
   "cell_type": "code",
   "execution_count": 10,
   "id": "cb63a197",
   "metadata": {},
   "outputs": [],
   "source": [
    "fun sum(x:Double, y: Double) : Double {\n",
    "    return x + y\n",
    "}"
   ]
  },
  {
   "cell_type": "markdown",
   "id": "4488bad5",
   "metadata": {},
   "source": [
    "### 위치인자\n",
    "-  매개변수의 순서에 따라 값을 지정 "
   ]
  },
  {
   "cell_type": "code",
   "execution_count": 11,
   "id": "97439744",
   "metadata": {},
   "outputs": [
    {
     "data": {
      "text/plain": [
       "300"
      ]
     },
     "execution_count": 11,
     "metadata": {},
     "output_type": "execute_result"
    }
   ],
   "source": [
    "sum(100,200)"
   ]
  },
  {
   "cell_type": "markdown",
   "id": "984dd174",
   "metadata": {},
   "source": [
    "## 이름인자\n",
    "- 매개변수 이름과 값을 쌍으로 처리 "
   ]
  },
  {
   "cell_type": "code",
   "execution_count": 12,
   "id": "4a8655bb",
   "metadata": {},
   "outputs": [
    {
     "data": {
      "text/plain": [
       "300"
      ]
     },
     "execution_count": 12,
     "metadata": {},
     "output_type": "execute_result"
    }
   ],
   "source": [
    "sum(y=100,x=200)"
   ]
  },
  {
   "cell_type": "code",
   "execution_count": null,
   "id": "6bfce7e3",
   "metadata": {},
   "outputs": [],
   "source": []
  },
  {
   "cell_type": "markdown",
   "id": "6747b5d5",
   "metadata": {},
   "source": [
    "## 3-2-3 가변인자"
   ]
  },
  {
   "cell_type": "markdown",
   "id": "3aa45fe2",
   "metadata": {},
   "source": [
    "## 함수에 가변인자를 정의하기\n",
    "\n",
    "- 가변인자는 매개변수 앞에 vararg를 붙여서 처리"
   ]
  },
  {
   "cell_type": "code",
   "execution_count": 13,
   "id": "16d00b49",
   "metadata": {},
   "outputs": [],
   "source": [
    "fun sum(vararg x : Int) : Int {\n",
    "    var result = 0\n",
    "    for (i :Int in x ) {\n",
    "        result += i\n",
    "    }\n",
    "    return result\n",
    "}"
   ]
  },
  {
   "cell_type": "code",
   "execution_count": 14,
   "id": "9e61eb87",
   "metadata": {},
   "outputs": [
    {
     "data": {
      "text/plain": [
       "15"
      ]
     },
     "execution_count": 14,
     "metadata": {},
     "output_type": "execute_result"
    }
   ],
   "source": [
    "sum(1,2,3,4,5)"
   ]
  },
  {
   "cell_type": "markdown",
   "id": "988d91d5",
   "metadata": {},
   "source": [
    "## 스프레이드 연산\n",
    "\n",
    "- 배열로 정한 변수 앞에 별표를 붙이면 실제 값만 함수의 인자로 전달 "
   ]
  },
  {
   "cell_type": "code",
   "execution_count": 15,
   "id": "a114b1b3",
   "metadata": {},
   "outputs": [],
   "source": [
    "val x = intArrayOf(1,2,3,4,5)"
   ]
  },
  {
   "cell_type": "code",
   "execution_count": 16,
   "id": "57e8e55d",
   "metadata": {},
   "outputs": [
    {
     "data": {
      "text/plain": [
       "15"
      ]
     },
     "execution_count": 16,
     "metadata": {},
     "output_type": "execute_result"
    }
   ],
   "source": [
    "sum(*x)"
   ]
  },
  {
   "cell_type": "markdown",
   "id": "30f288e3",
   "metadata": {},
   "source": [
    "## 3.4 익명함수, 람다함수 정의"
   ]
  },
  {
   "cell_type": "code",
   "execution_count": null,
   "id": "95f389d2",
   "metadata": {},
   "outputs": [],
   "source": []
  },
  {
   "cell_type": "markdown",
   "id": "fe72a275",
   "metadata": {},
   "source": [
    "## 3-4-1  익명함수\n",
    "\n",
    "- 일반함수와 동일하지만 실제 이름이 없다. \n",
    "- 이름이 없어서 실제 람다표현식처럼 바로 실행하는 함수이다.\n",
    "- 일반함수와 동일하게 처리하므로 return 문으로 반환"
   ]
  },
  {
   "cell_type": "code",
   "execution_count": 17,
   "id": "02dea6bf",
   "metadata": {},
   "outputs": [],
   "source": [
    "val a = fun (x : Int, y : Int) : Int {\n",
    "    return x * y\n",
    "} "
   ]
  },
  {
   "cell_type": "code",
   "execution_count": 18,
   "id": "bba02989",
   "metadata": {},
   "outputs": [
    {
     "data": {
      "text/plain": [
       "20000"
      ]
     },
     "execution_count": 18,
     "metadata": {},
     "output_type": "execute_result"
    }
   ],
   "source": [
    "a(100,200)"
   ]
  },
  {
   "cell_type": "code",
   "execution_count": 19,
   "id": "d4bc53ff",
   "metadata": {},
   "outputs": [
    {
     "data": {
      "text/plain": [
       "60000"
      ]
     },
     "execution_count": 19,
     "metadata": {},
     "output_type": "execute_result"
    }
   ],
   "source": [
    "(fun (x : Int, y : Int) : Int { \n",
    "    return x * y \n",
    "}) (200,300)"
   ]
  },
  {
   "cell_type": "markdown",
   "id": "3ac52656",
   "metadata": {},
   "source": [
    "## 3-4-2 람다함수\n",
    "\n",
    "- 람다함수는 람다표현식이다. 그래서 함수의 결과에 return 반환이 불가하다.\n",
    "- 반환값은 표현식으로 작성한 마지막 결과이다."
   ]
  },
  {
   "cell_type": "code",
   "execution_count": 20,
   "id": "5339d8b0",
   "metadata": {},
   "outputs": [
    {
     "data": {
      "text/plain": [
       "20000"
      ]
     },
     "execution_count": 20,
     "metadata": {},
     "output_type": "execute_result"
    }
   ],
   "source": [
    "{x :Int, y : Int -> x*y}(100,200)"
   ]
  },
  {
   "cell_type": "code",
   "execution_count": null,
   "id": "5449f195",
   "metadata": {},
   "outputs": [],
   "source": []
  },
  {
   "cell_type": "markdown",
   "id": "67d14723",
   "metadata": {},
   "source": [
    "## 3.5 클로저, 내부함수 처리"
   ]
  },
  {
   "cell_type": "code",
   "execution_count": null,
   "id": "c0b05742",
   "metadata": {},
   "outputs": [],
   "source": []
  },
  {
   "cell_type": "markdown",
   "id": "f7513865",
   "metadata": {},
   "source": [
    "## 3-5-1 클로저"
   ]
  },
  {
   "cell_type": "code",
   "execution_count": 21,
   "id": "6f2bb864",
   "metadata": {},
   "outputs": [],
   "source": [
    "fun outer(x : Int) {\n",
    "    fun inner() = x \n",
    "    println(inner())\n",
    "}"
   ]
  },
  {
   "cell_type": "code",
   "execution_count": 22,
   "id": "26b68a4b",
   "metadata": {},
   "outputs": [
    {
     "name": "stdout",
     "output_type": "stream",
     "text": [
      "100\n"
     ]
    }
   ],
   "source": [
    "outer(100)"
   ]
  },
  {
   "cell_type": "code",
   "execution_count": null,
   "id": "e6c2ffaa",
   "metadata": {},
   "outputs": [],
   "source": []
  },
  {
   "cell_type": "code",
   "execution_count": 23,
   "id": "f2acee6d",
   "metadata": {},
   "outputs": [],
   "source": [
    "fun outer1(x : Int, block :(Int) -> Int) {\n",
    "    println(block(x))\n",
    "}"
   ]
  },
  {
   "cell_type": "code",
   "execution_count": 24,
   "id": "69a6f5b5",
   "metadata": {},
   "outputs": [
    {
     "name": "stdout",
     "output_type": "stream",
     "text": [
      "100\n"
     ]
    }
   ],
   "source": [
    "outer1(100, {x:Int -> x})"
   ]
  },
  {
   "cell_type": "markdown",
   "id": "4b784453",
   "metadata": {},
   "source": [
    "## 3-5-2 내부 함수 처리"
   ]
  },
  {
   "cell_type": "code",
   "execution_count": null,
   "id": "70418fd1",
   "metadata": {},
   "outputs": [],
   "source": []
  },
  {
   "cell_type": "code",
   "execution_count": null,
   "id": "b26b8dab",
   "metadata": {},
   "outputs": [],
   "source": []
  },
  {
   "cell_type": "code",
   "execution_count": null,
   "id": "8a2e32a1",
   "metadata": {},
   "outputs": [],
   "source": []
  },
  {
   "cell_type": "markdown",
   "id": "b3b934d6",
   "metadata": {},
   "source": [
    "## 3-6 함수 자료형\n",
    "\n",
    "- 함수도 1급 객체\n",
    "- 그래서 변수, 매개변수, 함수 반환값으로 전달할 수 있다. 그래서 다른 자료형처럼 함수도 자료형이 필요"
   ]
  },
  {
   "cell_type": "code",
   "execution_count": null,
   "id": "5d7dfc71",
   "metadata": {},
   "outputs": [],
   "source": []
  },
  {
   "cell_type": "markdown",
   "id": "8e7eccdc",
   "metadata": {},
   "source": [
    "## 3-6-1 변수 정의"
   ]
  },
  {
   "cell_type": "code",
   "execution_count": null,
   "id": "6cfbbb7f",
   "metadata": {},
   "outputs": [],
   "source": []
  },
  {
   "cell_type": "code",
   "execution_count": null,
   "id": "5121009e",
   "metadata": {},
   "outputs": [],
   "source": []
  },
  {
   "cell_type": "code",
   "execution_count": null,
   "id": "b7181470",
   "metadata": {},
   "outputs": [],
   "source": []
  },
  {
   "cell_type": "markdown",
   "id": "18b35ed2",
   "metadata": {},
   "source": [
    "## 3-6-2 매개변수 및 반환 처리 "
   ]
  },
  {
   "cell_type": "code",
   "execution_count": null,
   "id": "1b172922",
   "metadata": {},
   "outputs": [],
   "source": []
  },
  {
   "cell_type": "code",
   "execution_count": null,
   "id": "b6bfb410",
   "metadata": {},
   "outputs": [],
   "source": []
  }
 ],
 "metadata": {
  "kernelspec": {
   "display_name": "Kotlin",
   "language": "kotlin",
   "name": "kotlin"
  },
  "language_info": {
   "codemirror_mode": "text/x-kotlin",
   "file_extension": ".kt",
   "mimetype": "text/x-kotlin",
   "name": "kotlin",
   "nbconvert_exporter": "",
   "pygments_lexer": "kotlin",
   "version": "1.8.0-dev-3517"
  }
 },
 "nbformat": 4,
 "nbformat_minor": 5
}
