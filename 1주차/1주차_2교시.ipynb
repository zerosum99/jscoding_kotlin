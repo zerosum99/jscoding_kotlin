{
 "cells": [
  {
   "cell_type": "markdown",
   "id": "75cb962d",
   "metadata": {},
   "source": [
    "# 주요 내용\n",
    "\n",
    "\n",
    "2장 3장 ,4장, 5장 \n",
    "\n",
    "변수, 상수, 연산자 , 제어 및 순환문, 함수 정의, 매개변수 처리, 클래스, 생성자, 메서드  기본 알아보기 "
   ]
  },
  {
   "cell_type": "code",
   "execution_count": 1,
   "id": "00688751",
   "metadata": {},
   "outputs": [
    {
     "data": {
      "text/plain": [
       "1.8.0"
      ]
     },
     "execution_count": 1,
     "metadata": {},
     "output_type": "execute_result"
    }
   ],
   "source": [
    "KotlinVersion.CURRENT             // 코틀린 현재 버전 "
   ]
  },
  {
   "cell_type": "code",
   "execution_count": null,
   "id": "8413e102",
   "metadata": {},
   "outputs": [],
   "source": []
  },
  {
   "cell_type": "markdown",
   "id": "3d23dfe3",
   "metadata": {},
   "source": [
    "# 3. 함수 \n",
    "\n",
    "- 일반함수, 익명함수, 람다표현식 등 3가지 종류의 함수를 정의할 수 있다.\n",
    "- 함수를 정의해서 속한 영역에 따라 최상위 함수, 지역함수, 메서드 등으로 작성할 수 있다.\n",
    "- 최상위 함수는 전역영역에 정의된 함수\n",
    "- 지역함수는 지역변수처럼 함수 내부에 정의된 함수 \n",
    "- 메서드는 클래스 내부에 정의된 함수 "
   ]
  },
  {
   "cell_type": "markdown",
   "id": "06fb0cee",
   "metadata": {},
   "source": [
    "## 3.1 함수정의\n",
    "\n",
    "- 함수는 fun 예약어 + 함수명 + 매개변수목록 + 반환 + 본문\n"
   ]
  },
  {
   "cell_type": "markdown",
   "id": "e0144439",
   "metadata": {},
   "source": [
    "### 함수 정의 "
   ]
  },
  {
   "cell_type": "code",
   "execution_count": 2,
   "id": "78d87816",
   "metadata": {},
   "outputs": [],
   "source": [
    "fun add(x:Int, y:Int): Int {\n",
    "    return x+y\n",
    "}"
   ]
  },
  {
   "cell_type": "code",
   "execution_count": null,
   "id": "bd08b1ad",
   "metadata": {},
   "outputs": [],
   "source": []
  },
  {
   "cell_type": "markdown",
   "id": "cc124750",
   "metadata": {},
   "source": [
    "## 함수 오버로딩 처리 "
   ]
  },
  {
   "cell_type": "code",
   "execution_count": 3,
   "id": "0423541a",
   "metadata": {},
   "outputs": [],
   "source": [
    "fun add(x:Float, y:Float) : Float {\n",
    "    return x + y\n",
    "}"
   ]
  },
  {
   "cell_type": "code",
   "execution_count": null,
   "id": "5a1aec3a",
   "metadata": {},
   "outputs": [],
   "source": []
  },
  {
   "cell_type": "code",
   "execution_count": null,
   "id": "d1c77eff",
   "metadata": {},
   "outputs": [],
   "source": []
  },
  {
   "cell_type": "markdown",
   "id": "9d160459",
   "metadata": {},
   "source": [
    "## 3.2 매개변수와 인자 처리 "
   ]
  },
  {
   "cell_type": "code",
   "execution_count": null,
   "id": "5bf0ee78",
   "metadata": {},
   "outputs": [],
   "source": []
  },
  {
   "cell_type": "markdown",
   "id": "f7f5b23c",
   "metadata": {},
   "source": [
    "### 3-2-1 매개변수의 디폴트 값 지정"
   ]
  },
  {
   "cell_type": "code",
   "execution_count": 5,
   "id": "a077140b",
   "metadata": {},
   "outputs": [],
   "source": [
    "fun sum(x:Int = 200,y:Int =100) : Int {\n",
    "    return x + y\n",
    "}"
   ]
  },
  {
   "cell_type": "code",
   "execution_count": 6,
   "id": "e41d5efa",
   "metadata": {},
   "outputs": [
    {
     "data": {
      "text/plain": [
       "300"
      ]
     },
     "execution_count": 6,
     "metadata": {},
     "output_type": "execute_result"
    }
   ],
   "source": [
    "sum()"
   ]
  },
  {
   "cell_type": "code",
   "execution_count": null,
   "id": "42be9816",
   "metadata": {},
   "outputs": [],
   "source": []
  },
  {
   "cell_type": "markdown",
   "id": "e8fb2bbb",
   "metadata": {},
   "source": [
    "## 3-2-2 인자"
   ]
  },
  {
   "cell_type": "code",
   "execution_count": 7,
   "id": "1bf8bb3d",
   "metadata": {},
   "outputs": [],
   "source": [
    "fun sum(x:Double, y: Double) : Double {\n",
    "    return x + y\n",
    "}"
   ]
  },
  {
   "cell_type": "markdown",
   "id": "3eb88d40",
   "metadata": {},
   "source": [
    "### 위치인자\n",
    "-  매개변수의 순서에 따라 값을 지정 "
   ]
  },
  {
   "cell_type": "code",
   "execution_count": 8,
   "id": "97439744",
   "metadata": {},
   "outputs": [
    {
     "data": {
      "text/plain": [
       "300"
      ]
     },
     "execution_count": 8,
     "metadata": {},
     "output_type": "execute_result"
    }
   ],
   "source": [
    "sum(100,200)"
   ]
  },
  {
   "cell_type": "markdown",
   "id": "d9441672",
   "metadata": {},
   "source": [
    "## 이름인자\n",
    "- 매개변수 이름과 값을 쌍으로 처리 "
   ]
  },
  {
   "cell_type": "code",
   "execution_count": 9,
   "id": "3fac8111",
   "metadata": {},
   "outputs": [
    {
     "data": {
      "text/plain": [
       "300"
      ]
     },
     "execution_count": 9,
     "metadata": {},
     "output_type": "execute_result"
    }
   ],
   "source": [
    "sum(y=100,x=200)"
   ]
  },
  {
   "cell_type": "code",
   "execution_count": null,
   "id": "4064ed59",
   "metadata": {},
   "outputs": [],
   "source": []
  },
  {
   "cell_type": "markdown",
   "id": "8a75a6cc",
   "metadata": {},
   "source": [
    "## 3-2-3 가변인자"
   ]
  },
  {
   "cell_type": "markdown",
   "id": "34205420",
   "metadata": {},
   "source": [
    "## 함수에 가변인자를 정의하기\n",
    "\n",
    "- 가변인자는 매개변수 앞에 vararg를 붙여서 처리"
   ]
  },
  {
   "cell_type": "code",
   "execution_count": 16,
   "id": "2db1e712",
   "metadata": {},
   "outputs": [],
   "source": [
    "fun sum(vararg x : Int) : Int {\n",
    "    var result = 0\n",
    "    for (i :Int in x ) {\n",
    "        result += i\n",
    "    }\n",
    "    return result\n",
    "}"
   ]
  },
  {
   "cell_type": "code",
   "execution_count": 17,
   "id": "00f67ccf",
   "metadata": {},
   "outputs": [
    {
     "data": {
      "text/plain": [
       "15"
      ]
     },
     "execution_count": 17,
     "metadata": {},
     "output_type": "execute_result"
    }
   ],
   "source": [
    "sum(1,2,3,4,5)"
   ]
  },
  {
   "cell_type": "markdown",
   "id": "992630be",
   "metadata": {},
   "source": [
    "## 스프레이드 연산\n",
    "\n",
    "- 배열로 정한 변수 앞에 별표를 붙이면 실제 값만 함수의 인자로 전달 "
   ]
  },
  {
   "cell_type": "code",
   "execution_count": 18,
   "id": "5aa506d0",
   "metadata": {},
   "outputs": [],
   "source": [
    "val x = intArrayOf(1,2,3,4,5)"
   ]
  },
  {
   "cell_type": "code",
   "execution_count": 19,
   "id": "e55c4504",
   "metadata": {},
   "outputs": [
    {
     "data": {
      "text/plain": [
       "15"
      ]
     },
     "execution_count": 19,
     "metadata": {},
     "output_type": "execute_result"
    }
   ],
   "source": [
    "sum(*x)"
   ]
  },
  {
   "cell_type": "markdown",
   "id": "30f288e3",
   "metadata": {},
   "source": [
    "## 3.4 익명함수, 람다함수 정의"
   ]
  },
  {
   "cell_type": "code",
   "execution_count": null,
   "id": "95f389d2",
   "metadata": {},
   "outputs": [],
   "source": []
  },
  {
   "cell_type": "markdown",
   "id": "ae2cf85f",
   "metadata": {},
   "source": [
    "## 3-4-1  익명함수\n",
    "\n",
    "- 일반함수와 동일하지만 실제 이름이 없다. \n",
    "- 이름이 없어서 실제 람다표현식처럼 바로 실행하는 함수이다.\n",
    "- 일반함수와 동일하게 처리하므로 return 문으로 반환"
   ]
  },
  {
   "cell_type": "code",
   "execution_count": 25,
   "id": "601c642d",
   "metadata": {},
   "outputs": [],
   "source": [
    "val a = fun (x : Int, y : Int) : Int {\n",
    "    return x * y\n",
    "} "
   ]
  },
  {
   "cell_type": "code",
   "execution_count": 26,
   "id": "d397451f",
   "metadata": {},
   "outputs": [
    {
     "data": {
      "text/plain": [
       "20000"
      ]
     },
     "execution_count": 26,
     "metadata": {},
     "output_type": "execute_result"
    }
   ],
   "source": [
    "a(100,200)"
   ]
  },
  {
   "cell_type": "code",
   "execution_count": 32,
   "id": "e1ed32ce",
   "metadata": {},
   "outputs": [
    {
     "data": {
      "text/plain": [
       "60000"
      ]
     },
     "execution_count": 32,
     "metadata": {},
     "output_type": "execute_result"
    }
   ],
   "source": [
    "(fun (x : Int, y : Int) : Int { \n",
    "    return x * y \n",
    "}) (200,300)"
   ]
  },
  {
   "cell_type": "markdown",
   "id": "a0d36da3",
   "metadata": {},
   "source": [
    "## 3-4-2 람다함수\n",
    "\n",
    "- 람다함수는 람다표현식이다. 그래서 함수의 결과에 return 반환이 불가하다.\n",
    "- 반환값은 표현식으로 작성한 마지막 결과이다."
   ]
  },
  {
   "cell_type": "code",
   "execution_count": 23,
   "id": "793eaf8e",
   "metadata": {},
   "outputs": [
    {
     "data": {
      "text/plain": [
       "20000"
      ]
     },
     "execution_count": 23,
     "metadata": {},
     "output_type": "execute_result"
    }
   ],
   "source": [
    "{x :Int, y : Int -> x*y}(100,200)"
   ]
  },
  {
   "cell_type": "code",
   "execution_count": null,
   "id": "5449f195",
   "metadata": {},
   "outputs": [],
   "source": []
  },
  {
   "cell_type": "markdown",
   "id": "67d14723",
   "metadata": {},
   "source": [
    "## 3.5 클로저, 내부함수 처리"
   ]
  },
  {
   "cell_type": "code",
   "execution_count": null,
   "id": "c0b05742",
   "metadata": {},
   "outputs": [],
   "source": []
  },
  {
   "cell_type": "markdown",
   "id": "53b3ea9c",
   "metadata": {},
   "source": [
    "## 3-5-1 클로저"
   ]
  },
  {
   "cell_type": "code",
   "execution_count": 33,
   "id": "6f2bb864",
   "metadata": {},
   "outputs": [],
   "source": [
    "fun outer(x : Int) {\n",
    "    fun inner() = x \n",
    "    println(inner())\n",
    "}"
   ]
  },
  {
   "cell_type": "code",
   "execution_count": 35,
   "id": "26b68a4b",
   "metadata": {},
   "outputs": [
    {
     "name": "stdout",
     "output_type": "stream",
     "text": [
      "100\n"
     ]
    }
   ],
   "source": [
    "outer(100)"
   ]
  },
  {
   "cell_type": "code",
   "execution_count": null,
   "id": "e6c2ffaa",
   "metadata": {},
   "outputs": [],
   "source": []
  },
  {
   "cell_type": "code",
   "execution_count": 42,
   "id": "624d5840",
   "metadata": {},
   "outputs": [],
   "source": [
    "fun outer1(x : Int, block :(Int) -> Int) {\n",
    "    println(block(x))\n",
    "}"
   ]
  },
  {
   "cell_type": "code",
   "execution_count": 43,
   "id": "f2447d4f",
   "metadata": {},
   "outputs": [
    {
     "name": "stdout",
     "output_type": "stream",
     "text": [
      "100\n"
     ]
    }
   ],
   "source": [
    "outer1(100, {x:Int -> x})"
   ]
  },
  {
   "cell_type": "markdown",
   "id": "7f55a7ac",
   "metadata": {},
   "source": [
    "## 3-5-2 내부 함수 처리"
   ]
  },
  {
   "cell_type": "code",
   "execution_count": null,
   "id": "70418fd1",
   "metadata": {},
   "outputs": [],
   "source": []
  },
  {
   "cell_type": "code",
   "execution_count": null,
   "id": "a5d23403",
   "metadata": {},
   "outputs": [],
   "source": []
  },
  {
   "cell_type": "code",
   "execution_count": null,
   "id": "98667602",
   "metadata": {},
   "outputs": [],
   "source": []
  },
  {
   "cell_type": "code",
   "execution_count": null,
   "id": "a0aae67e",
   "metadata": {},
   "outputs": [],
   "source": []
  }
 ],
 "metadata": {
  "kernelspec": {
   "display_name": "Kotlin",
   "language": "kotlin",
   "name": "kotlin"
  },
  "language_info": {
   "codemirror_mode": "text/x-kotlin",
   "file_extension": ".kt",
   "mimetype": "text/x-kotlin",
   "name": "kotlin",
   "nbconvert_exporter": "",
   "pygments_lexer": "kotlin",
   "version": "1.8.0-dev-3517"
  }
 },
 "nbformat": 4,
 "nbformat_minor": 5
}
