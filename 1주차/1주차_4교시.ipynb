{
 "cells": [
  {
   "cell_type": "markdown",
   "id": "75cb962d",
   "metadata": {},
   "source": [
    "# 주요 내용\n",
    "\n",
    "\n",
    "2장 3장 ,4장, 5장 \n",
    "\n",
    "변수, 상수, 연산자 , 제어 및 순환문, 함수 정의, 매개변수 처리, 클래스, 생성자, 메서드  기본 알아보기 "
   ]
  },
  {
   "cell_type": "code",
   "execution_count": 1,
   "id": "00688751",
   "metadata": {},
   "outputs": [
    {
     "data": {
      "text/plain": [
       "1.8.0"
      ]
     },
     "execution_count": 1,
     "metadata": {},
     "output_type": "execute_result"
    }
   ],
   "source": [
    "KotlinVersion.CURRENT             // 코틀린 현재 버전 "
   ]
  },
  {
   "cell_type": "code",
   "execution_count": null,
   "id": "8413e102",
   "metadata": {},
   "outputs": [],
   "source": []
  },
  {
   "cell_type": "markdown",
   "id": "f71db496",
   "metadata": {},
   "source": [
    "# 5. 내포 클래스와 지역 클래스 "
   ]
  },
  {
   "cell_type": "markdown",
   "id": "ca75fdbb",
   "metadata": {},
   "source": [
    "## 5-1  지역 클래스"
   ]
  },
  {
   "cell_type": "code",
   "execution_count": 2,
   "id": "136e4f4c",
   "metadata": {},
   "outputs": [],
   "source": [
    "fun localClass(x : Int, y : Int)  {\n",
    "    class Operator(val x : Int, val y:Int) {\n",
    "        fun add() = this.x + this.y\n",
    "        fun mul() = this.x * this.y\n",
    "        fun div() = x/y\n",
    "        fun sub() = x -y\n",
    "        \n",
    "    }\n",
    "    \n",
    "    val op = Operator(x,y) \n",
    "    println(\" add \" + op.add())\n",
    "    println(\" mul \" + op.mul())\n",
    "    println(\" div \" + op.div())\n",
    "    println(\" sub \" + op.sub())\n",
    "    \n",
    "}"
   ]
  },
  {
   "cell_type": "code",
   "execution_count": 3,
   "id": "11e17a8b",
   "metadata": {},
   "outputs": [
    {
     "name": "stdout",
     "output_type": "stream",
     "text": [
      " add 180\n",
      " mul 8000\n",
      " div 1\n",
      " sub 20\n"
     ]
    }
   ],
   "source": [
    "localClass(100,80)"
   ]
  },
  {
   "cell_type": "code",
   "execution_count": null,
   "id": "7fe35d87",
   "metadata": {},
   "outputs": [],
   "source": []
  },
  {
   "cell_type": "markdown",
   "id": "5309bb6d",
   "metadata": {},
   "source": [
    "## 5-2 내포 클래스"
   ]
  },
  {
   "cell_type": "code",
   "execution_count": 6,
   "id": "2ed07347",
   "metadata": {},
   "outputs": [],
   "source": [
    "class OuterKlass(val name : String) {\n",
    "    fun show() = name\n",
    "    class NestedKlass(val name : String) {\n",
    "         fun show() = name   \n",
    "    }\n",
    "}"
   ]
  },
  {
   "cell_type": "code",
   "execution_count": 8,
   "id": "83516c7e",
   "metadata": {},
   "outputs": [
    {
     "name": "stdout",
     "output_type": "stream",
     "text": [
      "아우터\n"
     ]
    }
   ],
   "source": [
    "val ok = OuterKlass(\"아우터\")\n",
    "\n",
    "println(ok.show())"
   ]
  },
  {
   "cell_type": "code",
   "execution_count": 10,
   "id": "9b708deb",
   "metadata": {},
   "outputs": [
    {
     "name": "stdout",
     "output_type": "stream",
     "text": [
      "내포클래스\n"
     ]
    }
   ],
   "source": [
    "val nk = OuterKlass.NestedKlass(\"내포클래스\")\n",
    "\n",
    "println(nk.show())"
   ]
  },
  {
   "cell_type": "code",
   "execution_count": null,
   "id": "99fcfd3f",
   "metadata": {},
   "outputs": [],
   "source": []
  },
  {
   "cell_type": "code",
   "execution_count": null,
   "id": "423c25af",
   "metadata": {},
   "outputs": [],
   "source": []
  },
  {
   "cell_type": "markdown",
   "id": "67e93fbe",
   "metadata": {},
   "source": [
    "## 5-3 이너 클래스 "
   ]
  },
  {
   "cell_type": "code",
   "execution_count": null,
   "id": "9899bd41",
   "metadata": {},
   "outputs": [],
   "source": []
  },
  {
   "cell_type": "code",
   "execution_count": 21,
   "id": "8f2a35e8",
   "metadata": {},
   "outputs": [],
   "source": [
    "class OuterKlass1(private val name : String, private var age : Int) {\n",
    "    \n",
    "    fun show() = name\n",
    "    inner class InnerKlass() {\n",
    "         fun show() = this@OuterKlass1.name + \" ${this@OuterKlass1.age}\"   \n",
    "    }\n",
    "}"
   ]
  },
  {
   "cell_type": "code",
   "execution_count": 24,
   "id": "4109ea40",
   "metadata": {},
   "outputs": [
    {
     "name": "stdout",
     "output_type": "stream",
     "text": [
      "아웃터 클래스 33\n"
     ]
    }
   ],
   "source": [
    "val ok1 = OuterKlass1(\"아웃터 클래스\", 33)\n",
    "val ink = ok1.InnerKlass()\n",
    "println(ink.show())"
   ]
  },
  {
   "cell_type": "code",
   "execution_count": null,
   "id": "20ec3454",
   "metadata": {},
   "outputs": [],
   "source": []
  },
  {
   "cell_type": "code",
   "execution_count": null,
   "id": "8f266d2f",
   "metadata": {},
   "outputs": [],
   "source": []
  },
  {
   "cell_type": "code",
   "execution_count": null,
   "id": "15624c4d",
   "metadata": {},
   "outputs": [],
   "source": []
  },
  {
   "cell_type": "code",
   "execution_count": null,
   "id": "26b68a4b",
   "metadata": {},
   "outputs": [],
   "source": []
  },
  {
   "cell_type": "markdown",
   "id": "b1c95963",
   "metadata": {},
   "source": [
    "# 6.  object\n",
    "\n",
    "- 클래스 정의와 하나의 객체 생성을 같이 하는 패턴 : 싱글턴 패턴 "
   ]
  },
  {
   "cell_type": "markdown",
   "id": "57ebda3b",
   "metadata": {},
   "source": [
    "## 6.1  object 표현식 \n",
    "\n",
    "- 익명클래스 처리\n",
    "- 하나의 객체를 생성하는 방식 "
   ]
  },
  {
   "cell_type": "code",
   "execution_count": null,
   "id": "55f2c143",
   "metadata": {},
   "outputs": [],
   "source": []
  },
  {
   "cell_type": "code",
   "execution_count": null,
   "id": "c17c7dd6",
   "metadata": {},
   "outputs": [],
   "source": []
  },
  {
   "cell_type": "markdown",
   "id": "5f94e429",
   "metadata": {},
   "source": [
    "## 6.2  object 정의 "
   ]
  },
  {
   "cell_type": "code",
   "execution_count": null,
   "id": "75fa40ab",
   "metadata": {},
   "outputs": [],
   "source": []
  },
  {
   "cell_type": "code",
   "execution_count": null,
   "id": "65995d70",
   "metadata": {},
   "outputs": [],
   "source": []
  },
  {
   "cell_type": "code",
   "execution_count": null,
   "id": "efebfb02",
   "metadata": {},
   "outputs": [],
   "source": []
  },
  {
   "cell_type": "code",
   "execution_count": null,
   "id": "5c892b03",
   "metadata": {},
   "outputs": [],
   "source": []
  },
  {
   "cell_type": "code",
   "execution_count": null,
   "id": "a73a138f",
   "metadata": {},
   "outputs": [],
   "source": []
  },
  {
   "cell_type": "code",
   "execution_count": null,
   "id": "03ad642c",
   "metadata": {},
   "outputs": [],
   "source": []
  },
  {
   "cell_type": "markdown",
   "id": "37bcc989",
   "metadata": {},
   "source": [
    "## 6.3  동반 객체 처리 \n",
    "\n",
    "- 클래스 내부에서 클래스 이름과 동일하게 정의해서 사용\n",
    "- 동반객체는 클래스의 보호속성을 접근할 수 있다. "
   ]
  },
  {
   "cell_type": "code",
   "execution_count": null,
   "id": "4b5e9dc8",
   "metadata": {},
   "outputs": [],
   "source": []
  },
  {
   "cell_type": "code",
   "execution_count": null,
   "id": "58c53d1c",
   "metadata": {},
   "outputs": [],
   "source": []
  },
  {
   "cell_type": "code",
   "execution_count": null,
   "id": "e0572356",
   "metadata": {},
   "outputs": [],
   "source": []
  },
  {
   "cell_type": "code",
   "execution_count": null,
   "id": "5de368a2",
   "metadata": {},
   "outputs": [],
   "source": []
  },
  {
   "cell_type": "code",
   "execution_count": null,
   "id": "4df13526",
   "metadata": {},
   "outputs": [],
   "source": []
  },
  {
   "cell_type": "code",
   "execution_count": null,
   "id": "f47d4959",
   "metadata": {},
   "outputs": [],
   "source": []
  },
  {
   "cell_type": "code",
   "execution_count": null,
   "id": "81c1396e",
   "metadata": {},
   "outputs": [],
   "source": []
  },
  {
   "cell_type": "code",
   "execution_count": null,
   "id": "74af6275",
   "metadata": {},
   "outputs": [],
   "source": []
  },
  {
   "cell_type": "code",
   "execution_count": null,
   "id": "2c6d6810",
   "metadata": {},
   "outputs": [],
   "source": []
  },
  {
   "cell_type": "code",
   "execution_count": null,
   "id": "70418fd1",
   "metadata": {},
   "outputs": [],
   "source": []
  }
 ],
 "metadata": {
  "kernelspec": {
   "display_name": "Kotlin",
   "language": "kotlin",
   "name": "kotlin"
  },
  "language_info": {
   "codemirror_mode": "text/x-kotlin",
   "file_extension": ".kt",
   "mimetype": "text/x-kotlin",
   "name": "kotlin",
   "nbconvert_exporter": "",
   "pygments_lexer": "kotlin",
   "version": "1.8.0-dev-3517"
  }
 },
 "nbformat": 4,
 "nbformat_minor": 5
}
