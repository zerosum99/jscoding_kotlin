{
 "cells": [
  {
   "cell_type": "code",
   "execution_count": null,
   "id": "5c152ed7",
   "metadata": {},
   "outputs": [],
   "source": []
  },
  {
   "cell_type": "markdown",
   "id": "f8b43879",
   "metadata": {},
   "source": [
    "# 1. 코틀린 문법을 스크립터로 배우는 이유\n",
    "\n",
    "- 첫째, 항상 컴파일러보다 버전이 빠르다.\n",
    "- 둘째, 코틀린 플레이그라운드보다 참고 자료 등을 잘 작성할 수 있다.\n",
    "- 세째, 굳이 메인함수를 작성하지 않아도 실행가능하다\n"
   ]
  },
  {
   "cell_type": "markdown",
   "id": "912c8da0",
   "metadata": {},
   "source": [
    "## 컴파일러 버전보다 항상 최신 버전 적용 "
   ]
  },
  {
   "cell_type": "code",
   "execution_count": 1,
   "id": "00688751",
   "metadata": {},
   "outputs": [
    {
     "data": {
      "text/plain": [
       "1.8.0"
      ]
     },
     "execution_count": 1,
     "metadata": {},
     "output_type": "execute_result"
    }
   ],
   "source": [
    "KotlinVersion.CURRENT             // 코틀린 현재 버전 "
   ]
  },
  {
   "cell_type": "markdown",
   "id": "61144c9f",
   "metadata": {},
   "source": [
    "## 1-1 마크다운 작성 가능 \n",
    "\n",
    "- 빈 셀을 code 에서 markdown 으로 변환하면 문서화 작업 가능 "
   ]
  },
  {
   "cell_type": "markdown",
   "id": "37d0533d",
   "metadata": {},
   "source": [
    "## 플레이그라운드에서는 주석만 가능하지만 주피터노트북은 마크타운으로 정보를 남길 수 있다."
   ]
  },
  {
   "cell_type": "markdown",
   "id": "7bdf35dc",
   "metadata": {},
   "source": [
    "#  문서 작성 \n",
    "##   문서작성 \n",
    "\n",
    "- 리스트 작성 1\n",
    "- 리스트 작성 2"
   ]
  },
  {
   "cell_type": "markdown",
   "id": "08f61756",
   "metadata": {},
   "source": [
    "## 깃허브 정보 공유할 때 바로 작성된 문서를 볼 수 있다. "
   ]
  },
  {
   "cell_type": "code",
   "execution_count": null,
   "id": "ded74cc4",
   "metadata": {},
   "outputs": [],
   "source": []
  },
  {
   "cell_type": "markdown",
   "id": "19ad58ad",
   "metadata": {},
   "source": [
    "## 1-2  메인 함수 없어도 출력결과를 확인\n",
    "\n",
    "- 코틀린 스크립트가 실행 \n",
    "- 코틀린 플레이그라운드 처럼 cell 단위로 실행 가능 "
   ]
  },
  {
   "cell_type": "markdown",
   "id": "b3f376e5",
   "metadata": {},
   "source": [
    "### 출력을 입력하고 실행하면 바로 결과를 확인할 수 있다"
   ]
  },
  {
   "cell_type": "code",
   "execution_count": 2,
   "id": "236df397",
   "metadata": {},
   "outputs": [
    {
     "name": "stdout",
     "output_type": "stream",
     "text": [
      "Hello Kotlin !!!1\n"
     ]
    }
   ],
   "source": [
    "println(\"Hello Kotlin !!!1\")"
   ]
  },
  {
   "cell_type": "markdown",
   "id": "84221971",
   "metadata": {},
   "source": [
    "### 메인함수를 작성하고 "
   ]
  },
  {
   "cell_type": "code",
   "execution_count": 3,
   "id": "f2738b65",
   "metadata": {},
   "outputs": [],
   "source": [
    "fun main() {\n",
    "    println(\" 1주차  main 함수 호출 \")\n",
    "}"
   ]
  },
  {
   "cell_type": "markdown",
   "id": "dacf35b1",
   "metadata": {},
   "source": [
    "### 빈셀애 위에 작성된 메인함수를 실행"
   ]
  },
  {
   "cell_type": "code",
   "execution_count": 4,
   "id": "283ef861",
   "metadata": {},
   "outputs": [
    {
     "name": "stdout",
     "output_type": "stream",
     "text": [
      " 1주차  main 함수 호출 \n"
     ]
    }
   ],
   "source": [
    "main()"
   ]
  },
  {
   "cell_type": "code",
   "execution_count": null,
   "id": "52d2ac58",
   "metadata": {},
   "outputs": [],
   "source": []
  },
  {
   "cell_type": "code",
   "execution_count": null,
   "id": "db644e1a",
   "metadata": {},
   "outputs": [],
   "source": []
  },
  {
   "cell_type": "markdown",
   "id": "b49bbe4e",
   "metadata": {},
   "source": [
    "# 1-3. 변수 상수 식별자 \n",
    "\n",
    "- 상수는 리터럴 값을 보관하는 장소\n",
    "- 변수는 실제 프로그램에서 사용하는 데이터를 보관하고 재사용하는 장소 \n",
    "- 상수와 변수의 이름을 식별자라고 한다. "
   ]
  },
  {
   "cell_type": "markdown",
   "id": "9822dc2d",
   "metadata": {},
   "source": [
    "## 1-3-1 변수 정의 \n",
    "\n",
    "- 변수는 예약어 val과 var 사용\n",
    "- 변경불가(immutable) 변수 : val 로 지정\n",
    "- 변경가능(mutable) 변수 : var 로 지정 \n"
   ]
  },
  {
   "cell_type": "markdown",
   "id": "60be881e",
   "metadata": {},
   "source": [
    "##  두 가지 변수 정의 \n",
    "\n",
    "- 변수는 val과 var 키워드 예약어 + 변수명 + 콜론(:) + 자료형 + 대입연산자(-) + 초기값 \n",
    "\n",
    "- 변수에 초기값을 지정한 경우 타입추론이 자동으로 되므로 자료형을 지정하지 않아도 됨\n",
    "\n",
    "- 강타입을 사용하므로 변수가 정의되면 변수에는 항상 타입이 지정됨"
   ]
  },
  {
   "cell_type": "markdown",
   "id": "67e1adb7",
   "metadata": {},
   "source": [
    "### 불변변수 작성 \n",
    "\n",
    "- val + 변수명 : 변수타입 = 초기값"
   ]
  },
  {
   "cell_type": "code",
   "execution_count": 5,
   "id": "87edcc2f",
   "metadata": {},
   "outputs": [],
   "source": [
    "val x = 100"
   ]
  },
  {
   "cell_type": "markdown",
   "id": "12be141a",
   "metadata": {},
   "source": [
    "### 불변 변수 참조 \n",
    "\n",
    "- 변수명"
   ]
  },
  {
   "cell_type": "code",
   "execution_count": 6,
   "id": "e7921074",
   "metadata": {},
   "outputs": [
    {
     "data": {
      "text/plain": [
       "100"
      ]
     },
     "execution_count": 6,
     "metadata": {},
     "output_type": "execute_result"
    }
   ],
   "source": [
    "x"
   ]
  },
  {
   "cell_type": "markdown",
   "id": "6dfb8395",
   "metadata": {},
   "source": [
    "## 불변변수 정의 \n",
    "- var + 변수명 : 변수타입 = 초기값 "
   ]
  },
  {
   "cell_type": "code",
   "execution_count": 7,
   "id": "3111f7c2",
   "metadata": {},
   "outputs": [],
   "source": [
    "var y = 200"
   ]
  },
  {
   "cell_type": "markdown",
   "id": "3581872e",
   "metadata": {},
   "source": [
    "### 불변변수 참조"
   ]
  },
  {
   "cell_type": "code",
   "execution_count": 8,
   "id": "1ebbbdb6",
   "metadata": {},
   "outputs": [
    {
     "data": {
      "text/plain": [
       "200"
      ]
     },
     "execution_count": 8,
     "metadata": {},
     "output_type": "execute_result"
    }
   ],
   "source": [
    "y"
   ]
  },
  {
   "cell_type": "markdown",
   "id": "a1337c0b",
   "metadata": {},
   "source": [
    "##  1-3-2 한번만 할당하는 변수 정의 : val \n",
    "\n",
    "- 반드시 정의할 때 값을 할당\n",
    "- 타입추론이 가능해서 실제 자료형을 지정하지 않아도 됨 "
   ]
  },
  {
   "cell_type": "code",
   "execution_count": 9,
   "id": "eeafad4d",
   "metadata": {},
   "outputs": [
    {
     "name": "stderr",
     "output_type": "stream",
     "text": [
      "Line_8.jupyter-kts (1:1 - 2) Val cannot be reassigned"
     ]
    }
   ],
   "source": [
    "x = 300"
   ]
  },
  {
   "cell_type": "markdown",
   "id": "f5513227",
   "metadata": {},
   "source": [
    "## 1-4 자료형 확인하기\n",
    "\n",
    "- 변수가 정의되면 타입이 확정됨\n",
    "- 자바의 타입과 코틀린의 타입이 다를 수 있음\n",
    "- 자바는 프리미티브 자료형이지만 코틀린은 항상 클래스로 지정\n",
    "- 코틀린은 내부적으로 박싱과 언박싱을 처리하므로 별도로 프리미티브 자료형을 인식하지 않아도 됨 "
   ]
  },
  {
   "cell_type": "code",
   "execution_count": 10,
   "id": "32e39390",
   "metadata": {},
   "outputs": [
    {
     "name": "stdout",
     "output_type": "stream",
     "text": [
      " type 확인 class kotlin.Int\n",
      " 참조로 확인 int\n"
     ]
    }
   ],
   "source": [
    "println(\" type 확인 \"+ x.javaClass.kotlin)\n",
    "println(\" 참조로 확인 \" + x::class.java.typeName)"
   ]
  },
  {
   "cell_type": "markdown",
   "id": "b3a75f58",
   "metadata": {},
   "source": [
    "### 자바일 경우의 자료형"
   ]
  },
  {
   "cell_type": "code",
   "execution_count": 11,
   "id": "475400b7",
   "metadata": {},
   "outputs": [
    {
     "name": "stdout",
     "output_type": "stream",
     "text": [
      " type 확인 int\n",
      " 참조로 확인 int\n"
     ]
    }
   ],
   "source": [
    "println(\" type 확인 \"+ x.javaClass)\n",
    "println(\" 참조로 확인 \" + x::class.java.typeName)"
   ]
  },
  {
   "cell_type": "markdown",
   "id": "ce6124d0",
   "metadata": {},
   "source": [
    "### 여러번 할당하는 변수 정의 : var \n",
    "\n",
    "- 저장하는 값을 계속 처리할 수 있음 \n"
   ]
  },
  {
   "cell_type": "code",
   "execution_count": 12,
   "id": "68cbd6cf",
   "metadata": {},
   "outputs": [],
   "source": [
    "y = 9999"
   ]
  },
  {
   "cell_type": "markdown",
   "id": "02938b47",
   "metadata": {},
   "source": [
    "### 표준입력으로 받기\n",
    "\n",
    "- 표준입력은 문자열로 들어오므로 이를 원하는 자료형으로 변환처리가 필요"
   ]
  },
  {
   "cell_type": "code",
   "execution_count": 13,
   "id": "13ceb48d",
   "metadata": {},
   "outputs": [
    {
     "name": "stdout",
     "output_type": "stream",
     "text": [
      "stdin:100\n"
     ]
    }
   ],
   "source": [
    "val a = readLine()!!.toInt()"
   ]
  },
  {
   "cell_type": "code",
   "execution_count": 14,
   "id": "1cdc81cf",
   "metadata": {},
   "outputs": [
    {
     "name": "stdout",
     "output_type": "stream",
     "text": [
      "stdin:200\n"
     ]
    }
   ],
   "source": [
    "val b = readLine()!!.toInt()"
   ]
  },
  {
   "cell_type": "markdown",
   "id": "fb5fb0ce",
   "metadata": {},
   "source": [
    "### 두 변수를 연산자로 계산"
   ]
  },
  {
   "cell_type": "code",
   "execution_count": 15,
   "id": "2c4050f6",
   "metadata": {},
   "outputs": [
    {
     "data": {
      "text/plain": [
       "300"
      ]
     },
     "execution_count": 15,
     "metadata": {},
     "output_type": "execute_result"
    }
   ],
   "source": [
    "a+b"
   ]
  },
  {
   "cell_type": "code",
   "execution_count": null,
   "id": "97d9664b",
   "metadata": {},
   "outputs": [],
   "source": []
  },
  {
   "cell_type": "markdown",
   "id": "70ad7835",
   "metadata": {},
   "source": [
    "## 1-5 상수\n",
    "\n",
    "- 상수는 실제 리터럴 값을 관리하는 이름\n",
    "- 변수 val과 차이점은 변수는 실제 속성이므로 게터가 존재하지만 상수는 값만 가지고 있음 "
   ]
  },
  {
   "cell_type": "markdown",
   "id": "f699b01b",
   "metadata": {},
   "source": [
    "### 패키지에 정의하는 상수는 스크립트에서 지원하지 않음 "
   ]
  },
  {
   "cell_type": "code",
   "execution_count": 16,
   "id": "e6a86c07",
   "metadata": {},
   "outputs": [
    {
     "name": "stderr",
     "output_type": "stream",
     "text": [
      "Line_15.jupyter-kts (1:1 - 6) Const 'val' are only allowed on top level, in named objects, or in companion objects"
     ]
    }
   ],
   "source": [
    "const val va : Int = 300"
   ]
  },
  {
   "cell_type": "markdown",
   "id": "e5e481df",
   "metadata": {},
   "source": [
    "### object 정의 내에 상수를 정의"
   ]
  },
  {
   "cell_type": "code",
   "execution_count": 17,
   "id": "e82ac4b8",
   "metadata": {},
   "outputs": [],
   "source": [
    "object ABC {\n",
    "   const val pi : Int  = 100 \n",
    "}\n"
   ]
  },
  {
   "cell_type": "code",
   "execution_count": 18,
   "id": "cbcd42e9",
   "metadata": {},
   "outputs": [
    {
     "data": {
      "text/plain": [
       "100"
      ]
     },
     "execution_count": 18,
     "metadata": {},
     "output_type": "execute_result"
    }
   ],
   "source": [
    "ABC.pi"
   ]
  },
  {
   "cell_type": "code",
   "execution_count": null,
   "id": "a95795a3",
   "metadata": {},
   "outputs": [],
   "source": []
  },
  {
   "cell_type": "markdown",
   "id": "a732b194",
   "metadata": {},
   "source": [
    "## 1-6  최상위 속성 알아보기\n",
    "\n",
    "- 일반적인 변수는 게터와 세터를 가진 속성이다.\n",
    "- 전역 변수인 최상위 변수도 최상위 속성을 가진다. \n",
    "- 그래서 기본으로 속성으 값은 field 즉 backing field에 보관함 \n"
   ]
  },
  {
   "cell_type": "markdown",
   "id": "7b085d3c",
   "metadata": {},
   "source": [
    "## 1-6-1 변경불가한 속성 정의"
   ]
  },
  {
   "cell_type": "code",
   "execution_count": 19,
   "id": "ec07a581",
   "metadata": {},
   "outputs": [],
   "source": [
    "val prop :Int = 100    // 초기값을 입력하면 field에 세팅 \n",
    "    get() = 100 * field"
   ]
  },
  {
   "cell_type": "code",
   "execution_count": 20,
   "id": "4d925cbd",
   "metadata": {},
   "outputs": [
    {
     "data": {
      "text/plain": [
       "10000"
      ]
     },
     "execution_count": 20,
     "metadata": {},
     "output_type": "execute_result"
    }
   ],
   "source": [
    "prop"
   ]
  },
  {
   "cell_type": "markdown",
   "id": "32f5700a",
   "metadata": {},
   "source": [
    "## 1-6-2 변경가능한 속성 정의 \n",
    "\n",
    "- field가 실제 변수를 관리하는 필드(backing field)\n",
    "- 이 field에 get 과 set으로 조회 및 갱신"
   ]
  },
  {
   "cell_type": "code",
   "execution_count": 21,
   "id": "3c8db04d",
   "metadata": {},
   "outputs": [],
   "source": [
    "var propR :Int = 100\n",
    "    get() = 100 * field          \n",
    "    set(value:Int) {\n",
    "        println(\" propR 갱신 \")\n",
    "        field = value \n",
    "    }"
   ]
  },
  {
   "cell_type": "code",
   "execution_count": 22,
   "id": "d0accb23",
   "metadata": {},
   "outputs": [
    {
     "data": {
      "text/plain": [
       "10000"
      ]
     },
     "execution_count": 22,
     "metadata": {},
     "output_type": "execute_result"
    }
   ],
   "source": [
    "propR"
   ]
  },
  {
   "cell_type": "code",
   "execution_count": 23,
   "id": "4c83437c",
   "metadata": {},
   "outputs": [
    {
     "name": "stdout",
     "output_type": "stream",
     "text": [
      " propR 갱신 \n"
     ]
    }
   ],
   "source": [
    "propR = 300"
   ]
  },
  {
   "cell_type": "code",
   "execution_count": 24,
   "id": "5a13545a",
   "metadata": {},
   "outputs": [
    {
     "data": {
      "text/plain": [
       "30000"
      ]
     },
     "execution_count": 24,
     "metadata": {},
     "output_type": "execute_result"
    }
   ],
   "source": [
    "propR"
   ]
  },
  {
   "cell_type": "code",
   "execution_count": null,
   "id": "3b071551",
   "metadata": {},
   "outputs": [],
   "source": []
  },
  {
   "cell_type": "markdown",
   "id": "2d2318c8",
   "metadata": {},
   "source": [
    "## 1-7 제어문\n",
    "\n",
    "- 코틀린은 다양한 문장을 표현식으로 사용이 가능하다. \n",
    "- if와 when 문이 처리결과를 변수에 할당이 가능 "
   ]
  },
  {
   "cell_type": "markdown",
   "id": "cae2c8d3",
   "metadata": {},
   "source": [
    "## 1-7-1 if \n",
    "\n",
    "- 조건식은 항상 괄호로 처리해야 한다 "
   ]
  },
  {
   "cell_type": "code",
   "execution_count": 25,
   "id": "32c9bb7e",
   "metadata": {},
   "outputs": [
    {
     "name": "stdout",
     "output_type": "stream",
     "text": [
      "참값 처리\n"
     ]
    }
   ],
   "source": [
    "if (true) {\n",
    "    println(\"참값 처리\")\n",
    "}"
   ]
  },
  {
   "cell_type": "code",
   "execution_count": 26,
   "id": "fda77d5f",
   "metadata": {},
   "outputs": [
    {
     "name": "stdout",
     "output_type": "stream",
     "text": [
      "거짓값 처리 \n"
     ]
    }
   ],
   "source": [
    "if (false) {\n",
    "    println(\"참값 처리\")\n",
    "} else {\n",
    "    println(\"거짓값 처리 \")\n",
    "}"
   ]
  },
  {
   "cell_type": "markdown",
   "id": "25809af0",
   "metadata": {},
   "source": [
    "### 표현식을 사용할 때 인라인으로 표시 가능 "
   ]
  },
  {
   "cell_type": "code",
   "execution_count": 27,
   "id": "061ca1b8",
   "metadata": {},
   "outputs": [],
   "source": [
    "val a = if (true) 100 else 200"
   ]
  },
  {
   "cell_type": "code",
   "execution_count": 28,
   "id": "406acc7b",
   "metadata": {},
   "outputs": [
    {
     "data": {
      "text/plain": [
       "100"
      ]
     },
     "execution_count": 28,
     "metadata": {},
     "output_type": "execute_result"
    }
   ],
   "source": [
    "a"
   ]
  },
  {
   "cell_type": "markdown",
   "id": "4f1756b8",
   "metadata": {},
   "source": [
    "### 코드블럭을 가진 if 도 표현식으로 가능\n",
    "\n",
    "-  코드블럭이 마지막 코드를 표현식으로 작성하면 반환되어 변수에 할당 "
   ]
  },
  {
   "cell_type": "code",
   "execution_count": 29,
   "id": "cbe4e492",
   "metadata": {},
   "outputs": [
    {
     "name": "stdout",
     "output_type": "stream",
     "text": [
      "거짓값 처리 \n"
     ]
    }
   ],
   "source": [
    "val x  = if (false) {\n",
    "    println(\"참값 처리\")\n",
    "    100\n",
    "} else {\n",
    "    println(\"거짓값 처리 \")\n",
    "    200\n",
    "}"
   ]
  },
  {
   "cell_type": "code",
   "execution_count": null,
   "id": "ea93dd5d",
   "metadata": {},
   "outputs": [],
   "source": []
  },
  {
   "cell_type": "markdown",
   "id": "dbe82cb0",
   "metadata": {},
   "source": [
    "## 1-7-2 when \n",
    "\n",
    "- 특정 패턴을 매칭해서 처리 "
   ]
  },
  {
   "cell_type": "markdown",
   "id": "beb2ef92",
   "metadata": {},
   "source": [
    "### 특정 값의 패턴을 처리 \n",
    "\n",
    "- 해당조건에 해당하지 않는 else를 반드시 표시해야 한다.\n",
    "- enum, sealed class 와 사용할 때 확정된 값만 가질 경우는 else를 생략할 수 있음 "
   ]
  },
  {
   "cell_type": "code",
   "execution_count": 30,
   "id": "163e5905",
   "metadata": {},
   "outputs": [
    {
     "name": "stdout",
     "output_type": "stream",
     "text": [
      " 100 \n"
     ]
    }
   ],
   "source": [
    "when (a) {\n",
    "    10 -> println(\" 10 \") \n",
    "    100 -> println(\" 100 \")\n",
    "    else -> println(\" else \")\n",
    "}"
   ]
  },
  {
   "cell_type": "markdown",
   "id": "6e908440",
   "metadata": {},
   "source": [
    "### if 문처럼 처리하기"
   ]
  },
  {
   "cell_type": "code",
   "execution_count": 31,
   "id": "73cdd0e2",
   "metadata": {},
   "outputs": [
    {
     "name": "stdout",
     "output_type": "stream",
     "text": [
      " 100 이상 \n"
     ]
    }
   ],
   "source": [
    "when {\n",
    "    1 < a && a < 10 -> println(\" 10 미만 \") \n",
    "    10 < a && a < 100 -> println(\" 100 미만 \") \n",
    "    else -> println(\" 100 이상 \") \n",
    "}"
   ]
  },
  {
   "cell_type": "markdown",
   "id": "b04f17d8",
   "metadata": {},
   "source": [
    "### 표현식으로 처리 가능 "
   ]
  },
  {
   "cell_type": "code",
   "execution_count": 32,
   "id": "7dd5d361",
   "metadata": {},
   "outputs": [],
   "source": [
    "val x = 100\n",
    "val y = when (x) {\n",
    "    10 -> \" 10 미만 \"\n",
    "    100 -> \" 100 이하 \"\n",
    "    else -> \" 100 이상 \" \n",
    "}"
   ]
  },
  {
   "cell_type": "markdown",
   "id": "d0d098e5",
   "metadata": {},
   "source": [
    "## 1-8 순환문 "
   ]
  },
  {
   "cell_type": "markdown",
   "id": "017514cd",
   "metadata": {},
   "source": [
    "## 1-8-1 while  및 do-while"
   ]
  },
  {
   "cell_type": "markdown",
   "id": "87e73cb4",
   "metadata": {},
   "source": [
    "### while 문 처리 "
   ]
  },
  {
   "cell_type": "code",
   "execution_count": 33,
   "id": "fb4d7eae",
   "metadata": {},
   "outputs": [
    {
     "name": "stdout",
     "output_type": "stream",
     "text": [
      " 처리하기 0\n",
      " 처리하기 1\n",
      " 처리하기 2\n",
      " 처리하기 3\n",
      " 처리하기 4\n"
     ]
    }
   ],
   "source": [
    "var count =  0 \n",
    "while (count < 5) {\n",
    "    println(\" 처리하기 \" + count)\n",
    "    count++\n",
    "}"
   ]
  },
  {
   "cell_type": "markdown",
   "id": "f82930b0",
   "metadata": {},
   "source": [
    "### do while 문 처리 "
   ]
  },
  {
   "cell_type": "code",
   "execution_count": 34,
   "id": "19e6e31d",
   "metadata": {},
   "outputs": [
    {
     "name": "stdout",
     "output_type": "stream",
     "text": [
      " 처리하기 1\n",
      " 처리하기 2\n",
      " 처리하기 3\n",
      " 처리하기 4\n"
     ]
    }
   ],
   "source": [
    "var count =  1 \n",
    "do {\n",
    "    println(\" 처리하기 \" + count)\n",
    "    count++\n",
    "} while (count < 5)"
   ]
  },
  {
   "cell_type": "code",
   "execution_count": null,
   "id": "0f220bee",
   "metadata": {},
   "outputs": [],
   "source": []
  },
  {
   "cell_type": "code",
   "execution_count": null,
   "id": "d4e2ef7b",
   "metadata": {},
   "outputs": [],
   "source": []
  },
  {
   "cell_type": "markdown",
   "id": "cbeabaef",
   "metadata": {},
   "source": [
    "## 1-8-2 for 순환 \n",
    "\n",
    "- 반복자를 순환하는 기능 \n",
    "- 반복자 순환이 종료되면 예외가 발생을 전달하지만 실제 반복자를 다 수행한 것이므로 예외를 외부로 전달하지 않음"
   ]
  },
  {
   "cell_type": "markdown",
   "id": "845bbf2c",
   "metadata": {},
   "source": [
    "## range  범위 클래스 "
   ]
  },
  {
   "cell_type": "code",
   "execution_count": 35,
   "id": "37a06ffa",
   "metadata": {},
   "outputs": [
    {
     "data": {
      "text/plain": [
       "class kotlin.ranges.IntRange"
      ]
     },
     "execution_count": 35,
     "metadata": {},
     "output_type": "execute_result"
    }
   ],
   "source": [
    "(1..10).javaClass"
   ]
  },
  {
   "cell_type": "markdown",
   "id": "ee07da51",
   "metadata": {},
   "source": [
    "### 범위를 반복자로 처리"
   ]
  },
  {
   "cell_type": "code",
   "execution_count": 36,
   "id": "0b59a7e9",
   "metadata": {},
   "outputs": [
    {
     "data": {
      "text/plain": [
       "10"
      ]
     },
     "execution_count": 36,
     "metadata": {},
     "output_type": "execute_result"
    }
   ],
   "source": [
    "val b = (1..10).iterator()\n",
    "b.next();b.next();b.next();b.next();b.next();b.next();b.next();b.next();b.next();b.next();"
   ]
  },
  {
   "cell_type": "code",
   "execution_count": 37,
   "id": "f3227d85",
   "metadata": {},
   "outputs": [
    {
     "name": "stdout",
     "output_type": "stream",
     "text": [
      "java.util.NoSuchElementException\n"
     ]
    }
   ],
   "source": [
    "try {\n",
    "    b.next()              // 범위를 다 읽으면 에외를 발생한다. \n",
    "} catch (e : Exception) {\n",
    "    println(e)\n",
    "}"
   ]
  },
  {
   "cell_type": "markdown",
   "id": "53356f98",
   "metadata": {},
   "source": [
    "### 내부 순환\n",
    "\n",
    "- 함수형 기법은 함수를 기준으로 반복을 자동으로 순환\n",
    "- 이때 계산처리하는 기능을 함수로 전달을 받아서 처리"
   ]
  },
  {
   "cell_type": "code",
   "execution_count": 38,
   "id": "47daa735",
   "metadata": {},
   "outputs": [],
   "source": [
    "val c = (1..10).iterator()"
   ]
  },
  {
   "cell_type": "code",
   "execution_count": 39,
   "id": "ea52226e",
   "metadata": {},
   "outputs": [
    {
     "name": "stdout",
     "output_type": "stream",
     "text": [
      "1, 2, 3, 4, 5, 6, 7, 8, 9, 10, "
     ]
    }
   ],
   "source": [
    "c.forEach { print(it.toString()+\", \") }"
   ]
  },
  {
   "cell_type": "markdown",
   "id": "7322c8df",
   "metadata": {},
   "source": [
    "## 외부순환\n",
    "\n",
    "- for in을 통해서 반복자 즉 여러 원소를 가진 자료형을 처리"
   ]
  },
  {
   "cell_type": "code",
   "execution_count": 40,
   "id": "d6fbb413",
   "metadata": {},
   "outputs": [
    {
     "name": "stdout",
     "output_type": "stream",
     "text": [
      "1, 2, 3, 4, 5, 6, 7, 8, 9, 10, "
     ]
    }
   ],
   "source": [
    "for (a :Int in 1..10) {\n",
    "    print(a.toString()+\", \")\n",
    "}"
   ]
  },
  {
   "cell_type": "markdown",
   "id": "4b765186",
   "metadata": {},
   "source": [
    "### 특정 간격으로 순환처리 "
   ]
  },
  {
   "cell_type": "code",
   "execution_count": 41,
   "id": "8e157fe1",
   "metadata": {},
   "outputs": [
    {
     "name": "stdout",
     "output_type": "stream",
     "text": [
      "1, 3, 5, 7, 9, "
     ]
    }
   ],
   "source": [
    "for (a:Int in (1..10).step(2)) {\n",
    "    print(a.toString()+\", \")\n",
    "}"
   ]
  },
  {
   "cell_type": "code",
   "execution_count": null,
   "id": "ce1d4e82",
   "metadata": {},
   "outputs": [],
   "source": []
  },
  {
   "cell_type": "code",
   "execution_count": null,
   "id": "a0c44e0b",
   "metadata": {},
   "outputs": [],
   "source": []
  },
  {
   "cell_type": "markdown",
   "id": "22c07382",
   "metadata": {},
   "source": [
    "## 1-9 숫자 타입 변환\n",
    "\n",
    "- 모든 숫자 타입도 동일하지 않으면 타입을 변환해서 처리해야 함 "
   ]
  },
  {
   "cell_type": "code",
   "execution_count": 42,
   "id": "379733bc",
   "metadata": {},
   "outputs": [
    {
     "name": "stdout",
     "output_type": "stream",
     "text": [
      "100\n",
      "1100100\n",
      "64\n"
     ]
    }
   ],
   "source": [
    "val a = 100.44\n",
    "\n",
    "println(a.toInt())               // 정수로 타입 변환 \n",
    "println(a.toInt().toString(2))   // 이진수로 출력\n",
    "println(a.toInt().toString(16))  // 16진수로 추력 "
   ]
  },
  {
   "cell_type": "code",
   "execution_count": 43,
   "id": "901c5c22",
   "metadata": {},
   "outputs": [
    {
     "name": "stdout",
     "output_type": "stream",
     "text": [
      "더블 실수\n"
     ]
    }
   ],
   "source": [
    "when(a) {                    // 실수 값이라서 실수 값만 처리 \n",
    "    100.0 -> println(\"정수\")\n",
    "    100.44 -> println(\"더블 실수\")\n",
    "    else -> println(\"숫자가 아님 \")\n",
    "}"
   ]
  },
  {
   "cell_type": "code",
   "execution_count": null,
   "id": "a1a195a4",
   "metadata": {},
   "outputs": [],
   "source": []
  },
  {
   "cell_type": "code",
   "execution_count": null,
   "id": "5fa16c18",
   "metadata": {},
   "outputs": [],
   "source": []
  },
  {
   "cell_type": "code",
   "execution_count": null,
   "id": "6c6cc06a",
   "metadata": {},
   "outputs": [],
   "source": []
  }
 ],
 "metadata": {
  "kernelspec": {
   "display_name": "Kotlin",
   "language": "kotlin",
   "name": "kotlin"
  },
  "language_info": {
   "codemirror_mode": "text/x-kotlin",
   "file_extension": ".kt",
   "mimetype": "text/x-kotlin",
   "name": "kotlin",
   "nbconvert_exporter": "",
   "pygments_lexer": "kotlin",
   "version": "1.8.0-dev-3517"
  }
 },
 "nbformat": 4,
 "nbformat_minor": 5
}
