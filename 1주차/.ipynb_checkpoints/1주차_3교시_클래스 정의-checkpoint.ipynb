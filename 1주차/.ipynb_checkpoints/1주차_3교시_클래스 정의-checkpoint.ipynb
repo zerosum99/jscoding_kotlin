{
 "cells": [
  {
   "cell_type": "code",
   "execution_count": null,
   "id": "8413e102",
   "metadata": {},
   "outputs": [],
   "source": []
  },
  {
   "cell_type": "code",
   "execution_count": 1,
   "id": "00688751",
   "metadata": {},
   "outputs": [
    {
     "data": {
      "text/plain": [
       "1.8.0"
      ]
     },
     "execution_count": 1,
     "metadata": {},
     "output_type": "execute_result"
    }
   ],
   "source": [
    "KotlinVersion.CURRENT             // 코틀린 현재 버전 "
   ]
  },
  {
   "cell_type": "code",
   "execution_count": null,
   "id": "26b68a4b",
   "metadata": {},
   "outputs": [],
   "source": []
  },
  {
   "cell_type": "markdown",
   "id": "b1c95963",
   "metadata": {},
   "source": [
    "# 3. 클래스\n",
    "\n",
    "- 클래스는 특정 객체들의 속성과 연산을 포함한 새로운 자료형을 만들어준다.\n",
    "\n"
   ]
  },
  {
   "cell_type": "markdown",
   "id": "57ebda3b",
   "metadata": {},
   "source": [
    "## 3.1 클래스 정의\n",
    "\n",
    "- class 예약어 + 클래스명 + 본문\n",
    "- 본문 내부에 속성, 메서드 정의 \n"
   ]
  },
  {
   "cell_type": "markdown",
   "id": "a9c26865",
   "metadata": {},
   "source": [
    "## 3-1-1 클래스 정의 \n",
    "\n",
    "-  속성 과 메서드 정의\n",
    "- 클래스 정의하면 final로 지정되어 상속할 수 없는 클래스가 만들어짐\n",
    "- 속성과 메서드는 기본 공개(public) 지정자\n",
    "- 비공개로 변환하려면 private으로 처리가 필요"
   ]
  },
  {
   "cell_type": "code",
   "execution_count": 2,
   "id": "55f2c143",
   "metadata": {},
   "outputs": [],
   "source": [
    "class Student {                        // 클래스 가시성 : 기본은 public\n",
    "    private var name : String = \"학생\"  // 속성 가시성 : 클래스 외부에서 사용 금지\n",
    "    private var age : Int = 32\n",
    "    \n",
    "    fun queryName() = this.name        // 메소드 가시성 : 기본은 public\n",
    "    fun queryAge() = this.age\n",
    "    \n",
    "    fun set_Name(name:String) {\n",
    "        this.name = name\n",
    "    }\n",
    "    \n",
    "    fun set_Age(age:Int) {\n",
    "        this.age = age\n",
    "    }\n",
    "    \n",
    "}"
   ]
  },
  {
   "cell_type": "markdown",
   "id": "12d7a5fe",
   "metadata": {},
   "source": [
    "## 3-1-2 객체를 생성\n",
    "\n",
    "- 클래스 이름과 호출연산자를 사용해서 객체를 만듬\n",
    "- 자바처럼 new 예약서는 사용하지 않는다. \n"
   ]
  },
  {
   "cell_type": "markdown",
   "id": "9e4da27a",
   "metadata": {},
   "source": [
    "### 기본생성자를 자동으로 생김\n",
    "-  클래스 정의할 때 생성자를 정의하지 않으면 기본 생성자를 자동으로 만들어 줌"
   ]
  },
  {
   "cell_type": "code",
   "execution_count": 3,
   "id": "2412c5ff",
   "metadata": {},
   "outputs": [],
   "source": [
    "val s1 = Student()"
   ]
  },
  {
   "cell_type": "markdown",
   "id": "7b3dbe24",
   "metadata": {},
   "source": [
    "## 3-1-3 가시성의 private일 경우는 클래스 외부에서 속성을 사용할 수 없다 "
   ]
  },
  {
   "cell_type": "code",
   "execution_count": 4,
   "id": "98879793",
   "metadata": {},
   "outputs": [
    {
     "name": "stderr",
     "output_type": "stream",
     "text": [
      "Line_3.jupyter-kts (1:4 - 8) Cannot access 'name': it is private in 'Student'"
     ]
    }
   ],
   "source": [
    "s1.name"
   ]
  },
  {
   "cell_type": "code",
   "execution_count": 5,
   "id": "fc307cfd",
   "metadata": {},
   "outputs": [
    {
     "name": "stdout",
     "output_type": "stream",
     "text": [
      "학생\n",
      "32\n"
     ]
    }
   ],
   "source": [
    "println(s1.queryName())\n",
    "println(s1.queryAge())"
   ]
  },
  {
   "cell_type": "markdown",
   "id": "4462b4aa",
   "metadata": {},
   "source": [
    "## 3-1-4  다른 객체 생성\n",
    "\n",
    "- 객체를 생성할 때마다 새로운 객체가 만들어진다. \n",
    "- 객체를 생성할 때 상태 즉 속성에 대한 정보를 갱신하지 않아 동일한 상태를 유지한다.\n"
   ]
  },
  {
   "cell_type": "code",
   "execution_count": 6,
   "id": "f2830519",
   "metadata": {},
   "outputs": [],
   "source": [
    "val s2 = Student()"
   ]
  },
  {
   "cell_type": "markdown",
   "id": "f2e2a14a",
   "metadata": {},
   "source": [
    "### 메서드를 호출 "
   ]
  },
  {
   "cell_type": "code",
   "execution_count": 7,
   "id": "08c21f3c",
   "metadata": {},
   "outputs": [
    {
     "name": "stdout",
     "output_type": "stream",
     "text": [
      "학생\n",
      "32\n"
     ]
    }
   ],
   "source": [
    "println(s2.queryName())\n",
    "println(s2.queryAge())"
   ]
  },
  {
   "cell_type": "code",
   "execution_count": null,
   "id": "571205f6",
   "metadata": {},
   "outputs": [],
   "source": []
  },
  {
   "cell_type": "markdown",
   "id": "0218d546",
   "metadata": {},
   "source": [
    "## 3-1-5 객체 생성 후에 메서드로 속성 갱신  \n",
    "\n",
    "- 객체에 맞는 생성자가 없어서 객체에 맞는 속성이 필요한 경우 메서드로 값을 갱신"
   ]
  },
  {
   "cell_type": "code",
   "execution_count": 8,
   "id": "6d406621",
   "metadata": {},
   "outputs": [],
   "source": [
    "val s3 = Student()"
   ]
  },
  {
   "cell_type": "code",
   "execution_count": 9,
   "id": "65831c99",
   "metadata": {},
   "outputs": [
    {
     "name": "stdout",
     "output_type": "stream",
     "text": [
      "코틀린\n",
      "10\n"
     ]
    }
   ],
   "source": [
    "s3.set_Name(\"코틀린\"); s3.set_Age(10)\n",
    "println(s3.queryName())\n",
    "println(s3.queryAge())"
   ]
  },
  {
   "cell_type": "code",
   "execution_count": null,
   "id": "861c44d9",
   "metadata": {},
   "outputs": [],
   "source": []
  },
  {
   "cell_type": "markdown",
   "id": "5f94e429",
   "metadata": {},
   "source": [
    "## 3.2  객체의 상태를 세팅하는 생성자 정의\n",
    "\n",
    "- 객체를 생성할 때 객체의 상태를 초기화하는 생성자 정의\n",
    "- 주생성자는 클래스 이름 옆에 매개변수 목록으로 작성하고 var/val로 정의할 때는 속성으로 처리\n",
    "- 주생성자에는 코드 블럭이 없어서 별도의 init 블록을 젱고 "
   ]
  },
  {
   "cell_type": "markdown",
   "id": "6c45d52b",
   "metadata": {},
   "source": [
    "## 3-2-1 주 생성자에 매개변수 정의\n",
    "\n",
    "- 클래스 헤더부에 정의된 매개변수가 주생성자이다.\n",
    "- 객체의 생성을 init 블럭으로 처리할 수 있다."
   ]
  },
  {
   "cell_type": "code",
   "execution_count": 10,
   "id": "e8b0b99a",
   "metadata": {},
   "outputs": [],
   "source": [
    "class Student1(name : String, age : Int) {\n",
    "    var name : String = \"\"\n",
    "    var age : Int = 0\n",
    "    init {                                    // 주생서자의 기능할 코드블럭 \n",
    "         this.name = name\n",
    "         this.age  = age\n",
    "    }\n",
    "    \n",
    "    fun queryName() = this.name\n",
    "    fun queryAge() = this.age\n",
    "    \n",
    "}"
   ]
  },
  {
   "cell_type": "code",
   "execution_count": 11,
   "id": "f0c9d1c8",
   "metadata": {},
   "outputs": [],
   "source": [
    "val s11 = Student1(\"kt\",15)"
   ]
  },
  {
   "cell_type": "code",
   "execution_count": 12,
   "id": "7839f0a6",
   "metadata": {},
   "outputs": [
    {
     "data": {
      "text/plain": [
       "kt"
      ]
     },
     "execution_count": 12,
     "metadata": {},
     "output_type": "execute_result"
    }
   ],
   "source": [
    "s11.queryName()"
   ]
  },
  {
   "cell_type": "code",
   "execution_count": 13,
   "id": "65995d70",
   "metadata": {},
   "outputs": [
    {
     "data": {
      "text/plain": [
       "15"
      ]
     },
     "execution_count": 13,
     "metadata": {},
     "output_type": "execute_result"
    }
   ],
   "source": [
    "s11.queryAge()"
   ]
  },
  {
   "cell_type": "markdown",
   "id": "89c456d3",
   "metadata": {},
   "source": [
    "## 3-2-2 주생성자에 속성을 정의해서 사용 \n",
    "\n",
    "- 클래스를 주생성자 지정해서 처리할 수 있다.\n"
   ]
  },
  {
   "cell_type": "code",
   "execution_count": 14,
   "id": "278d469f",
   "metadata": {},
   "outputs": [],
   "source": [
    "class User(val name : String, var age : Int)"
   ]
  },
  {
   "cell_type": "code",
   "execution_count": 15,
   "id": "3dcac114",
   "metadata": {},
   "outputs": [],
   "source": [
    "val u = User(\"박석\", 50)"
   ]
  },
  {
   "cell_type": "code",
   "execution_count": 16,
   "id": "288f98e6",
   "metadata": {},
   "outputs": [
    {
     "data": {
      "text/plain": [
       "박석"
      ]
     },
     "execution_count": 16,
     "metadata": {},
     "output_type": "execute_result"
    }
   ],
   "source": [
    "u.name"
   ]
  },
  {
   "cell_type": "code",
   "execution_count": 17,
   "id": "bdda4f7b",
   "metadata": {},
   "outputs": [
    {
     "data": {
      "text/plain": [
       "50"
      ]
     },
     "execution_count": 17,
     "metadata": {},
     "output_type": "execute_result"
    }
   ],
   "source": [
    "u.age"
   ]
  },
  {
   "cell_type": "code",
   "execution_count": null,
   "id": "c409e1fd",
   "metadata": {},
   "outputs": [],
   "source": []
  },
  {
   "cell_type": "markdown",
   "id": "46459288",
   "metadata": {},
   "source": [
    "## 3-2-3 주생성자와 보조생성자 처리\n",
    "\n",
    "- 주생성자와 보조생성자를 같이 사용할 경우는 생성자를 위임호출이 필요"
   ]
  },
  {
   "cell_type": "markdown",
   "id": "059986ba",
   "metadata": {},
   "source": [
    "## 주생성자에는 매개변수가 없고 클래스 내부 보조생성자에 매개변수 처리\n",
    "\n",
    "- 보조생성자는 본문에 constructor 이름을 사용해서 정의한다.\n",
    "- 매개변수에 따라 생성자를 매칭해서 객체를 생성한다. \n"
   ]
  },
  {
   "cell_type": "code",
   "execution_count": 18,
   "id": "05a1cc9a",
   "metadata": {},
   "outputs": [],
   "source": [
    "class Student2() {\n",
    "    var name : String = \"\"\n",
    "    var age : Int = 0\n",
    "    \n",
    "    constructor(name : String, age : Int): this() {   // 보조생성자는 주생성자를 위임 호출이 필요\n",
    "         this.name = name\n",
    "         this.age  = age\n",
    "    }\n",
    "    \n",
    "    fun queryName() = this.name\n",
    "    fun queryAge() = this.age\n",
    "    \n",
    "}"
   ]
  },
  {
   "cell_type": "code",
   "execution_count": 19,
   "id": "0b8bea25",
   "metadata": {},
   "outputs": [],
   "source": [
    "val s21 = Student1(\"skt\",15)"
   ]
  },
  {
   "cell_type": "code",
   "execution_count": 20,
   "id": "4c0a8a68",
   "metadata": {},
   "outputs": [
    {
     "data": {
      "text/plain": [
       "skt"
      ]
     },
     "execution_count": 20,
     "metadata": {},
     "output_type": "execute_result"
    }
   ],
   "source": [
    "s21.queryName()"
   ]
  },
  {
   "cell_type": "code",
   "execution_count": 21,
   "id": "b2cd6316",
   "metadata": {},
   "outputs": [
    {
     "data": {
      "text/plain": [
       "15"
      ]
     },
     "execution_count": 21,
     "metadata": {},
     "output_type": "execute_result"
    }
   ],
   "source": [
    "s11.queryAge()"
   ]
  },
  {
   "cell_type": "markdown",
   "id": "884d063c",
   "metadata": {},
   "source": [
    "## 보조생성자로만 객체 생성하기"
   ]
  },
  {
   "cell_type": "code",
   "execution_count": 22,
   "id": "bafa136d",
   "metadata": {},
   "outputs": [],
   "source": [
    "class Second {\n",
    "    var name : String =\"\"\n",
    "    var age : Int = 0\n",
    "    constructor(name : String) {\n",
    "        this.name = name\n",
    "    }\n",
    "    \n",
    "    constructor(name : String, age : Int) :this(name) {\n",
    "        this.age =age\n",
    "    }\n",
    "}"
   ]
  },
  {
   "cell_type": "code",
   "execution_count": 23,
   "id": "29e5715e",
   "metadata": {},
   "outputs": [
    {
     "name": "stdout",
     "output_type": "stream",
     "text": [
      "이름\n"
     ]
    }
   ],
   "source": [
    "val ss = Second(\"이름\")\n",
    "println(ss.name)"
   ]
  },
  {
   "cell_type": "code",
   "execution_count": 24,
   "id": "39d9b0ff",
   "metadata": {},
   "outputs": [],
   "source": [
    "val ss1 = Second(\"겨울\", 33)"
   ]
  },
  {
   "cell_type": "code",
   "execution_count": 25,
   "id": "800947ff",
   "metadata": {},
   "outputs": [
    {
     "name": "stdout",
     "output_type": "stream",
     "text": [
      "겨울\n",
      "33\n"
     ]
    }
   ],
   "source": [
    "println(ss1.name)\n",
    "println(ss1.age)"
   ]
  },
  {
   "cell_type": "markdown",
   "id": "f880b4b0",
   "metadata": {},
   "source": [
    "## 3-2-4 생성자에 초기값과 가변인자 적용하기"
   ]
  },
  {
   "cell_type": "code",
   "execution_count": 26,
   "id": "d28f401c",
   "metadata": {},
   "outputs": [],
   "source": [
    "class People(val name : String = \"사람\", var age : Int = 0 ) "
   ]
  },
  {
   "cell_type": "code",
   "execution_count": 27,
   "id": "9e60604b",
   "metadata": {},
   "outputs": [],
   "source": [
    "val p = People()"
   ]
  },
  {
   "cell_type": "code",
   "execution_count": 28,
   "id": "e9539eec",
   "metadata": {},
   "outputs": [
    {
     "name": "stdout",
     "output_type": "stream",
     "text": [
      "사람\n",
      "0\n"
     ]
    }
   ],
   "source": [
    "println(p.name)\n",
    "println(p.age)"
   ]
  },
  {
   "cell_type": "markdown",
   "id": "2b3b52ac",
   "metadata": {},
   "source": [
    "## 생성자 매개변수를 가변인자로 처리\n",
    "\n",
    "- 생성자도 함수처럼 가변인자 처리 가능"
   ]
  },
  {
   "cell_type": "code",
   "execution_count": 29,
   "id": "1ef8e412",
   "metadata": {},
   "outputs": [],
   "source": [
    "class Cal(vararg v : Int) {\n",
    "    var x : Int = 0\n",
    "    var y : Int = 0\n",
    "    \n",
    "    init {\n",
    "        x = v[0]\n",
    "        y = v[1]\n",
    "    }\n",
    "    \n",
    "    fun add() = x+y\n",
    "    fun mul() = x*y\n",
    "}"
   ]
  },
  {
   "cell_type": "code",
   "execution_count": 30,
   "id": "66bc0b89",
   "metadata": {},
   "outputs": [],
   "source": [
    "val c = Cal(1,2)"
   ]
  },
  {
   "cell_type": "code",
   "execution_count": 31,
   "id": "db0a726e",
   "metadata": {},
   "outputs": [
    {
     "name": "stdout",
     "output_type": "stream",
     "text": [
      "3\n",
      "2\n"
     ]
    }
   ],
   "source": [
    "println(c.add())\n",
    "println(c.mul())"
   ]
  },
  {
   "cell_type": "code",
   "execution_count": null,
   "id": "26f68277",
   "metadata": {},
   "outputs": [],
   "source": []
  },
  {
   "cell_type": "markdown",
   "id": "e84b29ba",
   "metadata": {},
   "source": [
    "###  객체를 받는 속성을 가변인자로 처리 \n"
   ]
  },
  {
   "cell_type": "code",
   "execution_count": 32,
   "id": "4c8dc24b",
   "metadata": {},
   "outputs": [],
   "source": [
    "class Student3(val name:String)"
   ]
  },
  {
   "cell_type": "code",
   "execution_count": 33,
   "id": "05332c47",
   "metadata": {},
   "outputs": [],
   "source": [
    "class Klass(vararg val room : Student3) {\n",
    "    fun showKlass() {\n",
    "        for (s in room) println(s.name)\n",
    "    }\n",
    "}"
   ]
  },
  {
   "cell_type": "code",
   "execution_count": 34,
   "id": "896a2d0d",
   "metadata": {},
   "outputs": [],
   "source": [
    "val k = Klass(Student3(\"심온\"), Student3(\"가온\"),Student3(\"강온\"),Student3(\"우온\"))"
   ]
  },
  {
   "cell_type": "code",
   "execution_count": 35,
   "id": "a839bce4",
   "metadata": {},
   "outputs": [
    {
     "name": "stdout",
     "output_type": "stream",
     "text": [
      "심온\n",
      "가온\n",
      "강온\n",
      "우온\n"
     ]
    }
   ],
   "source": [
    "k.showKlass()"
   ]
  },
  {
   "cell_type": "code",
   "execution_count": null,
   "id": "2556c6c3",
   "metadata": {},
   "outputs": [],
   "source": []
  },
  {
   "cell_type": "markdown",
   "id": "18c249a9",
   "metadata": {},
   "source": [
    "## 3-4 메소드에서 전역변수 접근 \n",
    "\n",
    "- 메소드도 함수이르모 전역변수에 대한 접근과 갱신이 가능"
   ]
  },
  {
   "cell_type": "markdown",
   "id": "0e2c14a3",
   "metadata": {},
   "source": [
    "## 3-4-1  메소드에서 전역 변수 처리"
   ]
  },
  {
   "cell_type": "code",
   "execution_count": 36,
   "id": "f8c3db86",
   "metadata": {},
   "outputs": [
    {
     "name": "stdout",
     "output_type": "stream",
     "text": [
      "1009\n",
      "1009\n"
     ]
    }
   ],
   "source": [
    "var ar : Int = 999               //전역할당\n",
    "\n",
    "class AB {\n",
    "    fun methodsA(a:Int) :Int {   //메소드 \n",
    "        ar = ar + a              //전역갱신\n",
    "        return ar                //전역참조\n",
    "    }\n",
    "}\n",
    "\n",
    "println(AB().methodsA(10))       //전역 갱신 결과 \n",
    "println(ar)"
   ]
  },
  {
   "cell_type": "markdown",
   "id": "4e9a4a5a",
   "metadata": {},
   "source": [
    "## 3-4-2 내부 클래스의 메소드에서 전역 접근 처리"
   ]
  },
  {
   "cell_type": "code",
   "execution_count": 37,
   "id": "c4ad7420",
   "metadata": {},
   "outputs": [
    {
     "name": "stdout",
     "output_type": "stream",
     "text": [
      "1009\n",
      "1009\n"
     ]
    }
   ],
   "source": [
    "var gar : Int = 999                 //전역할당\n",
    "\n",
    "class AB {\n",
    "    inner class A {                 //내부 클래스\n",
    "        fun methodsA(a:Int) :Int {  //내부 클래스의 메소드\n",
    "            gar = gar + a           //전역갱신\n",
    "            return gar              //전역참조\n",
    "        }\n",
    "    }\n",
    "}\n",
    "\n",
    "println(AB().A().methodsA(10))      //전역갱신 결과 \n",
    "println(gar)"
   ]
  },
  {
   "cell_type": "code",
   "execution_count": null,
   "id": "ba3f0498",
   "metadata": {},
   "outputs": [],
   "source": []
  }
 ],
 "metadata": {
  "kernelspec": {
   "display_name": "Kotlin",
   "language": "kotlin",
   "name": "kotlin"
  },
  "language_info": {
   "codemirror_mode": "text/x-kotlin",
   "file_extension": ".kt",
   "mimetype": "text/x-kotlin",
   "name": "kotlin",
   "nbconvert_exporter": "",
   "pygments_lexer": "kotlin",
   "version": "1.8.0-dev-3517"
  }
 },
 "nbformat": 4,
 "nbformat_minor": 5
}
