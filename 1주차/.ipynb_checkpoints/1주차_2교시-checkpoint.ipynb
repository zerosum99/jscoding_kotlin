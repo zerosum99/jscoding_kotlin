{
 "cells": [
  {
   "cell_type": "markdown",
   "id": "75cb962d",
   "metadata": {},
   "source": [
    "# 주요 내용\n",
    "\n",
    "\n",
    "2장 3장 ,4장, 5장 \n",
    "\n",
    "변수, 상수, 연산자 , 제어 및 순환문, 함수 정의, 매개변수 처리, 클래스, 생성자, 메서드  기본 알아보기 "
   ]
  },
  {
   "cell_type": "markdown",
   "id": "f8b43879",
   "metadata": {},
   "source": [
    "# 1. 코틀린 문법을 스크립터로 배우는 이유\n",
    "\n",
    "- 첫째, 항상 컴파일러보다 버전이 빠르다.\n",
    "- 둘째, 코틀린 플레이그라운드보다 참고 자료 등을 잘 작성할 수 있다.\n",
    "- 세째, 굳이 메인함수를 작성하지 않아도 실행가능하다\n"
   ]
  },
  {
   "cell_type": "markdown",
   "id": "912c8da0",
   "metadata": {},
   "source": [
    "## 컴파일러 버전보다 항상 최신 버전 적용 "
   ]
  },
  {
   "cell_type": "code",
   "execution_count": 1,
   "id": "00688751",
   "metadata": {},
   "outputs": [
    {
     "data": {
      "text/plain": [
       "1.8.0"
      ]
     },
     "execution_count": 1,
     "metadata": {},
     "output_type": "execute_result"
    }
   ],
   "source": [
    "KotlinVersion.CURRENT             // 코틀린 현재 버전 "
   ]
  },
  {
   "cell_type": "code",
   "execution_count": null,
   "id": "8413e102",
   "metadata": {},
   "outputs": [],
   "source": []
  },
  {
   "cell_type": "markdown",
   "id": "37d0533d",
   "metadata": {},
   "source": [
    "## 플레이그라운드에서는 주석만 가능하지만 주피터노트북은 마크타운으로 정보를 남길 수 있다."
   ]
  },
  {
   "cell_type": "markdown",
   "id": "7bdf35dc",
   "metadata": {},
   "source": [
    "#  문서 작성 \n",
    "##   문서작성 \n",
    "\n",
    "- 리스트 작성 1\n",
    "- 리스트 작성 2"
   ]
  },
  {
   "cell_type": "markdown",
   "id": "08f61756",
   "metadata": {},
   "source": [
    "## 깃허브 정보 공유할 때 바로 작성된 문서를 볼 수 있다. "
   ]
  },
  {
   "cell_type": "code",
   "execution_count": null,
   "id": "ded74cc4",
   "metadata": {},
   "outputs": [],
   "source": []
  },
  {
   "cell_type": "markdown",
   "id": "19ad58ad",
   "metadata": {},
   "source": [
    "## 메인 함수 없어도 출력결과를 확인"
   ]
  },
  {
   "cell_type": "code",
   "execution_count": 2,
   "id": "236df397",
   "metadata": {},
   "outputs": [
    {
     "name": "stdout",
     "output_type": "stream",
     "text": [
      "Hello Kotlin !!!1\n"
     ]
    }
   ],
   "source": [
    "println(\"Hello Kotlin !!!1\")"
   ]
  },
  {
   "cell_type": "code",
   "execution_count": 3,
   "id": "f2738b65",
   "metadata": {},
   "outputs": [],
   "source": [
    "fun main() {\n",
    "    println(\" 1주차  main 함수 호출 \")\n",
    "}"
   ]
  },
  {
   "cell_type": "code",
   "execution_count": 4,
   "id": "283ef861",
   "metadata": {},
   "outputs": [
    {
     "name": "stdout",
     "output_type": "stream",
     "text": [
      " 1주차  main 함수 호출 \n"
     ]
    }
   ],
   "source": [
    "main()"
   ]
  },
  {
   "cell_type": "code",
   "execution_count": null,
   "id": "52d2ac58",
   "metadata": {},
   "outputs": [],
   "source": []
  },
  {
   "cell_type": "code",
   "execution_count": null,
   "id": "db644e1a",
   "metadata": {},
   "outputs": [],
   "source": []
  },
  {
   "cell_type": "markdown",
   "id": "b49bbe4e",
   "metadata": {},
   "source": [
    "# 2. 변수 상수 식별자 \n",
    "\n",
    "- 상수는 리터럴 값을 보관하는 장소\n",
    "- 변수는 실제 프로그램에서 사용하는 데이터를 보관하고 재사용하는 장소 \n",
    "- 상수와 변수의 이름을 식별자라고 한다. "
   ]
  },
  {
   "cell_type": "markdown",
   "id": "8e4185b7",
   "metadata": {},
   "source": [
    "## 2.1 변수 정의 \n",
    "\n",
    "- 변수는 예약어 val과 var 사용\n",
    "- 변경불가(immutable) 변수 : val 로 지정\n",
    "- 변경가능(mutable) 변수 : var 로 지정 \n"
   ]
  },
  {
   "cell_type": "markdown",
   "id": "845d4955",
   "metadata": {},
   "source": [
    "## 두 가지 변수 정의 \n",
    "\n",
    "- 변수는 val과 var 키워드 예약어 + 변수명 + 콜론(:) + 자료형 + 대입연산자(-) + 초기값 \n",
    "\n",
    "- 변수에 초기값을 지정한 경우 타입추론이 자동으로 되므로 자료형을 지정하지 않아도 됨\n",
    "\n",
    "- 강타입을 사용하므로 변수가 정의되면 변수에는 항상 타입이 지정됨"
   ]
  },
  {
   "cell_type": "code",
   "execution_count": 9,
   "id": "3111f7c2",
   "metadata": {},
   "outputs": [],
   "source": [
    "val x = 100\n",
    "var y = 200"
   ]
  },
  {
   "cell_type": "markdown",
   "id": "a1337c0b",
   "metadata": {},
   "source": [
    "## 한번만 할당하는 변수 정의 : val \n",
    "\n",
    "- 반드시 정의할 때 값을 할당\n",
    "- 타입추론이 가능해서 실제 자료형을 지정하지 않아도 됨 "
   ]
  },
  {
   "cell_type": "code",
   "execution_count": 11,
   "id": "eeafad4d",
   "metadata": {},
   "outputs": [
    {
     "name": "stderr",
     "output_type": "stream",
     "text": [
      "Line_1347.jupyter-kts (1:1 - 2) Val cannot be reassigned"
     ]
    }
   ],
   "source": [
    "x = 300"
   ]
  },
  {
   "cell_type": "markdown",
   "id": "f5513227",
   "metadata": {},
   "source": [
    "## 자료형 확인하기\n",
    "\n",
    "- 변수가 정의되면 타입이 확정됨\n",
    "- 자바의 타입과 코틀린의 타입이 다를 수 있음\n",
    "- 자바는 프리미티브 자료형이지만 코틀린은 항상 클래스로 지정\n",
    "- 코틀린은 내부적으로 박싱과 언박싱을 처리하므로 별도로 프리미티브 자료형을 인식하지 않아도 됨 "
   ]
  },
  {
   "cell_type": "code",
   "execution_count": 16,
   "id": "32e39390",
   "metadata": {},
   "outputs": [
    {
     "name": "stdout",
     "output_type": "stream",
     "text": [
      "type 확인 class kotlin.Int\n",
      " 참조로 확인 int\n"
     ]
    }
   ],
   "source": [
    "println(\" type 확인 \"+ x.javaClass.kotlin)\n",
    "println(\" 참조로 확인 \" + x::class.java.typeName)"
   ]
  },
  {
   "cell_type": "markdown",
   "id": "b3a75f58",
   "metadata": {},
   "source": [
    "### 자바일 경우의 자료형"
   ]
  },
  {
   "cell_type": "code",
   "execution_count": 22,
   "id": "475400b7",
   "metadata": {},
   "outputs": [
    {
     "name": "stdout",
     "output_type": "stream",
     "text": [
      " type 확인 int\n",
      " 참조로 확인 int\n"
     ]
    }
   ],
   "source": [
    "println(\" type 확인 \"+ x.javaClass)\n",
    "println(\" 참조로 확인 \" + x::class.java.typeName)"
   ]
  },
  {
   "cell_type": "markdown",
   "id": "ce6124d0",
   "metadata": {},
   "source": [
    "### 여러번 할당하는 변수 정의 : var \n",
    "\n",
    "- 저장하는 값을 계속 처리할 수 있음 \n"
   ]
  },
  {
   "cell_type": "code",
   "execution_count": 12,
   "id": "68cbd6cf",
   "metadata": {},
   "outputs": [],
   "source": [
    "y = 9999"
   ]
  },
  {
   "cell_type": "code",
   "execution_count": null,
   "id": "a0ab4718",
   "metadata": {},
   "outputs": [],
   "source": []
  },
  {
   "cell_type": "markdown",
   "id": "d7ff5761",
   "metadata": {},
   "source": [
    "## 2-2 상수\n",
    "\n",
    "- 상수는 실제 리터럴 값을 관리하는 이름\n",
    "- 변수 val과 차이점은 변수는 실제 속성이므로 게터가 존재하지만 상수는 값만 가지고 있음 "
   ]
  },
  {
   "cell_type": "code",
   "execution_count": 27,
   "id": "5dd777a4",
   "metadata": {},
   "outputs": [
    {
     "name": "stderr",
     "output_type": "stream",
     "text": [
      "Line_2878.jupyter-kts (1:1 - 6) Const 'val' are only allowed on top level, in named objects, or in companion objects"
     ]
    }
   ],
   "source": [
    "const val va : Int = 300"
   ]
  },
  {
   "cell_type": "code",
   "execution_count": null,
   "id": "a719eab9",
   "metadata": {},
   "outputs": [],
   "source": []
  },
  {
   "cell_type": "code",
   "execution_count": 25,
   "id": "e82ac4b8",
   "metadata": {},
   "outputs": [],
   "source": [
    "object ABC {\n",
    "   const val pi : Int  = 100 \n",
    "}\n"
   ]
  },
  {
   "cell_type": "code",
   "execution_count": 26,
   "id": "e55e7e80",
   "metadata": {},
   "outputs": [
    {
     "data": {
      "text/plain": [
       "100"
      ]
     },
     "execution_count": 26,
     "metadata": {},
     "output_type": "execute_result"
    }
   ],
   "source": [
    "ABC.pi"
   ]
  },
  {
   "cell_type": "code",
   "execution_count": null,
   "id": "d7a91786",
   "metadata": {},
   "outputs": [],
   "source": []
  },
  {
   "cell_type": "markdown",
   "id": "5c319043",
   "metadata": {},
   "source": [
    "## 2-3  최상위 속성 알아보기\n",
    "\n",
    "- 일반적인 변수는 게터와 세터를 가진 속성이다.\n",
    "- 전역 변수인 최상위 변수도 최상위 속성을 가진다. \n",
    "- 그래서 기본으로 속성으 값은 field 즉 backing field에 보관함 \n"
   ]
  },
  {
   "cell_type": "markdown",
   "id": "19a48ee2",
   "metadata": {},
   "source": [
    "### 변경불가한 속성 정의"
   ]
  },
  {
   "cell_type": "code",
   "execution_count": 32,
   "id": "c5ef8667",
   "metadata": {},
   "outputs": [],
   "source": [
    "val prop :Int = 100    // 초기값을 입력하면 field에 세팅 \n",
    "    get() = 100 * field"
   ]
  },
  {
   "cell_type": "code",
   "execution_count": 33,
   "id": "5f513baa",
   "metadata": {},
   "outputs": [
    {
     "data": {
      "text/plain": [
       "10000"
      ]
     },
     "execution_count": 33,
     "metadata": {},
     "output_type": "execute_result"
    }
   ],
   "source": [
    "prop"
   ]
  },
  {
   "cell_type": "markdown",
   "id": "508c512e",
   "metadata": {},
   "source": [
    "## 변경가능한 속성 정의 "
   ]
  },
  {
   "cell_type": "code",
   "execution_count": 34,
   "id": "200a18d3",
   "metadata": {},
   "outputs": [],
   "source": [
    "var propR :Int = 100\n",
    "    get() = 100 * field\n",
    "    set(value:Int) {\n",
    "        field = value \n",
    "    }"
   ]
  },
  {
   "cell_type": "code",
   "execution_count": 35,
   "id": "bb1df3b9",
   "metadata": {},
   "outputs": [
    {
     "data": {
      "text/plain": [
       "10000"
      ]
     },
     "execution_count": 35,
     "metadata": {},
     "output_type": "execute_result"
    }
   ],
   "source": [
    "propR"
   ]
  },
  {
   "cell_type": "code",
   "execution_count": 36,
   "id": "d49cb93d",
   "metadata": {},
   "outputs": [],
   "source": [
    "propR = 300"
   ]
  },
  {
   "cell_type": "code",
   "execution_count": 37,
   "id": "3d360aff",
   "metadata": {},
   "outputs": [
    {
     "data": {
      "text/plain": [
       "30000"
      ]
     },
     "execution_count": 37,
     "metadata": {},
     "output_type": "execute_result"
    }
   ],
   "source": [
    "propR"
   ]
  },
  {
   "cell_type": "code",
   "execution_count": null,
   "id": "545266af",
   "metadata": {},
   "outputs": [],
   "source": []
  },
  {
   "cell_type": "markdown",
   "id": "49644c7c",
   "metadata": {},
   "source": [
    "## 2-4 제어문\n",
    "\n",
    "- 코틀린은 다양한 문장을 표현식으로 사용이 가능하다. "
   ]
  },
  {
   "cell_type": "code",
   "execution_count": null,
   "id": "4df981a9",
   "metadata": {},
   "outputs": [],
   "source": []
  },
  {
   "cell_type": "code",
   "execution_count": 39,
   "id": "e5acd4b5",
   "metadata": {},
   "outputs": [
    {
     "name": "stdout",
     "output_type": "stream",
     "text": [
      "참값 처리\n"
     ]
    }
   ],
   "source": [
    "if (true) {\n",
    "    println(\"참값 처리\")\n",
    "}"
   ]
  },
  {
   "cell_type": "code",
   "execution_count": 40,
   "id": "49008971",
   "metadata": {},
   "outputs": [
    {
     "name": "stdout",
     "output_type": "stream",
     "text": [
      "거짓값 처리 \n"
     ]
    }
   ],
   "source": [
    "if (false) {\n",
    "    println(\"참값 처리\")\n",
    "} else {\n",
    "    println(\"거짓값 처리 \")\n",
    "}"
   ]
  },
  {
   "cell_type": "code",
   "execution_count": 41,
   "id": "089f44cc",
   "metadata": {},
   "outputs": [],
   "source": [
    "val a = if (true) 100 else 200"
   ]
  },
  {
   "cell_type": "code",
   "execution_count": 42,
   "id": "62a029b8",
   "metadata": {},
   "outputs": [
    {
     "data": {
      "text/plain": [
       "100"
      ]
     },
     "execution_count": 42,
     "metadata": {},
     "output_type": "execute_result"
    }
   ],
   "source": [
    "a"
   ]
  },
  {
   "cell_type": "code",
   "execution_count": null,
   "id": "ffb8b09a",
   "metadata": {},
   "outputs": [],
   "source": []
  },
  {
   "cell_type": "code",
   "execution_count": 43,
   "id": "709ffe8f",
   "metadata": {},
   "outputs": [
    {
     "name": "stdout",
     "output_type": "stream",
     "text": [
      " 100 \n"
     ]
    }
   ],
   "source": [
    "when (a) {\n",
    "    10 -> println(\" 10 \") \n",
    "    100 -> println(\" 100 \")\n",
    "    else -> println(\" else \")\n",
    "}"
   ]
  },
  {
   "cell_type": "code",
   "execution_count": null,
   "id": "c58e33b0",
   "metadata": {},
   "outputs": [],
   "source": []
  },
  {
   "cell_type": "code",
   "execution_count": 44,
   "id": "96f5f514",
   "metadata": {},
   "outputs": [
    {
     "name": "stdout",
     "output_type": "stream",
     "text": [
      " 100 이상 \n"
     ]
    }
   ],
   "source": [
    "when {\n",
    "    1 < a && a < 10 -> println(\" 10 미만 \") \n",
    "    10 < a && a < 100 -> println(\" 100 미만 \") \n",
    "    else -> println(\" 100 이상 \") \n",
    "}"
   ]
  },
  {
   "cell_type": "code",
   "execution_count": null,
   "id": "eb2967b0",
   "metadata": {},
   "outputs": [],
   "source": []
  },
  {
   "cell_type": "markdown",
   "id": "a22ec35e",
   "metadata": {},
   "source": [
    "## 2-5 순환문 "
   ]
  },
  {
   "cell_type": "code",
   "execution_count": null,
   "id": "7018f5a0",
   "metadata": {},
   "outputs": [],
   "source": []
  },
  {
   "cell_type": "code",
   "execution_count": null,
   "id": "1c58b781",
   "metadata": {},
   "outputs": [],
   "source": []
  },
  {
   "cell_type": "code",
   "execution_count": null,
   "id": "76d4783c",
   "metadata": {},
   "outputs": [],
   "source": []
  },
  {
   "cell_type": "code",
   "execution_count": null,
   "id": "6f693cad",
   "metadata": {},
   "outputs": [],
   "source": []
  },
  {
   "cell_type": "code",
   "execution_count": null,
   "id": "5d0950a5",
   "metadata": {},
   "outputs": [],
   "source": []
  },
  {
   "cell_type": "markdown",
   "id": "3d23dfe3",
   "metadata": {},
   "source": [
    "# 3. 함수 \n",
    "\n",
    "- 일반함수, 익명함수, 람다표현식 등 3가지 종류의 함수를 정의할 수 있다.\n",
    "- 함수를 정의해서 속한 영역에 따라 최상위 함수, 지역함수, 메서드 등으로 작성할 수 있다.\n",
    "- 최상위 함수는 전역영역에 정의된 함수\n",
    "- 지역함수는 지역변수처럼 함수 내부에 정의된 함수 \n",
    "- 메서드는 클래스 내부에 정의된 함수 "
   ]
  },
  {
   "cell_type": "markdown",
   "id": "06fb0cee",
   "metadata": {},
   "source": [
    "## 3.1 함수정의"
   ]
  },
  {
   "cell_type": "code",
   "execution_count": 21,
   "id": "78d87816",
   "metadata": {},
   "outputs": [],
   "source": [
    "fun add(x:Int, y:Int): Int {\n",
    "    return x+y\n",
    "}"
   ]
  },
  {
   "cell_type": "code",
   "execution_count": null,
   "id": "bd08b1ad",
   "metadata": {},
   "outputs": [],
   "source": []
  },
  {
   "cell_type": "code",
   "execution_count": null,
   "id": "93ca2e0e",
   "metadata": {},
   "outputs": [],
   "source": []
  },
  {
   "cell_type": "code",
   "execution_count": null,
   "id": "d1c77eff",
   "metadata": {},
   "outputs": [],
   "source": []
  },
  {
   "cell_type": "markdown",
   "id": "9d160459",
   "metadata": {},
   "source": [
    "## 3.2 매개변수와 인자 처리 "
   ]
  },
  {
   "cell_type": "code",
   "execution_count": null,
   "id": "5bf0ee78",
   "metadata": {},
   "outputs": [],
   "source": []
  },
  {
   "cell_type": "code",
   "execution_count": null,
   "id": "21cd60c3",
   "metadata": {},
   "outputs": [],
   "source": []
  },
  {
   "cell_type": "code",
   "execution_count": null,
   "id": "a077140b",
   "metadata": {},
   "outputs": [],
   "source": []
  },
  {
   "cell_type": "code",
   "execution_count": null,
   "id": "97439744",
   "metadata": {},
   "outputs": [],
   "source": []
  },
  {
   "cell_type": "markdown",
   "id": "30f288e3",
   "metadata": {},
   "source": [
    "## 3.3 익명함수, 람다함수 정의"
   ]
  },
  {
   "cell_type": "code",
   "execution_count": null,
   "id": "95f389d2",
   "metadata": {},
   "outputs": [],
   "source": []
  },
  {
   "cell_type": "code",
   "execution_count": null,
   "id": "5449f195",
   "metadata": {},
   "outputs": [],
   "source": []
  },
  {
   "cell_type": "markdown",
   "id": "67d14723",
   "metadata": {},
   "source": [
    "## 3.4 클로저, 내부함수 처리"
   ]
  },
  {
   "cell_type": "code",
   "execution_count": null,
   "id": "c0b05742",
   "metadata": {},
   "outputs": [],
   "source": []
  },
  {
   "cell_type": "code",
   "execution_count": null,
   "id": "8e88d755",
   "metadata": {},
   "outputs": [],
   "source": []
  },
  {
   "cell_type": "code",
   "execution_count": null,
   "id": "6f2bb864",
   "metadata": {},
   "outputs": [],
   "source": []
  },
  {
   "cell_type": "code",
   "execution_count": null,
   "id": "26b68a4b",
   "metadata": {},
   "outputs": [],
   "source": []
  },
  {
   "cell_type": "markdown",
   "id": "b1c95963",
   "metadata": {},
   "source": [
    "# 4. 클래스"
   ]
  },
  {
   "cell_type": "markdown",
   "id": "57ebda3b",
   "metadata": {},
   "source": [
    "## 4.1 클래스 정의"
   ]
  },
  {
   "cell_type": "code",
   "execution_count": null,
   "id": "55f2c143",
   "metadata": {},
   "outputs": [],
   "source": []
  },
  {
   "cell_type": "code",
   "execution_count": null,
   "id": "c17c7dd6",
   "metadata": {},
   "outputs": [],
   "source": []
  },
  {
   "cell_type": "markdown",
   "id": "5f94e429",
   "metadata": {},
   "source": [
    "## 4.2 생성자 정의"
   ]
  },
  {
   "cell_type": "code",
   "execution_count": null,
   "id": "75fa40ab",
   "metadata": {},
   "outputs": [],
   "source": []
  },
  {
   "cell_type": "code",
   "execution_count": null,
   "id": "65995d70",
   "metadata": {},
   "outputs": [],
   "source": []
  },
  {
   "cell_type": "code",
   "execution_count": null,
   "id": "03ad642c",
   "metadata": {},
   "outputs": [],
   "source": []
  },
  {
   "cell_type": "markdown",
   "id": "37bcc989",
   "metadata": {},
   "source": [
    "## 4.3 메서드 정의"
   ]
  },
  {
   "cell_type": "code",
   "execution_count": null,
   "id": "4b5e9dc8",
   "metadata": {},
   "outputs": [],
   "source": []
  },
  {
   "cell_type": "code",
   "execution_count": null,
   "id": "58c53d1c",
   "metadata": {},
   "outputs": [],
   "source": []
  },
  {
   "cell_type": "code",
   "execution_count": null,
   "id": "e0572356",
   "metadata": {},
   "outputs": [],
   "source": []
  },
  {
   "cell_type": "markdown",
   "id": "c97d7812",
   "metadata": {},
   "source": [
    "## 4.4 연산자 재정의, 메서드 재정의 "
   ]
  },
  {
   "cell_type": "code",
   "execution_count": null,
   "id": "5de368a2",
   "metadata": {},
   "outputs": [],
   "source": []
  },
  {
   "cell_type": "code",
   "execution_count": null,
   "id": "4df13526",
   "metadata": {},
   "outputs": [],
   "source": []
  },
  {
   "cell_type": "code",
   "execution_count": null,
   "id": "f47d4959",
   "metadata": {},
   "outputs": [],
   "source": []
  },
  {
   "cell_type": "markdown",
   "id": "3cf209d5",
   "metadata": {},
   "source": [
    "# 5 object 정의 \n",
    "\n",
    "- 클래스 정의와 객체 하나 생성하는 방식\n",
    "- 보통 클래스를 정의해서 객체를 하나 만드는 경우는 싱글턴패턴이라고 한다.\n"
   ]
  },
  {
   "cell_type": "markdown",
   "id": "9d0b3708",
   "metadata": {},
   "source": [
    "## 5-1 object 표현식"
   ]
  },
  {
   "cell_type": "code",
   "execution_count": null,
   "id": "03dd783c",
   "metadata": {},
   "outputs": [],
   "source": []
  },
  {
   "cell_type": "code",
   "execution_count": null,
   "id": "7013f779",
   "metadata": {},
   "outputs": [],
   "source": []
  },
  {
   "cell_type": "code",
   "execution_count": null,
   "id": "b91389d2",
   "metadata": {},
   "outputs": [],
   "source": []
  },
  {
   "cell_type": "markdown",
   "id": "c57e43fa",
   "metadata": {},
   "source": [
    "## 5.2 object 선언 "
   ]
  },
  {
   "cell_type": "code",
   "execution_count": null,
   "id": "d62ca448",
   "metadata": {},
   "outputs": [],
   "source": []
  },
  {
   "cell_type": "code",
   "execution_count": null,
   "id": "81c1396e",
   "metadata": {},
   "outputs": [],
   "source": []
  },
  {
   "cell_type": "code",
   "execution_count": null,
   "id": "74af6275",
   "metadata": {},
   "outputs": [],
   "source": []
  },
  {
   "cell_type": "markdown",
   "id": "6b8ef1f6",
   "metadata": {},
   "source": [
    "## 5-3 동반 object "
   ]
  },
  {
   "cell_type": "code",
   "execution_count": null,
   "id": "e6c2ffaa",
   "metadata": {},
   "outputs": [],
   "source": []
  },
  {
   "cell_type": "code",
   "execution_count": null,
   "id": "2c6d6810",
   "metadata": {},
   "outputs": [],
   "source": []
  },
  {
   "cell_type": "code",
   "execution_count": null,
   "id": "70418fd1",
   "metadata": {},
   "outputs": [],
   "source": []
  }
 ],
 "metadata": {
  "kernelspec": {
   "display_name": "Kotlin",
   "language": "kotlin",
   "name": "kotlin"
  },
  "language_info": {
   "codemirror_mode": "text/x-kotlin",
   "file_extension": ".kt",
   "mimetype": "text/x-kotlin",
   "name": "kotlin",
   "nbconvert_exporter": "",
   "pygments_lexer": "kotlin",
   "version": "1.8.0-dev-3517"
  }
 },
 "nbformat": 4,
 "nbformat_minor": 5
}
