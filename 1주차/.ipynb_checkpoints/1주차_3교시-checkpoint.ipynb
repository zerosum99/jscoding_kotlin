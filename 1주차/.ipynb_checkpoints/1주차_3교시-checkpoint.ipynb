{
 "cells": [
  {
   "cell_type": "markdown",
   "id": "75cb962d",
   "metadata": {},
   "source": [
    "# 주요 내용\n",
    "\n",
    "\n",
    "2장 3장 ,4장, 5장 \n",
    "\n",
    "변수, 상수, 연산자 , 제어 및 순환문, 함수 정의, 매개변수 처리, 클래스, 생성자, 메서드  기본 알아보기 "
   ]
  },
  {
   "cell_type": "code",
   "execution_count": 1,
   "id": "00688751",
   "metadata": {},
   "outputs": [
    {
     "data": {
      "text/plain": [
       "1.8.0"
      ]
     },
     "execution_count": 1,
     "metadata": {},
     "output_type": "execute_result"
    }
   ],
   "source": [
    "KotlinVersion.CURRENT             // 코틀린 현재 버전 "
   ]
  },
  {
   "cell_type": "code",
   "execution_count": null,
   "id": "8413e102",
   "metadata": {},
   "outputs": [],
   "source": []
  },
  {
   "cell_type": "code",
   "execution_count": null,
   "id": "26b68a4b",
   "metadata": {},
   "outputs": [],
   "source": []
  },
  {
   "cell_type": "markdown",
   "id": "b1c95963",
   "metadata": {},
   "source": [
    "# 4. 클래스\n",
    "\n",
    "- 클래스는 특정 객체들의 속성과 연산을 포함한 새로운 자료형을 만들어준다.\n",
    "\n"
   ]
  },
  {
   "cell_type": "markdown",
   "id": "57ebda3b",
   "metadata": {},
   "source": [
    "## 4.1 클래스 정의\n",
    "\n",
    "- class 예약어 + 클래스명 + 본문\n",
    "- 본문 내부에 속성, 메서드 정의 \n"
   ]
  },
  {
   "cell_type": "code",
   "execution_count": 2,
   "id": "55f2c143",
   "metadata": {},
   "outputs": [],
   "source": [
    "class Student {                        // 클래스 가시성 : 기본은 public\n",
    "    private var name : String = \"학생\"  // 속성 가시성 : 클래스 외부에서 사용 금지\n",
    "    private var age : Int = 32\n",
    "    \n",
    "    fun queryName() = this.name        // 메소드 가시성 : 기본은 public\n",
    "    fun queryAge() = this.age\n",
    "    \n",
    "    fun set_Name(name:String) {\n",
    "        this.name = name\n",
    "    }\n",
    "    \n",
    "    fun set_Age(age:Int) {\n",
    "        this.age = age\n",
    "    }\n",
    "    \n",
    "}"
   ]
  },
  {
   "cell_type": "markdown",
   "id": "24dc3921",
   "metadata": {},
   "source": [
    "### 객체를 생성\n",
    "\n",
    "- 클래스 이름과 호출연산자를 사용해서 객체를 만듬\n"
   ]
  },
  {
   "cell_type": "code",
   "execution_count": 3,
   "id": "cec518ed",
   "metadata": {},
   "outputs": [],
   "source": [
    "val s1 = Student()"
   ]
  },
  {
   "cell_type": "markdown",
   "id": "622c9202",
   "metadata": {},
   "source": [
    "### 가시성의 private일 경우는 클래스 외부에서 속성을 사용할 수 없다 "
   ]
  },
  {
   "cell_type": "code",
   "execution_count": 4,
   "id": "32fcf885",
   "metadata": {},
   "outputs": [
    {
     "name": "stderr",
     "output_type": "stream",
     "text": [
      "Line_3.jupyter-kts (1:4 - 8) Cannot access 'name': it is private in 'Student'"
     ]
    }
   ],
   "source": [
    "s1.name"
   ]
  },
  {
   "cell_type": "code",
   "execution_count": 5,
   "id": "1201741a",
   "metadata": {},
   "outputs": [
    {
     "data": {
      "text/plain": [
       "학생"
      ]
     },
     "execution_count": 5,
     "metadata": {},
     "output_type": "execute_result"
    }
   ],
   "source": [
    "s1.queryName()"
   ]
  },
  {
   "cell_type": "code",
   "execution_count": 6,
   "id": "c17c7dd6",
   "metadata": {},
   "outputs": [
    {
     "data": {
      "text/plain": [
       "32"
      ]
     },
     "execution_count": 6,
     "metadata": {},
     "output_type": "execute_result"
    }
   ],
   "source": [
    "s1.queryAge()"
   ]
  },
  {
   "cell_type": "code",
   "execution_count": 7,
   "id": "e1f27ddb",
   "metadata": {},
   "outputs": [],
   "source": [
    "val s2 = Student()"
   ]
  },
  {
   "cell_type": "code",
   "execution_count": 8,
   "id": "3c98005f",
   "metadata": {},
   "outputs": [
    {
     "data": {
      "text/plain": [
       "학생"
      ]
     },
     "execution_count": 8,
     "metadata": {},
     "output_type": "execute_result"
    }
   ],
   "source": [
    "s2.queryName()"
   ]
  },
  {
   "cell_type": "code",
   "execution_count": 9,
   "id": "2291094e",
   "metadata": {},
   "outputs": [
    {
     "data": {
      "text/plain": [
       "32"
      ]
     },
     "execution_count": 9,
     "metadata": {},
     "output_type": "execute_result"
    }
   ],
   "source": [
    "s2.queryAge()"
   ]
  },
  {
   "cell_type": "markdown",
   "id": "ea29a7c5",
   "metadata": {},
   "source": [
    "### 객체의 속성을 갱신한 후에 조회 "
   ]
  },
  {
   "cell_type": "code",
   "execution_count": 10,
   "id": "9010746e",
   "metadata": {},
   "outputs": [],
   "source": [
    "val s3 = Student()"
   ]
  },
  {
   "cell_type": "code",
   "execution_count": 11,
   "id": "89e0eba4",
   "metadata": {},
   "outputs": [],
   "source": [
    "s3.set_Name(\"코틀린\"); s3.set_Age(10)"
   ]
  },
  {
   "cell_type": "code",
   "execution_count": 12,
   "id": "2c57224a",
   "metadata": {},
   "outputs": [
    {
     "name": "stdout",
     "output_type": "stream",
     "text": [
      "코틀린10"
     ]
    }
   ],
   "source": [
    "print(s3.queryName()) ; print(s3.queryAge());"
   ]
  },
  {
   "cell_type": "code",
   "execution_count": null,
   "id": "86e529eb",
   "metadata": {},
   "outputs": [],
   "source": []
  },
  {
   "cell_type": "markdown",
   "id": "5f94e429",
   "metadata": {},
   "source": [
    "## 4.2 생성자 정의\n",
    "\n",
    "- 객체를 생성할 때 객체의 상태를 초기화하는 생성자 정의\n",
    "- 주생성자는 클래스 이름 옆에 매개변수 목록으로 작성하고 var/val로 정의할 때는 속성으로 처리\n",
    "- 주생성자에는 코드 블럭이 없어서 별도의 init 블록을 젱고 "
   ]
  },
  {
   "cell_type": "markdown",
   "id": "a1a372d1",
   "metadata": {},
   "source": [
    "## 4-2-1 주 생성자에 매개변수 정의\n",
    "\n",
    "- 클래스 헤더부에 정의된 매개변수가 주생성자이다.\n",
    "- 객체의 생성을 init 블럭으로 처리할 수 있다."
   ]
  },
  {
   "cell_type": "code",
   "execution_count": 24,
   "id": "2fae7f6a",
   "metadata": {},
   "outputs": [],
   "source": [
    "class Student1(name : String, age : Int) {\n",
    "    var name : String = \"\"\n",
    "    var age : Int = 0\n",
    "    init {                                    // 주생서자의 기능할 코드블럭 \n",
    "         this.name = name\n",
    "         this.age  = age\n",
    "    }\n",
    "    \n",
    "    fun queryName() = this.name\n",
    "    fun queryAge() = this.age\n",
    "    \n",
    "}"
   ]
  },
  {
   "cell_type": "code",
   "execution_count": 14,
   "id": "c5b5b5bc",
   "metadata": {},
   "outputs": [],
   "source": [
    "val s11 = Student1(\"kt\",15)"
   ]
  },
  {
   "cell_type": "code",
   "execution_count": 15,
   "id": "faff7bfc",
   "metadata": {},
   "outputs": [
    {
     "data": {
      "text/plain": [
       "kt"
      ]
     },
     "execution_count": 15,
     "metadata": {},
     "output_type": "execute_result"
    }
   ],
   "source": [
    "s11.queryName()"
   ]
  },
  {
   "cell_type": "code",
   "execution_count": 16,
   "id": "65995d70",
   "metadata": {},
   "outputs": [
    {
     "data": {
      "text/plain": [
       "15"
      ]
     },
     "execution_count": 16,
     "metadata": {},
     "output_type": "execute_result"
    }
   ],
   "source": [
    "s11.queryAge()"
   ]
  },
  {
   "cell_type": "markdown",
   "id": "057bf063",
   "metadata": {},
   "source": [
    "## 4-2-2 주생성자 정의해서 사용 \n",
    "\n",
    "- 클래스를 주생성자 지정해서 처리할 수 있다.\n"
   ]
  },
  {
   "cell_type": "code",
   "execution_count": 26,
   "id": "4813fe7f",
   "metadata": {},
   "outputs": [],
   "source": [
    "class User(val name : String, var age : Int)"
   ]
  },
  {
   "cell_type": "code",
   "execution_count": 27,
   "id": "fd7b7eb8",
   "metadata": {},
   "outputs": [],
   "source": [
    "val u = User(\"박석\", 50)"
   ]
  },
  {
   "cell_type": "code",
   "execution_count": 30,
   "id": "e5bba956",
   "metadata": {},
   "outputs": [
    {
     "data": {
      "text/plain": [
       "박석"
      ]
     },
     "execution_count": 30,
     "metadata": {},
     "output_type": "execute_result"
    }
   ],
   "source": [
    "u.name"
   ]
  },
  {
   "cell_type": "code",
   "execution_count": 31,
   "id": "0e4daeb4",
   "metadata": {},
   "outputs": [
    {
     "data": {
      "text/plain": [
       "50"
      ]
     },
     "execution_count": 31,
     "metadata": {},
     "output_type": "execute_result"
    }
   ],
   "source": [
    "u.age"
   ]
  },
  {
   "cell_type": "code",
   "execution_count": null,
   "id": "11e2796a",
   "metadata": {},
   "outputs": [],
   "source": []
  },
  {
   "cell_type": "markdown",
   "id": "33ff433e",
   "metadata": {},
   "source": [
    "## 4-2-3 주생성자와 보조생성자 처리\n",
    "\n",
    "- 주생성자와 보조생성자를 같이 사용할 경우는 생성자를 위임호출이 필요"
   ]
  },
  {
   "cell_type": "markdown",
   "id": "7ef3b686",
   "metadata": {},
   "source": [
    "## 주생성자에는 매개변수가 없고 클래스 내부 보조생성자에 매개변수 처리\n",
    "\n",
    "- 보조생성자는 본문에 constructor 이름을 사용해서 정의한다.\n",
    "- 매개변수에 따라 생성자를 매칭해서 객체를 생성한다. \n"
   ]
  },
  {
   "cell_type": "code",
   "execution_count": 25,
   "id": "81563784",
   "metadata": {},
   "outputs": [],
   "source": [
    "class Student2() {\n",
    "    var name : String = \"\"\n",
    "    var age : Int = 0\n",
    "    \n",
    "    constructor(name : String, age : Int): this() {   // 보조생성자는 주생성자를 위임 호출이 필요\n",
    "         this.name = name\n",
    "         this.age  = age\n",
    "    }\n",
    "    \n",
    "    fun queryName() = this.name\n",
    "    fun queryAge() = this.age\n",
    "    \n",
    "}"
   ]
  },
  {
   "cell_type": "code",
   "execution_count": 18,
   "id": "61a9b595",
   "metadata": {},
   "outputs": [],
   "source": [
    "val s21 = Student1(\"skt\",15)"
   ]
  },
  {
   "cell_type": "code",
   "execution_count": 19,
   "id": "ba9065c9",
   "metadata": {},
   "outputs": [
    {
     "data": {
      "text/plain": [
       "skt"
      ]
     },
     "execution_count": 19,
     "metadata": {},
     "output_type": "execute_result"
    }
   ],
   "source": [
    "s21.queryName()"
   ]
  },
  {
   "cell_type": "code",
   "execution_count": 20,
   "id": "8763b15c",
   "metadata": {},
   "outputs": [
    {
     "data": {
      "text/plain": [
       "15"
      ]
     },
     "execution_count": 20,
     "metadata": {},
     "output_type": "execute_result"
    }
   ],
   "source": [
    "s11.queryAge()"
   ]
  },
  {
   "cell_type": "markdown",
   "id": "863a3102",
   "metadata": {},
   "source": [
    "## 보조생성자로만 객체 생성하기"
   ]
  },
  {
   "cell_type": "code",
   "execution_count": 71,
   "id": "202743bb",
   "metadata": {},
   "outputs": [],
   "source": [
    "class Second {\n",
    "    var name : String =\"\"\n",
    "    var age : Int = 0\n",
    "    constructor(name : String) {\n",
    "        this.name = name\n",
    "    }\n",
    "    \n",
    "    constructor(name : String, age : Int) :this(name) {\n",
    "        this.age =age\n",
    "    }\n",
    "}"
   ]
  },
  {
   "cell_type": "code",
   "execution_count": 72,
   "id": "af8c93de",
   "metadata": {},
   "outputs": [],
   "source": [
    "val ss = Second(\"이름\")"
   ]
  },
  {
   "cell_type": "code",
   "execution_count": 73,
   "id": "ebcbc865",
   "metadata": {},
   "outputs": [
    {
     "data": {
      "text/plain": [
       "이름"
      ]
     },
     "execution_count": 73,
     "metadata": {},
     "output_type": "execute_result"
    }
   ],
   "source": [
    "ss.name"
   ]
  },
  {
   "cell_type": "code",
   "execution_count": null,
   "id": "f04d1ae8",
   "metadata": {},
   "outputs": [],
   "source": []
  },
  {
   "cell_type": "code",
   "execution_count": 74,
   "id": "a40efe53",
   "metadata": {},
   "outputs": [],
   "source": [
    "val ss1 = Second(\"겨울\", 33)"
   ]
  },
  {
   "cell_type": "code",
   "execution_count": 75,
   "id": "735fe276",
   "metadata": {},
   "outputs": [
    {
     "data": {
      "text/plain": [
       "겨울"
      ]
     },
     "execution_count": 75,
     "metadata": {},
     "output_type": "execute_result"
    }
   ],
   "source": [
    "ss1.name"
   ]
  },
  {
   "cell_type": "code",
   "execution_count": 76,
   "id": "79401b08",
   "metadata": {},
   "outputs": [
    {
     "data": {
      "text/plain": [
       "33"
      ]
     },
     "execution_count": 76,
     "metadata": {},
     "output_type": "execute_result"
    }
   ],
   "source": [
    "ss1.age"
   ]
  },
  {
   "cell_type": "code",
   "execution_count": null,
   "id": "f9f25766",
   "metadata": {},
   "outputs": [],
   "source": []
  },
  {
   "cell_type": "code",
   "execution_count": null,
   "id": "f2969a4f",
   "metadata": {},
   "outputs": [],
   "source": []
  },
  {
   "cell_type": "markdown",
   "id": "5bdba3c1",
   "metadata": {},
   "source": [
    "## 4-2-4 생성자에 초기값과 가변인자 적용하기"
   ]
  },
  {
   "cell_type": "code",
   "execution_count": 37,
   "id": "23e9201b",
   "metadata": {},
   "outputs": [],
   "source": [
    "class People(val name : String = \"사람\", var age : Int = 0 ) "
   ]
  },
  {
   "cell_type": "code",
   "execution_count": 38,
   "id": "841eb162",
   "metadata": {},
   "outputs": [],
   "source": [
    "val p = People()"
   ]
  },
  {
   "cell_type": "code",
   "execution_count": 39,
   "id": "c162032f",
   "metadata": {},
   "outputs": [
    {
     "data": {
      "text/plain": [
       "사람"
      ]
     },
     "execution_count": 39,
     "metadata": {},
     "output_type": "execute_result"
    }
   ],
   "source": [
    "p.name"
   ]
  },
  {
   "cell_type": "code",
   "execution_count": 40,
   "id": "1d34b603",
   "metadata": {},
   "outputs": [
    {
     "data": {
      "text/plain": [
       "0"
      ]
     },
     "execution_count": 40,
     "metadata": {},
     "output_type": "execute_result"
    }
   ],
   "source": [
    "p.age"
   ]
  },
  {
   "cell_type": "markdown",
   "id": "d4331ba1",
   "metadata": {},
   "source": [
    "## 생성자 매개변수를 가변인자로 처리"
   ]
  },
  {
   "cell_type": "code",
   "execution_count": 33,
   "id": "41bde9ea",
   "metadata": {},
   "outputs": [],
   "source": [
    "class Cal(vararg v : Int) {\n",
    "    var x : Int = 0\n",
    "    var y : Int = 0\n",
    "    \n",
    "    init {\n",
    "        x = v[0]\n",
    "        y = v[1]\n",
    "    }\n",
    "    \n",
    "    fun add() = x+y\n",
    "    fun mul() = x*y\n",
    "}"
   ]
  },
  {
   "cell_type": "code",
   "execution_count": 34,
   "id": "38ecdcb0",
   "metadata": {},
   "outputs": [],
   "source": [
    "val c = Cal(1,2)"
   ]
  },
  {
   "cell_type": "code",
   "execution_count": 35,
   "id": "a3311f4a",
   "metadata": {},
   "outputs": [
    {
     "data": {
      "text/plain": [
       "3"
      ]
     },
     "execution_count": 35,
     "metadata": {},
     "output_type": "execute_result"
    }
   ],
   "source": [
    "c.add()"
   ]
  },
  {
   "cell_type": "code",
   "execution_count": 36,
   "id": "854b5e92",
   "metadata": {},
   "outputs": [
    {
     "data": {
      "text/plain": [
       "2"
      ]
     },
     "execution_count": 36,
     "metadata": {},
     "output_type": "execute_result"
    }
   ],
   "source": [
    "c.mul()"
   ]
  },
  {
   "cell_type": "code",
   "execution_count": null,
   "id": "ea23bbc0",
   "metadata": {},
   "outputs": [],
   "source": []
  },
  {
   "cell_type": "markdown",
   "id": "57a8161e",
   "metadata": {},
   "source": [
    "## 속성을 가변인자로 처리 "
   ]
  },
  {
   "cell_type": "code",
   "execution_count": 56,
   "id": "d6bafad9",
   "metadata": {},
   "outputs": [],
   "source": [
    "class Student3(val name:String)"
   ]
  },
  {
   "cell_type": "code",
   "execution_count": 61,
   "id": "40bc83b9",
   "metadata": {},
   "outputs": [],
   "source": [
    "class Klass(vararg val room : Student3) {\n",
    "    fun showKlass() {\n",
    "        for (s in room) println(s.name)\n",
    "    }\n",
    "}"
   ]
  },
  {
   "cell_type": "code",
   "execution_count": 62,
   "id": "bba76852",
   "metadata": {},
   "outputs": [],
   "source": [
    "val k = Klass(Student3(\"심온\"), Student3(\"가온\"),Student3(\"강온\"),Student3(\"우온\"))"
   ]
  },
  {
   "cell_type": "code",
   "execution_count": 64,
   "id": "cccb7a71",
   "metadata": {},
   "outputs": [
    {
     "name": "stdout",
     "output_type": "stream",
     "text": [
      "심온\n",
      "가온\n",
      "강온\n",
      "우온\n"
     ]
    }
   ],
   "source": [
    "k.showKlass()"
   ]
  },
  {
   "cell_type": "code",
   "execution_count": null,
   "id": "929f03f4",
   "metadata": {},
   "outputs": [],
   "source": []
  },
  {
   "cell_type": "code",
   "execution_count": null,
   "id": "ff3bdf63",
   "metadata": {},
   "outputs": [],
   "source": []
  },
  {
   "cell_type": "markdown",
   "id": "e44733e5",
   "metadata": {},
   "source": [
    "## 4.3 연산자 재정의\n",
    "\n",
    "- 연산자를 메서드로 재정의해서 사용이 가능하다\n",
    "- 클래스를 정의할 때 기존 연산자에 해당하는 메서드를 정의해서 연산자를 사용한다.\n",
    "- 연산자 재정의 일때는 operator 변경자를 함수 앞에 지정한다."
   ]
  },
  {
   "cell_type": "code",
   "execution_count": null,
   "id": "6fe887cc",
   "metadata": {},
   "outputs": [],
   "source": []
  },
  {
   "cell_type": "code",
   "execution_count": 50,
   "id": "a55b2ba8",
   "metadata": {},
   "outputs": [],
   "source": [
    "class OPoverload(val x : Int ) {\n",
    "    operator fun plus(y:Int): Int {\n",
    "        return x + y\n",
    "    }\n",
    "}"
   ]
  },
  {
   "cell_type": "code",
   "execution_count": 51,
   "id": "bc15c61a",
   "metadata": {},
   "outputs": [],
   "source": [
    "val op = OPoverload(100)"
   ]
  },
  {
   "cell_type": "code",
   "execution_count": 52,
   "id": "1682b111",
   "metadata": {},
   "outputs": [
    {
     "data": {
      "text/plain": [
       "300"
      ]
     },
     "execution_count": 52,
     "metadata": {},
     "output_type": "execute_result"
    }
   ],
   "source": [
    "op + 200"
   ]
  },
  {
   "cell_type": "code",
   "execution_count": null,
   "id": "731f4ba9",
   "metadata": {},
   "outputs": [],
   "source": []
  },
  {
   "cell_type": "markdown",
   "id": "37bcc989",
   "metadata": {},
   "source": [
    "## 4.4 메서드 재정의  : overloading\n",
    "\n",
    "- 함수 오버로딩처럼 클래스 내부에도 동일한 메서드를 시그니처에 딸라서 재정의가 가능하다.\n"
   ]
  },
  {
   "cell_type": "code",
   "execution_count": 41,
   "id": "56d79e62",
   "metadata": {},
   "outputs": [],
   "source": [
    "fun add(x :Int, y:Int) : Int = x + y\n",
    "fun add(x :Double, y:Double) = x+y"
   ]
  },
  {
   "cell_type": "code",
   "execution_count": 42,
   "id": "4b5e9dc8",
   "metadata": {},
   "outputs": [],
   "source": [
    "val f : (Int,Int) -> Int = ::add"
   ]
  },
  {
   "cell_type": "code",
   "execution_count": 44,
   "id": "ba825c9d",
   "metadata": {},
   "outputs": [
    {
     "data": {
      "text/plain": [
       "300"
      ]
     },
     "execution_count": 44,
     "metadata": {},
     "output_type": "execute_result"
    }
   ],
   "source": [
    "f(100,200)"
   ]
  },
  {
   "cell_type": "code",
   "execution_count": 43,
   "id": "58c53d1c",
   "metadata": {},
   "outputs": [],
   "source": [
    "val f1 : (Double,Double) -> Double = ::add"
   ]
  },
  {
   "cell_type": "code",
   "execution_count": 45,
   "id": "8d3a053d",
   "metadata": {},
   "outputs": [
    {
     "data": {
      "text/plain": [
       "300.88"
      ]
     },
     "execution_count": 45,
     "metadata": {},
     "output_type": "execute_result"
    }
   ],
   "source": [
    "f1(200.33, 100.55)"
   ]
  },
  {
   "cell_type": "code",
   "execution_count": null,
   "id": "c8428147",
   "metadata": {},
   "outputs": [],
   "source": []
  },
  {
   "cell_type": "code",
   "execution_count": null,
   "id": "58d82eda",
   "metadata": {},
   "outputs": [],
   "source": []
  },
  {
   "cell_type": "code",
   "execution_count": null,
   "id": "66f73fce",
   "metadata": {},
   "outputs": [],
   "source": []
  },
  {
   "cell_type": "code",
   "execution_count": null,
   "id": "e0572356",
   "metadata": {},
   "outputs": [],
   "source": []
  },
  {
   "cell_type": "markdown",
   "id": "ffded2e8",
   "metadata": {},
   "source": [
    "## 4-5 가시성 알아보기\n",
    "\n",
    "- public(공개)        : 어디서나 사용가능 \n",
    "- internal(모듈 내부)  : 컴파일 모듈 내부에서만 사용 \n",
    "- protected(보호)     : 상속관계에서만 사용 \n",
    "- private(비공개)      : 자기 자신의 클래스에 해당한 것만 사용 "
   ]
  },
  {
   "cell_type": "markdown",
   "id": "c98a3b0f",
   "metadata": {},
   "source": [
    "## 4-5-1 주생성자 내의 비공개 속성 정의\n",
    "\n",
    "- 객체를 생성할 때는 인자로 전달을 받고 처리 가능하다"
   ]
  },
  {
   "cell_type": "code",
   "execution_count": 80,
   "id": "adf2f609",
   "metadata": {},
   "outputs": [],
   "source": [
    "class Private(private val name: String) {\n",
    "    fun name() = name\n",
    "}"
   ]
  },
  {
   "cell_type": "code",
   "execution_count": 81,
   "id": "97a2a608",
   "metadata": {},
   "outputs": [],
   "source": [
    "val pp = Private(\"가가\")"
   ]
  },
  {
   "cell_type": "code",
   "execution_count": 82,
   "id": "aac1358e",
   "metadata": {},
   "outputs": [
    {
     "data": {
      "text/plain": [
       "가가"
      ]
     },
     "execution_count": 82,
     "metadata": {},
     "output_type": "execute_result"
    }
   ],
   "source": [
    "pp.name()"
   ]
  },
  {
   "cell_type": "code",
   "execution_count": null,
   "id": "03bb53ee",
   "metadata": {},
   "outputs": [],
   "source": []
  },
  {
   "cell_type": "markdown",
   "id": "84b854fd",
   "metadata": {},
   "source": [
    "## 4-5-2 주생성자를 비공개 처리"
   ]
  },
  {
   "cell_type": "markdown",
   "id": "d75ebef0",
   "metadata": {},
   "source": [
    "### 주생성자를 비공개하면 주생성자 객체를 생성할 수 없다"
   ]
  },
  {
   "cell_type": "code",
   "execution_count": 83,
   "id": "ceb1bd29",
   "metadata": {},
   "outputs": [],
   "source": [
    "class PrivateC private constructor(val name: String) {\n",
    "    fun name() = name\n",
    "    \n",
    "    \n",
    "}"
   ]
  },
  {
   "cell_type": "code",
   "execution_count": 84,
   "id": "0690e011",
   "metadata": {},
   "outputs": [
    {
     "name": "stderr",
     "output_type": "stream",
     "text": [
      "Line_4295.jupyter-kts (1:10 - 18) Cannot access '<init>': it is private in 'PrivateC'"
     ]
    }
   ],
   "source": [
    "val pc = PrivateC(\"구구\")"
   ]
  },
  {
   "cell_type": "markdown",
   "id": "c7c0911b",
   "metadata": {},
   "source": [
    "### 동반객체를 정의해서 내부적으로 객체를 생성해서 반환처리\n",
    "\n",
    "- 동반객체 내에서 팩토리 메서드로 외부 클래스의 객체를 생성"
   ]
  },
  {
   "cell_type": "code",
   "execution_count": 86,
   "id": "db72a4c3",
   "metadata": {},
   "outputs": [],
   "source": [
    "class PrivateCO private constructor(val name: String) {\n",
    "    fun name() = name\n",
    "    \n",
    "    companion object {\n",
    "        fun create(name:String):PrivateCO {\n",
    "            return PrivateCO(name)\n",
    "        }\n",
    "    }\n",
    "    \n",
    "    \n",
    "}"
   ]
  },
  {
   "cell_type": "code",
   "execution_count": 88,
   "id": "ff185bf6",
   "metadata": {},
   "outputs": [],
   "source": [
    "val pco = PrivateCO.create(\"고고\")"
   ]
  },
  {
   "cell_type": "code",
   "execution_count": 89,
   "id": "1d765ec1",
   "metadata": {},
   "outputs": [
    {
     "data": {
      "text/plain": [
       "class Line_4435$PrivateCO"
      ]
     },
     "execution_count": 89,
     "metadata": {},
     "output_type": "execute_result"
    }
   ],
   "source": [
    "pco.javaClass"
   ]
  },
  {
   "cell_type": "code",
   "execution_count": 90,
   "id": "cc97818a",
   "metadata": {},
   "outputs": [
    {
     "data": {
      "text/plain": [
       "고고"
      ]
     },
     "execution_count": 90,
     "metadata": {},
     "output_type": "execute_result"
    }
   ],
   "source": [
    "pco.name()"
   ]
  },
  {
   "cell_type": "code",
   "execution_count": null,
   "id": "4b0e6832",
   "metadata": {},
   "outputs": [],
   "source": []
  }
 ],
 "metadata": {
  "kernelspec": {
   "display_name": "Kotlin",
   "language": "kotlin",
   "name": "kotlin"
  },
  "language_info": {
   "codemirror_mode": "text/x-kotlin",
   "file_extension": ".kt",
   "mimetype": "text/x-kotlin",
   "name": "kotlin",
   "nbconvert_exporter": "",
   "pygments_lexer": "kotlin",
   "version": "1.8.0-dev-3517"
  }
 },
 "nbformat": 4,
 "nbformat_minor": 5
}
