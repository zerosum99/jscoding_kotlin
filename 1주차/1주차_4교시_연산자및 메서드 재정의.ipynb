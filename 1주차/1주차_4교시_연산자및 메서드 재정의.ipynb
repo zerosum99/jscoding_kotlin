{
 "cells": [
  {
   "cell_type": "markdown",
   "id": "75cb962d",
   "metadata": {},
   "source": [
    "# 주요 내용\n",
    "\n",
    "\n",
    "2장 3장 ,4장, 5장 \n",
    "\n",
    "변수, 상수, 연산자 , 제어 및 순환문, 함수 정의, 매개변수 처리, 클래스, 생성자, 메서드  기본 알아보기 "
   ]
  },
  {
   "cell_type": "code",
   "execution_count": 1,
   "id": "00688751",
   "metadata": {},
   "outputs": [
    {
     "data": {
      "text/plain": [
       "1.8.0"
      ]
     },
     "execution_count": 1,
     "metadata": {},
     "output_type": "execute_result"
    }
   ],
   "source": [
    "KotlinVersion.CURRENT             // 코틀린 현재 버전 "
   ]
  },
  {
   "cell_type": "code",
   "execution_count": null,
   "id": "8413e102",
   "metadata": {},
   "outputs": [],
   "source": []
  },
  {
   "cell_type": "markdown",
   "id": "f2c6ba9f",
   "metadata": {},
   "source": [
    "# 4. 연산자 재정의 "
   ]
  },
  {
   "cell_type": "code",
   "execution_count": null,
   "id": "f8c3db86",
   "metadata": {},
   "outputs": [],
   "source": []
  },
  {
   "cell_type": "markdown",
   "id": "ffd0b06a",
   "metadata": {},
   "source": [
    "## 4.1 연산자 재정의\n",
    "\n",
    "- 연산자를 메서드로 재정의해서 사용이 가능하다\n",
    "- 클래스를 정의할 때 기존 연산자에 해당하는 메서드를 정의해서 연산자를 사용한다.\n",
    "- 연산자 재정의 일때는 operator 변경자를 함수 앞에 지정한다."
   ]
  },
  {
   "cell_type": "markdown",
   "id": "cc9cbcc0",
   "metadata": {},
   "source": [
    "## 4-1-1 덧셈 연산자 정의 "
   ]
  },
  {
   "cell_type": "code",
   "execution_count": 2,
   "id": "1d6fa04f",
   "metadata": {},
   "outputs": [],
   "source": [
    "class OPoverload(val x : Int ) {\n",
    "    operator fun plus(y:Int): Int {\n",
    "        return x + y\n",
    "    }\n",
    "}"
   ]
  },
  {
   "cell_type": "code",
   "execution_count": 3,
   "id": "42cf7f02",
   "metadata": {},
   "outputs": [],
   "source": [
    "val op = OPoverload(100)"
   ]
  },
  {
   "cell_type": "code",
   "execution_count": 4,
   "id": "81dc072b",
   "metadata": {},
   "outputs": [
    {
     "data": {
      "text/plain": [
       "300"
      ]
     },
     "execution_count": 4,
     "metadata": {},
     "output_type": "execute_result"
    }
   ],
   "source": [
    "op + 200"
   ]
  },
  {
   "cell_type": "code",
   "execution_count": null,
   "id": "e15317d6",
   "metadata": {},
   "outputs": [],
   "source": []
  },
  {
   "cell_type": "markdown",
   "id": "6ffb85ad",
   "metadata": {},
   "source": [
    "## 4-1-2 인픽스 처리하기 "
   ]
  },
  {
   "cell_type": "code",
   "execution_count": 5,
   "id": "15d793dc",
   "metadata": {},
   "outputs": [],
   "source": [
    "class OPoverload1(val x : Int ) {\n",
    "    infix operator fun plus(y:Int): Int {\n",
    "        return x + y\n",
    "    }\n",
    "}"
   ]
  },
  {
   "cell_type": "code",
   "execution_count": 6,
   "id": "e16a025f",
   "metadata": {},
   "outputs": [],
   "source": [
    "val op1 = OPoverload1(100)"
   ]
  },
  {
   "cell_type": "code",
   "execution_count": 7,
   "id": "cbd83cbb",
   "metadata": {},
   "outputs": [
    {
     "data": {
      "text/plain": [
       "400"
      ]
     },
     "execution_count": 7,
     "metadata": {},
     "output_type": "execute_result"
    }
   ],
   "source": [
    "op1 plus 300"
   ]
  },
  {
   "cell_type": "code",
   "execution_count": 8,
   "id": "f71ed961",
   "metadata": {},
   "outputs": [
    {
     "data": {
      "text/plain": [
       "400"
      ]
     },
     "execution_count": 8,
     "metadata": {},
     "output_type": "execute_result"
    }
   ],
   "source": [
    "op1 + 300"
   ]
  },
  {
   "cell_type": "code",
   "execution_count": null,
   "id": "ab1d5fac",
   "metadata": {},
   "outputs": [],
   "source": []
  },
  {
   "cell_type": "markdown",
   "id": "37bcc989",
   "metadata": {},
   "source": [
    "## 4.2 메서드 재정의  : overloading\n",
    "\n",
    "- 함수 오버로딩처럼 클래스 내부에도 동일한 메서드를 시그니처에 딸라서 재정의가 가능하다.\n"
   ]
  },
  {
   "cell_type": "markdown",
   "id": "57a9ab65",
   "metadata": {},
   "source": [
    "## 4-2-1 함수 재정의 "
   ]
  },
  {
   "cell_type": "code",
   "execution_count": 9,
   "id": "6b9884c0",
   "metadata": {},
   "outputs": [],
   "source": [
    "fun add(x :Int, y:Int) : Int = x + y\n",
    "fun add(x :Double, y:Double) = x+y"
   ]
  },
  {
   "cell_type": "code",
   "execution_count": 10,
   "id": "4b5e9dc8",
   "metadata": {},
   "outputs": [],
   "source": [
    "val f : (Int,Int) -> Int = ::add"
   ]
  },
  {
   "cell_type": "code",
   "execution_count": 11,
   "id": "29adbef6",
   "metadata": {},
   "outputs": [
    {
     "data": {
      "text/plain": [
       "300"
      ]
     },
     "execution_count": 11,
     "metadata": {},
     "output_type": "execute_result"
    }
   ],
   "source": [
    "f(100,200)"
   ]
  },
  {
   "cell_type": "code",
   "execution_count": 12,
   "id": "58c53d1c",
   "metadata": {},
   "outputs": [],
   "source": [
    "val f1 : (Double,Double) -> Double = ::add"
   ]
  },
  {
   "cell_type": "code",
   "execution_count": 13,
   "id": "a9c3223c",
   "metadata": {},
   "outputs": [
    {
     "data": {
      "text/plain": [
       "300.88"
      ]
     },
     "execution_count": 13,
     "metadata": {},
     "output_type": "execute_result"
    }
   ],
   "source": [
    "f1(200.33, 100.55)"
   ]
  },
  {
   "cell_type": "code",
   "execution_count": null,
   "id": "add5ed1e",
   "metadata": {},
   "outputs": [],
   "source": []
  },
  {
   "cell_type": "markdown",
   "id": "09c6ca6a",
   "metadata": {},
   "source": [
    "## 4-2-2  메소드 재정의 : overloading\n",
    "\n",
    "- 동일한 클래스에 함수 시그너처가 다른 여러 함수가 있도록 정의"
   ]
  },
  {
   "cell_type": "code",
   "execution_count": 28,
   "id": "882fa741",
   "metadata": {},
   "outputs": [],
   "source": [
    "class Arth {\n",
    "    fun add(x :Int, y:Int) : Int = x + y\n",
    "    fun add(x :Double, y:Double) = x+y\n",
    "}"
   ]
  },
  {
   "cell_type": "code",
   "execution_count": 31,
   "id": "d55632da",
   "metadata": {},
   "outputs": [
    {
     "name": "stdout",
     "output_type": "stream",
     "text": [
      "300\n",
      "300.33\n"
     ]
    }
   ],
   "source": [
    "val arth = Arth()\n",
    "\n",
    "println(arth.add(100,200))\n",
    "println(arth.add(100.11,200.22))"
   ]
  },
  {
   "cell_type": "code",
   "execution_count": null,
   "id": "b785bda3",
   "metadata": {},
   "outputs": [],
   "source": []
  },
  {
   "cell_type": "code",
   "execution_count": null,
   "id": "e0572356",
   "metadata": {},
   "outputs": [],
   "source": []
  },
  {
   "cell_type": "markdown",
   "id": "5fb1ab0f",
   "metadata": {},
   "source": [
    "## 4-3 가시성 알아보기\n",
    "\n",
    "- public(공개)        : 어디서나 사용가능 \n",
    "- internal(모듈 내부)  : 컴파일 모듈 내부에서만 사용 \n",
    "- protected(보호)     : 상속관계에서만 사용 \n",
    "- private(비공개)      : 자기 자신의 클래스에 해당한 것만 사용 "
   ]
  },
  {
   "cell_type": "markdown",
   "id": "03941975",
   "metadata": {},
   "source": [
    "## 4-3-1 주생성자 내의 비공개 속성 정의\n",
    "\n",
    "- 객체를 생성할 때는 인자로 전달을 받고 처리 가능하다"
   ]
  },
  {
   "cell_type": "code",
   "execution_count": 14,
   "id": "21f265f9",
   "metadata": {},
   "outputs": [],
   "source": [
    "class Private(private val name: String) {\n",
    "    fun name() = name\n",
    "}"
   ]
  },
  {
   "cell_type": "code",
   "execution_count": 15,
   "id": "ff3e1ca2",
   "metadata": {},
   "outputs": [],
   "source": [
    "val pp = Private(\"가가\")"
   ]
  },
  {
   "cell_type": "code",
   "execution_count": 16,
   "id": "3bbbf67f",
   "metadata": {},
   "outputs": [
    {
     "data": {
      "text/plain": [
       "가가"
      ]
     },
     "execution_count": 16,
     "metadata": {},
     "output_type": "execute_result"
    }
   ],
   "source": [
    "pp.name()"
   ]
  },
  {
   "cell_type": "code",
   "execution_count": null,
   "id": "d8964694",
   "metadata": {},
   "outputs": [],
   "source": []
  },
  {
   "cell_type": "markdown",
   "id": "ce4344b2",
   "metadata": {},
   "source": [
    "## 4-3-2 주생성자를 비공개 처리"
   ]
  },
  {
   "cell_type": "markdown",
   "id": "f1994a45",
   "metadata": {},
   "source": [
    "### 주생성자를 비공개하면 주생성자 객체를 생성할 수 없다"
   ]
  },
  {
   "cell_type": "code",
   "execution_count": 17,
   "id": "134072d8",
   "metadata": {},
   "outputs": [],
   "source": [
    "class PrivateC private constructor(val name: String) {\n",
    "    fun name() = name\n",
    "    \n",
    "    \n",
    "}"
   ]
  },
  {
   "cell_type": "code",
   "execution_count": 18,
   "id": "75c49125",
   "metadata": {},
   "outputs": [
    {
     "name": "stderr",
     "output_type": "stream",
     "text": [
      "Line_17.jupyter-kts (1:10 - 18) Cannot access '<init>': it is private in 'PrivateC'"
     ]
    }
   ],
   "source": [
    "val pc = PrivateC(\"구구\")"
   ]
  },
  {
   "cell_type": "markdown",
   "id": "9aab5090",
   "metadata": {},
   "source": [
    "### 동반객체를 정의해서 내부적으로 객체를 생성해서 반환처리\n",
    "\n",
    "- 동반객체 내에서 팩토리 메서드로 외부 클래스의 객체를 생성"
   ]
  },
  {
   "cell_type": "code",
   "execution_count": 19,
   "id": "3d96fc27",
   "metadata": {},
   "outputs": [],
   "source": [
    "class PrivateCO private constructor(val name: String) {\n",
    "    fun name() = name\n",
    "    \n",
    "    companion object {\n",
    "        fun create(name:String):PrivateCO {\n",
    "            return PrivateCO(name)\n",
    "        }\n",
    "    }\n",
    "    \n",
    "    \n",
    "}"
   ]
  },
  {
   "cell_type": "code",
   "execution_count": 20,
   "id": "ca4ff34f",
   "metadata": {},
   "outputs": [],
   "source": [
    "val pco = PrivateCO.create(\"고고\")"
   ]
  },
  {
   "cell_type": "code",
   "execution_count": 21,
   "id": "fdd52513",
   "metadata": {},
   "outputs": [
    {
     "data": {
      "text/plain": [
       "class Line_18$PrivateCO"
      ]
     },
     "execution_count": 21,
     "metadata": {},
     "output_type": "execute_result"
    }
   ],
   "source": [
    "pco.javaClass"
   ]
  },
  {
   "cell_type": "code",
   "execution_count": 22,
   "id": "5b1f5098",
   "metadata": {},
   "outputs": [
    {
     "data": {
      "text/plain": [
       "고고"
      ]
     },
     "execution_count": 22,
     "metadata": {},
     "output_type": "execute_result"
    }
   ],
   "source": [
    "pco.name()"
   ]
  },
  {
   "cell_type": "markdown",
   "id": "fd55b31f",
   "metadata": {},
   "source": [
    "## 4-3-3 가시성 처리 "
   ]
  },
  {
   "cell_type": "markdown",
   "id": "9a2e65df",
   "metadata": {},
   "source": [
    "### 슈퍼 클래스 정의 "
   ]
  },
  {
   "cell_type": "code",
   "execution_count": 23,
   "id": "038ca727",
   "metadata": {},
   "outputs": [],
   "source": [
    "open class Super {\n",
    "    private val a = 1           // 비공개 가시성속성 \n",
    "    protected open val b = 2    // 상속 가시성 속성 \n",
    "    internal open val c = 3     // 모듈 가시성 속성 \n",
    "    val d = 4                   // 공개 가시성 속성\n",
    "\n",
    "    protected class Nested {    // 상속 내부 클래스 \n",
    "        public val e: Int = 5\n",
    "    }\n",
    "}"
   ]
  },
  {
   "cell_type": "markdown",
   "id": "824e80ce",
   "metadata": {},
   "source": [
    "### 서브 클래스 정의 "
   ]
  },
  {
   "cell_type": "code",
   "execution_count": 24,
   "id": "344ea056",
   "metadata": {},
   "outputs": [],
   "source": [
    "open class Subclass : Super() {\n",
    "                                  // 비공개 속성 a는 사용할 수 없다.\n",
    "    override val b = 5            // 상속 속성 b 사용\n",
    "    final override val c = 7            // 모듈 속성 c \n",
    "}"
   ]
  },
  {
   "cell_type": "markdown",
   "id": "3a870074",
   "metadata": {},
   "source": [
    "### 최하위 클래스 정의 "
   ]
  },
  {
   "cell_type": "code",
   "execution_count": 25,
   "id": "73c5265a",
   "metadata": {},
   "outputs": [],
   "source": [
    "class SubSubclass : Subclass () {\n",
    "                                  \n",
    "    override val b = 500            // 상속 속성 b 사용 , 보호속성이라서 외부에서 접근하려면 \n",
    "    //override val c = 777            // final 처리되어 상속을 할 수 없음 \n",
    "    fun query() = b                 // 메서드로 처리해서 결과를 출력 \n",
    "}"
   ]
  },
  {
   "cell_type": "markdown",
   "id": "cb0c9658",
   "metadata": {},
   "source": [
    "### 사용 클래스 정의 "
   ]
  },
  {
   "cell_type": "code",
   "execution_count": 26,
   "id": "a3e3c11c",
   "metadata": {},
   "outputs": [],
   "source": [
    "class Composition(val o: Super) {\n",
    "                                  \n",
    "     fun display() { \n",
    "         println(o.c)             // 모듈 가시성 사용가능\n",
    "         println(o.d)             // 공개 속성 사용가능 \n",
    "     }                           \n",
    "                                  \n",
    "}\n"
   ]
  },
  {
   "cell_type": "code",
   "execution_count": 27,
   "id": "11b1837a",
   "metadata": {},
   "outputs": [
    {
     "name": "stdout",
     "output_type": "stream",
     "text": [
      "7\n",
      "4\n",
      "500\n"
     ]
    }
   ],
   "source": [
    "val s = Subclass()\n",
    "val u = Composition(s)\n",
    "u.display()\n",
    "\n",
    "val ss = SubSubclass()\n",
    "println(ss.query())"
   ]
  },
  {
   "cell_type": "code",
   "execution_count": null,
   "id": "2d71ed78",
   "metadata": {},
   "outputs": [],
   "source": []
  }
 ],
 "metadata": {
  "kernelspec": {
   "display_name": "Kotlin",
   "language": "kotlin",
   "name": "kotlin"
  },
  "language_info": {
   "codemirror_mode": "text/x-kotlin",
   "file_extension": ".kt",
   "mimetype": "text/x-kotlin",
   "name": "kotlin",
   "nbconvert_exporter": "",
   "pygments_lexer": "kotlin",
   "version": "1.8.0-dev-3517"
  }
 },
 "nbformat": 4,
 "nbformat_minor": 5
}
