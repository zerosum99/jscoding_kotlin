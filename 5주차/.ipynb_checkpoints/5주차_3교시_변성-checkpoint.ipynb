{
 "cells": [
  {
   "cell_type": "code",
   "execution_count": null,
   "id": "4604504b",
   "metadata": {},
   "outputs": [],
   "source": []
  },
  {
   "cell_type": "code",
   "execution_count": 1,
   "id": "5c0c7a96",
   "metadata": {},
   "outputs": [
    {
     "data": {
      "text/plain": [
       "1.8.0"
      ]
     },
     "execution_count": 1,
     "metadata": {},
     "output_type": "execute_result"
    }
   ],
   "source": [
    "KotlinVersion.CURRENT             // 코틀린 현재 버전 "
   ]
  },
  {
   "cell_type": "code",
   "execution_count": null,
   "id": "da7108cf",
   "metadata": {},
   "outputs": [],
   "source": []
  },
  {
   "cell_type": "markdown",
   "id": "c80bda96",
   "metadata": {},
   "source": [
    "# 3. 변성 알아보기"
   ]
  },
  {
   "cell_type": "code",
   "execution_count": null,
   "id": "031ee6fa",
   "metadata": {},
   "outputs": [],
   "source": []
  },
  {
   "cell_type": "code",
   "execution_count": 1,
   "id": "04311a8d",
   "metadata": {},
   "outputs": [
    {
     "name": "stdout",
     "output_type": "stream",
     "text": [
      "[kotlin.Number, kotlin.Comparable<kotlin.Int>, java.io.Serializable]\n",
      "[kotlin.Any, java.io.Serializable]\n",
      "[]\n"
     ]
    }
   ],
   "source": [
    "val num : Number = 100\n",
    "// val int : Int = num              // 상위 자료형을 하위 자료형 변수에 할당 금지 \n",
    "val any : Any = num                 // 하위 자료형은 상위 자료형 변수에 할당 가능\n",
    "\n",
    "println((100)::class.supertypes)    // 정수의 상속관계 \n",
    "println(Number::class.supertypes)   // Number 클래스의 상속관계 \n",
    "println(Any::class.supertypes)      // 최상위 클래스의 상속관계 "
   ]
  },
  {
   "cell_type": "code",
   "execution_count": null,
   "id": "9d637fc5",
   "metadata": {},
   "outputs": [],
   "source": []
  },
  {
   "cell_type": "code",
   "execution_count": 2,
   "id": "2aa7489f",
   "metadata": {},
   "outputs": [
    {
     "name": "stdout",
     "output_type": "stream",
     "text": [
      "572324610\n",
      "354480155\n"
     ]
    }
   ],
   "source": [
    "class MyClass1<out T>                       // 타입매개변수에 out 어노테이션 추가\n",
    "\n",
    "var x: MyClass1<Any> = MyClass1<Int>()      // 상속관계대로만 처리가능\n",
    "val y: MyClass1<Any> = MyClass1<String>()   // 상속관계대롤 처리\n",
    "\n",
    "println(x.hashCode())                       // 두 변수에 할당된 객체의 메소드 실행\n",
    "println(y.hashCode())"
   ]
  },
  {
   "cell_type": "code",
   "execution_count": null,
   "id": "9b083e2d",
   "metadata": {},
   "outputs": [],
   "source": []
  },
  {
   "cell_type": "code",
   "execution_count": 3,
   "id": "14d759c9",
   "metadata": {},
   "outputs": [
    {
     "name": "stdout",
     "output_type": "stream",
     "text": [
      "애플\n",
      "애플\n",
      "애플\n"
     ]
    }
   ],
   "source": [
    "interface Producer<out T> {                              // 공변성 인터페이스 정의\n",
    "    fun produce(): T                                     // 메소드의 반환값 처리 \n",
    "}\n",
    "\n",
    "class ReadOnlyBox<out T>(private var item: T) :          // 제너릭 클래스 정의 \n",
    "                                          Producer<T> {  // 제너릭 인터페이스 상속 : 타입인자 전달 \n",
    "                                              \n",
    "    val extItem : T = item                               // 속성을 추가 \n",
    "    //fun setItem(value : T) { item = value}             // 반공병성 처리 불가 \n",
    "    override fun produce() :T = item                     // 추상메소드 구현 : 반환 자료형\n",
    "    fun getItem(): T = item                              // 일반 메소드 구현 : 반환 자료형\n",
    "}\n",
    "\n",
    "val r = ReadOnlyBox(\"애플\")                               // 객체 생성 \n",
    "\n",
    "println(r.produce())                                     // 속성과 메소드 처리\n",
    "println(r.extItem)\n",
    "println(r.getItem())"
   ]
  },
  {
   "cell_type": "code",
   "execution_count": null,
   "id": "12e58009",
   "metadata": {},
   "outputs": [],
   "source": []
  },
  {
   "cell_type": "code",
   "execution_count": 4,
   "id": "e340a69a",
   "metadata": {},
   "outputs": [
    {
     "name": "stdout",
     "output_type": "stream",
     "text": [
      "[Line_7.Animal]\n",
      "class Line_7$Container"
     ]
    }
   ],
   "source": [
    "open class Animal                                      // 수퍼클래스 정의 \n",
    "class Dog : Animal()                                   // 서브클래스가 수퍼클래스 상속\n",
    "\n",
    "class Container<in T>                                  // 반공변성을 가지는 클래스 정의 \n",
    "    \n",
    "var a: Container<Dog> = Container<Animal>()            // 하위타입에 상위타입 할당   \n",
    "\n",
    "println(Dog::class.supertypes)                         // 하위타입일 경우 수퍼타입을 확인할 수 있다. \n",
    "print(a.javaClass.kotlin)\n",
    "\n",
    "//var b: Container<Animal> = Container<Dog>()          // 공변성으로 처리하면 예외발생 \n"
   ]
  },
  {
   "cell_type": "code",
   "execution_count": null,
   "id": "4f259f1b",
   "metadata": {},
   "outputs": [],
   "source": []
  },
  {
   "cell_type": "code",
   "execution_count": 5,
   "id": "cf264a53",
   "metadata": {},
   "outputs": [
    {
     "name": "stdout",
     "output_type": "stream",
     "text": [
      "class Line_9$InClass\n",
      "100\n",
      "100\n"
     ]
    }
   ],
   "source": [
    "class InClass<in T> {                            // 반공변성으로 타입매개변수 지정 \n",
    "    fun put(value: T): String {                  // 메소드 매개변수에 정의 \n",
    "        return value.toString()\n",
    "    }\n",
    "}\n",
    "\n",
    "val inobj: InClass<Number> = InClass()           // 넘버 자료형 지정 \n",
    "println(inobj.javaClass.kotlin)\n",
    "\n",
    "val ref: InClass<Int> = inobj                    // 정수 자료형에 지정 \n",
    "\n",
    "println(inobj.put(100))\n",
    "println(ref.put(100))"
   ]
  },
  {
   "cell_type": "code",
   "execution_count": null,
   "id": "2028f05b",
   "metadata": {},
   "outputs": [],
   "source": []
  },
  {
   "cell_type": "code",
   "execution_count": 6,
   "id": "59333ad2",
   "metadata": {},
   "outputs": [
    {
     "name": "stdout",
     "output_type": "stream",
     "text": [
      "테슬라\n",
      "해스켈\n"
     ]
    }
   ],
   "source": [
    "interface Consumer<in T> {                                 // 인터페이스에 반공변성 정의 \n",
    "    fun consume(t: T)\n",
    "}\n",
    "\n",
    "class WriteOnlyBox<in T>(private var item: T) :            // 속성을 비공개 처리\n",
    "                                            Consumer<T> {  // 인터페이스 상속 : 타입인자 전달  \n",
    "    \n",
    "    // val extIem : T = item                                // 공변성일 때만 지정가능 \n",
    "    //var extItem : T = item                                // 무변성이라 예외발생\n",
    "    //fun getiten() : T = item                              // 공변성이라 예외발생\n",
    "    override fun consume(t:T) {                             // 추상메소드 구현 \n",
    "        item = t                                            // 반공변성으로 입력 매개변수에 정의 \n",
    "        println(item)\n",
    "    }\n",
    "    fun setItem(newItem: T) {                               // 일반 메소드 구현 \n",
    "        item = newItem                                      // 입력 매개변수에 정의 \n",
    "        println(newItem)\n",
    "    }\n",
    "}\n",
    "\n",
    "val w = WriteOnlyBox(\"애플\")                                 // 객체 생성 \n",
    "\n",
    "w.consume(\"테슬라\")                                           // 메소드 처리\n",
    "w.setItem(\"해스켈\")"
   ]
  },
  {
   "cell_type": "code",
   "execution_count": null,
   "id": "57bf4d67",
   "metadata": {},
   "outputs": [],
   "source": []
  },
  {
   "cell_type": "code",
   "execution_count": 7,
   "id": "2d3f940d",
   "metadata": {},
   "outputs": [
    {
     "name": "stdout",
     "output_type": "stream",
     "text": [
      "반공변성\n",
      "제너릭 out\n",
      "제너릭 in\n"
     ]
    }
   ],
   "source": [
    "interface SomeInterface<in P, out R> {                     // in과 out을 모두 사용한 선언 변성    \n",
    "    val con : R                                            // out은 속성 선언 가능 \n",
    "    //val conP : P                                         // in 으로 지정불가 \n",
    "    fun someFunction(p : P)                                // in을 처리하는 메소드\n",
    "    fun someFunction1() : R                                // out을 처리하는 메소드 \n",
    "}\n",
    "\n",
    "class SomeClass< in P, out R > (para1 : P,                 // 타입매개변수 선언 \n",
    "                                para2 : R) :\n",
    "                                SomeInterface<P, R> {      // 인터페이스 상속 \n",
    "    private val conP = para1                               // in 타입매개변수 저장을 위한 비공개 val 정의 \n",
    "    override val con : R = para2                           // 속성 재정의 처리\n",
    "    override fun someFunction(p:P){                        // 매소드 재정의 처리\n",
    "        println(p)\n",
    "    } \n",
    "    \n",
    "    override fun someFunction1() : R {                      // 메소드 재정의 \n",
    "        return con\n",
    "    }\n",
    "    fun someFunction2() : Unit {                            // 내부 속성을 조회 : in 매개변수 조회\n",
    "        println(conP)\n",
    "    }\n",
    "\n",
    "}\n",
    "\n",
    "val some = SomeClass<String,String>(\"제너릭 in\", \"제너릭 out\")  // 객체 생성 \n",
    "some.someFunction(\"반공변성\")                                  // 메소드 실행 \n",
    "println(some.someFunction1())                                // 메소드 실행 \n",
    "some.someFunction2()                   "
   ]
  },
  {
   "cell_type": "code",
   "execution_count": null,
   "id": "5994f8e7",
   "metadata": {},
   "outputs": [],
   "source": []
  },
  {
   "cell_type": "code",
   "execution_count": null,
   "id": "e7f96131",
   "metadata": {},
   "outputs": [],
   "source": []
  },
  {
   "cell_type": "code",
   "execution_count": null,
   "id": "d13ea1b5",
   "metadata": {},
   "outputs": [],
   "source": []
  }
 ],
 "metadata": {
  "kernelspec": {
   "display_name": "Kotlin",
   "language": "kotlin",
   "name": "kotlin"
  },
  "language_info": {
   "codemirror_mode": "text/x-kotlin",
   "file_extension": ".kt",
   "mimetype": "text/x-kotlin",
   "name": "kotlin",
   "nbconvert_exporter": "",
   "pygments_lexer": "kotlin",
   "version": "1.8.0-dev-3517"
  }
 },
 "nbformat": 4,
 "nbformat_minor": 5
}
