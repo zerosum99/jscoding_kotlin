{
 "cells": [
  {
   "cell_type": "code",
   "execution_count": null,
   "id": "4604504b",
   "metadata": {},
   "outputs": [],
   "source": []
  },
  {
   "cell_type": "code",
   "execution_count": 1,
   "id": "5c0c7a96",
   "metadata": {},
   "outputs": [
    {
     "data": {
      "text/plain": [
       "1.8.0"
      ]
     },
     "execution_count": 1,
     "metadata": {},
     "output_type": "execute_result"
    }
   ],
   "source": [
    "KotlinVersion.CURRENT             // 코틀린 현재 버전 "
   ]
  },
  {
   "cell_type": "markdown",
   "id": "e0083bd4",
   "metadata": {},
   "source": [
    "# 4. 스레드\n"
   ]
  },
  {
   "cell_type": "code",
   "execution_count": null,
   "id": "0e7beef7",
   "metadata": {},
   "outputs": [],
   "source": []
  },
  {
   "cell_type": "markdown",
   "id": "d39165ea",
   "metadata": {},
   "source": [
    "## 현재 스레드 개수 "
   ]
  },
  {
   "cell_type": "code",
   "execution_count": 10,
   "id": "c7f6cb46",
   "metadata": {},
   "outputs": [
    {
     "data": {
      "text/plain": [
       "43"
      ]
     },
     "execution_count": 10,
     "metadata": {},
     "output_type": "execute_result"
    }
   ],
   "source": [
    "Thread.activeCount()"
   ]
  },
  {
   "cell_type": "code",
   "execution_count": null,
   "id": "f738e8cf",
   "metadata": {},
   "outputs": [],
   "source": [
    "Thread."
   ]
  },
  {
   "cell_type": "code",
   "execution_count": 11,
   "id": "1bbecb7a",
   "metadata": {},
   "outputs": [
    {
     "name": "stdout",
     "output_type": "stream",
     "text": [
      "코어 개수 : 10\n",
      "메인 스레드 : Thread[Thread-52,5,main]\n",
      "task1 : Thread[Thread-52,5,main]\n",
      "task2 : Thread[Thread-52,5,main]\n"
     ]
    }
   ],
   "source": [
    "val cores = Runtime.getRuntime().availableProcessors()     // 프로세스 갯수 \n",
    "println(\"코어 개수 : $cores\")\n",
    "println(\"메인 스레드 : ${Thread.currentThread()}\")            // 메인 스레드 \n",
    "\n",
    "fun task1() {                                              // 함수 정의 \n",
    "    println(\"task1 : ${Thread.currentThread()}\")\n",
    "}\n",
    "\n",
    "fun task2() {                                              //  함수 정의\n",
    "    println(\"task2 : ${Thread.currentThread()}\")\n",
    "}\n",
    "\n",
    "run {                                                       // 스코프 함수로 다른 함수 실행\n",
    "    task1()\n",
    "    task2()\n",
    "}"
   ]
  },
  {
   "cell_type": "code",
   "execution_count": null,
   "id": "01d361bd",
   "metadata": {},
   "outputs": [],
   "source": []
  },
  {
   "cell_type": "code",
   "execution_count": 12,
   "id": "884e81bb",
   "metadata": {},
   "outputs": [
    {
     "name": "stdout",
     "output_type": "stream",
     "text": [
      "클래스 참조 : class java.lang.Thread\n",
      "인터페이스 참조 : class java.lang.Runnable\n",
      "현재 스레드 개수 : 49\n",
      "현재 스레드 : Thread[Thread-56,5,main]\n",
      "Thread\n",
      "스레드 멤버 개수 : 87\n",
      "스레드 그룹 : java.lang.ThreadGroup[name=main,maxpri=10]\n",
      "false\n",
      "true\n",
      "false\n"
     ]
    }
   ],
   "source": [
    "fun <T:Any> T.dir() : Set<String> {                       // 리스트의 멤버를 조회하는 확장함수\n",
    "    val a = this.javaClass.kotlin                         // 클래스 출력 \n",
    "    println(a.simpleName)\n",
    "    val ll = a.members.map { it.name}                     // 멤버의 이름을 맵으로 처리하기 \n",
    "    return ll.toSet() \n",
    "}\n",
    "\n",
    "println(\"클래스 참조 : ${Thread::class}\")                     // 스레드 클래스 참조\n",
    "println(\"인터페이스 참조 : ${Runnable::class}\")                // 인터페이스 참조\n",
    "println(\"현재 스레드 개수 : \" + Thread.activeCount())          // 스레드 갯수 \n",
    "println(\"현재 스레드 : ${Thread.currentThread()}\")            // 현재 스레드\n",
    "\n",
    "val tr1 = Thread()                                         // 스레드 객체 생성\n",
    "println(\"스레드 멤버 개수 : ${tr1.dir().count()}\")             // 스레드 내부 멤버 확인  \n",
    "println(\"스레드 그룹 : ${tr1.getThreadGroup()}\")              // 스레드 그룹확인 \n",
    "println(tr1.isAlive)                                       // 활동여부 \n",
    "tr1.start()                                                // 스레드 시작 \n",
    "println(tr1.isAlive)                                       // 활동여부 \n",
    "println(tr1.isDaemon)                                      // 데몬스레드 여부\n",
    "tr1.join()  \n",
    "//tr1.start()    "
   ]
  },
  {
   "cell_type": "code",
   "execution_count": null,
   "id": "3a3edb8b",
   "metadata": {},
   "outputs": [],
   "source": []
  },
  {
   "cell_type": "code",
   "execution_count": 13,
   "id": "2b4c9e11",
   "metadata": {},
   "outputs": [
    {
     "name": "stdout",
     "output_type": "stream",
     "text": [
      "Thread[Thread-61,5,main]: 메인 스레드 작동중\n",
      "Thread[Thread-62,5,main]: 보조 스레드 작동중 \n",
      "Thread[Thread-62,5,main]: 보조 스레드 작동중 \n",
      "Thread[Thread-61,5,main]: 대기중\n",
      "Thread[Thread-62,5,main]: 보조 스레드 종료 \n"
     ]
    }
   ],
   "source": [
    "fun exec(tr: Thread) {                                 // 스레드 내부에서 실행할 함수 정의\n",
    "    println(\"${tr}: 보조 스레드 작동중 \")   \n",
    "}\n",
    "\n",
    "class MyThread: Thread() {                             // 스레드 클래스를 상속                            \n",
    "    override fun run() {  \n",
    "        val tr = Thread.currentThread()                // 함수 실행  스레드 확인 \n",
    "        exec(tr)\n",
    "        println(\"${tr}: 보조 스레드 종료 \")   \n",
    "    }\n",
    "}\n",
    "\n",
    "val mtr = Thread.currentThread()                       // 현재 스레드 확인 \n",
    "println(\"${mtr}: 메인 스레드 작동중\")\n",
    "\n",
    "val myThread = MyThread()                              // 스레드 객체 생성 \n",
    "myThread.start()                                       // 스레드 실행 \n",
    "\n",
    "exec(myThread)                                         // 함수를 호출해서 스레드 상태 출력\n",
    "\n",
    "println(\"${mtr}: 대기중\")                                // 스레드가 다 처리하면 출력 \n",
    "myThread.join()               "
   ]
  },
  {
   "cell_type": "code",
   "execution_count": null,
   "id": "1411474a",
   "metadata": {},
   "outputs": [],
   "source": []
  },
  {
   "cell_type": "code",
   "execution_count": 14,
   "id": "054ba2d0",
   "metadata": {},
   "outputs": [
    {
     "name": "stdout",
     "output_type": "stream",
     "text": [
      "메인스레드 : Thread[Thread-66,5,main]\n",
      "현재 스레드 이름 : Thread-67\n",
      "스레드 활동여부 false\n",
      "스레드 활동여부 false\n",
      "현재 스레드 이름 : Thread-67\n",
      "스레드 활동여부 false\n",
      "스레드 활동여부 true\n",
      "현재 스레드 이름 : Thread-68\n",
      "스레드 활동여부 false\n"
     ]
    }
   ],
   "source": [
    "class SimpleThread : Thread() {                      // 스레드 상속한 클래스 정의 \n",
    "    override fun run() {                             //  이 메소드는 start나 직접 호출이 가능  \n",
    "        println(\"현재 스레드 이름 : ${this.getName()}\")\n",
    "    }\n",
    "}\n",
    "\n",
    "println(\"메인스레드 : ${Thread.currentThread()}\")\n",
    "val thread = SimpleThread()                           // 스레드 객체를 생성 \n",
    "thread.run()                                          // 스레드 실행 \n",
    "println(\"스레드 활동여부 \" +thread.isAlive)               // 활동여부 \n",
    "thread.join()\n",
    "println(\"스레드 활동여부 \" +thread.isAlive)               // 활동여부 \n",
    "\n",
    "thread.run()                                          // 스레드 실행 \n",
    "thread.join()\n",
    "println(\"스레드 활동여부 \" +thread.isAlive)               // 활동여부 \n",
    "\n",
    "val thread1 = SimpleThread()                          // 새로운 스레드 객체 생성\n",
    "thread1.start()                                       // 스레드 실행 \n",
    "println(\"스레드 활동여부 \" +thread1.isAlive)              // 활동여부 \n",
    "thread1.join()                                        // 스레드 종료 \n",
    "println(\"스레드 활동여부 \" +thread1.isAlive)              // 활동여부 \n",
    "\n",
    "// thread1.start() "
   ]
  },
  {
   "cell_type": "code",
   "execution_count": null,
   "id": "5924f53f",
   "metadata": {},
   "outputs": [],
   "source": []
  },
  {
   "cell_type": "code",
   "execution_count": 15,
   "id": "04320017",
   "metadata": {},
   "outputs": [
    {
     "name": "stdout",
     "output_type": "stream",
     "text": [
      "Tester 5000 대기중 \n",
      "스레드 1 이름    : Thread-73\n",
      "스레드 1 ID     : 90\n",
      "스레드 1 우선순위 : 5\n",
      "스레드 1 상태    : TIMED_WAITING\n",
      "Helper 5000 대기중 \n",
      "스레드 2 이름    : Thread-74\n",
      "스레드 2 ID     : 91\n",
      "스레드 2 우선순위 : 5\n",
      "스레드 2 상태    : TIMED_WAITING\n"
     ]
    }
   ],
   "source": [
    "class First : Runnable {                             // 인터페이스로 클래스 정의 \n",
    "   override fun run() {\n",
    "           println(\"Helper 5000 대기중 \")\n",
    "           Thread.sleep(5000) }                      // 스레드 중단 \n",
    "}\n",
    "class Second : Runnable {                            // 인터페이스로 클래스 정의\n",
    "   override fun run() {\n",
    "           println(\"Tester 5000 대기중 \")\n",
    "           Thread.sleep(5000)   }                    // 스레드 중단\n",
    "}\n",
    "val obj1 =  Second()                                  // 객체생성\n",
    "val thread1 = Thread(obj1)                            // 스레드 객체 생성 \n",
    "val obj2 = First()                                    // 객체생성 \n",
    "val thread2 = Thread(obj2)                            // 스레드 객체 생성 \n",
    "thread1.start()                                       // 스레드 실행\n",
    "println(\"스레드 1 이름    : \" + thread1.getName())        \n",
    "println(\"스레드 1 ID     : \" + thread1.getId())\n",
    "println(\"스레드 1 우선순위 : \" + thread1.getPriority())\n",
    "println(\"스레드 1 상태    : \" + thread1.getState())\n",
    "thread2.start()                                        // 스레드 실행\n",
    "println(\"스레드 2 이름    : \" + thread2.getName())\n",
    "println(\"스레드 2 ID     : \" + thread2.getId())\n",
    "println(\"스레드 2 우선순위 : \" + thread2.getPriority())\n",
    "println(\"스레드 2 상태    : \" + thread2.getState())\n",
    "thread1.join()                                         // 쓰레드 동기화 \n",
    "thread2.join()"
   ]
  },
  {
   "cell_type": "code",
   "execution_count": null,
   "id": "f80d7c62",
   "metadata": {},
   "outputs": [],
   "source": []
  },
  {
   "cell_type": "code",
   "execution_count": 16,
   "id": "aaf23426",
   "metadata": {},
   "outputs": [
    {
     "name": "stdout",
     "output_type": "stream",
     "text": [
      "Thread[Thread-78,5,main]:메인 스레드 작동\n",
      "Thread[Thread-78,5,main]: 대기중\n",
      "스레드 종료\n",
      "Thread[Thread-79,5,main]: 보조 스레드 작동\n"
     ]
    }
   ],
   "source": [
    "import kotlin.concurrent.thread                              // 스레드 처리 함수 사용\n",
    "\n",
    "\n",
    "println(\"${Thread.currentThread()}:메인 스레드 작동\")\n",
    "\n",
    "val myThread = thread() {                                    // 스레드 함수에 익명함수 전달 \n",
    "    println(\"${Thread.currentThread()}: 보조 스레드 작동\")\n",
    "}\n",
    "\n",
    "println(\"${Thread.currentThread()}: 대기중\")                   // 현재 스레드 확인\n",
    "\n",
    "println(\"스레드 종료\")\n",
    "myThread.join()\n"
   ]
  },
  {
   "cell_type": "code",
   "execution_count": null,
   "id": "ab03e784",
   "metadata": {},
   "outputs": [],
   "source": []
  },
  {
   "cell_type": "code",
   "execution_count": null,
   "id": "43f45502",
   "metadata": {},
   "outputs": [],
   "source": []
  },
  {
   "cell_type": "code",
   "execution_count": null,
   "id": "81527520",
   "metadata": {},
   "outputs": [],
   "source": []
  },
  {
   "cell_type": "code",
   "execution_count": null,
   "id": "4061dfb1",
   "metadata": {},
   "outputs": [],
   "source": []
  },
  {
   "cell_type": "code",
   "execution_count": null,
   "id": "a8020dcf",
   "metadata": {},
   "outputs": [],
   "source": []
  }
 ],
 "metadata": {
  "kernelspec": {
   "display_name": "Kotlin",
   "language": "kotlin",
   "name": "kotlin"
  },
  "language_info": {
   "codemirror_mode": "text/x-kotlin",
   "file_extension": ".kt",
   "mimetype": "text/x-kotlin",
   "name": "kotlin",
   "nbconvert_exporter": "",
   "pygments_lexer": "kotlin",
   "version": "1.8.0-dev-3517"
  }
 },
 "nbformat": 4,
 "nbformat_minor": 5
}
