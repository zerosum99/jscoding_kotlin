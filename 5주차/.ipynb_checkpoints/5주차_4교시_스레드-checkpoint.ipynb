{
 "cells": [
  {
   "cell_type": "code",
   "execution_count": null,
   "id": "4604504b",
   "metadata": {},
   "outputs": [],
   "source": []
  },
  {
   "cell_type": "code",
   "execution_count": 1,
   "id": "5c0c7a96",
   "metadata": {},
   "outputs": [
    {
     "data": {
      "text/plain": [
       "1.8.0"
      ]
     },
     "execution_count": 1,
     "metadata": {},
     "output_type": "execute_result"
    }
   ],
   "source": [
    "KotlinVersion.CURRENT             // 코틀린 현재 버전 "
   ]
  },
  {
   "cell_type": "markdown",
   "id": "e0083bd4",
   "metadata": {},
   "source": [
    "# 4. 스레드\n"
   ]
  },
  {
   "cell_type": "code",
   "execution_count": null,
   "id": "0e7beef7",
   "metadata": {},
   "outputs": [],
   "source": []
  },
  {
   "cell_type": "markdown",
   "id": "d39165ea",
   "metadata": {},
   "source": [
    "## 현재 스레드 개수 "
   ]
  },
  {
   "cell_type": "code",
   "execution_count": 10,
   "id": "c7f6cb46",
   "metadata": {},
   "outputs": [
    {
     "data": {
      "text/plain": [
       "43"
      ]
     },
     "execution_count": 10,
     "metadata": {},
     "output_type": "execute_result"
    }
   ],
   "source": [
    "Thread.activeCount()"
   ]
  },
  {
   "cell_type": "code",
   "execution_count": null,
   "id": "f738e8cf",
   "metadata": {},
   "outputs": [],
   "source": [
    "Thread."
   ]
  },
  {
   "cell_type": "code",
   "execution_count": null,
   "id": "1bbecb7a",
   "metadata": {},
   "outputs": [],
   "source": []
  },
  {
   "cell_type": "code",
   "execution_count": null,
   "id": "01d361bd",
   "metadata": {},
   "outputs": [],
   "source": []
  },
  {
   "cell_type": "code",
   "execution_count": null,
   "id": "884e81bb",
   "metadata": {},
   "outputs": [],
   "source": []
  },
  {
   "cell_type": "code",
   "execution_count": 2,
   "id": "2f936463",
   "metadata": {},
   "outputs": [],
   "source": [
    "@file:DependsOn(\"org.jetbrains.kotlinx:kotlinx-coroutines-core:1.6.4\")"
   ]
  },
  {
   "cell_type": "code",
   "execution_count": 3,
   "id": "cb7f14cc",
   "metadata": {},
   "outputs": [],
   "source": [
    "import kotlinx.coroutines.*"
   ]
  },
  {
   "cell_type": "code",
   "execution_count": 5,
   "id": "5dbf91dd",
   "metadata": {},
   "outputs": [
    {
     "data": {
      "text/plain": [
       "java.util.concurrent.ScheduledThreadPoolExecutor@a20b94b[Running, pool size = 0, active threads = 0, queued tasks = 0, completed tasks = 0]"
      ]
     },
     "execution_count": 5,
     "metadata": {},
     "output_type": "execute_result"
    }
   ],
   "source": [
    "newSingleThreadContext(\"테스트\")"
   ]
  },
  {
   "cell_type": "code",
   "execution_count": 9,
   "id": "4ad87129",
   "metadata": {},
   "outputs": [
    {
     "data": {
      "text/plain": [
       "java.util.concurrent.ScheduledThreadPoolExecutor@7144655b[Running, pool size = 0, active threads = 0, queued tasks = 0, completed tasks = 0]"
      ]
     },
     "execution_count": 9,
     "metadata": {},
     "output_type": "execute_result"
    }
   ],
   "source": [
    "newFixedThreadPoolContext(5,\"테스트1\")"
   ]
  },
  {
   "cell_type": "code",
   "execution_count": null,
   "id": "3a3edb8b",
   "metadata": {},
   "outputs": [],
   "source": []
  }
 ],
 "metadata": {
  "kernelspec": {
   "display_name": "Kotlin",
   "language": "kotlin",
   "name": "kotlin"
  },
  "language_info": {
   "codemirror_mode": "text/x-kotlin",
   "file_extension": ".kt",
   "mimetype": "text/x-kotlin",
   "name": "kotlin",
   "nbconvert_exporter": "",
   "pygments_lexer": "kotlin",
   "version": "1.8.0-dev-3517"
  }
 },
 "nbformat": 4,
 "nbformat_minor": 5
}
