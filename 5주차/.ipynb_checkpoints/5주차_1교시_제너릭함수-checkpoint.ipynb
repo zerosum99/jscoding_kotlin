{
 "cells": [
  {
   "cell_type": "code",
   "execution_count": null,
   "id": "4604504b",
   "metadata": {},
   "outputs": [],
   "source": []
  },
  {
   "cell_type": "code",
   "execution_count": 1,
   "id": "5c0c7a96",
   "metadata": {},
   "outputs": [
    {
     "data": {
      "text/plain": [
       "1.8.0"
      ]
     },
     "execution_count": 1,
     "metadata": {},
     "output_type": "execute_result"
    }
   ],
   "source": [
    "KotlinVersion.CURRENT             // 코틀린 현재 버전 "
   ]
  },
  {
   "cell_type": "markdown",
   "id": "b8ad2215",
   "metadata": {},
   "source": [
    "# 1. 제너릭 함수  알아보기"
   ]
  },
  {
   "cell_type": "markdown",
   "id": "bff47cad",
   "metadata": {},
   "source": [
    "## 1-1 제너릭 함수 이해하기"
   ]
  },
  {
   "cell_type": "markdown",
   "id": "e6a9ffe3",
   "metadata": {},
   "source": [
    "## 1-1-1  타입매개변수 1개인 제너릭 함수 "
   ]
  },
  {
   "cell_type": "code",
   "execution_count": 2,
   "id": "f1381952",
   "metadata": {},
   "outputs": [
    {
     "name": "stdout",
     "output_type": "stream",
     "text": [
      "매개변수1 = 황후순, 매개변수2 = 이재석\n",
      "20\n",
      "20.0\n",
      "20\n",
      "20.0\n"
     ]
    }
   ],
   "source": [
    "fun <타입> 함수명(매개변수1 : 타입, \n",
    "             매개변수2: 타입) : String {                   // 제너릭함수 정의 \n",
    "    return \"매개변수1 = $매개변수1, 매개변수2 = $매개변수2\"      //  반환값 처리 \n",
    "}\n",
    "\n",
    "println(함수명<String>(\"황후순\", \"이재석\"))\n",
    "                                                        // 함수오버로딩 작성 \n",
    "fun add(x:Int, y: Int) = x+y                            // 정수 매개변수 함수정의 \n",
    "fun add(x:Double, y: Double) = x+y                      // 더블 매개변수 함수정의 \n",
    "\n",
    "println(add(10,10))                                     // 함수 실행 \n",
    "println(add(10.0,10.0))                                 // 함수 실행 \n",
    "                                                        // 두 개의 함수를 제너릭으로 하나로 통합 \n",
    "fun <T> add1(x:T, y : T, op : (T,T)->T) : T             // 함수 자료형을 제너릭으로 처리 \n",
    "                                = op(x,y)               // 연산자가 실행되지 않아 전달되는 함수로 실행\n",
    "\n",
    "println(add1<Int>(10,10,{x,y ->x+y}))                   // 타입 인자에 Int 전달 및 람다표현식으로 함수 전달 \n",
    "println(add1(10.0,10.0,{x,y ->x+y})) "
   ]
  },
  {
   "cell_type": "markdown",
   "id": "d2c513eb",
   "metadata": {},
   "source": [
    "## 1-1-2  타입매개변수 2개인 제너릭 함수 "
   ]
  },
  {
   "cell_type": "code",
   "execution_count": 3,
   "id": "3e60dc93",
   "metadata": {},
   "outputs": [
    {
     "name": "stdout",
     "output_type": "stream",
     "text": [
      "300\n",
      "300\n"
     ]
    }
   ],
   "source": [
    "fun <매개변수타입, 반환타입> \n",
    "    함수명(x:매개변수타입,                                    // 2개의 타입매개변수를 가지는 함수 \n",
    "         y:매개변수타입,                                    // 매개변수와 반환타입을 별도로 처리 \n",
    "         op:(매개변수타입, 매개변수타입) -> 반환타입) : 반환타입 {\n",
    "    return op(x,y)                                       // 전달된 함수의 반환타입이 전체 반환타입\n",
    "    \n",
    "}\n",
    "println(함수명(100, 200 ) {x,y-> x+y}) \n",
    "                                                         // 매개변수 타입을 분리 표현 \n",
    "fun <T,R> sum(x: T, y:T , \n",
    "               op:(T,T) -> R ) :  R {                    // 두 개의 타입 매개변수 하나는 매개변수         \n",
    "    return op(x,y)                                       // 하나는 반환값 처리 \n",
    "}\n",
    "println(sum(100, 200 ) {x,y-> x+y})                      // 함수 실행   "
   ]
  },
  {
   "cell_type": "code",
   "execution_count": null,
   "id": "649aa53e",
   "metadata": {},
   "outputs": [],
   "source": []
  },
  {
   "cell_type": "markdown",
   "id": "83bf60f8",
   "metadata": {},
   "source": [
    "## 1-2 타입을 함수 자료형으로 하기 "
   ]
  },
  {
   "cell_type": "markdown",
   "id": "5f9ed4d1",
   "metadata": {},
   "source": [
    "## 1-2-1 함수자료형에 타입매개변수 적용하기"
   ]
  },
  {
   "cell_type": "code",
   "execution_count": 4,
   "id": "eded6478",
   "metadata": {},
   "outputs": [
    {
     "name": "stdout",
     "output_type": "stream",
     "text": [
      "람다표현식 1\n",
      "1111\n",
      "람다표현시 2\n",
      "1111\n"
     ]
    }
   ],
   "source": [
    "fun <타입> 함수명(value : 타입) : ()-> 타입 = {             // 함수를 반환하는 제너릭 함수\n",
    "    println(\"람다표현식 1\")                               // 람다 표현식으로 반환 \n",
    "    value                                              // 마지막 값이 반환값\n",
    "}\n",
    "println(함수명<Int>(1111)())  \n",
    "\n",
    "fun <T> func1(value : T) : () -> T = {                 // 함수 반환자료형 지정  \n",
    "    println(\"람다표현시 2\")\n",
    "    value                                              // 람다표현식을 반환        \n",
    "}\n",
    "\n",
    "println(func1(1111)())                                 // 함수을 연속으로 실행 "
   ]
  },
  {
   "cell_type": "markdown",
   "id": "ea9ffb56",
   "metadata": {},
   "source": [
    "## 1-2-2 "
   ]
  },
  {
   "cell_type": "code",
   "execution_count": 5,
   "id": "ce19cd37",
   "metadata": {},
   "outputs": [
    {
     "name": "stdout",
     "output_type": "stream",
     "text": [
      "10000\n",
      "10000\n"
     ]
    }
   ],
   "source": [
    "fun <타입, 반환타입> 함수명(val1 : 타입, val2 :타입,         // 입력매개변수와 반환자료형 분리 \n",
    "                       op : (타입, 타입) -> 반환타입      // 반환자료형 처리를 위한 함수 전달\n",
    "                  ) : ()-> 반환타입  {                  // 함수를 반환하는 제너릭 함수\n",
    "    return { op(val1,val2)  }                         // 함수를 실행하는 람다표현식을 반환 \n",
    "}\n",
    "\n",
    "val rval1 = 함수명<Int,Int>(100,100,{x,y-> x * y})       // 타입 인자로 2개 전달 함수의 두 인자 전달, 람다표현식 전달\n",
    "println(rval1())                                       // 함수 실행 \n",
    "\n",
    "fun <T,R> func(val1 : T, val2:T, op:(T,T) -> R ) :     // 함수를 매개변수로 받음 \n",
    "                                       () -> R {       // 함수 반환      \n",
    "    return { op(val1,val2)  }\n",
    "}\n",
    "                                       \n",
    "val rval2 = func<Int,Int>(100,100,{x,y-> x * y})       // 타입 인자로 2개 전달 함수의 두 인자 전달, 람다표현식 전달\n",
    "println(rval2())      "
   ]
  },
  {
   "cell_type": "markdown",
   "id": "dffdeeae",
   "metadata": {},
   "source": [
    "## 1-2-3 타입제약"
   ]
  },
  {
   "cell_type": "code",
   "execution_count": 6,
   "id": "b7bf3426",
   "metadata": {},
   "outputs": [
    {
     "name": "stdout",
     "output_type": "stream",
     "text": [
      "300\n",
      "300.2\n",
      "300\n",
      "300.2\n",
      "사랑하자!! 코틀린\n"
     ]
    }
   ],
   "source": [
    "fun <T : Number>  sumA(x: T, y : T,                            // 타입매개변수에 타입 제한처리 \n",
    "                       action : (T,T) ->T) : T {               // 숫자자료형만 처리 가능 \n",
    "    return action(x,y)\n",
    "}\n",
    "println(sumA(100,200,{x,y -> x+y}))\n",
    "println(sumA(100.1,200.1,{x,y -> x+y}))\n",
    "\n",
    "// println(sumA(\"봄여름\",\"가을겨울\",{x,y -> \"$x $y\"}))              // 자료형 제한으로 오류\n",
    "\n",
    "fun <T>  sumB(x: T, y : T,                                      // 타입매개변수에 타입 제한처리 \n",
    "            action : (T,T) ->T):T  where T : Number,            // where 조건은 and 조건만 수용\n",
    "                                         T : Comparable<T>  {   // 숫자자료형만 처리 가능 \n",
    "    return action(x,y)\n",
    "}\n",
    "println(sumB(100,200,{x,y -> x+y}))\n",
    "println(sumB(100.1,200.1,{x,y -> x+y}))\n",
    "\n",
    "fun <T> suffix(str:T) where T: CharSequence,                    // 타입매개변수에 대한 제한 \n",
    "                            T: Appendable   {                   //  문자시퀀스와 추가가 가능\n",
    "    str.append(\"코틀린\")                                          // 추가 메소드 처리\n",
    "}\n",
    "var name = StringBuilder(\"사랑하자!! \")                            // 갱신가능한 문자열빌더 객체 만들기\n",
    "suffix(name)                                                     // 함수호출해서 문자열 추가 \n",
    "println(name)   "
   ]
  },
  {
   "cell_type": "code",
   "execution_count": null,
   "id": "04311ef7",
   "metadata": {},
   "outputs": [],
   "source": []
  },
  {
   "cell_type": "markdown",
   "id": "6e08e5e5",
   "metadata": {},
   "source": [
    "## 1-4 제너릭 확장함수 "
   ]
  },
  {
   "cell_type": "code",
   "execution_count": null,
   "id": "6faa69ce",
   "metadata": {},
   "outputs": [],
   "source": []
  },
  {
   "cell_type": "code",
   "execution_count": 7,
   "id": "dba7b68d",
   "metadata": {},
   "outputs": [
    {
     "name": "stdout",
     "output_type": "stream",
     "text": [
      "121\n",
      "200.0\n",
      "121\n",
      "200.0\n"
     ]
    }
   ],
   "source": [
    "fun <타입> 타입.맵(block : (타입) -> 타입 )  : 타입 {    // 타입매개변수에 함수를 추가 \n",
    "    return block(this)                             // 전달받은 함수를 실행 : 인자로 리시버 객체\n",
    "}\n",
    "\n",
    "println(11.맵 { it * it})                          // 확장함수 실행    \n",
    "println((100.0).맵 {it + it })\n",
    "\n",
    "fun <T> T.map(block :(T)->T) : T {                  // 함수표현식으로 내부 계산\n",
    "    return block(this)                              // 숫자자료형일 경우는 this가 숫자값\n",
    "}\n",
    "\n",
    "println(11.map { it * it})                          // 확장함수 실행              \n",
    "println((100.0).map {it + it })"
   ]
  },
  {
   "cell_type": "code",
   "execution_count": null,
   "id": "b6fc4888",
   "metadata": {},
   "outputs": [],
   "source": []
  },
  {
   "cell_type": "code",
   "execution_count": 8,
   "id": "0ca496b7",
   "metadata": {},
   "outputs": [
    {
     "name": "stdout",
     "output_type": "stream",
     "text": [
      "12321\n",
      "2000.0\n",
      "12321\n",
      "1000000.0\n"
     ]
    }
   ],
   "source": [
    "fun <타입,반환> 타입.맵(block : (타입) -> 반환 )  : 반환 {    // 타입매개변수로 매개변수, 반환자료형 처리\n",
    "    return block(this)                                 // 전달받은 함수를 실행 : 인자로 리시버 객체\n",
    "}\n",
    "\n",
    "println(111.맵 { it * it})                              // 확장함수 실행    \n",
    "println((1000.0).맵 {it + it })\n",
    "\n",
    "fun <T,R> T.double(action :(T)->R) :R {                 // 두개의 타입 매개변수 사용\n",
    "    return action(this)\n",
    "}\n",
    "\n",
    "println(111.double {it * it})                           // 확장함수 실행\n",
    "println((1000.0).double {it * it})"
   ]
  },
  {
   "cell_type": "code",
   "execution_count": null,
   "id": "c81144a8",
   "metadata": {},
   "outputs": [],
   "source": []
  },
  {
   "cell_type": "code",
   "execution_count": 9,
   "id": "c91ef168",
   "metadata": {},
   "outputs": [
    {
     "name": "stdout",
     "output_type": "stream",
     "text": [
      "11\n",
      "true\n",
      "14\n",
      "true\n"
     ]
    }
   ],
   "source": [
    "                                                // 함수자료형에 확장함수 추가하기 \n",
    "infix fun <P1, P2, R>                           // 매개변수 2개와 반환자료형 1개를 타입매개변수로 지정\n",
    "    ((P1) -> R).compose(f: (P2) -> P1):         // 1개의 매개변수를 받아서 반환하는 함수자료형 정의하고 확장함수 추가  \n",
    "                                 (P2) -> R {    // 2개의 함수를 하나의 함수로 반환 \n",
    "    return { p1: P2 -> this(f(p1)) }            // 순방향으로 함수를 합성  \n",
    "}\n",
    "                                                // 함수자료형에 확장함수 추가하기\n",
    "infix fun <P1, R1, R2>                          // 1 매개변수와 2개의 반환자료형을 타입매개변수로 지정 \n",
    "    ((P1) -> R1).then(f: (R1) -> R2):           // 함수 자료형에 확장함수 추가  \n",
    "                                 (P1) -> R2 {   // 두 개의 함수를 하나의 함수로 반환 \n",
    "    return { p1: P1 -> f(this(p1)) }            // 역방향으로 함수를 합성 \n",
    "}\n",
    "\n",
    "val plus2: (Int) -> Int  = { it + 2 }         // 람다표현식 변수 할당\n",
    "val times3: (Int) -> Int = { it * 3 }         // 람다표현식 변수 할당\n",
    "\n",
    "val times3plus2 = plus2 compose times3\n",
    "\n",
    "println(times3plus2(3))                        // 함수 실행 \n",
    "println(times3plus2(3) == 11)\n",
    "println(times3plus2(4))                     \n",
    "println(times3plus2(4) == 14)                  //역방향으로 함수 실행 "
   ]
  },
  {
   "cell_type": "markdown",
   "id": "c13a6e49",
   "metadata": {},
   "source": [
    "## 확장 속성 "
   ]
  },
  {
   "cell_type": "code",
   "execution_count": 10,
   "id": "d7ce27a7",
   "metadata": {},
   "outputs": [
    {
     "name": "stdout",
     "output_type": "stream",
     "text": [
      "가을\n"
     ]
    }
   ],
   "source": [
    "class View<T:Any> {                       // 제너릭 클래스 정의  : 지연초기화는 널러블 불가해서 제한\n",
    "    lateinit var position : T             // 지연 초기화 \n",
    "}\n",
    "\n",
    "var <T:Any> View<T>.newPosition: T       // 제너릭 확장 속성 정의 \n",
    "    get() {                              // 확장 속성에는 배킹 필드가 없다 \n",
    "        return position                  // 지연 초기화 검색 \n",
    "    }\n",
    "    set(value) {                         // 지연 초기화 갱신 \n",
    "        this.position=value\n",
    "    }\n",
    "\n",
    "    \n",
    "val v = View<String>()                    // 객체 생성 \n",
    "v.newPosition = \"가을\"                     // 사용하기 전에 지연 초기화 처리\n",
    "println(v.newPosition)                    // 조회 "
   ]
  }
 ],
 "metadata": {
  "kernelspec": {
   "display_name": "Kotlin",
   "language": "kotlin",
   "name": "kotlin"
  },
  "language_info": {
   "codemirror_mode": "text/x-kotlin",
   "file_extension": ".kt",
   "mimetype": "text/x-kotlin",
   "name": "kotlin",
   "nbconvert_exporter": "",
   "pygments_lexer": "kotlin",
   "version": "1.8.0-dev-3517"
  }
 },
 "nbformat": 4,
 "nbformat_minor": 5
}
