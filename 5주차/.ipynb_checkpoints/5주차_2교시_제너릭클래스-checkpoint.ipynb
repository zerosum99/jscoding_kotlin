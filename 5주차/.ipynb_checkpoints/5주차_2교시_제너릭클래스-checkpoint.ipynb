{
 "cells": [
  {
   "cell_type": "code",
   "execution_count": null,
   "id": "4604504b",
   "metadata": {},
   "outputs": [],
   "source": []
  },
  {
   "cell_type": "code",
   "execution_count": 1,
   "id": "5c0c7a96",
   "metadata": {},
   "outputs": [
    {
     "data": {
      "text/plain": [
       "1.8.0"
      ]
     },
     "execution_count": 1,
     "metadata": {},
     "output_type": "execute_result"
    }
   ],
   "source": [
    "KotlinVersion.CURRENT             // 코틀린 현재 버전 "
   ]
  },
  {
   "cell_type": "markdown",
   "id": "06c57b90",
   "metadata": {},
   "source": [
    " # 2. 제너릭 클래스 / 인터페이스 알아보기"
   ]
  },
  {
   "cell_type": "markdown",
   "id": "abcbfc66",
   "metadata": {},
   "source": [
    "## 2-1 제너릭 클래스"
   ]
  },
  {
   "cell_type": "markdown",
   "id": "b060f009",
   "metadata": {},
   "source": [
    "## 일반 클래스를 제너릭 클래스로 변경 "
   ]
  },
  {
   "cell_type": "code",
   "execution_count": 2,
   "id": "0618eac7",
   "metadata": {},
   "outputs": [
    {
     "name": "stdout",
     "output_type": "stream",
     "text": [
      "초기화 => 인공지능\n",
      "초기화 => 12\n",
      "초기화 => 인공지능\n",
      "초기화 => 12\n"
     ]
    }
   ],
   "source": [
    "class Company (text: String) {                // 일반 클래스 정의  주생성자는 매개변수 처리\n",
    "    var x = text                              // 속성 정의 \n",
    "    init{                                     // 초기화 블럭 처리 \n",
    "        println(\"초기화 => \"+x)\n",
    "    }\n",
    "}\n",
    "\n",
    "val com1 : Company = Company(\"인공지능\")         // 객체 생성 \n",
    "val com2 : Company = Company(\"12\")\n",
    "\n",
    "class Company1<T> (text : T){                 // 제너릭 클래스 정의  및 매개변수 타입 지정            \n",
    "    var x = text\n",
    "    init{\n",
    "        println(\"초기화 => \" + x)\n",
    "    }\n",
    "}\n",
    "\n",
    "var com3 = Company1<String>(\"인공지능\")         // 문자열 자료형의 객체 생성 \n",
    "var com4 = Company1<Int>(12)                  // 정수 자료형으 객체 생성 "
   ]
  },
  {
   "cell_type": "markdown",
   "id": "20b2370b",
   "metadata": {},
   "source": [
    "## 제너릭 클래스 정의 "
   ]
  },
  {
   "cell_type": "code",
   "execution_count": 3,
   "id": "ea2f090e",
   "metadata": {},
   "outputs": [
    {
     "name": "stdout",
     "output_type": "stream",
     "text": [
      "제너릭 클래스\n",
      "제너릭 클래스\n",
      "이름 사람1 나이 33\n"
     ]
    }
   ],
   "source": [
    "class MyClass<T>(val name: T)                            // 매개변수에 정의\n",
    "\n",
    "val my : MyClass<String> = MyClass<String>(\"제너릭 클래스\") // 객체 생성 \n",
    "val my1 = MyClass(\"제너릭 클래스\") \n",
    "\n",
    "println(my.name)\n",
    "println(my1.name)\n",
    "\n",
    "class Person<T, K>(val name: T, val age: K) {             // 2개의 타입매개변수로 매개변수에 지정  \n",
    "    fun getName_(): T {                                   // 반환타압 지정 \n",
    "        return this.name\n",
    "    }\n",
    "    fun getAge_() : K {                                   // 반환타입 지정 \n",
    "        return this.age\n",
    "    }\n",
    "}\n",
    "\n",
    "val p = Person<String,Int>(\"사람1\", 33)                    // 객체 생성\n",
    "println(\"이름 ${p.getName_()} 나이 ${p.getAge_()}\")"
   ]
  },
  {
   "cell_type": "markdown",
   "id": "0c1293fa",
   "metadata": {},
   "source": [
    "## 타입매개변수 널러블 포함 "
   ]
  },
  {
   "cell_type": "code",
   "execution_count": 4,
   "id": "642c873a",
   "metadata": {},
   "outputs": [
    {
     "name": "stdout",
     "output_type": "stream",
     "text": [
      "처리 100 \n",
      "처리 null \n",
      "처리 187934925 \n"
     ]
    }
   ],
   "source": [
    "class Number_<T> {                        // 타입 매개변수는 널러블 까지 처리 \n",
    "    fun process(value: T) : Int? {        // 메소드 매개변수에 타입매개변수 지정\n",
    "        return value?.hashCode()          // 타입 매개변수의 타입은 널러블 타입이다\n",
    "    }\n",
    "}\n",
    "\n",
    "val p = Number_<Int?>()                   // 널러블 정수 자료형으로 객체 생성 \n",
    "println(\"처리 ${p.process(100)} \")         // 타입 매개변수로 처리한 인자 값 출력 \n",
    "println(\"처리 ${p.process(null)} \")        // 기본 널처리가 가능하다\n",
    "\n",
    "class AAA                                 //임의의 클래스 선언\n",
    "\n",
    "val p1 = Number_<AAA>()                   // 클래스로 객체 생성 \n",
    "println(\"처리 ${p1.process(AAA())} \")      // "
   ]
  },
  {
   "cell_type": "markdown",
   "id": "827fc085",
   "metadata": {},
   "source": [
    "## 여러 객체를 저장하는 제너릭 클래스 정의"
   ]
  },
  {
   "cell_type": "code",
   "execution_count": 5,
   "id": "9a4887b1",
   "metadata": {},
   "outputs": [
    {
     "name": "stdout",
     "output_type": "stream",
     "text": [
      "Cage Dog(id=1, name=Stu, furColor=PATCHED) size 6.0\n",
      "Cage Cat(id=4, name=Peter, eyesColor=GREEN) size 3.0\n"
     ]
    }
   ],
   "source": [
    "enum class FurColor {  RED, GREEN, PATCHED }        // 이넘 클래스 정의 \n",
    "enum class EyesColor { RED, GREEN, PATCHED }        // 이넘 클래스 정의 \n",
    "\n",
    "data class Dog(val id: Int,                          // 데이터 클래스 정의 \n",
    "               val name: String, \n",
    "               val furColor: FurColor)\n",
    "data class Cat (val id: Int,                          // 데이터 클래스 정의 \n",
    "                val name: String, \n",
    "                val eyesColor: EyesColor)\n",
    "\n",
    "class Cage<T>(var animal: T,                          // 제너릭 클래스 정의 \n",
    "              val size: Double) {\n",
    "    override fun toString() =                         // 출력 \n",
    "              \"Cage $animal size $size\"\n",
    "}\n",
    " \n",
    "val dog: Dog = Dog(id = 1, name = \"Stu\",               // 객체 생성 \n",
    "                   furColor = FurColor.PATCHED)\n",
    "val cat: Cat = Cat(id = 4, name = \"Peter\",             // 객체 생성\n",
    "                   eyesColor = EyesColor.GREEN)\n",
    "\n",
    "val cageDog: Cage<Dog> = Cage(animal = dog, size = 6.0)\n",
    "val cageCat: Cage<Cat> = Cage(animal = cat, size = 3.0)\n",
    "\n",
    "println(cageDog)\n",
    "println(cageCat)"
   ]
  },
  {
   "cell_type": "code",
   "execution_count": null,
   "id": "cbe86e37",
   "metadata": {},
   "outputs": [],
   "source": []
  },
  {
   "cell_type": "markdown",
   "id": "9d86c07d",
   "metadata": {},
   "source": [
    "## 2-2 제너릭 인터페이스"
   ]
  },
  {
   "cell_type": "code",
   "execution_count": null,
   "id": "ca060123",
   "metadata": {},
   "outputs": [],
   "source": []
  },
  {
   "cell_type": "code",
   "execution_count": 6,
   "id": "3b9742f7",
   "metadata": {},
   "outputs": [
    {
     "name": "stdout",
     "output_type": "stream",
     "text": [
      "코기리\n",
      "11000\n",
      "멍멍\n",
      "f() 실행 \n",
      "속성 obj \n"
     ]
    }
   ],
   "source": [
    "interface Animalable<T> {                                     // 제너릭인터페이스 정의 : 타입매개변수                      \n",
    "    val obj: T                                                // 추상속성과 추상메소드에 타입매개변수 지정 \n",
    "    fun func(): T\n",
    "}\n",
    "\n",
    "class Dog {                                                   // 일반 클래스 정의 \n",
    "    fun bark() = \"멍멍\" \n",
    "}\n",
    "\n",
    "class AnimalImpl<T>(override val obj : T) : Animalable<T> {   // 제너릭 클래스에서 제너릭 인터페이스를 상속하기\n",
    "      override fun func(): T = obj                            // 추상메소드 구현 : 제너릭 처리 \n",
    "}\n",
    "\n",
    "val aimp = AnimalImpl(\"코기리\")                                 // 문자열 인자 전달 : 타입추론으로 타입인자 처리\n",
    "val aimp11 = AnimalImpl(11000)                                // 정수 전달 \n",
    "val aimpdog = AnimalImpl(Dog())                               // 일반 클래스의 객체 전달\n",
    "\n",
    "println(aimp.func())                                          // 메소드 실행 \n",
    "println(aimp11.func())\n",
    "println(aimpdog.func().bark())                                // 객체 내의 메소드 실행 \n",
    "\n",
    "class Concrete : Animalable<String> {                         // 일반 클래스에 제너릭 인터페이스 상속: 타입인자지정  \n",
    "    override val obj: String                                  // 일반 클래스 내의 속성 재정의 \n",
    "        get() = \"속성 obj \"\n",
    "    override fun func() = \"f() 실행 \"                          // 일반 클래스 내의 메소드 재정의 \n",
    "}\n",
    "\n",
    "println(Concrete().func())                                    // 객체 생성 후에 메소드 실행 \n",
    "println(Concrete().obj)                                       // 객체 생성 후에 속성 조회"
   ]
  },
  {
   "cell_type": "code",
   "execution_count": null,
   "id": "627287e1",
   "metadata": {},
   "outputs": [],
   "source": []
  },
  {
   "cell_type": "code",
   "execution_count": 7,
   "id": "febf4b7f",
   "metadata": {},
   "outputs": [
    {
     "name": "stdout",
     "output_type": "stream",
     "text": [
      "초기값\n",
      "변경값\n"
     ]
    }
   ],
   "source": [
    "interface Iable <T> {                                         // 제너릭 인터페이스 정의 \n",
    "  val name: T\n",
    "  fun action(): T\n",
    "}\n",
    "\n",
    "interface TIable <T>: Iable<T>   {                           // 일반 인터페이스에서 제너릭 인터페이스 상속\n",
    "    override fun action(): T\n",
    "}\n",
    "\n",
    "abstract class Ability<T> : TIable<T> {                     // 제너릭 추상클래스 \n",
    "    override abstract val name : T\n",
    "    override abstract fun action() : T\n",
    "}\n",
    "\n",
    "class Concrete : Ability<String>() {                        // 구현클래스 정의 : 추상클래스에 타입인자 전달\n",
    "    override var name : String = \"초기값\"                     // 속성에 문자열 자료형 지정\n",
    "    override fun action(): String = name                    // 메소드에 문자열 자료형 지정\n",
    "}\n",
    "\n",
    "val con = Concrete()\n",
    "println(con.name)\n",
    "con.name = \"변경값\"\n",
    "println(con.action())"
   ]
  },
  {
   "cell_type": "code",
   "execution_count": null,
   "id": "3542c4aa",
   "metadata": {},
   "outputs": [],
   "source": []
  },
  {
   "cell_type": "code",
   "execution_count": 8,
   "id": "cba5fd7e",
   "metadata": {},
   "outputs": [
    {
     "name": "stdout",
     "output_type": "stream",
     "text": [
      "페트병, 켄음료, 종이상자, \n",
      "페트병, 켄음료, 종이상자, "
     ]
    }
   ],
   "source": [
    "interface Disposable <T> {                                          // 제너릭 인터페이스 정의 \n",
    "  val name: T\n",
    "  fun action(): T\n",
    "}\n",
    "class Compost(override val name: String) : \n",
    "                                       Disposable<String> {         // 일반 클래스에서 제너릭 인터페이스 상속 \n",
    "  override fun action() = \"Add to composter\"\n",
    "}\n",
    "  \n",
    "interface Transport : Disposable<String>                             // 일반 인터페이스에서 제너릭 인터페이스 상속\n",
    "    \n",
    "class Donation(override val name: String) : Transport {              // 인터페이스 상속 클래스 정의 \n",
    "    override fun action() = \"주워주세요! \"\n",
    "}\n",
    "class Recyclable(override val name: String) : Transport {            // 인터페이스 상속 클래스 정의 \n",
    "    override fun action() = \"분리수거통에 넣어주세요! \"\n",
    "}\n",
    "class Landfill(override val name: String) :  Transport {             // 인터페이스 상속 클래스 정의 \n",
    "    override fun action() = \"쓰레기통에 넣어주세요!\"\n",
    "}\n",
    "\n",
    "fun <T : Transport> nameOf(disposable: T) = disposable.name          // 제네릭 함수 정의 \n",
    "fun <T : Transport> T.name() = name                                  // 확장함수 정의 \n",
    "\n",
    "val items = listOf(Compost(\"귤껍질\"),Compost(\"사과 씨\"),                // 클래스로 객체 생성하고 리스트에 넣기\n",
    "                   Donation(\"헌 방석\"),Donation(\"헌 옷\"),\n",
    "                   Recyclable(\"페트병\"), Recyclable(\"켄음료\"),\n",
    "                   Recyclable(\"종이상자\"),Landfill(\"담배꽁초\") )\n",
    "\n",
    "val recyclables =  items.filterIsInstance<Recyclable>()\n",
    "val bbb = recyclables.map { nameOf(it) }                             // 제너릭 함수 처리 \n",
    "bbb.forEach {print(it +\", \")}  \n",
    "println()\n",
    "val ccc = recyclables.map { it.name() }                              // 제너릭 확장함수 처리 \n",
    "ccc.forEach {print(it + \", \")}  "
   ]
  },
  {
   "cell_type": "code",
   "execution_count": null,
   "id": "b3a5eeae",
   "metadata": {},
   "outputs": [],
   "source": []
  }
 ],
 "metadata": {
  "kernelspec": {
   "display_name": "Kotlin",
   "language": "kotlin",
   "name": "kotlin"
  },
  "language_info": {
   "codemirror_mode": "text/x-kotlin",
   "file_extension": ".kt",
   "mimetype": "text/x-kotlin",
   "name": "kotlin",
   "nbconvert_exporter": "",
   "pygments_lexer": "kotlin",
   "version": "1.8.0-dev-3517"
  }
 },
 "nbformat": 4,
 "nbformat_minor": 5
}
