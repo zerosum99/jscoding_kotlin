{
 "cells": [
  {
   "cell_type": "code",
   "execution_count": null,
   "id": "942beb11",
   "metadata": {},
   "outputs": [],
   "source": []
  },
  {
   "cell_type": "code",
   "execution_count": 1,
   "id": "4a4ff9b6",
   "metadata": {},
   "outputs": [
    {
     "data": {
      "text/plain": [
       "1.8.0"
      ]
     },
     "execution_count": 1,
     "metadata": {},
     "output_type": "execute_result"
    }
   ],
   "source": [
    "KotlinVersion.CURRENT             // 코틀린 현재 버전 "
   ]
  },
  {
   "cell_type": "code",
   "execution_count": 2,
   "id": "3093846e",
   "metadata": {},
   "outputs": [],
   "source": [
    "@file:DependsOn(\"org.jetbrains.kotlinx:kotlinx-coroutines-core:1.6.4\")"
   ]
  },
  {
   "cell_type": "code",
   "execution_count": 3,
   "id": "a2105fd2",
   "metadata": {},
   "outputs": [
    {
     "data": {
      "text/plain": [
       "Current classpath (16 paths):\n",
       "/Users/a06411/opt/anaconda3/envs/kotlin/lib/python3.10/site-packages/run_kotlin_kernel/jars/lib-0.11.0-170.jar\n",
       "/Users/a06411/opt/anaconda3/envs/kotlin/lib/python3.10/site-packages/run_kotlin_kernel/jars/api-0.11.0-170.jar\n",
       "/Users/a06411/opt/anaconda3/envs/kotlin/lib/python3.10/site-packages/run_kotlin_kernel/jars/kotlin-script-runtime-1.8.0-dev-3517.jar\n",
       "/Users/a06411/opt/anaconda3/envs/kotlin/lib/python3.10/site-packages/run_kotlin_kernel/jars/kotlin-reflect-1.7.10.jar\n",
       "/Users/a06411/opt/anaconda3/envs/kotlin/lib/python3.10/site-packages/run_kotlin_kernel/jars/kotlin-stdlib-1.7.10.jar\n",
       "/Users/a06411/opt/anaconda3/envs/kotlin/lib/python3.10/site-packages/run_kotlin_kernel/jars/kotlin-stdlib-common-1.7.10.jar\n",
       "/Users/a06411/opt/anaconda3/envs/kotlin/lib/python3.10/site-packages/run_kotlin_kernel/jars/annotations-13.0.jar\n",
       "/Users/a06411/opt/anaconda3/envs/kotlin/lib/python3.10/site-packages/run_kotlin_kernel/jars/kotlinx-serialization-json-jvm-1.3.3.jar\n",
       "/Users/a06411/opt/anaconda3/envs/kotlin/lib/python3.10/site-packages/run_kotlin_kernel/jars/kotlinx-serialization-core-jvm-1.3.3.jar\n",
       "/Users/a06411/.m2/repository/org/jetbrains/kotlinx/kotlinx-coroutines-core/1.6.4/kotlinx-coroutines-core-1.6.4.jar\n",
       "/Users/a06411/.m2/repository/org/jetbrains/kotlinx/kotlinx-coroutines-core-jvm/1.6.4/kotlinx-coroutines-core-jvm-1.6.4.jar\n",
       "/Users/a06411/.m2/repository/org/jetbrains/kotlin/kotlin-stdlib-jdk8/1.6.21/kotlin-stdlib-jdk8-1.6.21.jar\n",
       "/Users/a06411/.m2/repository/org/jetbrains/kotlin/kotlin-stdlib/1.6.21/kotlin-stdlib-1.6.21.jar\n",
       "/Users/a06411/.m2/repository/org/jetbrains/annotations/13.0/annotations-13.0.jar\n",
       "/Users/a06411/.m2/repository/org/jetbrains/kotlin/kotlin-stdlib-jdk7/1.6.21/kotlin-stdlib-jdk7-1.6.21.jar\n",
       "/Users/a06411/.m2/repository/org/jetbrains/kotlin/kotlin-stdlib-common/1.6.21/kotlin-stdlib-common-1.6.21.jar"
      ]
     },
     "execution_count": 3,
     "metadata": {},
     "output_type": "execute_result"
    }
   ],
   "source": [
    ":classpath"
   ]
  },
  {
   "cell_type": "code",
   "execution_count": 4,
   "id": "75d186e5",
   "metadata": {},
   "outputs": [],
   "source": [
    "import kotlinx.coroutines.*\n",
    "import kotlinx.coroutines.channels.*"
   ]
  },
  {
   "cell_type": "code",
   "execution_count": null,
   "id": "8889ad33",
   "metadata": {},
   "outputs": [],
   "source": []
  },
  {
   "cell_type": "code",
   "execution_count": 15,
   "id": "cc6ff043",
   "metadata": {},
   "outputs": [],
   "source": [
    "// interface ProducerScope<in E>                          // 생성자스코프 \n",
    "// : CoroutineScope, SendChannel<E>                       // 코루틴스코프와 센드채널 상속\n",
    "\n",
    "// fun <E> CoroutineScope.produce(                        // 생산자 빌더 \n",
    "//    context: CoroutineContext = EmptyCoroutineContext,  // 컨텍스트  \n",
    "//    capacity: Int = 0,                                  // 용량\n",
    "//    block: suspend ProducerScope<E>.() -> Unit          // 생산자 스코프의 람다표현식 \n",
    "// ): ReceiveChannel<E>                                   // 수신 채널 "
   ]
  },
  {
   "cell_type": "code",
   "execution_count": 16,
   "id": "a1b030ce",
   "metadata": {},
   "outputs": [
    {
     "name": "stdout",
     "output_type": "stream",
     "text": [
      "class kotlinx.coroutines.channels.ProducerCoroutine\n",
      "1\n",
      "4\n",
      "9\n",
      "16\n",
      "25\n",
      "Done!\n"
     ]
    }
   ],
   "source": [
    "fun CoroutineScope.produceSquares() = produce {      // 코루틴스코프 내의 확장함수 생성 \n",
    "    for (x in 1..5) {\n",
    "        send(x * x)                                  // 값을 하나씩 produce\n",
    "    }\n",
    "}\n",
    "\n",
    "fun main() = runBlocking {\n",
    "    val squares = produceSquares()                   // 생산자 함수 실행 \n",
    "    println(squares.javaClass)                       // 수신자 반환\n",
    "    squares.consumeEach { println(it) }              // 값을 하나씩 consume\n",
    "    println(\"Done!\")\n",
    "}\n",
    "\n",
    "main()"
   ]
  },
  {
   "cell_type": "code",
   "execution_count": null,
   "id": "ff9a1284",
   "metadata": {},
   "outputs": [],
   "source": []
  },
  {
   "cell_type": "code",
   "execution_count": null,
   "id": "4bc3486c",
   "metadata": {},
   "outputs": [],
   "source": []
  }
 ],
 "metadata": {
  "kernelspec": {
   "display_name": "Kotlin",
   "language": "kotlin",
   "name": "kotlin"
  },
  "language_info": {
   "codemirror_mode": "text/x-kotlin",
   "file_extension": ".kt",
   "mimetype": "text/x-kotlin",
   "name": "kotlin",
   "nbconvert_exporter": "",
   "pygments_lexer": "kotlin",
   "version": "1.8.0-dev-3517"
  }
 },
 "nbformat": 4,
 "nbformat_minor": 5
}
