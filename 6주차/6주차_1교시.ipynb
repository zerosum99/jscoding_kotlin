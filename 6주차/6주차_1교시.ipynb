{
 "cells": [
  {
   "cell_type": "markdown",
   "id": "cfc98449",
   "metadata": {},
   "source": [
    "#  코루틴 알아보기\n",
    "\n",
    "13장\n",
    "\n",
    "코루틴, 플로우, 액터 "
   ]
  },
  {
   "cell_type": "code",
   "execution_count": null,
   "id": "942beb11",
   "metadata": {},
   "outputs": [],
   "source": []
  },
  {
   "cell_type": "code",
   "execution_count": 1,
   "id": "4a4ff9b6",
   "metadata": {},
   "outputs": [
    {
     "data": {
      "text/plain": [
       "1.8.0"
      ]
     },
     "execution_count": 1,
     "metadata": {},
     "output_type": "execute_result"
    }
   ],
   "source": [
    "KotlinVersion.CURRENT             // 코틀린 현재 버전 "
   ]
  },
  {
   "cell_type": "code",
   "execution_count": null,
   "id": "3093846e",
   "metadata": {},
   "outputs": [],
   "source": []
  }
 ],
 "metadata": {
  "kernelspec": {
   "display_name": "Kotlin",
   "language": "kotlin",
   "name": "kotlin"
  },
  "language_info": {
   "codemirror_mode": "text/x-kotlin",
   "file_extension": ".kt",
   "mimetype": "text/x-kotlin",
   "name": "kotlin",
   "nbconvert_exporter": "",
   "pygments_lexer": "kotlin",
   "version": "1.8.0-dev-3517"
  }
 },
 "nbformat": 4,
 "nbformat_minor": 5
}
