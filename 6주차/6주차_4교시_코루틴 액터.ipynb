{
 "cells": [
  {
   "cell_type": "code",
   "execution_count": null,
   "id": "942beb11",
   "metadata": {},
   "outputs": [],
   "source": []
  },
  {
   "cell_type": "code",
   "execution_count": 1,
   "id": "4a4ff9b6",
   "metadata": {},
   "outputs": [
    {
     "data": {
      "text/plain": [
       "1.8.0"
      ]
     },
     "execution_count": 1,
     "metadata": {},
     "output_type": "execute_result"
    }
   ],
   "source": [
    "KotlinVersion.CURRENT             // 코틀린 현재 버전 "
   ]
  },
  {
   "cell_type": "code",
   "execution_count": 1,
   "id": "3093846e",
   "metadata": {},
   "outputs": [],
   "source": [
    "@file:DependsOn(\"org.jetbrains.kotlinx:kotlinx-coroutines-core:1.6.4\")"
   ]
  },
  {
   "cell_type": "code",
   "execution_count": 2,
   "id": "6929334d",
   "metadata": {},
   "outputs": [
    {
     "data": {
      "text/plain": [
       "Current classpath (16 paths):\n",
       "/Users/a06411/opt/anaconda3/envs/kotlin/lib/python3.10/site-packages/run_kotlin_kernel/jars/lib-0.11.0-170.jar\n",
       "/Users/a06411/opt/anaconda3/envs/kotlin/lib/python3.10/site-packages/run_kotlin_kernel/jars/api-0.11.0-170.jar\n",
       "/Users/a06411/opt/anaconda3/envs/kotlin/lib/python3.10/site-packages/run_kotlin_kernel/jars/kotlin-script-runtime-1.8.0-dev-3517.jar\n",
       "/Users/a06411/opt/anaconda3/envs/kotlin/lib/python3.10/site-packages/run_kotlin_kernel/jars/kotlin-reflect-1.7.10.jar\n",
       "/Users/a06411/opt/anaconda3/envs/kotlin/lib/python3.10/site-packages/run_kotlin_kernel/jars/kotlin-stdlib-1.7.10.jar\n",
       "/Users/a06411/opt/anaconda3/envs/kotlin/lib/python3.10/site-packages/run_kotlin_kernel/jars/kotlin-stdlib-common-1.7.10.jar\n",
       "/Users/a06411/opt/anaconda3/envs/kotlin/lib/python3.10/site-packages/run_kotlin_kernel/jars/annotations-13.0.jar\n",
       "/Users/a06411/opt/anaconda3/envs/kotlin/lib/python3.10/site-packages/run_kotlin_kernel/jars/kotlinx-serialization-json-jvm-1.3.3.jar\n",
       "/Users/a06411/opt/anaconda3/envs/kotlin/lib/python3.10/site-packages/run_kotlin_kernel/jars/kotlinx-serialization-core-jvm-1.3.3.jar\n",
       "/Users/a06411/.m2/repository/org/jetbrains/kotlinx/kotlinx-coroutines-core/1.6.4/kotlinx-coroutines-core-1.6.4.jar\n",
       "/Users/a06411/.m2/repository/org/jetbrains/kotlinx/kotlinx-coroutines-core-jvm/1.6.4/kotlinx-coroutines-core-jvm-1.6.4.jar\n",
       "/Users/a06411/.m2/repository/org/jetbrains/kotlin/kotlin-stdlib-jdk8/1.6.21/kotlin-stdlib-jdk8-1.6.21.jar\n",
       "/Users/a06411/.m2/repository/org/jetbrains/kotlin/kotlin-stdlib/1.6.21/kotlin-stdlib-1.6.21.jar\n",
       "/Users/a06411/.m2/repository/org/jetbrains/annotations/13.0/annotations-13.0.jar\n",
       "/Users/a06411/.m2/repository/org/jetbrains/kotlin/kotlin-stdlib-jdk7/1.6.21/kotlin-stdlib-jdk7-1.6.21.jar\n",
       "/Users/a06411/.m2/repository/org/jetbrains/kotlin/kotlin-stdlib-common/1.6.21/kotlin-stdlib-common-1.6.21.jar"
      ]
     },
     "execution_count": 2,
     "metadata": {},
     "output_type": "execute_result"
    }
   ],
   "source": [
    ":classpath"
   ]
  },
  {
   "cell_type": "code",
   "execution_count": 5,
   "id": "a654ff39",
   "metadata": {},
   "outputs": [],
   "source": [
    "import kotlinx.coroutines.*\n",
    "import kotlinx.coroutines.channels.actor\n",
    "import kotlinx.coroutines.channels.*"
   ]
  },
  {
   "cell_type": "code",
   "execution_count": null,
   "id": "26d93798",
   "metadata": {},
   "outputs": [],
   "source": []
  },
  {
   "cell_type": "markdown",
   "id": "f15edddc",
   "metadata": {},
   "source": [
    "# 4. 액터 "
   ]
  },
  {
   "cell_type": "code",
   "execution_count": 6,
   "id": "7373365e",
   "metadata": {},
   "outputs": [],
   "source": [
    "// interface ActorScope<E> : CoroutineScope, ReceiveChannel<E>  // 액터스코프는 코루틴과 리스브채널\n",
    "\n",
    "\n",
    "// public fun <E> CoroutineScope.actor(                         // 액터 빌더 \n",
    "//    context: CoroutineContext = EmptyCoroutineContext,        // 컨텍스트\n",
    "//    capacity: Int = 0,                                        // 용량 \n",
    "//    start: CoroutineStart = CoroutineStart.DEFAULT,\n",
    "//    onCompletion: CompletionHandler? = null,                  // 핸들러 \n",
    "//    block: suspend ActorScope<E>.() -> Unit                   // 일시중단 람다표현식 \n",
    "// ): SendChannel<E>                                            // 전송 채널 "
   ]
  },
  {
   "cell_type": "code",
   "execution_count": 7,
   "id": "f440e015",
   "metadata": {},
   "outputs": [
    {
     "name": "stdout",
     "output_type": "stream",
     "text": [
      "1 Thread : Thread-29\n",
      "2 Thread : Thread-29\n",
      "3 Thread : Thread-29\n",
      "4 Thread : Thread-29\n",
      "5 Thread : Thread-29\n",
      " closed \n"
     ]
    }
   ],
   "source": [
    "fun main() = runBlocking {                                      // 런블러킹 스코프 생성 \n",
    "  val actor1 = actor<String>(capacity = 10) {                   // 액터 빌더 \n",
    "    for (data in channel) {                                     // 액터 내부의 수신된 데이터 출력                     \n",
    "      println(data +\" Thread : \" + Thread.currentThread().name)\n",
    "    }\n",
    "  }\n",
    "  (1..5).forEach { \n",
    "      actor1.send(it.toString())                                // 액터에 데이터 전송\n",
    "  }                                                      \n",
    "  actor1.close()                                                // 액터 종료\n",
    "  delay(500L)                                                   // 전체 지연 \n",
    "  println(\" closed \")\n",
    "}\n",
    "\n",
    "main()"
   ]
  },
  {
   "cell_type": "code",
   "execution_count": null,
   "id": "271738f3",
   "metadata": {},
   "outputs": [],
   "source": []
  },
  {
   "cell_type": "code",
   "execution_count": 8,
   "id": "ac0963e4",
   "metadata": {},
   "outputs": [
    {
     "name": "stdout",
     "output_type": "stream",
     "text": [
      "ActorCoroutine\n",
      "수신받은 메시지 : 0\n",
      "수신받은 메시지 : 1\n",
      "수신받은 메시지 : 0\n",
      "수신받은 메시지 : 1\n",
      "수신받은 메시지 : 2\n",
      "result 5\n"
     ]
    },
    {
     "data": {
      "text/plain": [
       "true"
      ]
     },
     "execution_count": 8,
     "metadata": {},
     "output_type": "execute_result"
    }
   ],
   "source": [
    "fun CoroutineScope.actorCounter() = actor<Int> {       // 코루틴 스코프에 액터를 정의 \n",
    "    println(channel::class.simpleName)\n",
    "    var count = 0                                      // actor 로컬 변수\n",
    "    for (msg in channel) {                             // channel을 순회하는 For-loop문\n",
    "        count++                                        // 수신마다 count 로컬변수 값 증가\n",
    "        println(\"수신받은 메시지 : $msg\")                  // 수신마다  출력\n",
    "    }                                                   // channel이 닫히고 for-loop문을 벗어나면 출력\n",
    "    println(\"result $count\")\n",
    "}\n",
    "\n",
    "fun main() = runBlocking {\n",
    "        val counter = actorCounter()                   // 액터 공유 채널 만들기 \n",
    "        val workA = async {                            // 코루틴에서 전달 \n",
    "                repeat(2) {\n",
    "                counter.send(it)                       // 액터에 전송 \n",
    "            }\n",
    "        }\n",
    "        val workB = async {                            // 코루틴에서 전달 \n",
    "               repeat(3) {\n",
    "                    counter.send(it)                   // 액터에 전송 \n",
    "            }\n",
    "        }\n",
    "        workA.await()                                  // 반환값 없음                       \n",
    "        workB.await()\n",
    "        counter.close()                                // 액터 종료\n",
    "}\n",
    "    \n",
    "main()"
   ]
  },
  {
   "cell_type": "code",
   "execution_count": null,
   "id": "8263da65",
   "metadata": {},
   "outputs": [],
   "source": []
  },
  {
   "cell_type": "code",
   "execution_count": 9,
   "id": "7498a90e",
   "metadata": {},
   "outputs": [
    {
     "name": "stdout",
     "output_type": "stream",
     "text": [
      "송신한 메시지 : 0\n",
      "수신받은 메시지 : 0\n",
      "송신한 메시지 : 1\n",
      "수신받은 메시지 : 1\n",
      "송신한 메시지 : 2\n",
      "수신받은 메시지 : 2\n",
      "result 3\n"
     ]
    }
   ],
   "source": [
    "fun CoroutineScope.basicActor() = actor<Int> {\n",
    "    var count = 0                                  // actor 로컬 변수\n",
    "    for (msg in channel) {                         // channel을 순회하는 For-loop문\n",
    "        count++                                    // 수신마다 count 로컬변수 값 증가\n",
    "        println(\"수신받은 메시지 : $msg\")              // 수신마다  출력\n",
    "    }\n",
    "                                                   // channel이 닫히고 for-loop문을 벗어나면 출력\n",
    "    println(\"result $count\")\n",
    "    \n",
    "}\n",
    "                                                   // 0.5초 딜레이를 갖고 3번 채널에 send(송신) 반복\n",
    "val rb = runBlocking {                             // 런블러킹 스코프 정의\n",
    "    val chan = basicActor()                        // 액터 빌더 실행 \n",
    "    repeat(3) {\n",
    "        delay(500)\n",
    "        println(\"송신한 메시지 : $it\")\n",
    "        chan.send(it)                              // 액터에 데이터 전송 \n",
    "    }\n",
    "\n",
    "    chan.close()                                    // 액터 종료\n",
    "}"
   ]
  },
  {
   "cell_type": "code",
   "execution_count": null,
   "id": "c272f056",
   "metadata": {},
   "outputs": [],
   "source": []
  },
  {
   "cell_type": "code",
   "execution_count": 10,
   "id": "dce590e9",
   "metadata": {},
   "outputs": [],
   "source": [
    "sealed class CounterMsg                                       // 모든 메시지 타입의 부모 클래스\n",
    "object IncCounter : CounterMsg()                              // 변수를 1 증가시키라는 메시지\n",
    "class GetCounter(val response: CompletableDeferred<Int>) \n",
    "                            : CounterMsg()                   // 변수의 값을 돌려달라는 메시지"
   ]
  },
  {
   "cell_type": "code",
   "execution_count": 12,
   "id": "a9d0fde4",
   "metadata": {},
   "outputs": [
    {
     "name": "stdout",
     "output_type": "stream",
     "text": [
      "수신메시지 : IncCounter\n",
      "수신 Thread-49\n",
      "수신메시지 : GetCounter\n",
      "송신 Thread-49\n",
      "Counter = 1\n"
     ]
    }
   ],
   "source": [
    "fun CoroutineScope.counterActor() = actor<CounterMsg> {\n",
    "    var counter = 0                                          // 변수 (state)\n",
    "    for (msg in channel) {                                   // 들어오는 메시지를 처리한다.\n",
    "        println(\"수신메시지 : \" + msg::class.simpleName)\n",
    "        when (msg) {\n",
    "            is IncCounter -> { counter++                      // 수신처리\n",
    "                               println(\"수신 \" + Thread.currentThread().name) \n",
    "                             }\n",
    "            is GetCounter -> { msg.response.complete(counter)  // 송신처리\n",
    "                               println(\"송신 \" + Thread.currentThread().name) \n",
    "                              }\n",
    "            else -> println(\"송수신 처리 못함 \" + Thread.currentThread().name)\n",
    "        }\n",
    "    }\n",
    "}\n",
    "\n",
    "fun main() = runBlocking<Unit> {\n",
    "    val counter = counterActor()                              // actor 생성\n",
    "    launch(Dispatchers.Default) {\n",
    "        launch {\n",
    "            counter.send(IncCounter)\n",
    "        }\n",
    "    }\n",
    "                                                             // actor로부터 값을 받는다.\n",
    "    delay(500)\n",
    "    val response = CompletableDeferred<Int>()                // deferred 객체 생성 \n",
    "    counter.send(GetCounter(response))                       // 수신받기 위해 액터에 전송 \n",
    "    println(\"Counter = ${response.await()}\")                 // 수신결과를 확인\n",
    "    delay(1000)\n",
    "    counter.close()                                           // actor 종료\n",
    "}\n",
    "main()"
   ]
  },
  {
   "cell_type": "code",
   "execution_count": null,
   "id": "07582b93",
   "metadata": {},
   "outputs": [],
   "source": []
  },
  {
   "cell_type": "code",
   "execution_count": 13,
   "id": "ac7e1f9a",
   "metadata": {},
   "outputs": [],
   "source": [
    "// interface CompletableDeferred<T> : Deferred<T>         // 비동기 처리의 결과 \n",
    "\n",
    "sealed class Message                                      // 봉인 클래스로 상속관계 명확화 \n",
    "object Receive : Message()                                // 수신 메시지 처리\n",
    "class  Send (val response: CompletableDeferred<Int>)      // 송신 메시지 처리\n",
    "                            : Message()                   // 인자로 deferred 객체 수신 필요"
   ]
  },
  {
   "cell_type": "code",
   "execution_count": 15,
   "id": "4050b894",
   "metadata": {},
   "outputs": [
    {
     "name": "stdout",
     "output_type": "stream",
     "text": [
      "수신메시지 : Receive\n",
      "[ActorCoroutine{Active}@525e3723, Dispatchers.Default]\n",
      "수신 DefaultDispatcher-worker-1\n",
      "수신메시지 : Send\n",
      "[ActorCoroutine{Active}@525e3723, Dispatchers.Default]\n",
      "송신 DefaultDispatcher-worker-1\n",
      "송신되는 값 = 100\n"
     ]
    }
   ],
   "source": [
    "fun CoroutineScope.numsActor() = actor<Message> {\n",
    "    var counter = 0                                         // 내부 상태 관리\n",
    "    for (msg in channel) {                                  // 들어오는 메시지를 처리한다.\n",
    "        println(\"수신메시지 : \" + msg::class.simpleName)\n",
    "        println(coroutineContext)\n",
    "        when (msg) {\n",
    "            is Receive -> {  counter++                      // 내부 값 변경 \n",
    "                           println(\"수신 \" + Thread.currentThread().name) }\n",
    "                                                            //  송신값 처리 \n",
    "            is Send ->     {  msg.response.complete(counter * 100)\n",
    "                            println(\"송신 \" + Thread.currentThread().name) }\n",
    "            else -> println(\"송수신 처리 못함 \" + Thread.currentThread().name)\n",
    "        }\n",
    "    }\n",
    "}\n",
    "\n",
    "fun main() {\n",
    "    GlobalScope.launch(Dispatchers.Default) {\n",
    "        val counter = numsActor()                               // actor 생성\n",
    "        withContext(Dispatchers.Default) {\n",
    "            launch {\n",
    "                counter.send(Receive)                           // 메시지 전송 \n",
    "            }\n",
    "        }\n",
    "        launch {  \n",
    "            delay(300)                                          // actor로부터 값을 받는다.\n",
    "            val response = CompletableDeferred<Int>()\n",
    "            counter.send(Send(response))                        // 반환값을 받기 위한 메시지 전송 \n",
    "            println(\"송신되는 값 = ${response.await()}\")           // Deferred 처리이므로 await로 결과 수신처리\n",
    "        }\n",
    "        delay(2000)\n",
    "        counter.close()                                          // actor 종료\n",
    "    }\n",
    "    Thread.sleep(3000)\n",
    "}\n",
    "\n",
    "main()"
   ]
  },
  {
   "cell_type": "code",
   "execution_count": null,
   "id": "5a260d6f",
   "metadata": {},
   "outputs": [],
   "source": []
  }
 ],
 "metadata": {
  "kernelspec": {
   "display_name": "Kotlin",
   "language": "kotlin",
   "name": "kotlin"
  },
  "language_info": {
   "codemirror_mode": "text/x-kotlin",
   "file_extension": ".kt",
   "mimetype": "text/x-kotlin",
   "name": "kotlin",
   "nbconvert_exporter": "",
   "pygments_lexer": "kotlin",
   "version": "1.8.0-dev-3517"
  }
 },
 "nbformat": 4,
 "nbformat_minor": 5
}
