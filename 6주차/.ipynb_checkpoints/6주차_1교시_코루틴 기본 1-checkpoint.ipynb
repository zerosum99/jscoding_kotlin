{
 "cells": [
  {
   "cell_type": "code",
   "execution_count": null,
   "id": "942beb11",
   "metadata": {},
   "outputs": [],
   "source": []
  },
  {
   "cell_type": "code",
   "execution_count": 1,
   "id": "4a4ff9b6",
   "metadata": {},
   "outputs": [
    {
     "data": {
      "text/plain": [
       "1.8.0"
      ]
     },
     "execution_count": 1,
     "metadata": {},
     "output_type": "execute_result"
    }
   ],
   "source": [
    "KotlinVersion.CURRENT             // 코틀린 현재 버전 "
   ]
  },
  {
   "cell_type": "code",
   "execution_count": 1,
   "id": "3093846e",
   "metadata": {},
   "outputs": [],
   "source": [
    "@file:DependsOn(\"org.jetbrains.kotlinx:kotlinx-coroutines-core:1.6.4\")"
   ]
  },
  {
   "cell_type": "code",
   "execution_count": 2,
   "id": "39a27a50",
   "metadata": {},
   "outputs": [
    {
     "data": {
      "text/plain": [
       "Current classpath (16 paths):\n",
       "/Users/a06411/opt/anaconda3/envs/kotlin/lib/python3.10/site-packages/run_kotlin_kernel/jars/lib-0.11.0-170.jar\n",
       "/Users/a06411/opt/anaconda3/envs/kotlin/lib/python3.10/site-packages/run_kotlin_kernel/jars/api-0.11.0-170.jar\n",
       "/Users/a06411/opt/anaconda3/envs/kotlin/lib/python3.10/site-packages/run_kotlin_kernel/jars/kotlin-script-runtime-1.8.0-dev-3517.jar\n",
       "/Users/a06411/opt/anaconda3/envs/kotlin/lib/python3.10/site-packages/run_kotlin_kernel/jars/kotlin-reflect-1.7.10.jar\n",
       "/Users/a06411/opt/anaconda3/envs/kotlin/lib/python3.10/site-packages/run_kotlin_kernel/jars/kotlin-stdlib-1.7.10.jar\n",
       "/Users/a06411/opt/anaconda3/envs/kotlin/lib/python3.10/site-packages/run_kotlin_kernel/jars/kotlin-stdlib-common-1.7.10.jar\n",
       "/Users/a06411/opt/anaconda3/envs/kotlin/lib/python3.10/site-packages/run_kotlin_kernel/jars/annotations-13.0.jar\n",
       "/Users/a06411/opt/anaconda3/envs/kotlin/lib/python3.10/site-packages/run_kotlin_kernel/jars/kotlinx-serialization-json-jvm-1.3.3.jar\n",
       "/Users/a06411/opt/anaconda3/envs/kotlin/lib/python3.10/site-packages/run_kotlin_kernel/jars/kotlinx-serialization-core-jvm-1.3.3.jar\n",
       "/Users/a06411/.m2/repository/org/jetbrains/kotlinx/kotlinx-coroutines-core/1.6.4/kotlinx-coroutines-core-1.6.4.jar\n",
       "/Users/a06411/.m2/repository/org/jetbrains/kotlinx/kotlinx-coroutines-core-jvm/1.6.4/kotlinx-coroutines-core-jvm-1.6.4.jar\n",
       "/Users/a06411/.m2/repository/org/jetbrains/kotlin/kotlin-stdlib-jdk8/1.6.21/kotlin-stdlib-jdk8-1.6.21.jar\n",
       "/Users/a06411/.m2/repository/org/jetbrains/kotlin/kotlin-stdlib/1.6.21/kotlin-stdlib-1.6.21.jar\n",
       "/Users/a06411/.m2/repository/org/jetbrains/annotations/13.0/annotations-13.0.jar\n",
       "/Users/a06411/.m2/repository/org/jetbrains/kotlin/kotlin-stdlib-jdk7/1.6.21/kotlin-stdlib-jdk7-1.6.21.jar\n",
       "/Users/a06411/.m2/repository/org/jetbrains/kotlin/kotlin-stdlib-common/1.6.21/kotlin-stdlib-common-1.6.21.jar"
      ]
     },
     "execution_count": 2,
     "metadata": {},
     "output_type": "execute_result"
    }
   ],
   "source": [
    ":classpath"
   ]
  },
  {
   "cell_type": "code",
   "execution_count": 10,
   "id": "2a06b7b6",
   "metadata": {},
   "outputs": [],
   "source": [
    "import kotlinx.coroutines.*"
   ]
  },
  {
   "cell_type": "markdown",
   "id": "107ffd4e",
   "metadata": {},
   "source": [
    "# 1. 코루틴 알아보기"
   ]
  },
  {
   "cell_type": "markdown",
   "id": "52df0c57",
   "metadata": {},
   "source": [
    "## 1-1 코루틴 처리 "
   ]
  },
  {
   "cell_type": "code",
   "execution_count": 42,
   "id": "f30ee351",
   "metadata": {},
   "outputs": [],
   "source": [
    "import kotlinx.coroutines.*                               // 코루틴 패키지\n",
    "\n",
    "suspend fun createCoroutines(amount:Int)= runBlocking { \n",
    "    var jobs = ArrayList<Job>()                           // 배열의 작업 결과를 저장\n",
    "    for (i in 1..amount) {\n",
    "        jobs += launch {                                  // 코루틴 처리 후 결과 저장 \n",
    "            print(\"...\")\n",
    "            delay(1000)\n",
    "        }\n",
    "    }\n",
    "    \n",
    "    jobs.forEach {\n",
    "        it.join()                                         // 코루틴 실행할 때까지 기다린다. \n",
    "    }\n",
    "    println()\n",
    "    println(jobs)                                         // 코루틴 처리 결과 \n",
    "}\n",
    "\n",
    "fun main() = runBlocking {\n",
    "    println(\"코루틴 처리 : \" + coroutineContext)             // 코루틴 환경구성 \n",
    "    print(\"start\")\n",
    "    createCoroutines(10)                                  // 코루틴 일시중단함수 실행 \n",
    "    println(\"end\")\n",
    "    println(\"코루틴 처리 : \" + coroutineContext)             // 코루틴 환경구성 \n",
    "}"
   ]
  },
  {
   "cell_type": "code",
   "execution_count": 43,
   "id": "c546feb1",
   "metadata": {},
   "outputs": [
    {
     "name": "stdout",
     "output_type": "stream",
     "text": [
      "코루틴 처리 : [BlockingCoroutine{Active}@30ff7503, BlockingEventLoop@43d6097e]\n",
      "start..............................\n",
      "[StandaloneCoroutine{Completed}@203fc2e4, StandaloneCoroutine{Completed}@5351b264, StandaloneCoroutine{Completed}@16091248, StandaloneCoroutine{Completed}@62710972, StandaloneCoroutine{Completed}@3c07df3a, StandaloneCoroutine{Completed}@621b984c, StandaloneCoroutine{Completed}@3c5e5d15, StandaloneCoroutine{Completed}@560ee975, StandaloneCoroutine{Completed}@54720281, StandaloneCoroutine{Completed}@6a1529bb]\n",
      "end\n",
      "코루틴 처리 : [BlockingCoroutine{Active}@30ff7503, BlockingEventLoop@43d6097e]\n"
     ]
    }
   ],
   "source": [
    "main()"
   ]
  },
  {
   "cell_type": "markdown",
   "id": "5134e9dc",
   "metadata": {},
   "source": [
    "### 일반함수와 일시중단함수를 코루틴에서 처리"
   ]
  },
  {
   "cell_type": "code",
   "execution_count": 25,
   "id": "53e8f27b",
   "metadata": {},
   "outputs": [],
   "source": [
    "fun task1() = println(\"일반함수 task 1 : \" \n",
    "                     + Thread.currentThread().name)       // 첫번째 함수 \n",
    "\n",
    "fun task2() = println(\"일반함수 task 2 : \"                  // 두번째 함수 \n",
    "                     + Thread.currentThread().name)"
   ]
  },
  {
   "cell_type": "code",
   "execution_count": 26,
   "id": "e105a82d",
   "metadata": {},
   "outputs": [],
   "source": [
    "suspend fun task3() =  println(\"일수중단함수 task 3 : \"      // 일시중단함수 정의\n",
    "                     + Thread.currentThread().name)\n",
    "\n",
    "val task4 = suspend {println(\"일시중단함수 task 4 : \"        // 람다표현식도 일시중단함수 정의 가능 \n",
    "                     + Thread.currentThread().name)}"
   ]
  },
  {
   "cell_type": "code",
   "execution_count": 27,
   "id": "f139c3f0",
   "metadata": {},
   "outputs": [
    {
     "name": "stdout",
     "output_type": "stream",
     "text": [
      "코루틴 처리 : [BlockingCoroutine{Active}@3aabc156, BlockingEventLoop@630ed233]\n",
      "일반함수 task 2 : Thread-107\n",
      "일시중단함수 task 4 : Thread-107\n",
      "일반함수 task 1 : Thread-107\n",
      "일수중단함수 task 3 : Thread-107\n"
     ]
    }
   ],
   "source": [
    "val rb = runBlocking { \n",
    "    println(\"코루틴 처리 : \" + coroutineContext)             // 코루틴 환경구성 \n",
    "    launch {                                              // 코루틴 빌더로 함수처리\n",
    "        delay(300)\n",
    "        task1()                                           // 일반함수 호출 \n",
    "    }\n",
    "    launch {                                              // 코루틴 빌더로 함수처리\n",
    "        task2()                                           // 일반함수 호출 \n",
    "        delay(300)\n",
    "    }\n",
    "    launch {                                              // 코루틴 빌더로 함수처리\n",
    "        delay(300)\n",
    "        task3()                                           // 일시중단함수 \n",
    "    }\n",
    "    launch {                                              // 코루틴 빌더로 함수처리\n",
    "        task4()                                           // 일시중단함수\n",
    "        delay(300)\n",
    "    }\n",
    "}                                                         // 메인 스레드 사용"
   ]
  },
  {
   "cell_type": "code",
   "execution_count": null,
   "id": "cb836ebe",
   "metadata": {},
   "outputs": [],
   "source": []
  },
  {
   "cell_type": "markdown",
   "id": "70a32970",
   "metadata": {},
   "source": [
    "## 1-2 디스패처 알아보기¶\n",
    "\n",
    "- Dispatcher는 CoroutineContext를 상속받아 어떤 쓰레드를 이용해서 동작할 것인지 정의해둔 것 입니다.\n",
    "\n",
    "- None : 실행된 코루틴 스코프에게 상속받는다.\n",
    "- Unconfined : 호출 쓰레드에서 실행하지만 멈췄다가 재개할 경우 재개한 쓰레드에서 실행한다.\n",
    "             -> 특정 쓰레드에 국한되지 않는 경우 적합\n",
    "\n",
    "- Main : 메인 쓰레드에서 실행한다.\n",
    "         -> 안드로이드에서 UI를 바꿀 때 적합, Job이 무거우면 부적합\n",
    "\n",
    "- IO : 네트워크, 디스크 사용 할때 사용합니다. 파일 읽고, 쓰고, 소켓을 읽고, 쓰고 작업을 멈추는것에 최적화되어 있습니다.\n",
    "- Default : Thread Pool에 할당한다. (GlobalScope.launch { }도 마찬가지)"
   ]
  },
  {
   "cell_type": "code",
   "execution_count": 68,
   "id": "77f3fb85",
   "metadata": {},
   "outputs": [
    {
     "name": "stdout",
     "output_type": "stream",
     "text": [
      "Unconfined : [StandaloneCoroutine{Active}@4d31e5ae, Dispatchers.Unconfined]\n",
      "launch(Unconfined) : Thread-276\n",
      " IO : [StandaloneCoroutine{Active}@889d322, Dispatchers.IO]\n",
      "launch(IO) : DefaultDispatcher-worker-3\n",
      "Default : [StandaloneCoroutine{Active}@59c0d9b1, Dispatchers.Default]\n",
      " 미지정 일때  : [StandaloneCoroutine{Active}@3f7dfd69, BlockingEventLoop@7d2363bd]\n",
      "launch(Default) : DefaultDispatcher-worker-1\n",
      " launch(미지정) : Thread-276\n"
     ]
    }
   ],
   "source": [
    "fun main() { \n",
    "    runBlocking {\n",
    "        launch {\n",
    "            println(\" 미지정 일때  : \" + coroutineContext)             // 코루틴 환경구성 \n",
    "            println(\" launch(미지정) : ${Thread.currentThread().name}\")\n",
    "        }\n",
    "\n",
    "        launch(Dispatchers.Unconfined) {\n",
    "            println(\"Unconfined : \" + coroutineContext)             // 코루틴 환경구성 \n",
    "            println(\"launch(Unconfined) : ${Thread.currentThread().name}\")\n",
    "        }\n",
    "\n",
    "       //launch(Dispatchers.Main) {   //안드로이드 용\n",
    "       //    println(\"launch(Dispatchers.Main) : ${Thread.currentThread().name}\")\n",
    "       //}\n",
    "\n",
    "        launch(Dispatchers.IO) {\n",
    "            println(\" IO : \" + coroutineContext)             // 코루틴 환경구성 \n",
    "            println(\"launch(IO) : ${Thread.currentThread().name}\")\n",
    "        }\n",
    "\n",
    "        launch(Dispatchers.Default) {\n",
    "            println(\"Default : \" + coroutineContext)             // 코루틴 환경구성 \n",
    "            println(\"launch(Default) : ${Thread.currentThread().name}\")\n",
    "        }\n",
    "    }\n",
    "}\n",
    "\n",
    "main()"
   ]
  },
  {
   "cell_type": "code",
   "execution_count": null,
   "id": "15ad27a4",
   "metadata": {},
   "outputs": [],
   "source": []
  },
  {
   "cell_type": "code",
   "execution_count": 69,
   "id": "470f1b83",
   "metadata": {},
   "outputs": [
    {
     "name": "stdout",
     "output_type": "stream",
     "text": [
      "runBlocking : Thread-280\n",
      "컨텍스트 : [BlockingCoroutine{Active}@7e1af6dd, BlockingEventLoop@6e40b771]\n",
      "상태 : true\n",
      "전역스코프 반환 : StandaloneCoroutine{Active}@799b2c07\n",
      "코르틴 스코프 반환 : StandaloneCoroutine{Active}@62da5992\n",
      "전역스코프 : DefaultDispatcher-worker-1\n",
      "컨텍스트 : [StandaloneCoroutine{Active}@799b2c07, Dispatchers.Default]\n",
      "상태 : true\n",
      "코루틴 스코프 : DefaultDispatcher-worker-1\n",
      "컨텍스트 : [StandaloneCoroutine{Active}@62da5992, Dispatchers.Default]\n",
      "상태 : true\n"
     ]
    }
   ],
   "source": [
    "fun main() = runBlocking {                                     // 런블러킹 컨텍스트 확인 \n",
    "    println(\"runBlocking : ${Thread.currentThread().name}\")    \n",
    "    println(\"컨텍스트 : \" + coroutineContext)                                      \n",
    "    println(\"상태 : \" +isActive)                                // 잡상태 확인\n",
    "    \n",
    "    val g = GlobalScope.launch {                               // 전역스코프 컨텍스트 확인 \n",
    "        delay(300)\n",
    "        println(\"전역스코프 : ${Thread.currentThread().name}\")\n",
    "        println(\"컨텍스트 : \" +coroutineContext)\n",
    "        println(\"상태 : \" +isActive)                            // 잡상태 확인 \n",
    "    }\n",
    "    println(\"전역스코프 반환 : \" + g)\n",
    "    val c =CoroutineScope(Dispatchers.Default).launch {        // 코루틴스코프 컨텍스트 확인\n",
    "        delay(500)\n",
    "        println(\"코루틴 스코프 : ${Thread.currentThread().name}\")\n",
    "        println(\"컨텍스트 : \" +coroutineContext)\n",
    "        println(\"상태 : \" +isActive)                             // 잡상태 확인    \n",
    "    }\n",
    "    println(\"코르틴 스코프 반환 : \" + c)\n",
    "    delay(1000)\n",
    "}\n",
    "\n",
    "main()"
   ]
  },
  {
   "cell_type": "code",
   "execution_count": null,
   "id": "1231cbeb",
   "metadata": {},
   "outputs": [],
   "source": []
  }
 ],
 "metadata": {
  "kernelspec": {
   "display_name": "Kotlin",
   "language": "kotlin",
   "name": "kotlin"
  },
  "language_info": {
   "codemirror_mode": "text/x-kotlin",
   "file_extension": ".kt",
   "mimetype": "text/x-kotlin",
   "name": "kotlin",
   "nbconvert_exporter": "",
   "pygments_lexer": "kotlin",
   "version": "1.8.0-dev-3517"
  }
 },
 "nbformat": 4,
 "nbformat_minor": 5
}
