{
 "cells": [
  {
   "cell_type": "code",
   "execution_count": null,
   "id": "942beb11",
   "metadata": {},
   "outputs": [],
   "source": []
  },
  {
   "cell_type": "code",
   "execution_count": 1,
   "id": "4a4ff9b6",
   "metadata": {},
   "outputs": [
    {
     "data": {
      "text/plain": [
       "1.8.0"
      ]
     },
     "execution_count": 1,
     "metadata": {},
     "output_type": "execute_result"
    }
   ],
   "source": [
    "KotlinVersion.CURRENT             // 코틀린 현재 버전 "
   ]
  },
  {
   "cell_type": "code",
   "execution_count": 2,
   "id": "3093846e",
   "metadata": {},
   "outputs": [],
   "source": [
    "@file:DependsOn(\"org.jetbrains.kotlinx:kotlinx-coroutines-core:1.6.4\")"
   ]
  },
  {
   "cell_type": "code",
   "execution_count": 3,
   "id": "a2105fd2",
   "metadata": {},
   "outputs": [
    {
     "data": {
      "text/plain": [
       "Current classpath (16 paths):\n",
       "/Users/a06411/opt/anaconda3/envs/kotlin/lib/python3.10/site-packages/run_kotlin_kernel/jars/lib-0.11.0-170.jar\n",
       "/Users/a06411/opt/anaconda3/envs/kotlin/lib/python3.10/site-packages/run_kotlin_kernel/jars/api-0.11.0-170.jar\n",
       "/Users/a06411/opt/anaconda3/envs/kotlin/lib/python3.10/site-packages/run_kotlin_kernel/jars/kotlin-script-runtime-1.8.0-dev-3517.jar\n",
       "/Users/a06411/opt/anaconda3/envs/kotlin/lib/python3.10/site-packages/run_kotlin_kernel/jars/kotlin-reflect-1.7.10.jar\n",
       "/Users/a06411/opt/anaconda3/envs/kotlin/lib/python3.10/site-packages/run_kotlin_kernel/jars/kotlin-stdlib-1.7.10.jar\n",
       "/Users/a06411/opt/anaconda3/envs/kotlin/lib/python3.10/site-packages/run_kotlin_kernel/jars/kotlin-stdlib-common-1.7.10.jar\n",
       "/Users/a06411/opt/anaconda3/envs/kotlin/lib/python3.10/site-packages/run_kotlin_kernel/jars/annotations-13.0.jar\n",
       "/Users/a06411/opt/anaconda3/envs/kotlin/lib/python3.10/site-packages/run_kotlin_kernel/jars/kotlinx-serialization-json-jvm-1.3.3.jar\n",
       "/Users/a06411/opt/anaconda3/envs/kotlin/lib/python3.10/site-packages/run_kotlin_kernel/jars/kotlinx-serialization-core-jvm-1.3.3.jar\n",
       "/Users/a06411/.m2/repository/org/jetbrains/kotlinx/kotlinx-coroutines-core/1.6.4/kotlinx-coroutines-core-1.6.4.jar\n",
       "/Users/a06411/.m2/repository/org/jetbrains/kotlinx/kotlinx-coroutines-core-jvm/1.6.4/kotlinx-coroutines-core-jvm-1.6.4.jar\n",
       "/Users/a06411/.m2/repository/org/jetbrains/kotlin/kotlin-stdlib-jdk8/1.6.21/kotlin-stdlib-jdk8-1.6.21.jar\n",
       "/Users/a06411/.m2/repository/org/jetbrains/kotlin/kotlin-stdlib/1.6.21/kotlin-stdlib-1.6.21.jar\n",
       "/Users/a06411/.m2/repository/org/jetbrains/annotations/13.0/annotations-13.0.jar\n",
       "/Users/a06411/.m2/repository/org/jetbrains/kotlin/kotlin-stdlib-jdk7/1.6.21/kotlin-stdlib-jdk7-1.6.21.jar\n",
       "/Users/a06411/.m2/repository/org/jetbrains/kotlin/kotlin-stdlib-common/1.6.21/kotlin-stdlib-common-1.6.21.jar"
      ]
     },
     "execution_count": 3,
     "metadata": {},
     "output_type": "execute_result"
    }
   ],
   "source": [
    ":classpath"
   ]
  },
  {
   "cell_type": "code",
   "execution_count": 4,
   "id": "75d186e5",
   "metadata": {},
   "outputs": [],
   "source": [
    "import kotlinx.coroutines.*\n",
    "import kotlinx.coroutines.channels.*"
   ]
  },
  {
   "cell_type": "markdown",
   "id": "65be9345",
   "metadata": {},
   "source": [
    "# 2 예외처리 "
   ]
  },
  {
   "cell_type": "code",
   "execution_count": null,
   "id": "1adb6fab",
   "metadata": {},
   "outputs": [],
   "source": []
  },
  {
   "cell_type": "code",
   "execution_count": 18,
   "id": "8854e81d",
   "metadata": {},
   "outputs": [
    {
     "name": "stdout",
     "output_type": "stream",
     "text": [
      "코루틴 job 실행 : 0 ...\n",
      "코루틴 job 실행 : 1 ...\n",
      "코루틴 job 실행 : 2 ...\n",
      "메인 처리후 자식 종료\n",
      "중단에 따른 예외 :StandaloneCoroutine was cancelled\n",
      "메인 종료 .\n"
     ]
    }
   ],
   "source": [
    "fun main() = runBlocking {                            // 런블러킹 스코프 구성 \n",
    "    val job = launch {                                  // 자식 코루틴 \n",
    "        try {\n",
    "                repeat(1000) { i ->                     // 1000 개의 작업 \n",
    "                println(\"코루틴 job 실행 : $i ...\")\n",
    "                delay(500L)                             // 일시중단 \n",
    "                }\n",
    "        } catch(e : Exception) {                        // 작업 종료로 예외 발생 \n",
    "                println(\"중단에 따른 예외 :\" + e.message)   // 예외처리 \n",
    "        }\n",
    "    }  \n",
    "    delay(1300L)                                        // 런블러킹 스코프에서 지연\n",
    "    println(\"메인 처리후 자식 종료\")                         //\n",
    "    job.cancel()                                        // 현재 코루틴 작업 종료\n",
    "    job.join()                                         // 코루틴 작업 종료\n",
    "    println(\"메인 종료 .\")\n",
    "}\n",
    "\n",
    "main()"
   ]
  },
  {
   "cell_type": "code",
   "execution_count": null,
   "id": "7134468f",
   "metadata": {},
   "outputs": [],
   "source": []
  },
  {
   "cell_type": "markdown",
   "id": "0b6e3680",
   "metadata": {},
   "source": [
    "## 예외핸들러 정의 및 전달 "
   ]
  },
  {
   "cell_type": "code",
   "execution_count": 19,
   "id": "b9f9f4a3",
   "metadata": {},
   "outputs": [
    {
     "name": "stdout",
     "output_type": "stream",
     "text": [
      "코루틴 실행 \n",
      "첫번째 코루틴 내에서 예외 발생 \n"
     ]
    }
   ],
   "source": [
    "fun main() {\n",
    "    val handler = CoroutineExceptionHandler {                     // 예외처리 핸들러 작성 \n",
    "             _, exception -> println(\"예외처리 : $exception\")}\n",
    "    try {\n",
    "        runBlocking {                                             // 런블러킹 스코프 구성   \n",
    "            val job = launch(handler) {                           // 자식 코루틴 \n",
    "                println(\"코루틴 실행 \")\n",
    "                delay(500L)                                       // 일시중단 \n",
    "                throw Exception(\"첫번째 코루틴 내에서 예외 발생 \")\n",
    "            }\n",
    "            delay(1300L)                                          // 런블러킹 스코프에서 지연\n",
    "            println(\"메인 처리후 자식 종료\")                           //\n",
    "            println(\"메인 종료 .\")\n",
    "        }\n",
    "    } catch (e : Exception) {\n",
    "        println(e.message)\n",
    "    }\n",
    "}\n",
    "\n",
    "main()"
   ]
  },
  {
   "cell_type": "code",
   "execution_count": null,
   "id": "16a6d5d3",
   "metadata": {},
   "outputs": [],
   "source": []
  },
  {
   "cell_type": "code",
   "execution_count": null,
   "id": "3604c52c",
   "metadata": {},
   "outputs": [],
   "source": [
    "## 수퍼바이저 처리 "
   ]
  },
  {
   "cell_type": "code",
   "execution_count": 20,
   "id": "efaafe88",
   "metadata": {},
   "outputs": [
    {
     "name": "stdout",
     "output_type": "stream",
     "text": [
      "메인 처리후 자식 종료\n",
      "코루틴 실행 \n",
      "예외를 다시 전달\n",
      "첫번째 코루틴 내에서 예외 발생 \n",
      "메인 종료 .\n"
     ]
    }
   ],
   "source": [
    "fun main() = runBlocking {\n",
    "\n",
    "    try {  \n",
    "        supervisorScope {                                        // 수퍼바이저스코프로 예외 처리\n",
    "            val job = async  {                                   // 어싱크에서 예외가 발생하면 부모에게 전달 자러\n",
    "                println(\"코루틴 실행 \")\n",
    "                delay(500L)                                       // 일시중단 \n",
    "                throw Exception(\"첫번째 코루틴 내에서 예외 발생 \")       // 예외발생 \n",
    "            }\n",
    "                                                \n",
    "            println(\"메인 처리후 자식 종료\")                           // \n",
    "            try {                                                 // 부모에게 예외를 던져서 실제 처리가 안됨 \n",
    "                job.await()\n",
    "            } catch(e:Exception) {                                // 수퍼바이저스코프로 처리해야 예외전파가 중단됨\n",
    "                println(\"예외를 다시 전달\")                           // 예외를 다시 전달해서 출력됨\n",
    "                println(e.message)\n",
    "            }\n",
    "            println(\"메인 종료 .\")\n",
    "        }\n",
    "    } catch (e : Exception) {                                     // 수퍼바이저스코프 내에서 예외처리해서 \n",
    "        println(\"부모영역까지 예외전달 \")                               // 예외처리하지 않믐\n",
    "        println(e.message)\n",
    "    }\n",
    "}\n",
    "\n",
    "main()"
   ]
  },
  {
   "cell_type": "code",
   "execution_count": null,
   "id": "c0dd11d8",
   "metadata": {},
   "outputs": [],
   "source": []
  },
  {
   "cell_type": "markdown",
   "id": "e7c25c7a",
   "metadata": {},
   "source": [
    "## 수퍼바이저 스코프로 예외처리"
   ]
  },
  {
   "cell_type": "code",
   "execution_count": 21,
   "id": "a5434ab3",
   "metadata": {},
   "outputs": [
    {
     "name": "stdout",
     "output_type": "stream",
     "text": [
      "잠시 중단\n",
      "잠시 중단 2\n",
      "예외 발생 시킴 \n",
      "자식 코루틴 중단처리 \n",
      "예외 갭처  , 자식들에게 전파\n",
      "잠시 중단 3\n",
      "다시 시작 3 \n"
     ]
    }
   ],
   "source": [
    "// suspend fun <R> supervisorScope(                  // 수퍼바이저스코프도 일시중단함수\n",
    "// block: suspend CoroutineScope.() -> R): R         // 매개변수로 람다표현식 받음 \n",
    "\n",
    "fun main31() = runBlocking {                          // 최상위 부모 코루틴\n",
    "    try { \n",
    "        supervisorScope {                             // 수퍼바이저 스코프로 처리 \n",
    "            val firstchild = launch {                 // 첫번째 자식 코루틴 \n",
    "                try { \n",
    "                    println(\"잠시 중단\")                // 실행\n",
    "                    delay(500) \n",
    "                    println(\"다시 시작\")                // 예외발생으로 미실행 \n",
    "                }\n",
    "                finally { \n",
    "                    println(\"자식 코루틴 중단처리 \")       // 예외을 전달을 받아서 처리됨 \n",
    "                } }  \n",
    "            val secondchild = launch {                // 두번째 자식 코루틴 \n",
    "                println(\"잠시 중단 2\")                  // 실행 \n",
    "                delay(1000) \n",
    "                println(\"다시 시작 2\")  }               // 예외 발생으로 미실행\n",
    "            yield() \n",
    "            println(\"예외 발생 시킴 \")                   // 수퍼바이저스코프 자식 코루틴에게만 예외 전달\n",
    "            throw AssertionError(\"자식들에게 전파\")       // 예외 발생 \n",
    "        } \n",
    "    } \n",
    "    catch(e: AssertionError) { \n",
    "        println(\"예외 갭처  , ${e.message}\") \n",
    "    } \n",
    "    val job = GlobalScope.launch {                    // 수퍼바이저스코프와 형제 코루틴 \n",
    "        println(\"잠시 중단 3\")                          // 에외와 상관없이 처리\n",
    "        delay(1000) \n",
    "        println(\"다시 시작 3 \")\n",
    "    }\n",
    "    delay(2000)\n",
    "}\n",
    "main31()"
   ]
  },
  {
   "cell_type": "code",
   "execution_count": null,
   "id": "4d2c90d4",
   "metadata": {},
   "outputs": [],
   "source": []
  },
  {
   "cell_type": "markdown",
   "id": "cd62f26c",
   "metadata": {},
   "source": [
    "## 수퍼바이저 잡 처리"
   ]
  },
  {
   "cell_type": "code",
   "execution_count": 22,
   "id": "80d5d048",
   "metadata": {},
   "outputs": [
    {
     "name": "stdout",
     "output_type": "stream",
     "text": [
      "첫번째 코루틴 실행 \n",
      "예외처리 : java.lang.AssertionError: 첫번째 코루틴 내에서 예외 발생 \n",
      "첫번째 코루틴 상태: true\n",
      "수퍼바이저로 중단 처리 \n",
      "두번째 코루틴 처리 \n"
     ]
    }
   ],
   "source": [
    "// fun SupervisorJob(parent: Job? = null)                            // 수퍼바이저잡 함수 \n",
    "// : CompletableJob                                                  // 잡을 반환\n",
    "// interface CompletableJob : Job                                    // 컴플리터블잡 인터페이스 \n",
    "// interface Job : CoroutineContext.Element                          // 잡도 코루틴 컨텍스트의 엘리먼트\n",
    "fun main32() = runBlocking { \n",
    "    val supervisor = SupervisorJob()                                 // 수퍼바이저 잡 지정 \n",
    "    val handler = CoroutineExceptionHandler {                        // 예외처리 핸들러 작성 \n",
    "             _, exception -> println(\"예외처리 : $exception\")}\n",
    "    try { \n",
    "        with(CoroutineScope(coroutineContext \n",
    "                            + supervisor)) { \n",
    "            val firstChild = launch(handler) {                        // 코루틴에 예외처리 전달 \n",
    "                println(\"첫번째 코루틴 실행 \") \n",
    "                throw AssertionError(\"첫번째 코루틴 내에서 예외 발생 \")      // 예외발생 \n",
    "            } \n",
    "            val secondChild = launch {     \n",
    "                firstChild.join()                                     // 첫번째 코루틴 조인 \n",
    "                println(\"첫번째 코루틴 상태: ${firstChild.isCancelled}\" ) // 첫번째 코루틴 상태 \n",
    "                try { \n",
    "                    delay(Long.MAX_VALUE) \n",
    "                } \n",
    "                finally {                                              // 중단해서 반드시 처리  \n",
    "                    println(\"두번째 코루틴 처리 \") \n",
    "                } \n",
    "            }                                                          \n",
    "            firstChild.join()                                          // 첫번째 코루틴 중\n",
    "            println(\"수퍼바이저로 중단 처리 \") \n",
    "            supervisor.cancel()                                        // 수퍼바이저 중단 \n",
    "            secondChild.join()                                         // 두번째 코루틴 중단  \n",
    "        }\n",
    "    } catch (e: CancellationException) { \n",
    "             println(\"전체 코루틴 완료 !\") \n",
    "    } \n",
    "}\n",
    "main32()"
   ]
  },
  {
   "cell_type": "code",
   "execution_count": null,
   "id": "2bdffef3",
   "metadata": {},
   "outputs": [],
   "source": []
  }
 ],
 "metadata": {
  "kernelspec": {
   "display_name": "Kotlin",
   "language": "kotlin",
   "name": "kotlin"
  },
  "language_info": {
   "codemirror_mode": "text/x-kotlin",
   "file_extension": ".kt",
   "mimetype": "text/x-kotlin",
   "name": "kotlin",
   "nbconvert_exporter": "",
   "pygments_lexer": "kotlin",
   "version": "1.8.0-dev-3517"
  }
 },
 "nbformat": 4,
 "nbformat_minor": 5
}
