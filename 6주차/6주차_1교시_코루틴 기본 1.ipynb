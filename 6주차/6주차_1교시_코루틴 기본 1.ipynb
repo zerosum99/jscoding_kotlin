{
 "cells": [
  {
   "cell_type": "code",
   "execution_count": null,
   "id": "942beb11",
   "metadata": {},
   "outputs": [],
   "source": []
  },
  {
   "cell_type": "code",
   "execution_count": 1,
   "id": "4a4ff9b6",
   "metadata": {},
   "outputs": [
    {
     "data": {
      "text/plain": [
       "1.8.0"
      ]
     },
     "execution_count": 1,
     "metadata": {},
     "output_type": "execute_result"
    }
   ],
   "source": [
    "KotlinVersion.CURRENT             // 코틀린 현재 버전 "
   ]
  },
  {
   "cell_type": "code",
   "execution_count": 2,
   "id": "3093846e",
   "metadata": {},
   "outputs": [],
   "source": [
    "@file:DependsOn(\"org.jetbrains.kotlinx:kotlinx-coroutines-core:1.6.4\")"
   ]
  },
  {
   "cell_type": "code",
   "execution_count": 3,
   "id": "561e08df",
   "metadata": {},
   "outputs": [
    {
     "data": {
      "text/plain": [
       "Current classpath (16 paths):\n",
       "/Users/a06411/opt/anaconda3/envs/kotlin/lib/python3.10/site-packages/run_kotlin_kernel/jars/lib-0.11.0-170.jar\n",
       "/Users/a06411/opt/anaconda3/envs/kotlin/lib/python3.10/site-packages/run_kotlin_kernel/jars/api-0.11.0-170.jar\n",
       "/Users/a06411/opt/anaconda3/envs/kotlin/lib/python3.10/site-packages/run_kotlin_kernel/jars/kotlin-script-runtime-1.8.0-dev-3517.jar\n",
       "/Users/a06411/opt/anaconda3/envs/kotlin/lib/python3.10/site-packages/run_kotlin_kernel/jars/kotlin-reflect-1.7.10.jar\n",
       "/Users/a06411/opt/anaconda3/envs/kotlin/lib/python3.10/site-packages/run_kotlin_kernel/jars/kotlin-stdlib-1.7.10.jar\n",
       "/Users/a06411/opt/anaconda3/envs/kotlin/lib/python3.10/site-packages/run_kotlin_kernel/jars/kotlin-stdlib-common-1.7.10.jar\n",
       "/Users/a06411/opt/anaconda3/envs/kotlin/lib/python3.10/site-packages/run_kotlin_kernel/jars/annotations-13.0.jar\n",
       "/Users/a06411/opt/anaconda3/envs/kotlin/lib/python3.10/site-packages/run_kotlin_kernel/jars/kotlinx-serialization-json-jvm-1.3.3.jar\n",
       "/Users/a06411/opt/anaconda3/envs/kotlin/lib/python3.10/site-packages/run_kotlin_kernel/jars/kotlinx-serialization-core-jvm-1.3.3.jar\n",
       "/Users/a06411/.m2/repository/org/jetbrains/kotlinx/kotlinx-coroutines-core/1.6.4/kotlinx-coroutines-core-1.6.4.jar\n",
       "/Users/a06411/.m2/repository/org/jetbrains/kotlinx/kotlinx-coroutines-core-jvm/1.6.4/kotlinx-coroutines-core-jvm-1.6.4.jar\n",
       "/Users/a06411/.m2/repository/org/jetbrains/kotlin/kotlin-stdlib-jdk8/1.6.21/kotlin-stdlib-jdk8-1.6.21.jar\n",
       "/Users/a06411/.m2/repository/org/jetbrains/kotlin/kotlin-stdlib/1.6.21/kotlin-stdlib-1.6.21.jar\n",
       "/Users/a06411/.m2/repository/org/jetbrains/annotations/13.0/annotations-13.0.jar\n",
       "/Users/a06411/.m2/repository/org/jetbrains/kotlin/kotlin-stdlib-jdk7/1.6.21/kotlin-stdlib-jdk7-1.6.21.jar\n",
       "/Users/a06411/.m2/repository/org/jetbrains/kotlin/kotlin-stdlib-common/1.6.21/kotlin-stdlib-common-1.6.21.jar"
      ]
     },
     "execution_count": 3,
     "metadata": {},
     "output_type": "execute_result"
    }
   ],
   "source": [
    ":classpath"
   ]
  },
  {
   "cell_type": "code",
   "execution_count": 4,
   "id": "69fd6430",
   "metadata": {},
   "outputs": [],
   "source": [
    "import kotlinx.coroutines.*"
   ]
  },
  {
   "cell_type": "markdown",
   "id": "21aedd4a",
   "metadata": {},
   "source": [
    "# 1. 코루틴 알아보기"
   ]
  },
  {
   "cell_type": "markdown",
   "id": "b3aa1c70",
   "metadata": {},
   "source": [
    "## 1-1 코루틴 기본 알아보기"
   ]
  },
  {
   "cell_type": "markdown",
   "id": "e69c1d0a",
   "metadata": {},
   "source": [
    "## 1-1-1 일시중단함수 \n",
    "\n",
    "- 함수 앞에 suspend 키워드를 사용해서 코루틴에서 처리하는 일시 중단함수를 작성할 수 있다. \n",
    "- 보통 일시중단함수는 호출한 순서대로 순차적으로 실행한다.  일시중단할 때 스레드를 블러킹하지 않는다 "
   ]
  },
  {
   "cell_type": "code",
   "execution_count": 5,
   "id": "63863cac",
   "metadata": {},
   "outputs": [],
   "source": [
    "suspend fun getName() : String {\n",
    "    delay(100)\n",
    "    return \"코루틴\"\n",
    "}\n",
    "\n",
    "suspend fun getLastName() : String {\n",
    "    delay(100)\n",
    "    return \"코틀린\"\n",
    "}"
   ]
  },
  {
   "cell_type": "markdown",
   "id": "fe8edf24",
   "metadata": {},
   "source": [
    "### 코루틴이 실행되는 영역을 위해 runBlocking으로 영역을 설정\n",
    "\n",
    "- 코루틴 영역이 설정해야 내부에서 일시중단함수 등이 실행된다. "
   ]
  },
  {
   "cell_type": "code",
   "execution_count": 6,
   "id": "e5698172",
   "metadata": {},
   "outputs": [],
   "source": [
    "fun main() = runBlocking {\n",
    "    val name = getName()\n",
    "    val lastName = getLastName()\n",
    "    println(\"Hello, $name $lastName\")\n",
    "}"
   ]
  },
  {
   "cell_type": "code",
   "execution_count": 7,
   "id": "8898faf2",
   "metadata": {},
   "outputs": [
    {
     "name": "stdout",
     "output_type": "stream",
     "text": [
      "Hello, 코루틴 코틀린\n"
     ]
    }
   ],
   "source": [
    "main()"
   ]
  },
  {
   "cell_type": "markdown",
   "id": "8fe35cf3",
   "metadata": {},
   "source": [
    "### 코루틴 빌더 : 동시에 일시중단함수를 호출하기"
   ]
  },
  {
   "cell_type": "code",
   "execution_count": 8,
   "id": "1803b6da",
   "metadata": {},
   "outputs": [],
   "source": [
    "fun main() = runBlocking {\n",
    "    val name = launch {getName() }\n",
    "    val lastName = launch {getLastName()}\n",
    "    println(\"Hello, $name $lastName\")\n",
    "}"
   ]
  },
  {
   "cell_type": "code",
   "execution_count": 9,
   "id": "8b0c6a89",
   "metadata": {},
   "outputs": [
    {
     "name": "stdout",
     "output_type": "stream",
     "text": [
      "Hello, StandaloneCoroutine{Active}@1c5c84a9 StandaloneCoroutine{Active}@656406e4\n"
     ]
    }
   ],
   "source": [
    "main()"
   ]
  },
  {
   "cell_type": "markdown",
   "id": "7653c5e1",
   "metadata": {},
   "source": [
    "### 코루틴 빌더 : 동시에 실행하고 반환값 처리 "
   ]
  },
  {
   "cell_type": "code",
   "execution_count": 10,
   "id": "fef7372e",
   "metadata": {},
   "outputs": [],
   "source": [
    "fun main() = runBlocking {\n",
    "    val name = async {getName() }\n",
    "    val lastName = async {getLastName()}\n",
    "    println(\"Hello, ${name.await()} ${lastName.await()}\")\n",
    "}"
   ]
  },
  {
   "cell_type": "code",
   "execution_count": 11,
   "id": "1305b9fb",
   "metadata": {},
   "outputs": [
    {
     "name": "stdout",
     "output_type": "stream",
     "text": [
      "Hello, 코루틴 코틀린\n"
     ]
    }
   ],
   "source": [
    "main()"
   ]
  },
  {
   "cell_type": "code",
   "execution_count": null,
   "id": "a738c594",
   "metadata": {},
   "outputs": [],
   "source": []
  },
  {
   "cell_type": "code",
   "execution_count": null,
   "id": "bbf8715c",
   "metadata": {},
   "outputs": [],
   "source": []
  },
  {
   "cell_type": "markdown",
   "id": "087626b5",
   "metadata": {},
   "source": [
    "## 1-1-2 코루틴 빌더로 코루틴 실행 함수 정의 "
   ]
  },
  {
   "cell_type": "code",
   "execution_count": 12,
   "id": "42a05b66",
   "metadata": {},
   "outputs": [],
   "source": [
    "import kotlinx.coroutines.*                               // 코루틴 패키지\n",
    "\n",
    "suspend fun createCoroutines(amount:Int)= runBlocking { \n",
    "    var jobs = ArrayList<Job>()                           // 배열의 작업 결과를 저장\n",
    "    for (i in 1..amount) {\n",
    "        jobs += launch {                                  // 코루틴 처리 후 결과 저장 \n",
    "            print(\"...\")\n",
    "            delay(1000)\n",
    "        }\n",
    "    }\n",
    "    \n",
    "    jobs.forEach {\n",
    "        it.join()                                         // 코루틴 실행할 때까지 기다린다. \n",
    "    }\n",
    "    println()\n",
    "    println(jobs)                                         // 코루틴 처리 결과 \n",
    "}\n"
   ]
  },
  {
   "cell_type": "code",
   "execution_count": 13,
   "id": "c9dfd3b8",
   "metadata": {},
   "outputs": [],
   "source": [
    "fun main() = runBlocking {\n",
    "    println(\"코루틴 처리 : \" + coroutineContext)             // 코루틴 환경구성 \n",
    "    print(\"start\")\n",
    "    createCoroutines(10)                                  // 코루틴 일시중단함수 실행 \n",
    "    println(\"end\")\n",
    "    println(\"코루틴 처리 : \" + coroutineContext)             // 코루틴 환경구성 \n",
    "}"
   ]
  },
  {
   "cell_type": "code",
   "execution_count": 14,
   "id": "d055261f",
   "metadata": {},
   "outputs": [
    {
     "name": "stdout",
     "output_type": "stream",
     "text": [
      "코루틴 처리 : [BlockingCoroutine{Active}@51e68ee, BlockingEventLoop@5fc4e721]\n",
      "start..............................\n",
      "[StandaloneCoroutine{Completed}@42a2e922, StandaloneCoroutine{Completed}@5c2ffffb, StandaloneCoroutine{Completed}@73a98bd2, StandaloneCoroutine{Completed}@570e8451, StandaloneCoroutine{Completed}@2308c6b, StandaloneCoroutine{Completed}@21c37bf1, StandaloneCoroutine{Completed}@1e8b9300, StandaloneCoroutine{Completed}@3d04a08c, StandaloneCoroutine{Completed}@3bd12093, StandaloneCoroutine{Completed}@1f7d8eb]\n",
      "end\n",
      "코루틴 처리 : [BlockingCoroutine{Active}@51e68ee, BlockingEventLoop@5fc4e721]\n"
     ]
    }
   ],
   "source": [
    "main()"
   ]
  },
  {
   "cell_type": "markdown",
   "id": "ccaaf97b",
   "metadata": {},
   "source": [
    "## 1-1-3  일반함수와 일시중단함수를 코루틴에서 처리"
   ]
  },
  {
   "cell_type": "code",
   "execution_count": 15,
   "id": "568e7687",
   "metadata": {},
   "outputs": [],
   "source": [
    "fun task1() = println(\"일반함수 task 1 : \" \n",
    "                     + Thread.currentThread().name)       // 첫번째 함수 \n",
    "\n",
    "fun task2() = println(\"일반함수 task 2 : \"                  // 두번째 함수 \n",
    "                     + Thread.currentThread().name)"
   ]
  },
  {
   "cell_type": "code",
   "execution_count": 16,
   "id": "19985941",
   "metadata": {},
   "outputs": [],
   "source": [
    "suspend fun task3() =  println(\"일수중단함수 task 3 : \"      // 일시중단함수 정의\n",
    "                     + Thread.currentThread().name)\n",
    "\n",
    "val task4 = suspend {println(\"일시중단함수 task 4 : \"        // 람다표현식도 일시중단함수 정의 가능 \n",
    "                     + Thread.currentThread().name)}"
   ]
  },
  {
   "cell_type": "code",
   "execution_count": 17,
   "id": "cf52809a",
   "metadata": {},
   "outputs": [
    {
     "name": "stdout",
     "output_type": "stream",
     "text": [
      "코루틴 처리 : [BlockingCoroutine{Active}@c70acc6, BlockingEventLoop@648c98e6]\n",
      "일반함수 task 2 : Thread-65\n",
      "일시중단함수 task 4 : Thread-65\n",
      "일반함수 task 1 : Thread-65\n",
      "일수중단함수 task 3 : Thread-65\n"
     ]
    }
   ],
   "source": [
    "val rb = runBlocking { \n",
    "    println(\"코루틴 처리 : \" + coroutineContext)             // 코루틴 환경구성 \n",
    "    launch {                                              // 코루틴 빌더로 함수처리\n",
    "        delay(300)\n",
    "        task1()                                           // 일반함수 호출 \n",
    "    }\n",
    "    launch {                                              // 코루틴 빌더로 함수처리\n",
    "        task2()                                           // 일반함수 호출 \n",
    "        delay(300)\n",
    "    }\n",
    "    launch {                                              // 코루틴 빌더로 함수처리\n",
    "        delay(300)\n",
    "        task3()                                           // 일시중단함수 \n",
    "    }\n",
    "    launch {                                              // 코루틴 빌더로 함수처리\n",
    "        task4()                                           // 일시중단함수\n",
    "        delay(300)\n",
    "    }\n",
    "}                                                         // 메인 스레드 사용"
   ]
  },
  {
   "cell_type": "code",
   "execution_count": null,
   "id": "578e3092",
   "metadata": {},
   "outputs": [],
   "source": []
  },
  {
   "cell_type": "markdown",
   "id": "0a6707e0",
   "metadata": {},
   "source": [
    "## 1-2 디스패처 알아보기¶\n",
    "\n",
    "- Dispatcher는 CoroutineContext를 상속받아 어떤 쓰레드를 이용해서 동작할 것인지 정의해둔 것 입니다.\n",
    "\n",
    "- None : 실행된 코루틴 스코프에게 상속받는다.\n",
    "- Unconfined : 호출 쓰레드에서 실행하지만 멈췄다가 재개할 경우 재개한 쓰레드에서 실행한다.\n",
    "             -> 특정 쓰레드에 국한되지 않는 경우 적합\n",
    "\n",
    "- Main : 메인 쓰레드에서 실행한다.\n",
    "         -> 안드로이드에서 UI를 바꿀 때 적합, Job이 무거우면 부적합\n",
    "\n",
    "- IO : 네트워크, 디스크 사용 할때 사용합니다. 파일 읽고, 쓰고, 소켓을 읽고, 쓰고 작업을 멈추는것에 최적화되어 있습니다.\n",
    "- Default : Thread Pool에 할당한다. (GlobalScope.launch { }도 마찬가지)"
   ]
  },
  {
   "cell_type": "markdown",
   "id": "6c4be764",
   "metadata": {},
   "source": [
    "## 1-2-1 디스패처 상태 확인하기 "
   ]
  },
  {
   "cell_type": "code",
   "execution_count": 18,
   "id": "53af4550",
   "metadata": {},
   "outputs": [
    {
     "name": "stdout",
     "output_type": "stream",
     "text": [
      "Unconfined : [StandaloneCoroutine{Active}@53bc7769, Dispatchers.Unconfined]\n",
      "launch(Unconfined) : Thread-69\n",
      " IO : [StandaloneCoroutine{Active}@59d9ea19, Dispatchers.IO]\n",
      "launch(IO) : DefaultDispatcher-worker-1\n",
      "Default : [StandaloneCoroutine{Active}@7f96a50b, Dispatchers.Default]\n",
      " 미지정 일때  : [StandaloneCoroutine{Active}@6d290f28, BlockingEventLoop@6ae0f1ce]\n",
      "launch(Default) : DefaultDispatcher-worker-3\n",
      " launch(미지정) : Thread-69\n"
     ]
    }
   ],
   "source": [
    "fun main() { \n",
    "    runBlocking {\n",
    "        launch {\n",
    "            println(\" 미지정 일때  : \" + coroutineContext)             // 코루틴 환경구성 \n",
    "            println(\" launch(미지정) : ${Thread.currentThread().name}\")\n",
    "        }\n",
    "\n",
    "        launch(Dispatchers.Unconfined) {\n",
    "            println(\"Unconfined : \" + coroutineContext)             // 코루틴 환경구성 \n",
    "            println(\"launch(Unconfined) : ${Thread.currentThread().name}\")\n",
    "        }\n",
    "\n",
    "       //launch(Dispatchers.Main) {   //안드로이드 용\n",
    "       //    println(\"launch(Dispatchers.Main) : ${Thread.currentThread().name}\")\n",
    "       //}\n",
    "\n",
    "        launch(Dispatchers.IO) {\n",
    "            println(\" IO : \" + coroutineContext)             // 코루틴 환경구성 \n",
    "            println(\"launch(IO) : ${Thread.currentThread().name}\")\n",
    "        }\n",
    "\n",
    "        launch(Dispatchers.Default) {\n",
    "            println(\"Default : \" + coroutineContext)             // 코루틴 환경구성 \n",
    "            println(\"launch(Default) : ${Thread.currentThread().name}\")\n",
    "        }\n",
    "    }\n",
    "}\n",
    "\n",
    "main()"
   ]
  },
  {
   "cell_type": "markdown",
   "id": "41595526",
   "metadata": {},
   "source": [
    "## 1-2-2 코루틴 컨텍스트 조회하기 "
   ]
  },
  {
   "cell_type": "code",
   "execution_count": 19,
   "id": "b2c92ddd",
   "metadata": {},
   "outputs": [
    {
     "name": "stdout",
     "output_type": "stream",
     "text": [
      "runBlocking : Thread-76\n",
      "컨텍스트 : [BlockingCoroutine{Active}@6466089a, BlockingEventLoop@4a93974c]\n",
      "상태 : true\n",
      "전역스코프 반환 : StandaloneCoroutine{Active}@19498c3a\n",
      "코르틴 스코프 반환 : StandaloneCoroutine{Active}@50ae342c\n",
      "전역스코프 : DefaultDispatcher-worker-3\n",
      "컨텍스트 : [StandaloneCoroutine{Active}@19498c3a, Dispatchers.Default]\n",
      "상태 : true\n",
      "코루틴 스코프 : DefaultDispatcher-worker-3\n",
      "컨텍스트 : [StandaloneCoroutine{Active}@50ae342c, Dispatchers.Default]\n",
      "상태 : true\n"
     ]
    }
   ],
   "source": [
    "fun main() = runBlocking {                                     // 런블러킹 컨텍스트 확인 \n",
    "    println(\"runBlocking : ${Thread.currentThread().name}\")    \n",
    "    println(\"컨텍스트 : \" + coroutineContext)                                      \n",
    "    println(\"상태 : \" +isActive)                                // 잡상태 확인\n",
    "    \n",
    "    val g = GlobalScope.launch {                               // 전역스코프 컨텍스트 확인 \n",
    "        delay(300)\n",
    "        println(\"전역스코프 : ${Thread.currentThread().name}\")\n",
    "        println(\"컨텍스트 : \" +coroutineContext)\n",
    "        println(\"상태 : \" +isActive)                            // 잡상태 확인 \n",
    "    }\n",
    "    println(\"전역스코프 반환 : \" + g)\n",
    "    val c =CoroutineScope(Dispatchers.Default).launch {        // 코루틴스코프 컨텍스트 확인\n",
    "        delay(500)\n",
    "        println(\"코루틴 스코프 : ${Thread.currentThread().name}\")\n",
    "        println(\"컨텍스트 : \" +coroutineContext)\n",
    "        println(\"상태 : \" +isActive)                             // 잡상태 확인    \n",
    "    }\n",
    "    println(\"코르틴 스코프 반환 : \" + c)\n",
    "    delay(1000)\n",
    "}\n",
    "\n",
    "main()"
   ]
  },
  {
   "cell_type": "code",
   "execution_count": null,
   "id": "856883b2",
   "metadata": {},
   "outputs": [],
   "source": []
  },
  {
   "cell_type": "markdown",
   "id": "c983d83e",
   "metadata": {},
   "source": [
    "## 1-2-3  스레드와 코루틴 실행 비교하기 "
   ]
  },
  {
   "cell_type": "code",
   "execution_count": 20,
   "id": "92e5da34",
   "metadata": {},
   "outputs": [
    {
     "name": "stdout",
     "output_type": "stream",
     "text": [
      "쓰레드 처리  : 0 Thread-81\n",
      "코루틴처리   : 0 DefaultDispatcher-worker-3\n",
      "쓰레드 처리  : 1 Thread-81\n",
      "코루틴처리   : 1 DefaultDispatcher-worker-3\n",
      "코루틴처리   : 2 DefaultDispatcher-worker-3\n",
      "쓰레드 처리  : 2 Thread-81\n"
     ]
    }
   ],
   "source": [
    "fun main() {\n",
    "    Thread(Runnable {                                   // 3개의 러너블 객체를 만들어서 스레드 처리               \n",
    "        for (i in 0..2) {\n",
    "            println(\"쓰레드 처리  : $i \"                   // 3개의 쓰레드를 처리 \n",
    "                    + Thread.currentThread().name)\n",
    "            Thread.sleep(500L)                          // 스레드 중단 : 현재 스레드 일시중단 \n",
    "        }\n",
    "    }).start()                                          // start 메소드로 스레드 시작\n",
    "\n",
    "    GlobalScope.launch {                                // 코루틴 전역스코프로 처리 \n",
    "        repeat(3) {                                     // 3개의 일지중단함수 만들고 코루틴 생성 \n",
    "            println(\"코루틴처리   : $it \" \n",
    "                    + Thread.currentThread().name)      // 코루틴 내의 dispatchre로 처리 \n",
    "            delay(500L)                                 // 일시 중단 다른 작업 수행 \n",
    "        }\n",
    "    }\n",
    "    \n",
    "    Thread.sleep(3000L)                                 // 어플리케이션 중단 \n",
    "}\n",
    "\n",
    "main()"
   ]
  },
  {
   "cell_type": "code",
   "execution_count": null,
   "id": "951965b5",
   "metadata": {},
   "outputs": [],
   "source": []
  }
 ],
 "metadata": {
  "kernelspec": {
   "display_name": "Kotlin",
   "language": "kotlin",
   "name": "kotlin"
  },
  "language_info": {
   "codemirror_mode": "text/x-kotlin",
   "file_extension": ".kt",
   "mimetype": "text/x-kotlin",
   "name": "kotlin",
   "nbconvert_exporter": "",
   "pygments_lexer": "kotlin",
   "version": "1.8.0-dev-3517"
  }
 },
 "nbformat": 4,
 "nbformat_minor": 5
}
