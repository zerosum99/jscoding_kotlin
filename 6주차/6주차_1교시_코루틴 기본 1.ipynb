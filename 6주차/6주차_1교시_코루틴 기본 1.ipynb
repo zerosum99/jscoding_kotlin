{
 "cells": [
  {
   "cell_type": "code",
   "execution_count": null,
   "id": "942beb11",
   "metadata": {},
   "outputs": [],
   "source": []
  },
  {
   "cell_type": "code",
   "execution_count": 1,
   "id": "4a4ff9b6",
   "metadata": {},
   "outputs": [
    {
     "data": {
      "text/plain": [
       "1.8.0"
      ]
     },
     "execution_count": 1,
     "metadata": {},
     "output_type": "execute_result"
    }
   ],
   "source": [
    "KotlinVersion.CURRENT             // 코틀린 현재 버전 "
   ]
  },
  {
   "cell_type": "code",
   "execution_count": 2,
   "id": "3093846e",
   "metadata": {},
   "outputs": [],
   "source": [
    "@file:DependsOn(\"org.jetbrains.kotlinx:kotlinx-coroutines-core:1.6.4\")"
   ]
  },
  {
   "cell_type": "code",
   "execution_count": 3,
   "id": "561e08df",
   "metadata": {},
   "outputs": [
    {
     "data": {
      "text/plain": [
       "Current classpath (16 paths):\n",
       "/Users/a06411/opt/anaconda3/envs/kotlin/lib/python3.10/site-packages/run_kotlin_kernel/jars/lib-0.11.0-170.jar\n",
       "/Users/a06411/opt/anaconda3/envs/kotlin/lib/python3.10/site-packages/run_kotlin_kernel/jars/api-0.11.0-170.jar\n",
       "/Users/a06411/opt/anaconda3/envs/kotlin/lib/python3.10/site-packages/run_kotlin_kernel/jars/kotlin-script-runtime-1.8.0-dev-3517.jar\n",
       "/Users/a06411/opt/anaconda3/envs/kotlin/lib/python3.10/site-packages/run_kotlin_kernel/jars/kotlin-reflect-1.7.10.jar\n",
       "/Users/a06411/opt/anaconda3/envs/kotlin/lib/python3.10/site-packages/run_kotlin_kernel/jars/kotlin-stdlib-1.7.10.jar\n",
       "/Users/a06411/opt/anaconda3/envs/kotlin/lib/python3.10/site-packages/run_kotlin_kernel/jars/kotlin-stdlib-common-1.7.10.jar\n",
       "/Users/a06411/opt/anaconda3/envs/kotlin/lib/python3.10/site-packages/run_kotlin_kernel/jars/annotations-13.0.jar\n",
       "/Users/a06411/opt/anaconda3/envs/kotlin/lib/python3.10/site-packages/run_kotlin_kernel/jars/kotlinx-serialization-json-jvm-1.3.3.jar\n",
       "/Users/a06411/opt/anaconda3/envs/kotlin/lib/python3.10/site-packages/run_kotlin_kernel/jars/kotlinx-serialization-core-jvm-1.3.3.jar\n",
       "/Users/a06411/.m2/repository/org/jetbrains/kotlinx/kotlinx-coroutines-core/1.6.4/kotlinx-coroutines-core-1.6.4.jar\n",
       "/Users/a06411/.m2/repository/org/jetbrains/kotlinx/kotlinx-coroutines-core-jvm/1.6.4/kotlinx-coroutines-core-jvm-1.6.4.jar\n",
       "/Users/a06411/.m2/repository/org/jetbrains/kotlin/kotlin-stdlib-jdk8/1.6.21/kotlin-stdlib-jdk8-1.6.21.jar\n",
       "/Users/a06411/.m2/repository/org/jetbrains/kotlin/kotlin-stdlib/1.6.21/kotlin-stdlib-1.6.21.jar\n",
       "/Users/a06411/.m2/repository/org/jetbrains/annotations/13.0/annotations-13.0.jar\n",
       "/Users/a06411/.m2/repository/org/jetbrains/kotlin/kotlin-stdlib-jdk7/1.6.21/kotlin-stdlib-jdk7-1.6.21.jar\n",
       "/Users/a06411/.m2/repository/org/jetbrains/kotlin/kotlin-stdlib-common/1.6.21/kotlin-stdlib-common-1.6.21.jar"
      ]
     },
     "execution_count": 3,
     "metadata": {},
     "output_type": "execute_result"
    }
   ],
   "source": [
    ":classpath"
   ]
  },
  {
   "cell_type": "code",
   "execution_count": 4,
   "id": "69fd6430",
   "metadata": {},
   "outputs": [],
   "source": [
    "import kotlinx.coroutines.*"
   ]
  },
  {
   "cell_type": "markdown",
   "id": "21aedd4a",
   "metadata": {},
   "source": [
    "# 1. 코루틴 알아보기"
   ]
  },
  {
   "cell_type": "markdown",
   "id": "e69c1d0a",
   "metadata": {},
   "source": [
    "## 1-1 코루틴 처리 "
   ]
  },
  {
   "cell_type": "code",
   "execution_count": 5,
   "id": "42a05b66",
   "metadata": {},
   "outputs": [],
   "source": [
    "import kotlinx.coroutines.*                               // 코루틴 패키지\n",
    "\n",
    "suspend fun createCoroutines(amount:Int)= runBlocking { \n",
    "    var jobs = ArrayList<Job>()                           // 배열의 작업 결과를 저장\n",
    "    for (i in 1..amount) {\n",
    "        jobs += launch {                                  // 코루틴 처리 후 결과 저장 \n",
    "            print(\"...\")\n",
    "            delay(1000)\n",
    "        }\n",
    "    }\n",
    "    \n",
    "    jobs.forEach {\n",
    "        it.join()                                         // 코루틴 실행할 때까지 기다린다. \n",
    "    }\n",
    "    println()\n",
    "    println(jobs)                                         // 코루틴 처리 결과 \n",
    "}\n",
    "\n",
    "fun main() = runBlocking {\n",
    "    println(\"코루틴 처리 : \" + coroutineContext)             // 코루틴 환경구성 \n",
    "    print(\"start\")\n",
    "    createCoroutines(10)                                  // 코루틴 일시중단함수 실행 \n",
    "    println(\"end\")\n",
    "    println(\"코루틴 처리 : \" + coroutineContext)             // 코루틴 환경구성 \n",
    "}"
   ]
  },
  {
   "cell_type": "code",
   "execution_count": 6,
   "id": "d055261f",
   "metadata": {},
   "outputs": [
    {
     "name": "stdout",
     "output_type": "stream",
     "text": [
      "코루틴 처리 : [BlockingCoroutine{Active}@3da29192, BlockingEventLoop@195b04f0]\n",
      "start..............................\n",
      "[StandaloneCoroutine{Completed}@319636b5, StandaloneCoroutine{Completed}@6fd43414, StandaloneCoroutine{Completed}@3728b62c, StandaloneCoroutine{Completed}@57efcc7d, StandaloneCoroutine{Completed}@574c6bab, StandaloneCoroutine{Completed}@197681c2, StandaloneCoroutine{Completed}@6b9dcd16, StandaloneCoroutine{Completed}@42b8683c, StandaloneCoroutine{Completed}@769d52f3, StandaloneCoroutine{Completed}@5b48a573]\n",
      "end\n",
      "코루틴 처리 : [BlockingCoroutine{Active}@3da29192, BlockingEventLoop@195b04f0]\n"
     ]
    }
   ],
   "source": [
    "main()"
   ]
  },
  {
   "cell_type": "markdown",
   "id": "ccaaf97b",
   "metadata": {},
   "source": [
    "### 일반함수와 일시중단함수를 코루틴에서 처리"
   ]
  },
  {
   "cell_type": "code",
   "execution_count": 7,
   "id": "568e7687",
   "metadata": {},
   "outputs": [],
   "source": [
    "fun task1() = println(\"일반함수 task 1 : \" \n",
    "                     + Thread.currentThread().name)       // 첫번째 함수 \n",
    "\n",
    "fun task2() = println(\"일반함수 task 2 : \"                  // 두번째 함수 \n",
    "                     + Thread.currentThread().name)"
   ]
  },
  {
   "cell_type": "code",
   "execution_count": 8,
   "id": "19985941",
   "metadata": {},
   "outputs": [],
   "source": [
    "suspend fun task3() =  println(\"일수중단함수 task 3 : \"      // 일시중단함수 정의\n",
    "                     + Thread.currentThread().name)\n",
    "\n",
    "val task4 = suspend {println(\"일시중단함수 task 4 : \"        // 람다표현식도 일시중단함수 정의 가능 \n",
    "                     + Thread.currentThread().name)}"
   ]
  },
  {
   "cell_type": "code",
   "execution_count": 9,
   "id": "cf52809a",
   "metadata": {},
   "outputs": [
    {
     "name": "stdout",
     "output_type": "stream",
     "text": [
      "코루틴 처리 : [BlockingCoroutine{Active}@326ec8e7, BlockingEventLoop@75d78b75]\n",
      "일반함수 task 2 : Thread-33\n",
      "일시중단함수 task 4 : Thread-33\n",
      "일반함수 task 1 : Thread-33\n",
      "일수중단함수 task 3 : Thread-33\n"
     ]
    }
   ],
   "source": [
    "val rb = runBlocking { \n",
    "    println(\"코루틴 처리 : \" + coroutineContext)             // 코루틴 환경구성 \n",
    "    launch {                                              // 코루틴 빌더로 함수처리\n",
    "        delay(300)\n",
    "        task1()                                           // 일반함수 호출 \n",
    "    }\n",
    "    launch {                                              // 코루틴 빌더로 함수처리\n",
    "        task2()                                           // 일반함수 호출 \n",
    "        delay(300)\n",
    "    }\n",
    "    launch {                                              // 코루틴 빌더로 함수처리\n",
    "        delay(300)\n",
    "        task3()                                           // 일시중단함수 \n",
    "    }\n",
    "    launch {                                              // 코루틴 빌더로 함수처리\n",
    "        task4()                                           // 일시중단함수\n",
    "        delay(300)\n",
    "    }\n",
    "}                                                         // 메인 스레드 사용"
   ]
  },
  {
   "cell_type": "code",
   "execution_count": null,
   "id": "578e3092",
   "metadata": {},
   "outputs": [],
   "source": []
  },
  {
   "cell_type": "markdown",
   "id": "0a6707e0",
   "metadata": {},
   "source": [
    "## 1-2 디스패처 알아보기¶\n",
    "\n",
    "- Dispatcher는 CoroutineContext를 상속받아 어떤 쓰레드를 이용해서 동작할 것인지 정의해둔 것 입니다.\n",
    "\n",
    "- None : 실행된 코루틴 스코프에게 상속받는다.\n",
    "- Unconfined : 호출 쓰레드에서 실행하지만 멈췄다가 재개할 경우 재개한 쓰레드에서 실행한다.\n",
    "             -> 특정 쓰레드에 국한되지 않는 경우 적합\n",
    "\n",
    "- Main : 메인 쓰레드에서 실행한다.\n",
    "         -> 안드로이드에서 UI를 바꿀 때 적합, Job이 무거우면 부적합\n",
    "\n",
    "- IO : 네트워크, 디스크 사용 할때 사용합니다. 파일 읽고, 쓰고, 소켓을 읽고, 쓰고 작업을 멈추는것에 최적화되어 있습니다.\n",
    "- Default : Thread Pool에 할당한다. (GlobalScope.launch { }도 마찬가지)"
   ]
  },
  {
   "cell_type": "code",
   "execution_count": 10,
   "id": "53af4550",
   "metadata": {},
   "outputs": [
    {
     "name": "stdout",
     "output_type": "stream",
     "text": [
      "Unconfined : [StandaloneCoroutine{Active}@558f38f9, Dispatchers.Unconfined]\n",
      "launch(Unconfined) : Thread-37\n",
      " IO : [StandaloneCoroutine{Active}@423608be, Dispatchers.IO]\n",
      " 미지정 일때  : [StandaloneCoroutine{Active}@18204ca8, BlockingEventLoop@169e61c8]\n",
      "Default : [StandaloneCoroutine{Active}@7c6c3b2d, Dispatchers.Default]\n",
      "launch(IO) : DefaultDispatcher-worker-1\n",
      "launch(Default) : DefaultDispatcher-worker-3\n",
      " launch(미지정) : Thread-37\n"
     ]
    }
   ],
   "source": [
    "fun main() { \n",
    "    runBlocking {\n",
    "        launch {\n",
    "            println(\" 미지정 일때  : \" + coroutineContext)             // 코루틴 환경구성 \n",
    "            println(\" launch(미지정) : ${Thread.currentThread().name}\")\n",
    "        }\n",
    "\n",
    "        launch(Dispatchers.Unconfined) {\n",
    "            println(\"Unconfined : \" + coroutineContext)             // 코루틴 환경구성 \n",
    "            println(\"launch(Unconfined) : ${Thread.currentThread().name}\")\n",
    "        }\n",
    "\n",
    "       //launch(Dispatchers.Main) {   //안드로이드 용\n",
    "       //    println(\"launch(Dispatchers.Main) : ${Thread.currentThread().name}\")\n",
    "       //}\n",
    "\n",
    "        launch(Dispatchers.IO) {\n",
    "            println(\" IO : \" + coroutineContext)             // 코루틴 환경구성 \n",
    "            println(\"launch(IO) : ${Thread.currentThread().name}\")\n",
    "        }\n",
    "\n",
    "        launch(Dispatchers.Default) {\n",
    "            println(\"Default : \" + coroutineContext)             // 코루틴 환경구성 \n",
    "            println(\"launch(Default) : ${Thread.currentThread().name}\")\n",
    "        }\n",
    "    }\n",
    "}\n",
    "\n",
    "main()"
   ]
  },
  {
   "cell_type": "code",
   "execution_count": null,
   "id": "031aee27",
   "metadata": {},
   "outputs": [],
   "source": []
  },
  {
   "cell_type": "code",
   "execution_count": 11,
   "id": "b2c92ddd",
   "metadata": {},
   "outputs": [
    {
     "name": "stdout",
     "output_type": "stream",
     "text": [
      "runBlocking : Thread-44\n",
      "컨텍스트 : [BlockingCoroutine{Active}@7810f788, BlockingEventLoop@4a7562ce]\n",
      "상태 : true\n",
      "전역스코프 반환 : StandaloneCoroutine{Active}@7a40ce5d\n",
      "코르틴 스코프 반환 : StandaloneCoroutine{Active}@538880b8\n",
      "전역스코프 : DefaultDispatcher-worker-3\n",
      "컨텍스트 : [StandaloneCoroutine{Active}@7a40ce5d, Dispatchers.Default]\n",
      "상태 : true\n",
      "코루틴 스코프 : DefaultDispatcher-worker-3\n",
      "컨텍스트 : [StandaloneCoroutine{Active}@538880b8, Dispatchers.Default]\n",
      "상태 : true\n"
     ]
    }
   ],
   "source": [
    "fun main() = runBlocking {                                     // 런블러킹 컨텍스트 확인 \n",
    "    println(\"runBlocking : ${Thread.currentThread().name}\")    \n",
    "    println(\"컨텍스트 : \" + coroutineContext)                                      \n",
    "    println(\"상태 : \" +isActive)                                // 잡상태 확인\n",
    "    \n",
    "    val g = GlobalScope.launch {                               // 전역스코프 컨텍스트 확인 \n",
    "        delay(300)\n",
    "        println(\"전역스코프 : ${Thread.currentThread().name}\")\n",
    "        println(\"컨텍스트 : \" +coroutineContext)\n",
    "        println(\"상태 : \" +isActive)                            // 잡상태 확인 \n",
    "    }\n",
    "    println(\"전역스코프 반환 : \" + g)\n",
    "    val c =CoroutineScope(Dispatchers.Default).launch {        // 코루틴스코프 컨텍스트 확인\n",
    "        delay(500)\n",
    "        println(\"코루틴 스코프 : ${Thread.currentThread().name}\")\n",
    "        println(\"컨텍스트 : \" +coroutineContext)\n",
    "        println(\"상태 : \" +isActive)                             // 잡상태 확인    \n",
    "    }\n",
    "    println(\"코르틴 스코프 반환 : \" + c)\n",
    "    delay(1000)\n",
    "}\n",
    "\n",
    "main()"
   ]
  },
  {
   "cell_type": "code",
   "execution_count": null,
   "id": "856883b2",
   "metadata": {},
   "outputs": [],
   "source": []
  },
  {
   "cell_type": "code",
   "execution_count": null,
   "id": "42fa3ed0",
   "metadata": {},
   "outputs": [],
   "source": []
  },
  {
   "cell_type": "code",
   "execution_count": 12,
   "id": "92e5da34",
   "metadata": {},
   "outputs": [
    {
     "name": "stdout",
     "output_type": "stream",
     "text": [
      "쓰레드 처리  : 0 Thread-51\n",
      "코루틴처리   : 0 DefaultDispatcher-worker-3\n",
      "쓰레드 처리  : 1 Thread-51\n",
      "코루틴처리   : 1 DefaultDispatcher-worker-3\n",
      "쓰레드 처리  : 2 Thread-51\n",
      "코루틴처리   : 2 DefaultDispatcher-worker-3\n"
     ]
    }
   ],
   "source": [
    "fun main() {\n",
    "    Thread(Runnable {                                   // 3개의 러너블 객체를 만들어서 스레드 처리               \n",
    "        for (i in 0..2) {\n",
    "            println(\"쓰레드 처리  : $i \"                   // 3개의 쓰레드를 처리 \n",
    "                    + Thread.currentThread().name)\n",
    "            Thread.sleep(500L)                          // 스레드 중단 : 현재 스레드 일시중단 \n",
    "        }\n",
    "    }).start()                                          // start 메소드로 스레드 시작\n",
    "\n",
    "    GlobalScope.launch {                                // 코루틴 전역스코프로 처리 \n",
    "        repeat(3) {                                     // 3개의 일지중단함수 만들고 코루틴 생성 \n",
    "            println(\"코루틴처리   : $it \" \n",
    "                    + Thread.currentThread().name)      // 코루틴 내의 dispatchre로 처리 \n",
    "            delay(500L)                                 // 일시 중단 다른 작업 수행 \n",
    "        }\n",
    "    }\n",
    "    \n",
    "    Thread.sleep(3000L)                                 // 어플리케이션 중단 \n",
    "}\n",
    "\n",
    "main()"
   ]
  },
  {
   "cell_type": "code",
   "execution_count": null,
   "id": "951965b5",
   "metadata": {},
   "outputs": [],
   "source": []
  }
 ],
 "metadata": {
  "kernelspec": {
   "display_name": "Kotlin",
   "language": "kotlin",
   "name": "kotlin"
  },
  "language_info": {
   "codemirror_mode": "text/x-kotlin",
   "file_extension": ".kt",
   "mimetype": "text/x-kotlin",
   "name": "kotlin",
   "nbconvert_exporter": "",
   "pygments_lexer": "kotlin",
   "version": "1.8.0-dev-3517"
  }
 },
 "nbformat": 4,
 "nbformat_minor": 5
}
