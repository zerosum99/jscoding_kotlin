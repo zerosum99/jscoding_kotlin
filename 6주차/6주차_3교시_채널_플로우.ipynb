{
 "cells": [
  {
   "cell_type": "code",
   "execution_count": null,
   "id": "942beb11",
   "metadata": {},
   "outputs": [],
   "source": []
  },
  {
   "cell_type": "code",
   "execution_count": 1,
   "id": "4a4ff9b6",
   "metadata": {},
   "outputs": [
    {
     "data": {
      "text/plain": [
       "1.8.0"
      ]
     },
     "execution_count": 1,
     "metadata": {},
     "output_type": "execute_result"
    }
   ],
   "source": [
    "KotlinVersion.CURRENT             // 코틀린 현재 버전 "
   ]
  },
  {
   "cell_type": "code",
   "execution_count": 1,
   "id": "3093846e",
   "metadata": {},
   "outputs": [],
   "source": [
    "@file:DependsOn(\"org.jetbrains.kotlinx:kotlinx-coroutines-core:1.6.4\")"
   ]
  },
  {
   "cell_type": "code",
   "execution_count": 2,
   "id": "ed73bee9",
   "metadata": {},
   "outputs": [
    {
     "data": {
      "text/plain": [
       "Current classpath (16 paths):\n",
       "/Users/a06411/opt/anaconda3/envs/kotlin/lib/python3.10/site-packages/run_kotlin_kernel/jars/lib-0.11.0-170.jar\n",
       "/Users/a06411/opt/anaconda3/envs/kotlin/lib/python3.10/site-packages/run_kotlin_kernel/jars/api-0.11.0-170.jar\n",
       "/Users/a06411/opt/anaconda3/envs/kotlin/lib/python3.10/site-packages/run_kotlin_kernel/jars/kotlin-script-runtime-1.8.0-dev-3517.jar\n",
       "/Users/a06411/opt/anaconda3/envs/kotlin/lib/python3.10/site-packages/run_kotlin_kernel/jars/kotlin-reflect-1.7.10.jar\n",
       "/Users/a06411/opt/anaconda3/envs/kotlin/lib/python3.10/site-packages/run_kotlin_kernel/jars/kotlin-stdlib-1.7.10.jar\n",
       "/Users/a06411/opt/anaconda3/envs/kotlin/lib/python3.10/site-packages/run_kotlin_kernel/jars/kotlin-stdlib-common-1.7.10.jar\n",
       "/Users/a06411/opt/anaconda3/envs/kotlin/lib/python3.10/site-packages/run_kotlin_kernel/jars/annotations-13.0.jar\n",
       "/Users/a06411/opt/anaconda3/envs/kotlin/lib/python3.10/site-packages/run_kotlin_kernel/jars/kotlinx-serialization-json-jvm-1.3.3.jar\n",
       "/Users/a06411/opt/anaconda3/envs/kotlin/lib/python3.10/site-packages/run_kotlin_kernel/jars/kotlinx-serialization-core-jvm-1.3.3.jar\n",
       "/Users/a06411/.m2/repository/org/jetbrains/kotlinx/kotlinx-coroutines-core/1.6.4/kotlinx-coroutines-core-1.6.4.jar\n",
       "/Users/a06411/.m2/repository/org/jetbrains/kotlinx/kotlinx-coroutines-core-jvm/1.6.4/kotlinx-coroutines-core-jvm-1.6.4.jar\n",
       "/Users/a06411/.m2/repository/org/jetbrains/kotlin/kotlin-stdlib-jdk8/1.6.21/kotlin-stdlib-jdk8-1.6.21.jar\n",
       "/Users/a06411/.m2/repository/org/jetbrains/kotlin/kotlin-stdlib/1.6.21/kotlin-stdlib-1.6.21.jar\n",
       "/Users/a06411/.m2/repository/org/jetbrains/annotations/13.0/annotations-13.0.jar\n",
       "/Users/a06411/.m2/repository/org/jetbrains/kotlin/kotlin-stdlib-jdk7/1.6.21/kotlin-stdlib-jdk7-1.6.21.jar\n",
       "/Users/a06411/.m2/repository/org/jetbrains/kotlin/kotlin-stdlib-common/1.6.21/kotlin-stdlib-common-1.6.21.jar"
      ]
     },
     "execution_count": 2,
     "metadata": {},
     "output_type": "execute_result"
    }
   ],
   "source": [
    ":classpath"
   ]
  },
  {
   "cell_type": "code",
   "execution_count": 7,
   "id": "850dd6ab",
   "metadata": {},
   "outputs": [],
   "source": [
    "import kotlinx.coroutines.*\n",
    "import kotlinx.coroutines.channels.*\n",
    "import kotlinx.coroutines.flow.*"
   ]
  },
  {
   "cell_type": "code",
   "execution_count": null,
   "id": "760b3dfe",
   "metadata": {},
   "outputs": [],
   "source": []
  },
  {
   "cell_type": "code",
   "execution_count": null,
   "id": "744a3ec9",
   "metadata": {},
   "outputs": [],
   "source": []
  },
  {
   "cell_type": "code",
   "execution_count": null,
   "id": "debbf75a",
   "metadata": {},
   "outputs": [],
   "source": []
  },
  {
   "cell_type": "code",
   "execution_count": null,
   "id": "8ecff365",
   "metadata": {},
   "outputs": [],
   "source": []
  },
  {
   "cell_type": "markdown",
   "id": "c43c6a99",
   "metadata": {},
   "source": [
    "# 3. 코루틴 채널과 플로우 "
   ]
  },
  {
   "cell_type": "markdown",
   "id": "172dc490",
   "metadata": {},
   "source": [
    "## 3- 1 채널"
   ]
  },
  {
   "cell_type": "code",
   "execution_count": 6,
   "id": "e3456171",
   "metadata": {},
   "outputs": [
    {
     "name": "stdout",
     "output_type": "stream",
     "text": [
      "class kotlinx.coroutines.channels.RendezvousChannel\n",
      "100\n"
     ]
    }
   ],
   "source": [
    "fun main() {\n",
    "    val channel = Channel<Int>() \n",
    "    println(channel.javaClass)\n",
    "\n",
    "    CoroutineScope(Dispatchers.Default).launch(Dispatchers.Default) { \n",
    "        channel.send(100)\n",
    "    }\n",
    "    \n",
    "    runBlocking {\n",
    "\n",
    "        delay(1000)\n",
    "        println(channel.receive())\n",
    "        channel.close()\n",
    "    }\n",
    "}\n",
    "\n",
    "main()"
   ]
  },
  {
   "cell_type": "code",
   "execution_count": null,
   "id": "3b8c6682",
   "metadata": {},
   "outputs": [],
   "source": []
  },
  {
   "cell_type": "code",
   "execution_count": 17,
   "id": "c68b0176",
   "metadata": {},
   "outputs": [
    {
     "name": "stdout",
     "output_type": "stream",
     "text": [
      "한개 처리 : 0 \n",
      "consume 순환 : 1\n",
      "consume 순환 : 2\n",
      "consume 순환 : 4\n",
      "consume 순환 : 5\n",
      "for 순환 : 3 \n",
      "consume 순환 : 6\n",
      "for 순환 : 7 \n",
      "for 순환 : 9 \n",
      "consume 순환 : 8\n"
     ]
    }
   ],
   "source": [
    "fun main() {\n",
    "\n",
    "    val channel = Channel<Int>() \n",
    "    CoroutineScope(Dispatchers.Default).launch { \n",
    "        repeat(10) { channel.send(it) } \n",
    "    } \n",
    "\n",
    "    CoroutineScope(Dispatchers.Default).launch {\n",
    "        val num = channel.receive()                  // 1 \n",
    "        println(\"한개 처리 : $num \")\n",
    "        var count =0 \n",
    "        for(x in channel) {                         // 2 \n",
    "            println(\"for 순환 : $x \") \n",
    "            count++\n",
    "            if (count > 4) delay(1000)\n",
    "        } \n",
    "    }\n",
    "    \n",
    "    CoroutineScope(Dispatchers.Default).launch {\n",
    "  \n",
    "        channel.consumeEach {                       // 3 \n",
    "            println(\"consume 순환 : $it\") } \n",
    "    }\n",
    "\n",
    "}\n",
    "\n",
    "main()"
   ]
  },
  {
   "cell_type": "code",
   "execution_count": null,
   "id": "9294e744",
   "metadata": {},
   "outputs": [],
   "source": []
  },
  {
   "cell_type": "code",
   "execution_count": 18,
   "id": "9055f13e",
   "metadata": {},
   "outputs": [
    {
     "name": "stdout",
     "output_type": "stream",
     "text": [
      "코루틴1 : 1\n",
      "코루틴2 : 4\n",
      "코루틴1 : 9\n",
      "코루틴1 : 16\n",
      "코루틴2 : 25\n",
      "Done!\n"
     ]
    }
   ],
   "source": [
    "// interface Channel<E> : SendChannel<E> , ReceiveChannel<E>  // 채널은 송신과 수신 채널을 묶는 개념 \n",
    "// fun <E> Channel(                                           // 채널함수 \n",
    "//    capacity: Int = RENDEZVOUS,                             // 버퍼 용량 \n",
    "//    onBufferOverflow: BufferOverflow = BufferOverflow.SUSPEND, \n",
    "//    onUndeliveredElement: (E) -> Unit? = null\n",
    "// ): Channel<E>\n",
    "\n",
    "fun main() = runBlocking {\n",
    "        val chan = Channel<Int>()\n",
    "        launch {\n",
    "            for (x in 1..5) chan.send(x *x)                   // 값을 보냄\n",
    "        }\n",
    "        launch {\n",
    "            repeat(3) { \n",
    "                delay(10)\n",
    "                println(\"코루틴1 : \" + chan.receive())          // 값을 받음 \n",
    "            }                                                  // \n",
    "        }\n",
    "        launch {\n",
    "            repeat(2) { \n",
    "                delay(20)\n",
    "                println(\"코루틴2 : \" +chan.receive())           // 값을 받음 \n",
    "            }                                                 // \n",
    "        }\n",
    "        delay(200)\n",
    "        chan.close()                                      // 더 보낼 값이 없음, close\n",
    "        println(\"Done!\")\n",
    "}\n",
    "main()"
   ]
  },
  {
   "cell_type": "code",
   "execution_count": null,
   "id": "631954a8",
   "metadata": {},
   "outputs": [],
   "source": []
  },
  {
   "cell_type": "code",
   "execution_count": 19,
   "id": "933f7b87",
   "metadata": {},
   "outputs": [
    {
     "name": "stdout",
     "output_type": "stream",
     "text": [
      "송신 1 코루틴 : 사과\n",
      "DefaultDispatcher-worker-3\n",
      "송신 1 코루틴 : 오렌지\n",
      "수신 코루틴 : 사과\n",
      "DefaultDispatcher-worker-3\n",
      "수신 코루틴 : 오렌지\n",
      "송신 2 코루틴 : 사과\n",
      "DefaultDispatcher-worker-3\n",
      "수신 코루틴 : 사과\n",
      "송신 2 코루틴 : 오렌지\n",
      "DefaultDispatcher-worker-3\n",
      "수신 코루틴 : 오렌지\n"
     ]
    }
   ],
   "source": [
    "fun Rendezvous_Channel() {\n",
    "    runBlocking {\n",
    "        val basket = Channel<String>()\n",
    "        launch {                                              // 코루틴에서 순환문으로 전송\n",
    "            val fruits = listOf(\"사과\", \"오렌지\")\n",
    "            for (fruit in fruits) {\n",
    "                println(\"송신 1 코루틴 : $fruit\")\n",
    "                 delay(100)\n",
    "                basket.send(fruit)\n",
    "            }\n",
    "            for (fruit in fruits) {                            // 코루틴에서 순환문으로 전송\n",
    "                println(\"송신 2 코루틴 : $fruit\")\n",
    "                delay(100)\n",
    "                basket.send(fruit)\n",
    "            } \n",
    "            basket.close()                                      // 채널 닫음 \n",
    "        }\n",
    "        launch(Dispatchers.IO) {                                // 4개의 코뤁틴을 만듬 \n",
    "            repeat(4) {                                         // 각각 출력 \n",
    "                delay(100)\n",
    "                println(Thread.currentThread().name)\n",
    "                println(\"수신 코루틴 : ${basket.receive()}\")\n",
    "            }\n",
    "        }\n",
    "    }\n",
    "}\n",
    "\n",
    "Rendezvous_Channel()"
   ]
  },
  {
   "cell_type": "code",
   "execution_count": null,
   "id": "a62d2a13",
   "metadata": {},
   "outputs": [],
   "source": []
  },
  {
   "cell_type": "code",
   "execution_count": 20,
   "id": "608c6e6a",
   "metadata": {},
   "outputs": [
    {
     "name": "stdout",
     "output_type": "stream",
     "text": [
      " 송신 1: 바나나\n",
      " 송신 1: 딸기\n",
      " 송신 1: 앵두\n",
      " 송신 2: 바나나\n",
      " 수신 : 바나나\n",
      " 수신 : 딸기\n",
      " 송신 2: 딸기\n",
      " 수신 : 앵두\n",
      " 송신 2: 앵두\n",
      " 수신 : 바나나\n",
      " 수신 : 딸기\n",
      " 수신 : 앵두\n"
     ]
    }
   ],
   "source": [
    "fun buffer_Channel() {  \n",
    "    runBlocking {\n",
    "        val basket = Channel<String>(2)                      // 채널 \n",
    "        val fruits = listOf(\"바나나\", \"딸기\", \"앵두\")\n",
    "        launch {                                             // 송신 고루틴 1\n",
    "            for (fruit in fruits) {\n",
    "                println(\" 송신 1: $fruit\")\n",
    "                basket.send(fruit)\n",
    "            }\n",
    "        }\n",
    "        launch {                                             // 송신 코루틴 2\n",
    "            for (fruit in fruits) {\n",
    "                println(\" 송신 2: $fruit\")\n",
    "                basket.send(fruit)\n",
    "            }\n",
    "        }\n",
    "        launch {                                             // 수신 코루틴 \n",
    "            repeat(6) {\n",
    "                delay(100)\n",
    "                println(\" 수신 : ${basket.receive()}\")\n",
    "            }\n",
    "        }  \n",
    "        delay(3000)\n",
    "        basket.close()                                        // 채널 닫기 \n",
    "    }\n",
    "}\n",
    "buffer_Channel()"
   ]
  },
  {
   "cell_type": "code",
   "execution_count": null,
   "id": "9f631b6d",
   "metadata": {},
   "outputs": [],
   "source": []
  },
  {
   "cell_type": "code",
   "execution_count": 21,
   "id": "f454ed59",
   "metadata": {},
   "outputs": [
    {
     "name": "stdout",
     "output_type": "stream",
     "text": [
      "class kotlinx.coroutines.channels.ProducerCoroutine\n",
      "1\n",
      "4\n",
      "9\n",
      "16\n",
      "25\n",
      "Done!\n"
     ]
    }
   ],
   "source": [
    "// interface ProducerScope<in E>                          // 생성자스코프 \n",
    "// : CoroutineScope, SendChannel<E>                       // 코루틴스코프와 센드채널 상속\n",
    "\n",
    "// fun <E> CoroutineScope.produce(                        // 생산자 빌더 \n",
    "//    context: CoroutineContext = EmptyCoroutineContext,  // 컨텍스트  \n",
    "//    capacity: Int = 0,                                  // 용량\n",
    "//    block: suspend ProducerScope<E>.() -> Unit          // 생산자 스코프의 람다표현식 \n",
    "// ): ReceiveChannel<E>                                   // 수신 채널 \n",
    "\n",
    "fun CoroutineScope.produceSquares() = produce {      // 코루틴스코프 내의 확장함수 생성 \n",
    "    for (x in 1..5) {\n",
    "        send(x * x)                                  // 값을 하나씩 produce\n",
    "    }\n",
    "}\n",
    "\n",
    "fun main() = runBlocking {\n",
    "    val squares = produceSquares()                   // 생산자 함수 실행 \n",
    "    println(squares.javaClass)                       // 수신자 반환\n",
    "    squares.consumeEach { println(it) }              // 값을 하나씩 consume\n",
    "    println(\"Done!\")\n",
    "}\n",
    "\n",
    "main()"
   ]
  },
  {
   "cell_type": "code",
   "execution_count": null,
   "id": "1df6ffe6",
   "metadata": {},
   "outputs": [],
   "source": []
  },
  {
   "cell_type": "markdown",
   "id": "3d30a0c3",
   "metadata": {},
   "source": [
    "## 3-2 플로우"
   ]
  },
  {
   "cell_type": "code",
   "execution_count": 8,
   "id": "3519dc8d",
   "metadata": {},
   "outputs": [],
   "source": [
    "// interface Flow<out T>\n",
    "\n",
    "// fun <T> flow(                                     // 플로우 함수 \n",
    "// block: suspend FlowCollector<T>.() -> Unit)       // 일시중단람다표현식 \n",
    "// : Flow<T>                                         // 반환형은 플로우 "
   ]
  },
  {
   "cell_type": "code",
   "execution_count": 11,
   "id": "ed3ea6f4",
   "metadata": {},
   "outputs": [
    {
     "name": "stdout",
     "output_type": "stream",
     "text": [
      "리스트 1 \n",
      "리스트 2 \n",
      "리스트 3 \n"
     ]
    }
   ],
   "source": [
    "fun fooList(): List<Int> = listOf(1, 2, 3)             // 리스트 생성 함수 작성 \n",
    "fun main1() {\n",
    "    fooList().forEach { value -> \n",
    "                        println(\"리스트 $value \") }      // 리스트를 처리 \n",
    "}\n",
    "main1()"
   ]
  },
  {
   "cell_type": "code",
   "execution_count": 12,
   "id": "a29e214d",
   "metadata": {},
   "outputs": [
    {
     "name": "stdout",
     "output_type": "stream",
     "text": [
      "블럭여부 확인 1\n",
      "플로우: 1 \n",
      "블럭여부 확인 2\n",
      "플로우: 2 \n",
      "블럭여부 확인 3\n",
      "플로우: 3 \n",
      "리스트로 변환 : [1, 2, 3]\n"
     ]
    }
   ],
   "source": [
    "fun fooFlow(): Flow<Int> = flow {                      // 일반함수에  flow builder\n",
    "    for (i in 1..3) {                                  // 순환 \n",
    "        delay(100)                                     // 일시중단함수 \n",
    "        emit(i)                                        // 다음 값 내보내기\n",
    "    }\n",
    "}\n",
    "fun main() = runBlocking<Unit> {                       // 런블러킹 빌더 처리 \n",
    "                                                       // 동시에 코루틴을 사용하여 메인 스레드가 차단되는지 확인\n",
    "    launch {                                           // 코루틴 처리 \n",
    "        for (k in 1..3) {\n",
    "            println(\"블럭여부 확인 $k\")\n",
    "            delay(100)                                 // 지연함수 \n",
    "        }\n",
    "    }\n",
    "                                                       // flow collect\n",
    "    fooFlow().collect { value ->                       // 플로우 종단함수 \n",
    "                        println(\"플로우: $value \") } \n",
    "    println(\"리스트로 변환 : \" + fooFlow().toList())      // 리스트로 변환처리\n",
    "}\n",
    "main()"
   ]
  },
  {
   "cell_type": "code",
   "execution_count": 13,
   "id": "470d4a6f",
   "metadata": {},
   "outputs": [
    {
     "name": "stdout",
     "output_type": "stream",
     "text": [
      "플로우 스코프 만듬\n",
      "class kotlinx.coroutines.flow.SafeFlow\n",
      "플로우 시작\n",
      "1\n",
      "2\n",
      "3\n",
      "플로우 시작\n",
      "집합 변환 : [1, 2, 3]\n",
      "코루틴 내부에서 호출\n",
      "플로우 시작\n",
      "1\n",
      "2\n",
      "3\n"
     ]
    }
   ],
   "source": [
    "fun foo(): Flow<Int> = flow {                         // 플로우 빌더는 일시중단함수로 정의하지 않음 \n",
    "    println(\"플로우 시작\")                               // \n",
    "    for (i in 1..3) {\n",
    "        delay(100)\n",
    "        emit(i)                                       // 데이터 송신\n",
    "    }\n",
    "}\n",
    "\n",
    "fun main() = runBlocking<Unit> {\n",
    "    println(\"플로우 스코프 만듬\")\n",
    "    val flow = foo()                                   // 플로우 함수 실행\n",
    "    println(flow.javaClass)                            // 플로우 객체로 변환\n",
    "\n",
    "    flow.collect { value -> println(value) }           // 플로우  처리 \n",
    "    println(\"집합 변환 : \" + flow.toSet())               // 집합으로 변환 \n",
    "    \n",
    "    launch {\n",
    "        println(\"코루틴 내부에서 호출\")\n",
    "        flow.collect { value -> println(value) }       // 플로우 종단함수 \n",
    "    }\n",
    "}\n",
    "\n",
    "main()"
   ]
  },
  {
   "cell_type": "code",
   "execution_count": 14,
   "id": "1b403468",
   "metadata": {},
   "outputs": [
    {
     "name": "stdout",
     "output_type": "stream",
     "text": [
      "일시중단함수변환 1\n",
      "일시중단함수변환 2\n",
      "일시중단함수변환 3\n",
      "일반함수변환 1\n",
      "일반함수변환 2\n",
      "일반함수변환 3\n"
     ]
    }
   ],
   "source": [
    "fun convert(request: Int): String {\n",
    "    return \"일반함수변환 $request\"                       // 플로우 값 매핑\n",
    "}\n",
    "\n",
    "suspend fun convertFlow(request: Int): String {\n",
    "    //delay(1000)                                     // 1초 대기\n",
    "    return \"일시중단함수변환 $request\"                    // 플로우 값 매핑 \n",
    "}\n",
    "\n",
    "fun main() = runBlocking<Unit> {\n",
    "    val foo = (1..3).asFlow()                         // 범위를 플로우로 변환 \n",
    "                       .flowOn(Dispatchers.IO)        // 플로우의 컨텍스트 변환\n",
    "    foo.map { it -> convertFlow(it) }                 // 플로우에도 map 으로 변환 처리 가능 \n",
    "        .collect { it -> println(it) }                // 플로우 종단함수 \n",
    "        \n",
    "    foo.map { it -> convert(it) }                     // 플로우에도 map 으로 변환 처리 가능 \n",
    "        .collect { it -> println(it) }                // 플로우 종단함수 \n",
    "\n",
    "}\n",
    "\n",
    "main()"
   ]
  },
  {
   "cell_type": "code",
   "execution_count": null,
   "id": "2af956a5",
   "metadata": {},
   "outputs": [],
   "source": []
  },
  {
   "cell_type": "code",
   "execution_count": 15,
   "id": "407fc6be",
   "metadata": {},
   "outputs": [
    {
     "name": "stdout",
     "output_type": "stream",
     "text": [
      "문자열로 변환 1\n",
      "일반함수변환 1\n",
      "일시중단함수변환 1\n",
      "문자열로 변환 2\n",
      "일반함수변환 2\n",
      "일시중단함수변환 2\n",
      "문자열로 변환 3\n",
      "일반함수변환 3\n",
      "일시중단함수변환 3\n"
     ]
    }
   ],
   "source": [
    "fun convert(request: Int): String {                   // 일반함수 정의 \n",
    "    return \"일반함수변환 $request\"                       // 플로우 값 매핑\n",
    "}\n",
    "\n",
    "suspend fun convertFlow(request: Int): String {       // 일시중단함수 정의 \n",
    "    delay(100)                                        // 1초 대기\n",
    "    return \"일시중단함수변환 $request\"                     // 플로우 값 매핑 \n",
    "}\n",
    "\n",
    "\n",
    "fun main() = runBlocking<Unit> {\n",
    "    val foo = (1..3).asFlow()                          // 배열 -> Flow 변환\n",
    "    \n",
    "    foo.transform { it ->                              // 변환 메소드로 여러 개를 변환 \n",
    "        emit(\"문자열로 변환 $it\")                         // emit으로 flow 처리\n",
    "        emit(convert(it))                              // emit으로 flow 처리\n",
    "        emit(convertFlow(it))                          // emit으로 flow 처리\n",
    "    }.collect { it -> println(it) }                    // 플로우 종단함수 \n",
    "}\n",
    "\n",
    "main()"
   ]
  },
  {
   "cell_type": "code",
   "execution_count": 16,
   "id": "b5273157",
   "metadata": {},
   "outputs": [
    {
     "name": "stdout",
     "output_type": "stream",
     "text": [
      "1\n",
      "2\n",
      "3\n",
      "4\n",
      "5\n",
      " 플로우 취소하기 \n"
     ]
    }
   ],
   "source": [
    "fun main() { \n",
    "    \n",
    "    runBlocking<Unit> {                                  // 런블러킹 스코프\n",
    "\n",
    "        val job = launch {                               // 코루틴 빌더 \n",
    "            delay(200)\n",
    "            (1..5).asFlow().collect { println(\"$it\") }   // 플로우 처리 \n",
    "        } \n",
    "        \n",
    "        delay(300)\n",
    "        println(\" 플로우 취소하기 \")                         //  플로우 중단\n",
    "        job.cancel()\n",
    "    }\n",
    "}\n",
    "\n",
    "main()"
   ]
  },
  {
   "cell_type": "code",
   "execution_count": null,
   "id": "3d42099b",
   "metadata": {},
   "outputs": [],
   "source": []
  }
 ],
 "metadata": {
  "kernelspec": {
   "display_name": "Kotlin",
   "language": "kotlin",
   "name": "kotlin"
  },
  "language_info": {
   "codemirror_mode": "text/x-kotlin",
   "file_extension": ".kt",
   "mimetype": "text/x-kotlin",
   "name": "kotlin",
   "nbconvert_exporter": "",
   "pygments_lexer": "kotlin",
   "version": "1.8.0-dev-3517"
  }
 },
 "nbformat": 4,
 "nbformat_minor": 5
}
