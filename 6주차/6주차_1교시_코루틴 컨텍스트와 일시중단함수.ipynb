{
 "cells": [
  {
   "cell_type": "code",
   "execution_count": null,
   "id": "942beb11",
   "metadata": {},
   "outputs": [],
   "source": []
  },
  {
   "cell_type": "code",
   "execution_count": 1,
   "id": "4a4ff9b6",
   "metadata": {},
   "outputs": [
    {
     "data": {
      "text/plain": [
       "1.8.0"
      ]
     },
     "execution_count": 1,
     "metadata": {},
     "output_type": "execute_result"
    }
   ],
   "source": [
    "KotlinVersion.CURRENT             // 코틀린 현재 버전 "
   ]
  },
  {
   "cell_type": "code",
   "execution_count": 2,
   "id": "3093846e",
   "metadata": {},
   "outputs": [],
   "source": [
    "@file:DependsOn(\"org.jetbrains.kotlinx:kotlinx-coroutines-core:1.6.4\")"
   ]
  },
  {
   "cell_type": "code",
   "execution_count": 3,
   "id": "561e08df",
   "metadata": {},
   "outputs": [
    {
     "data": {
      "text/plain": [
       "Current classpath (16 paths):\n",
       "/Users/a06411/opt/anaconda3/envs/kotlin/lib/python3.10/site-packages/run_kotlin_kernel/jars/lib-0.11.0-170.jar\n",
       "/Users/a06411/opt/anaconda3/envs/kotlin/lib/python3.10/site-packages/run_kotlin_kernel/jars/api-0.11.0-170.jar\n",
       "/Users/a06411/opt/anaconda3/envs/kotlin/lib/python3.10/site-packages/run_kotlin_kernel/jars/kotlin-script-runtime-1.8.0-dev-3517.jar\n",
       "/Users/a06411/opt/anaconda3/envs/kotlin/lib/python3.10/site-packages/run_kotlin_kernel/jars/kotlin-reflect-1.7.10.jar\n",
       "/Users/a06411/opt/anaconda3/envs/kotlin/lib/python3.10/site-packages/run_kotlin_kernel/jars/kotlin-stdlib-1.7.10.jar\n",
       "/Users/a06411/opt/anaconda3/envs/kotlin/lib/python3.10/site-packages/run_kotlin_kernel/jars/kotlin-stdlib-common-1.7.10.jar\n",
       "/Users/a06411/opt/anaconda3/envs/kotlin/lib/python3.10/site-packages/run_kotlin_kernel/jars/annotations-13.0.jar\n",
       "/Users/a06411/opt/anaconda3/envs/kotlin/lib/python3.10/site-packages/run_kotlin_kernel/jars/kotlinx-serialization-json-jvm-1.3.3.jar\n",
       "/Users/a06411/opt/anaconda3/envs/kotlin/lib/python3.10/site-packages/run_kotlin_kernel/jars/kotlinx-serialization-core-jvm-1.3.3.jar\n",
       "/Users/a06411/.m2/repository/org/jetbrains/kotlinx/kotlinx-coroutines-core/1.6.4/kotlinx-coroutines-core-1.6.4.jar\n",
       "/Users/a06411/.m2/repository/org/jetbrains/kotlinx/kotlinx-coroutines-core-jvm/1.6.4/kotlinx-coroutines-core-jvm-1.6.4.jar\n",
       "/Users/a06411/.m2/repository/org/jetbrains/kotlin/kotlin-stdlib-jdk8/1.6.21/kotlin-stdlib-jdk8-1.6.21.jar\n",
       "/Users/a06411/.m2/repository/org/jetbrains/kotlin/kotlin-stdlib/1.6.21/kotlin-stdlib-1.6.21.jar\n",
       "/Users/a06411/.m2/repository/org/jetbrains/annotations/13.0/annotations-13.0.jar\n",
       "/Users/a06411/.m2/repository/org/jetbrains/kotlin/kotlin-stdlib-jdk7/1.6.21/kotlin-stdlib-jdk7-1.6.21.jar\n",
       "/Users/a06411/.m2/repository/org/jetbrains/kotlin/kotlin-stdlib-common/1.6.21/kotlin-stdlib-common-1.6.21.jar"
      ]
     },
     "execution_count": 3,
     "metadata": {},
     "output_type": "execute_result"
    }
   ],
   "source": [
    ":classpath"
   ]
  },
  {
   "cell_type": "code",
   "execution_count": 4,
   "id": "69fd6430",
   "metadata": {},
   "outputs": [],
   "source": [
    "import kotlinx.coroutines.*"
   ]
  },
  {
   "cell_type": "markdown",
   "id": "21aedd4a",
   "metadata": {},
   "source": [
    "# 1. 코루틴 알아보기"
   ]
  },
  {
   "cell_type": "markdown",
   "id": "b3aa1c70",
   "metadata": {},
   "source": [
    "## 1-1 코루틴 기본 알아보기\n",
    "\n",
    "- 코루틴스코프를 별도로 지정해야 코루틴을 실행할 수 있다. \n",
    "- 그래서 기존 함수에서 코루틴스코프를 먼저 지정해야 한다. "
   ]
  },
  {
   "cell_type": "markdown",
   "id": "8f119b14",
   "metadata": {},
   "source": [
    "### 프로세스 \n",
    "\n",
    "- 실행중인 애플리케이션의 인스턴스이다. "
   ]
  },
  {
   "cell_type": "markdown",
   "id": "c864a4a7",
   "metadata": {},
   "source": [
    "### 스레드 \n",
    "\n",
    "- 실행 스레드는 프로세스가 실행할 일련의 명령을 포함하면 최소한 하나의 스레드를 포함한다. \n",
    "- 코틀린의 메인 함수도 코루틴으로 처리한다. "
   ]
  },
  {
   "cell_type": "markdown",
   "id": "b11b3a71",
   "metadata": {},
   "source": [
    "### 코루틴(coroutine) \n",
    "- 경량스레드이고 스레드와 비슷한 라이프 사이클을 갖는다.\n",
    "- 코루틴은 스레드 안에서 실행한다"
   ]
  },
  {
   "cell_type": "markdown",
   "id": "d5ae2e03",
   "metadata": {},
   "source": [
    "### 동시성\n",
    "- 넌블럭킹 : 중단가능한 연산을 실행하면 블러킹하지 않고 실행을 잠시 중단하는 것이다. 그리고 재실행할 때 다시 스레드를 사용해서 처리한다. "
   ]
  },
  {
   "cell_type": "markdown",
   "id": "bafc6567",
   "metadata": {},
   "source": [
    "## 1-1-1 코루틴을 처리하도록 코루틴을 생성\n",
    "\n",
    "- runBlocking 블록에서도 현재 쓰레드는 그대로 진행된다. \n",
    "- runBlocking 블록 내 어떠한 코루틴 실행이 병렬이나 비동기로 실행되더라도 해당 블록들이 완전히 종료되어야 runBlocking 블록이 종료된다는 것이다"
   ]
  },
  {
   "cell_type": "markdown",
   "id": "f49f1cf3",
   "metadata": {},
   "source": [
    "### 코루틴 스코프를 만들면 코루틴컨텍스트가 만들어진다,\n",
    "\n",
    "- 코루틴디스패치 : 코루틴을 시작하거나 재개할 스레드를 결정한다. "
   ]
  },
  {
   "cell_type": "code",
   "execution_count": 5,
   "id": "00928897",
   "metadata": {},
   "outputs": [],
   "source": [
    "fun main() = runBlocking { \n",
    "    println(\"코루틴 처리 : \" + coroutineContext)   \n",
    "}"
   ]
  },
  {
   "cell_type": "code",
   "execution_count": 6,
   "id": "2d3c339a",
   "metadata": {},
   "outputs": [
    {
     "name": "stdout",
     "output_type": "stream",
     "text": [
      "코루틴 처리 : [BlockingCoroutine{Active}@10b04899, BlockingEventLoop@6142aef0]\n"
     ]
    }
   ],
   "source": [
    "main()"
   ]
  },
  {
   "cell_type": "markdown",
   "id": "ea67dc34",
   "metadata": {},
   "source": [
    "## 1-1-2 코루틴 스코프 내에 코루틴빌더로 코루틴을 추가 생성 \n",
    "\n",
    "- 코루틴스코프 내에 코루틴을 만들어서 동시에 작업이 가능하다"
   ]
  },
  {
   "cell_type": "code",
   "execution_count": 7,
   "id": "4998700a",
   "metadata": {},
   "outputs": [],
   "source": [
    "fun main() = runBlocking {           // 코루틴 스코프\n",
    "    launch {                         // 코루틴 빌더로 새로운 코루틴 생성 \n",
    "        delay(1000L)                 // 일시중단함수 지연 \n",
    "        println(\"World!\")            // 출력하기 \n",
    "    }\n",
    "    println(\"Hello\")                 // main 코루틴 출력 \n",
    "}"
   ]
  },
  {
   "cell_type": "code",
   "execution_count": 8,
   "id": "19babccb",
   "metadata": {},
   "outputs": [
    {
     "name": "stdout",
     "output_type": "stream",
     "text": [
      "Hello\n",
      "World!\n"
     ]
    }
   ],
   "source": [
    "main()"
   ]
  },
  {
   "cell_type": "markdown",
   "id": "ccc9c798",
   "metadata": {},
   "source": [
    "## 1-1-3  코루틴 스코프 내에 코루틴빌더로 일시중시함수를 코루틴으로 처리 가능\n",
    "\n",
    "- 코루틴 스코프 내에 코루틴을 생성할 때 일시중단함수를 사용해서 처리가 가능하다. \n",
    "- 이때 launch 코루틴 빌더로 람다임시중단함수로 전달한다. \n",
    "- 람다일시중단함수에 일시중단함수 실행을 내포해서 처리한다."
   ]
  },
  {
   "cell_type": "code",
   "execution_count": 9,
   "id": "4084cfb9",
   "metadata": {},
   "outputs": [],
   "source": [
    "fun main() = runBlocking {            // this: CoroutineScope\n",
    "    launch { doWorld() }\n",
    "    println(\"Hello\")\n",
    "}\n",
    "\n",
    "                                      // this is your first suspending function\n",
    "suspend fun doWorld() {\n",
    "    delay(1000L)\n",
    "    println(\"World!\")\n",
    "}"
   ]
  },
  {
   "cell_type": "code",
   "execution_count": 10,
   "id": "61773023",
   "metadata": {},
   "outputs": [
    {
     "name": "stdout",
     "output_type": "stream",
     "text": [
      "Hello\n",
      "World!\n"
     ]
    }
   ],
   "source": [
    "main()"
   ]
  },
  {
   "cell_type": "markdown",
   "id": "e69c1d0a",
   "metadata": {},
   "source": [
    "## 1-2  일시중단함수 \n",
    "\n",
    "- 함수 앞에 suspend 키워드를 사용해서 코루틴에서 처리하는 일시 중단함수를 작성할 수 있다. \n",
    "- 보통 일시중단함수는 호출한 순서대로 순차적으로 실행한다.  일시중단할 때 스레드를 블러킹하지 않는다 "
   ]
  },
  {
   "cell_type": "markdown",
   "id": "f335ae9b",
   "metadata": {},
   "source": [
    "## 1-2-1  일시중단함수 정의 \n",
    "\n",
    "- 일시중단함수 내에 일시중단함수를 사용할 수 있음"
   ]
  },
  {
   "cell_type": "code",
   "execution_count": 11,
   "id": "63863cac",
   "metadata": {},
   "outputs": [],
   "source": [
    "suspend fun getName() : String {\n",
    "    delay(100)\n",
    "    return \"코루틴\"\n",
    "}\n",
    "\n",
    "suspend fun getLastName() : String {\n",
    "    delay(100)\n",
    "    return \"코틀린\"\n",
    "}"
   ]
  },
  {
   "cell_type": "markdown",
   "id": "fe8edf24",
   "metadata": {},
   "source": [
    "### 코루틴이 실행되는 영역을 위해 runBlocking으로 영역을 설정\n",
    "\n",
    "- 코루틴 영역이 설정해야 내부에서 일시중단함수 등이 실행된다. "
   ]
  },
  {
   "cell_type": "code",
   "execution_count": 12,
   "id": "e5698172",
   "metadata": {},
   "outputs": [],
   "source": [
    "fun main() = runBlocking {\n",
    "    val name = getName()\n",
    "    val lastName = getLastName()\n",
    "    println(\"Hello, $name $lastName\")\n",
    "}"
   ]
  },
  {
   "cell_type": "code",
   "execution_count": 13,
   "id": "8898faf2",
   "metadata": {},
   "outputs": [
    {
     "name": "stdout",
     "output_type": "stream",
     "text": [
      "Hello, 코루틴 코틀린\n"
     ]
    }
   ],
   "source": [
    "main()"
   ]
  },
  {
   "cell_type": "markdown",
   "id": "8fe35cf3",
   "metadata": {},
   "source": [
    "## 1-2-2 코루틴 빌더  사용하기 \n",
    "\n",
    "- 코루틴 빌더는 일시중단람다를 받아 실행하는 코루틴을 생성하는 함수 \n",
    "- async : 결과가 예상되는 코루틴을 시작 결과는 Deferred<T>로 반환\n",
    "- launch : 결과를 반환하지 않는 코루틴 결과로 Job 반환, 이 Job으로 실행을 취소하기 위해 사용\n",
    "- runBlocking : 블러킹 코드를 일시 중지 가능한 코드로 연결, 보통 메인과 유닛테스트에서 사용 "
   ]
  },
  {
   "cell_type": "markdown",
   "id": "55d43b05",
   "metadata": {},
   "source": [
    "###  동시에 일시중단함수를 호출하기"
   ]
  },
  {
   "cell_type": "code",
   "execution_count": 14,
   "id": "1803b6da",
   "metadata": {},
   "outputs": [],
   "source": [
    "fun main() = runBlocking {\n",
    "    val name = launch {getName() }\n",
    "    val lastName = launch {getLastName()}\n",
    "    println(\"Hello, $name $lastName\")\n",
    "}"
   ]
  },
  {
   "cell_type": "code",
   "execution_count": 15,
   "id": "8b0c6a89",
   "metadata": {},
   "outputs": [
    {
     "name": "stdout",
     "output_type": "stream",
     "text": [
      "Hello, StandaloneCoroutine{Active}@48c6718f StandaloneCoroutine{Active}@13a0522b\n"
     ]
    }
   ],
   "source": [
    "main()"
   ]
  },
  {
   "cell_type": "markdown",
   "id": "7653c5e1",
   "metadata": {},
   "source": [
    "###  동시에 실행하고 반환값 처리 \n",
    "- 반환값은 await 메서드를 사용함"
   ]
  },
  {
   "cell_type": "code",
   "execution_count": 16,
   "id": "fef7372e",
   "metadata": {},
   "outputs": [],
   "source": [
    "fun main() = runBlocking {\n",
    "    val name = async {getName() }\n",
    "    val lastName = async {getLastName()}\n",
    "    println(\"Hello, ${name.await()} ${lastName.await()}\")\n",
    "}"
   ]
  },
  {
   "cell_type": "code",
   "execution_count": 17,
   "id": "1305b9fb",
   "metadata": {},
   "outputs": [
    {
     "name": "stdout",
     "output_type": "stream",
     "text": [
      "Hello, 코루틴 코틀린\n"
     ]
    }
   ],
   "source": [
    "main()"
   ]
  },
  {
   "cell_type": "code",
   "execution_count": null,
   "id": "a738c594",
   "metadata": {},
   "outputs": [],
   "source": []
  },
  {
   "cell_type": "code",
   "execution_count": null,
   "id": "bbf8715c",
   "metadata": {},
   "outputs": [],
   "source": []
  },
  {
   "cell_type": "markdown",
   "id": "087626b5",
   "metadata": {},
   "source": [
    "## 1-2-3 코루틴 빌더로 코루틴 실행 함수 정의 \n",
    "\n",
    "- launch 코루틴빌더로 처리하면 job에 결과를 반환한다. \n",
    "- 코루틴 처리된 결과가 내포된다. \n",
    "- 이 코루틴의 결과를 가지고 join, cancel 등의 메소드로 코루틴 결과를 처리할 수 있다"
   ]
  },
  {
   "cell_type": "code",
   "execution_count": 18,
   "id": "42a05b66",
   "metadata": {},
   "outputs": [],
   "source": [
    "import kotlinx.coroutines.*                               // 코루틴 패키지\n",
    "\n",
    "suspend fun createCoroutines(amount:Int)= runBlocking { \n",
    "    var jobs = ArrayList<Job>()                           // 배열의 작업 결과를 저장\n",
    "    for (i in 1..amount) {\n",
    "        jobs += launch {                                  // 코루틴 처리 후 결과 저장 \n",
    "            print(\"...\")\n",
    "            delay(1000)\n",
    "        }\n",
    "    }\n",
    "    \n",
    "    jobs.forEach {\n",
    "        it.join()                                         // 코루틴 실행할 때까지 기다린다. \n",
    "    }\n",
    "    println()\n",
    "    println(jobs)                                         // 코루틴 처리 결과 \n",
    "}\n"
   ]
  },
  {
   "cell_type": "code",
   "execution_count": 19,
   "id": "c9dfd3b8",
   "metadata": {},
   "outputs": [],
   "source": [
    "fun main() = runBlocking {\n",
    "    println(\"코루틴 처리 : \" + coroutineContext)             // 코루틴 환경구성 \n",
    "    print(\"start\")\n",
    "    createCoroutines(10)                                  // 코루틴 일시중단함수 실행 \n",
    "    println(\"end\")\n",
    "    println(\"코루틴 처리 : \" + coroutineContext)             // 코루틴 환경구성 \n",
    "}"
   ]
  },
  {
   "cell_type": "code",
   "execution_count": 20,
   "id": "d055261f",
   "metadata": {},
   "outputs": [
    {
     "name": "stdout",
     "output_type": "stream",
     "text": [
      "코루틴 처리 : [BlockingCoroutine{Active}@3dc2446c, BlockingEventLoop@e5c8ade]\n",
      "start..............................\n",
      "[StandaloneCoroutine{Completed}@615c4f82, StandaloneCoroutine{Completed}@1003fd9a, StandaloneCoroutine{Completed}@3fa9c1db, StandaloneCoroutine{Completed}@48c157d2, StandaloneCoroutine{Completed}@4b622117, StandaloneCoroutine{Completed}@4402facc, StandaloneCoroutine{Completed}@35d44c8e, StandaloneCoroutine{Completed}@77e9f221, StandaloneCoroutine{Completed}@2d590f52, StandaloneCoroutine{Completed}@7ede54af]\n",
      "end\n",
      "코루틴 처리 : [BlockingCoroutine{Active}@3dc2446c, BlockingEventLoop@e5c8ade]\n"
     ]
    }
   ],
   "source": [
    "main()"
   ]
  },
  {
   "cell_type": "markdown",
   "id": "ccaaf97b",
   "metadata": {},
   "source": [
    "## 1-2-4  일반함수와 일시중단함수를 코루틴에서 처리\n",
    "\n",
    "- launch 함수로 반환값 없이 실행하는 코루틴을 처리하다\n",
    "- 코루틴 내부에서 일반함수와 일시중단함수를 호출해서 처리할 수 있다. "
   ]
  },
  {
   "cell_type": "code",
   "execution_count": 21,
   "id": "568e7687",
   "metadata": {},
   "outputs": [],
   "source": [
    "fun task1() = println(\"일반함수 task 1 : \" \n",
    "                     + Thread.currentThread().name)       // 첫번째 함수 \n",
    "\n",
    "fun task2() = println(\"일반함수 task 2 : \"                  // 두번째 함수 \n",
    "                     + Thread.currentThread().name)"
   ]
  },
  {
   "cell_type": "code",
   "execution_count": 22,
   "id": "19985941",
   "metadata": {},
   "outputs": [],
   "source": [
    "suspend fun task3() =  println(\"일수중단함수 task 3 : \"      // 일시중단함수 정의\n",
    "                     + Thread.currentThread().name)\n",
    "\n",
    "val task4 = suspend {println(\"일시중단함수 task 4 : \"        // 람다표현식도 일시중단함수 정의 가능 \n",
    "                     + Thread.currentThread().name)}"
   ]
  },
  {
   "cell_type": "code",
   "execution_count": 23,
   "id": "cf52809a",
   "metadata": {},
   "outputs": [
    {
     "name": "stdout",
     "output_type": "stream",
     "text": [
      "코루틴 처리 : [BlockingCoroutine{Active}@601ee567, BlockingEventLoop@3cc2776e]\n",
      "일반함수 task 2 : Thread-89\n",
      "일시중단함수 task 4 : Thread-89\n",
      "일반함수 task 1 : Thread-89\n",
      "일수중단함수 task 3 : Thread-89\n"
     ]
    }
   ],
   "source": [
    "val rb = runBlocking { \n",
    "    println(\"코루틴 처리 : \" + coroutineContext)             // 코루틴 환경구성 \n",
    "    launch {                                              // 코루틴 빌더로 함수처리\n",
    "        delay(300)\n",
    "        task1()                                           // 일반함수 호출 \n",
    "    }\n",
    "    launch {                                              // 코루틴 빌더로 함수처리\n",
    "        task2()                                           // 일반함수 호출 \n",
    "        delay(300)\n",
    "    }\n",
    "    launch {                                              // 코루틴 빌더로 함수처리\n",
    "        delay(300)\n",
    "        task3()                                           // 일시중단함수 \n",
    "    }\n",
    "    launch {                                              // 코루틴 빌더로 함수처리\n",
    "        task4()                                           // 일시중단함수\n",
    "        delay(300)\n",
    "    }\n",
    "}                                                         // 메인 스레드 사용"
   ]
  },
  {
   "cell_type": "code",
   "execution_count": null,
   "id": "578e3092",
   "metadata": {},
   "outputs": [],
   "source": []
  },
  {
   "cell_type": "markdown",
   "id": "0a6707e0",
   "metadata": {},
   "source": [
    "## 1-3 디스패처 알아보기¶\n",
    "\n",
    "- Dispatcher는 CoroutineContext를 상속받아 어떤 쓰레드를 이용해서 동작할 것인지 정의해둔 것 입니다.\n",
    "\n",
    "- None : 실행된 코루틴 스코프에게 상속받는다.\n",
    "- Unconfined : 호출 쓰레드에서 실행하지만 멈췄다가 재개할 경우 재개한 쓰레드에서 실행한다.\n",
    "             -> 특정 쓰레드에 국한되지 않는 경우 적합\n",
    "\n",
    "- Main : 메인 쓰레드에서 실행한다.\n",
    "         -> 안드로이드에서 UI를 바꿀 때 적합, Job이 무거우면 부적합\n",
    "\n",
    "- IO : 네트워크, 디스크 사용 할때 사용합니다. 파일 읽고, 쓰고, 소켓을 읽고, 쓰고 작업을 멈추는것에 최적화되어 있습니다.\n",
    "- Default : Thread Pool에 할당한다. (GlobalScope.launch { }도 마찬가지)"
   ]
  },
  {
   "cell_type": "markdown",
   "id": "6c4be764",
   "metadata": {},
   "source": [
    "## 1-3-1 디스패처 상태 확인하기 "
   ]
  },
  {
   "cell_type": "code",
   "execution_count": 24,
   "id": "53af4550",
   "metadata": {},
   "outputs": [
    {
     "name": "stdout",
     "output_type": "stream",
     "text": [
      "Unconfined : [StandaloneCoroutine{Active}@49571da8, Dispatchers.Unconfined]\n",
      "launch(Unconfined) : Thread-93\n",
      " IO : [StandaloneCoroutine{Active}@27f8dd3c, Dispatchers.IO]\n",
      " 미지정 일때  : [StandaloneCoroutine{Active}@63004ba2, BlockingEventLoop@781df849]\n",
      "launch(IO) : DefaultDispatcher-worker-1\n",
      "Default : [StandaloneCoroutine{Active}@64a44eee, Dispatchers.Default]\n",
      " launch(미지정) : Thread-93\n",
      "launch(Default) : DefaultDispatcher-worker-3\n"
     ]
    }
   ],
   "source": [
    "fun main() { \n",
    "    runBlocking {\n",
    "        launch {\n",
    "            println(\" 미지정 일때  : \" + coroutineContext)             // 코루틴 환경구성 \n",
    "            println(\" launch(미지정) : ${Thread.currentThread().name}\")\n",
    "        }\n",
    "\n",
    "        launch(Dispatchers.Unconfined) {\n",
    "            println(\"Unconfined : \" + coroutineContext)             // 코루틴 환경구성 \n",
    "            println(\"launch(Unconfined) : ${Thread.currentThread().name}\")\n",
    "        }\n",
    "\n",
    "       //launch(Dispatchers.Main) {   //안드로이드 용\n",
    "       //    println(\"launch(Dispatchers.Main) : ${Thread.currentThread().name}\")\n",
    "       //}\n",
    "\n",
    "        launch(Dispatchers.IO) {\n",
    "            println(\" IO : \" + coroutineContext)             // 코루틴 환경구성 \n",
    "            println(\"launch(IO) : ${Thread.currentThread().name}\")\n",
    "        }\n",
    "\n",
    "        launch(Dispatchers.Default) {\n",
    "            println(\"Default : \" + coroutineContext)             // 코루틴 환경구성 \n",
    "            println(\"launch(Default) : ${Thread.currentThread().name}\")\n",
    "        }\n",
    "    }\n",
    "}\n",
    "\n",
    "main()"
   ]
  },
  {
   "cell_type": "markdown",
   "id": "e57c7344",
   "metadata": {},
   "source": [
    "### 코루틴디스패처와 스레드 풀 정의 \n",
    "\n",
    "-  newSingleThreadContext : 단일 스레드로 디스패처 생성\n",
    "-  newFixedThreadPoolContext : 지정된 크기의 스레드 풀로 디스패처 생성 "
   ]
  },
  {
   "cell_type": "code",
   "execution_count": 25,
   "id": "3749a332",
   "metadata": {},
   "outputs": [],
   "source": [
    "fun main() { \n",
    "    val single = newSingleThreadContext(\"aaa\" )\n",
    "    runBlocking {\n",
    "        launch(single) {\n",
    "            delay(100)\n",
    "            println(\"launch(Default) : ${Thread.currentThread().name}\")\n",
    "        }\n",
    "    }\n",
    "}"
   ]
  },
  {
   "cell_type": "code",
   "execution_count": 26,
   "id": "687f5f3d",
   "metadata": {},
   "outputs": [
    {
     "name": "stdout",
     "output_type": "stream",
     "text": [
      "launch(Default) : aaa\n"
     ]
    }
   ],
   "source": [
    "main()"
   ]
  },
  {
   "cell_type": "code",
   "execution_count": null,
   "id": "f3128d71",
   "metadata": {},
   "outputs": [],
   "source": []
  },
  {
   "cell_type": "code",
   "execution_count": 27,
   "id": "f7bc2bb7",
   "metadata": {},
   "outputs": [],
   "source": [
    "fun main() { \n",
    "    val multiple = newFixedThreadPoolContext(4, \"bbb\")\n",
    "    runBlocking {\n",
    "        launch(multiple) {\n",
    "            delay(100)\n",
    "            println(\"launch(Default) : ${Thread.currentThread().name}\")\n",
    "        }\n",
    "    }\n",
    "}"
   ]
  },
  {
   "cell_type": "code",
   "execution_count": 28,
   "id": "d7dc37c4",
   "metadata": {},
   "outputs": [
    {
     "name": "stdout",
     "output_type": "stream",
     "text": [
      "launch(Default) : bbb-1\n"
     ]
    }
   ],
   "source": [
    "main()"
   ]
  },
  {
   "cell_type": "markdown",
   "id": "41595526",
   "metadata": {},
   "source": [
    "## 1-3-2 코루틴 컨텍스트 조회하기 "
   ]
  },
  {
   "cell_type": "code",
   "execution_count": 29,
   "id": "b2c92ddd",
   "metadata": {},
   "outputs": [
    {
     "name": "stdout",
     "output_type": "stream",
     "text": [
      "runBlocking : Thread-116\n",
      "컨텍스트 : [BlockingCoroutine{Active}@76ebf70b, BlockingEventLoop@773e97cf]\n",
      "상태 : true\n",
      "전역스코프 반환 : StandaloneCoroutine{Active}@4dc5de92\n",
      "코르틴 스코프 반환 : StandaloneCoroutine{Active}@eeb0150\n",
      "전역스코프 : DefaultDispatcher-worker-3\n",
      "컨텍스트 : [StandaloneCoroutine{Active}@4dc5de92, Dispatchers.Default]\n",
      "상태 : true\n",
      "코루틴 스코프 : DefaultDispatcher-worker-3\n",
      "컨텍스트 : [StandaloneCoroutine{Active}@eeb0150, Dispatchers.Default]\n",
      "상태 : true\n"
     ]
    }
   ],
   "source": [
    "fun main() = runBlocking {                                     // 런블러킹 컨텍스트 확인 \n",
    "    println(\"runBlocking : ${Thread.currentThread().name}\")    \n",
    "    println(\"컨텍스트 : \" + coroutineContext)                                      \n",
    "    println(\"상태 : \" +isActive)                                // 잡상태 확인\n",
    "    \n",
    "    val g = GlobalScope.launch {                               // 전역스코프 컨텍스트 확인 \n",
    "        delay(300)\n",
    "        println(\"전역스코프 : ${Thread.currentThread().name}\")\n",
    "        println(\"컨텍스트 : \" +coroutineContext)\n",
    "        println(\"상태 : \" +isActive)                            // 잡상태 확인 \n",
    "    }\n",
    "    println(\"전역스코프 반환 : \" + g)\n",
    "    val c =CoroutineScope(Dispatchers.Default).launch {        // 코루틴스코프 컨텍스트 확인\n",
    "        delay(500)\n",
    "        println(\"코루틴 스코프 : ${Thread.currentThread().name}\")\n",
    "        println(\"컨텍스트 : \" +coroutineContext)\n",
    "        println(\"상태 : \" +isActive)                             // 잡상태 확인    \n",
    "    }\n",
    "    println(\"코르틴 스코프 반환 : \" + c)\n",
    "    delay(1000)\n",
    "}\n",
    "\n",
    "main()"
   ]
  },
  {
   "cell_type": "code",
   "execution_count": null,
   "id": "856883b2",
   "metadata": {},
   "outputs": [],
   "source": []
  },
  {
   "cell_type": "markdown",
   "id": "c983d83e",
   "metadata": {},
   "source": [
    "## 1-4   스레드와 코루틴 실행 비교하기 "
   ]
  },
  {
   "cell_type": "code",
   "execution_count": 30,
   "id": "92e5da34",
   "metadata": {},
   "outputs": [
    {
     "name": "stdout",
     "output_type": "stream",
     "text": [
      "쓰레드 처리  : 0 Thread-121\n",
      "코루틴처리   : 0 DefaultDispatcher-worker-3\n",
      "쓰레드 처리  : 1 Thread-121\n",
      "코루틴처리   : 1 DefaultDispatcher-worker-3\n",
      "쓰레드 처리  : 2 Thread-121\n",
      "코루틴처리   : 2 DefaultDispatcher-worker-3\n"
     ]
    }
   ],
   "source": [
    "fun main() {\n",
    "    Thread(Runnable {                                   // 3개의 러너블 객체를 만들어서 스레드 처리               \n",
    "        for (i in 0..2) {\n",
    "            println(\"쓰레드 처리  : $i \"                   // 3개의 쓰레드를 처리 \n",
    "                    + Thread.currentThread().name)\n",
    "            Thread.sleep(500L)                          // 스레드 중단 : 현재 스레드 일시중단 \n",
    "        }\n",
    "    }).start()                                          // start 메소드로 스레드 시작\n",
    "\n",
    "    GlobalScope.launch {                                // 코루틴 전역스코프로 처리 \n",
    "        repeat(3) {                                     // 3개의 일지중단함수 만들고 코루틴 생성 \n",
    "            println(\"코루틴처리   : $it \" \n",
    "                    + Thread.currentThread().name)      // 코루틴 내의 dispatchre로 처리 \n",
    "            delay(500L)                                 // 일시 중단 다른 작업 수행 \n",
    "        }\n",
    "    }\n",
    "    \n",
    "    Thread.sleep(3000L)                                 // 어플리케이션 중단 \n",
    "}\n",
    "\n",
    "main()"
   ]
  },
  {
   "cell_type": "code",
   "execution_count": null,
   "id": "951965b5",
   "metadata": {},
   "outputs": [],
   "source": []
  }
 ],
 "metadata": {
  "kernelspec": {
   "display_name": "Kotlin",
   "language": "kotlin",
   "name": "kotlin"
  },
  "language_info": {
   "codemirror_mode": "text/x-kotlin",
   "file_extension": ".kt",
   "mimetype": "text/x-kotlin",
   "name": "kotlin",
   "nbconvert_exporter": "",
   "pygments_lexer": "kotlin",
   "version": "1.8.0-dev-3517"
  }
 },
 "nbformat": 4,
 "nbformat_minor": 5
}
